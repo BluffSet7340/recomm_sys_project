{
 "cells": [
  {
   "cell_type": "code",
   "execution_count": 1,
   "id": "7b533077",
   "metadata": {},
   "outputs": [],
   "source": [
    "import pandas as pd \n",
    "import numpy as np"
   ]
  },
  {
   "cell_type": "markdown",
   "id": "11827ea4",
   "metadata": {},
   "source": [
    "Steam is the leading PC platform for games and has millions of reviews around its games. \n",
    "\n",
    "This file contains all the reviews from the 113,883,717 which had a steam generated helpfulness score greater than 0.8 (0 being the least helpful and 1 being the most helpful)"
   ]
  },
  {
   "cell_type": "code",
   "execution_count": 2,
   "id": "8aaa426b",
   "metadata": {},
   "outputs": [
    {
     "name": "stderr",
     "output_type": "stream",
     "text": [
      "C:\\Users\\sbm76\\AppData\\Local\\Temp\\ipykernel_296\\2846823030.py:3: DtypeWarning: Columns (23) have mixed types. Specify dtype option on import or set low_memory=False.\n",
      "  df = pd.read_csv(file_path)\n"
     ]
    }
   ],
   "source": [
    "# Reading the CSV file\n",
    "file_path = 'dataset/weighted_score_above_08.csv'  # Replace with the actual path to your CSV file\n",
    "df = pd.read_csv(file_path)"
   ]
  },
  {
   "cell_type": "code",
   "execution_count": 3,
   "id": "ef76dd5b",
   "metadata": {},
   "outputs": [
    {
     "data": {
      "application/vnd.microsoft.datawrangler.viewer.v0+json": {
       "columns": [
        {
         "name": "index",
         "rawType": "int64",
         "type": "integer"
        },
        {
         "name": "recommendationid",
         "rawType": "int64",
         "type": "integer"
        },
        {
         "name": "appid",
         "rawType": "int64",
         "type": "integer"
        },
        {
         "name": "game",
         "rawType": "object",
         "type": "string"
        },
        {
         "name": "author_steamid",
         "rawType": "int64",
         "type": "integer"
        },
        {
         "name": "author_num_games_owned",
         "rawType": "int64",
         "type": "integer"
        },
        {
         "name": "author_num_reviews",
         "rawType": "int64",
         "type": "integer"
        },
        {
         "name": "author_playtime_forever",
         "rawType": "int64",
         "type": "integer"
        },
        {
         "name": "author_playtime_last_two_weeks",
         "rawType": "int64",
         "type": "integer"
        },
        {
         "name": "author_playtime_at_review",
         "rawType": "int64",
         "type": "integer"
        },
        {
         "name": "author_last_played",
         "rawType": "int64",
         "type": "integer"
        },
        {
         "name": "language",
         "rawType": "object",
         "type": "string"
        },
        {
         "name": "review",
         "rawType": "object",
         "type": "string"
        },
        {
         "name": "timestamp_created",
         "rawType": "int64",
         "type": "integer"
        },
        {
         "name": "timestamp_updated",
         "rawType": "int64",
         "type": "integer"
        },
        {
         "name": "voted_up",
         "rawType": "int64",
         "type": "integer"
        },
        {
         "name": "votes_up",
         "rawType": "int64",
         "type": "integer"
        },
        {
         "name": "votes_funny",
         "rawType": "int64",
         "type": "integer"
        },
        {
         "name": "weighted_vote_score",
         "rawType": "float64",
         "type": "float"
        },
        {
         "name": "comment_count",
         "rawType": "int64",
         "type": "integer"
        },
        {
         "name": "steam_purchase",
         "rawType": "int64",
         "type": "integer"
        },
        {
         "name": "received_for_free",
         "rawType": "int64",
         "type": "integer"
        },
        {
         "name": "written_during_early_access",
         "rawType": "int64",
         "type": "integer"
        },
        {
         "name": "hidden_in_steam_china",
         "rawType": "int64",
         "type": "integer"
        },
        {
         "name": "steam_china_location",
         "rawType": "object",
         "type": "unknown"
        }
       ],
       "conversionMethod": "pd.DataFrame",
       "ref": "1eb1d720-075b-4d68-b9a1-dab3e6e12df3",
       "rows": [
        [
         "0",
         "147449116",
         "10",
         "Counter-Strike",
         "76561199183984450",
         "51",
         "12",
         "2548",
         "0",
         "2480",
         "1696305457",
         "schinese",
         "抛去不开英文输入法就闪退的bug来说，这款游戏已经赢了CS2太多，而且正因为里面都是大叔级别的人，所以也教会了我很多，我不会忘记今天晚上，那个用着绫波丽的头像，名叫AC的37岁的男孩跟我说，人生很多都是妥协的，包括他的老婆孩子也都是妥协的结果。后天开学，之后我们俩人应该就会成为人生的过客不再遇到了也不一定。人生也是这样，虽然很舍不得，但要知道，妥协的地方还有很多，包括这次的不舍也是一样，谢谢CS教会了我这么多，谢谢你，那37岁有老婆和两个孩子的男孩。",
         "1696179329",
         "1696179329",
         "1",
         "99",
         "2",
         "0.889438092708588",
         "0",
         "1",
         "0",
         "0",
         "1",
         null
        ],
        [
         "1",
         "147374264",
         "10",
         "Counter-Strike",
         "76561198099573060",
         "226",
         "13",
         "2369",
         "0",
         "2361",
         "1696096555",
         "russian",
         "Ну что после удаление csgo ты решил вернуться?",
         "1696095988",
         "1696095988",
         "1",
         "122",
         "8",
         "0.914834380149841",
         "0",
         "1",
         "0",
         "0",
         "1",
         null
        ],
        [
         "2",
         "147357703",
         "10",
         "Counter-Strike",
         "76561199080026894",
         "118",
         "23",
         "13501",
         "212",
         "12957",
         "1697630734",
         "schinese",
         "总是在电脑旁看见爸爸玩CS，我想这有什么好玩的，为什么不去玩CSGO，更优秀的画质与手感，后来我如往常坐在电脑前打开了CSGO，拿起大狙空了一发，那发子弹飞了很远，幸运的是我还是赢下了那一局比赛 2023年的一天，我打开steam，CSGO变成CS2，我瞪着她看了很久，忽然听见耳旁一阵风声袭来，转头一看，多年前对父亲的质疑正中我的眉心",
         "1696081938",
         "1696081938",
         "1",
         "599",
         "20",
         "0.968374609947205",
         "3",
         "1",
         "0",
         "0",
         "1",
         null
        ],
        [
         "3",
         "147345102",
         "10",
         "Counter-Strike",
         "76561198068970227",
         "28",
         "1",
         "10668",
         "640",
         "9906",
         "1698261011",
         "russian",
         "Зашёл на сервак, а там какие-то пацаны рассказывают о своей жизни. Узнал что такое секс, чё куда там надо пихать, про пацанские панятия, про ипотечную ставку, про политику, как наваристо варить борщец, как выжить на сотку, истории из жизни.",
         "1696069066",
         "1696069066",
         "1",
         "59",
         "12",
         "0.826205790042877",
         "0",
         "0",
         "0",
         "0",
         "1",
         null
        ],
        [
         "4",
         "147284743",
         "10",
         "Counter-Strike",
         "76561199137893460",
         "19",
         "5",
         "543",
         "10",
         "526",
         "1697810991",
         "schinese",
         "cs2出了真他妈傻逼以后就玩cs1.6了靠",
         "1695999199",
         "1695999199",
         "1",
         "128",
         "24",
         "0.853611946105957",
         "0",
         "1",
         "0",
         "0",
         "1",
         null
        ]
       ],
       "shape": {
        "columns": 24,
        "rows": 5
       }
      },
      "text/html": [
       "<div>\n",
       "<style scoped>\n",
       "    .dataframe tbody tr th:only-of-type {\n",
       "        vertical-align: middle;\n",
       "    }\n",
       "\n",
       "    .dataframe tbody tr th {\n",
       "        vertical-align: top;\n",
       "    }\n",
       "\n",
       "    .dataframe thead th {\n",
       "        text-align: right;\n",
       "    }\n",
       "</style>\n",
       "<table border=\"1\" class=\"dataframe\">\n",
       "  <thead>\n",
       "    <tr style=\"text-align: right;\">\n",
       "      <th></th>\n",
       "      <th>recommendationid</th>\n",
       "      <th>appid</th>\n",
       "      <th>game</th>\n",
       "      <th>author_steamid</th>\n",
       "      <th>author_num_games_owned</th>\n",
       "      <th>author_num_reviews</th>\n",
       "      <th>author_playtime_forever</th>\n",
       "      <th>author_playtime_last_two_weeks</th>\n",
       "      <th>author_playtime_at_review</th>\n",
       "      <th>author_last_played</th>\n",
       "      <th>...</th>\n",
       "      <th>voted_up</th>\n",
       "      <th>votes_up</th>\n",
       "      <th>votes_funny</th>\n",
       "      <th>weighted_vote_score</th>\n",
       "      <th>comment_count</th>\n",
       "      <th>steam_purchase</th>\n",
       "      <th>received_for_free</th>\n",
       "      <th>written_during_early_access</th>\n",
       "      <th>hidden_in_steam_china</th>\n",
       "      <th>steam_china_location</th>\n",
       "    </tr>\n",
       "  </thead>\n",
       "  <tbody>\n",
       "    <tr>\n",
       "      <th>0</th>\n",
       "      <td>147449116</td>\n",
       "      <td>10</td>\n",
       "      <td>Counter-Strike</td>\n",
       "      <td>76561199183984450</td>\n",
       "      <td>51</td>\n",
       "      <td>12</td>\n",
       "      <td>2548</td>\n",
       "      <td>0</td>\n",
       "      <td>2480</td>\n",
       "      <td>1696305457</td>\n",
       "      <td>...</td>\n",
       "      <td>1</td>\n",
       "      <td>99</td>\n",
       "      <td>2</td>\n",
       "      <td>0.889438</td>\n",
       "      <td>0</td>\n",
       "      <td>1</td>\n",
       "      <td>0</td>\n",
       "      <td>0</td>\n",
       "      <td>1</td>\n",
       "      <td>NaN</td>\n",
       "    </tr>\n",
       "    <tr>\n",
       "      <th>1</th>\n",
       "      <td>147374264</td>\n",
       "      <td>10</td>\n",
       "      <td>Counter-Strike</td>\n",
       "      <td>76561198099573060</td>\n",
       "      <td>226</td>\n",
       "      <td>13</td>\n",
       "      <td>2369</td>\n",
       "      <td>0</td>\n",
       "      <td>2361</td>\n",
       "      <td>1696096555</td>\n",
       "      <td>...</td>\n",
       "      <td>1</td>\n",
       "      <td>122</td>\n",
       "      <td>8</td>\n",
       "      <td>0.914834</td>\n",
       "      <td>0</td>\n",
       "      <td>1</td>\n",
       "      <td>0</td>\n",
       "      <td>0</td>\n",
       "      <td>1</td>\n",
       "      <td>NaN</td>\n",
       "    </tr>\n",
       "    <tr>\n",
       "      <th>2</th>\n",
       "      <td>147357703</td>\n",
       "      <td>10</td>\n",
       "      <td>Counter-Strike</td>\n",
       "      <td>76561199080026894</td>\n",
       "      <td>118</td>\n",
       "      <td>23</td>\n",
       "      <td>13501</td>\n",
       "      <td>212</td>\n",
       "      <td>12957</td>\n",
       "      <td>1697630734</td>\n",
       "      <td>...</td>\n",
       "      <td>1</td>\n",
       "      <td>599</td>\n",
       "      <td>20</td>\n",
       "      <td>0.968375</td>\n",
       "      <td>3</td>\n",
       "      <td>1</td>\n",
       "      <td>0</td>\n",
       "      <td>0</td>\n",
       "      <td>1</td>\n",
       "      <td>NaN</td>\n",
       "    </tr>\n",
       "    <tr>\n",
       "      <th>3</th>\n",
       "      <td>147345102</td>\n",
       "      <td>10</td>\n",
       "      <td>Counter-Strike</td>\n",
       "      <td>76561198068970227</td>\n",
       "      <td>28</td>\n",
       "      <td>1</td>\n",
       "      <td>10668</td>\n",
       "      <td>640</td>\n",
       "      <td>9906</td>\n",
       "      <td>1698261011</td>\n",
       "      <td>...</td>\n",
       "      <td>1</td>\n",
       "      <td>59</td>\n",
       "      <td>12</td>\n",
       "      <td>0.826206</td>\n",
       "      <td>0</td>\n",
       "      <td>0</td>\n",
       "      <td>0</td>\n",
       "      <td>0</td>\n",
       "      <td>1</td>\n",
       "      <td>NaN</td>\n",
       "    </tr>\n",
       "    <tr>\n",
       "      <th>4</th>\n",
       "      <td>147284743</td>\n",
       "      <td>10</td>\n",
       "      <td>Counter-Strike</td>\n",
       "      <td>76561199137893460</td>\n",
       "      <td>19</td>\n",
       "      <td>5</td>\n",
       "      <td>543</td>\n",
       "      <td>10</td>\n",
       "      <td>526</td>\n",
       "      <td>1697810991</td>\n",
       "      <td>...</td>\n",
       "      <td>1</td>\n",
       "      <td>128</td>\n",
       "      <td>24</td>\n",
       "      <td>0.853612</td>\n",
       "      <td>0</td>\n",
       "      <td>1</td>\n",
       "      <td>0</td>\n",
       "      <td>0</td>\n",
       "      <td>1</td>\n",
       "      <td>NaN</td>\n",
       "    </tr>\n",
       "  </tbody>\n",
       "</table>\n",
       "<p>5 rows × 24 columns</p>\n",
       "</div>"
      ],
      "text/plain": [
       "   recommendationid  appid            game     author_steamid  \\\n",
       "0         147449116     10  Counter-Strike  76561199183984450   \n",
       "1         147374264     10  Counter-Strike  76561198099573060   \n",
       "2         147357703     10  Counter-Strike  76561199080026894   \n",
       "3         147345102     10  Counter-Strike  76561198068970227   \n",
       "4         147284743     10  Counter-Strike  76561199137893460   \n",
       "\n",
       "   author_num_games_owned  author_num_reviews  author_playtime_forever  \\\n",
       "0                      51                  12                     2548   \n",
       "1                     226                  13                     2369   \n",
       "2                     118                  23                    13501   \n",
       "3                      28                   1                    10668   \n",
       "4                      19                   5                      543   \n",
       "\n",
       "   author_playtime_last_two_weeks  author_playtime_at_review  \\\n",
       "0                               0                       2480   \n",
       "1                               0                       2361   \n",
       "2                             212                      12957   \n",
       "3                             640                       9906   \n",
       "4                              10                        526   \n",
       "\n",
       "   author_last_played  ... voted_up votes_up  votes_funny  \\\n",
       "0          1696305457  ...        1       99            2   \n",
       "1          1696096555  ...        1      122            8   \n",
       "2          1697630734  ...        1      599           20   \n",
       "3          1698261011  ...        1       59           12   \n",
       "4          1697810991  ...        1      128           24   \n",
       "\n",
       "   weighted_vote_score  comment_count  steam_purchase  received_for_free  \\\n",
       "0             0.889438              0               1                  0   \n",
       "1             0.914834              0               1                  0   \n",
       "2             0.968375              3               1                  0   \n",
       "3             0.826206              0               0                  0   \n",
       "4             0.853612              0               1                  0   \n",
       "\n",
       "   written_during_early_access  hidden_in_steam_china  steam_china_location  \n",
       "0                            0                      1                   NaN  \n",
       "1                            0                      1                   NaN  \n",
       "2                            0                      1                   NaN  \n",
       "3                            0                      1                   NaN  \n",
       "4                            0                      1                   NaN  \n",
       "\n",
       "[5 rows x 24 columns]"
      ]
     },
     "execution_count": 3,
     "metadata": {},
     "output_type": "execute_result"
    }
   ],
   "source": [
    "# Displaying the DataFrame\n",
    "df.head()  # Displays the first 5 rows of the DataFrame"
   ]
  },
  {
   "cell_type": "code",
   "execution_count": 16,
   "id": "8a78b996",
   "metadata": {},
   "outputs": [
    {
     "name": "stdout",
     "output_type": "stream",
     "text": [
      "No entries found for the game 'Counter-Strike' with 'voted_up' = 0.\n"
     ]
    }
   ],
   "source": [
    "# Replace 'game_name' with the specific game name you want to check\n",
    "game_name = \"Counter-Strike\"  # Example: Replace with the actual game name\n",
    "\n",
    "# Filter the DataFrame for the specific game and check if 'voted_up' is 0\n",
    "filtered_entries = df[(df['game'] == game_name) & (df['voted_up'] == 0)]\n",
    "\n",
    "# Display the filtered entries\n",
    "if not filtered_entries.empty:\n",
    "    print(f\"Entries for the game '{game_name}' with 'voted_up' = 0:\")\n",
    "    print(filtered_entries)\n",
    "else:\n",
    "    print(f\"No entries found for the game '{game_name}' with 'voted_up' = 0.\")"
   ]
  },
  {
   "cell_type": "code",
   "execution_count": 4,
   "id": "d90f81b2",
   "metadata": {},
   "outputs": [
    {
     "data": {
      "text/plain": [
       "(498094, 24)"
      ]
     },
     "execution_count": 4,
     "metadata": {},
     "output_type": "execute_result"
    }
   ],
   "source": [
    "df.shape"
   ]
  },
  {
   "cell_type": "code",
   "execution_count": 6,
   "id": "a0200d4f",
   "metadata": {},
   "outputs": [
    {
     "data": {
      "text/plain": [
       "27315"
      ]
     },
     "execution_count": 6,
     "metadata": {},
     "output_type": "execute_result"
    }
   ],
   "source": [
    "df['appid'].nunique()  # Count of unique app IDs"
   ]
  },
  {
   "cell_type": "markdown",
   "id": "54734472",
   "metadata": {},
   "source": [
    "Check for missing values"
   ]
  },
  {
   "cell_type": "code",
   "execution_count": 7,
   "id": "07288d33",
   "metadata": {},
   "outputs": [
    {
     "name": "stdout",
     "output_type": "stream",
     "text": [
      "Missing values per column:\n",
      "recommendationid                       0\n",
      "appid                                  0\n",
      "game                                  33\n",
      "author_steamid                         0\n",
      "author_num_games_owned                 0\n",
      "author_num_reviews                     0\n",
      "author_playtime_forever                0\n",
      "author_playtime_last_two_weeks         0\n",
      "author_playtime_at_review              0\n",
      "author_last_played                     0\n",
      "language                               0\n",
      "review                                 0\n",
      "timestamp_created                      0\n",
      "timestamp_updated                      0\n",
      "voted_up                               0\n",
      "votes_up                               0\n",
      "votes_funny                            0\n",
      "weighted_vote_score                    0\n",
      "comment_count                          0\n",
      "steam_purchase                         0\n",
      "received_for_free                      0\n",
      "written_during_early_access            0\n",
      "hidden_in_steam_china                  0\n",
      "steam_china_location              498072\n",
      "dtype: int64\n"
     ]
    }
   ],
   "source": [
    "# Checking for missing values in the entire DataFrame\n",
    "missing_values = df.isnull().sum()\n",
    "\n",
    "# Displaying the count of missing values for each column\n",
    "print(\"Missing values per column:\")\n",
    "print(missing_values)"
   ]
  },
  {
   "cell_type": "markdown",
   "id": "f607bc25",
   "metadata": {},
   "source": [
    "Since app_name is required so that we can link it to another dataset that has the tags describing the game, let'"
   ]
  },
  {
   "cell_type": "code",
   "execution_count": 8,
   "id": "50bc4317",
   "metadata": {},
   "outputs": [
    {
     "name": "stdout",
     "output_type": "stream",
     "text": [
      "Entries with missing 'app_name':\n"
     ]
    },
    {
     "data": {
      "application/vnd.microsoft.datawrangler.viewer.v0+json": {
       "columns": [
        {
         "name": "index",
         "rawType": "int64",
         "type": "integer"
        },
        {
         "name": "recommendationid",
         "rawType": "int64",
         "type": "integer"
        },
        {
         "name": "appid",
         "rawType": "int64",
         "type": "integer"
        },
        {
         "name": "game",
         "rawType": "object",
         "type": "unknown"
        },
        {
         "name": "author_steamid",
         "rawType": "int64",
         "type": "integer"
        },
        {
         "name": "author_num_games_owned",
         "rawType": "int64",
         "type": "integer"
        },
        {
         "name": "author_num_reviews",
         "rawType": "int64",
         "type": "integer"
        },
        {
         "name": "author_playtime_forever",
         "rawType": "int64",
         "type": "integer"
        },
        {
         "name": "author_playtime_last_two_weeks",
         "rawType": "int64",
         "type": "integer"
        },
        {
         "name": "author_playtime_at_review",
         "rawType": "int64",
         "type": "integer"
        },
        {
         "name": "author_last_played",
         "rawType": "int64",
         "type": "integer"
        },
        {
         "name": "language",
         "rawType": "object",
         "type": "string"
        },
        {
         "name": "review",
         "rawType": "object",
         "type": "string"
        },
        {
         "name": "timestamp_created",
         "rawType": "int64",
         "type": "integer"
        },
        {
         "name": "timestamp_updated",
         "rawType": "int64",
         "type": "integer"
        },
        {
         "name": "voted_up",
         "rawType": "int64",
         "type": "integer"
        },
        {
         "name": "votes_up",
         "rawType": "int64",
         "type": "integer"
        },
        {
         "name": "votes_funny",
         "rawType": "int64",
         "type": "integer"
        },
        {
         "name": "weighted_vote_score",
         "rawType": "float64",
         "type": "float"
        },
        {
         "name": "comment_count",
         "rawType": "int64",
         "type": "integer"
        },
        {
         "name": "steam_purchase",
         "rawType": "int64",
         "type": "integer"
        },
        {
         "name": "received_for_free",
         "rawType": "int64",
         "type": "integer"
        },
        {
         "name": "written_during_early_access",
         "rawType": "int64",
         "type": "integer"
        },
        {
         "name": "hidden_in_steam_china",
         "rawType": "int64",
         "type": "integer"
        },
        {
         "name": "steam_china_location",
         "rawType": "object",
         "type": "unknown"
        }
       ],
       "conversionMethod": "pd.DataFrame",
       "ref": "bed5101f-fe90-4491-99f9-b784c39b351d",
       "rows": [
        [
         "52880",
         "138511532",
         "1194250",
         null,
         "76561198243707622",
         "0",
         "18",
         "43",
         "0",
         "26",
         "1690136004",
         "english",
         "i have no idea how this game is in my inventory. Fun game though",
         "1684445707",
         "1684445707",
         "1",
         "237",
         "34",
         "0.93815404176712",
         "0",
         "1",
         "1",
         "0",
         "1",
         null
        ],
        [
         "52881",
         "138434293",
         "1194250",
         null,
         "76561199070530937",
         "105",
         "1",
         "32",
         "0",
         "29",
         "1694861608",
         "schinese",
         "wc，刚看公告，官方送的，去年卖了个只只大冒险，现在送了个游戏给我，游戏玩法一般，但不会很无聊，，还有就是玩的人少，难匹配。",
         "1684330334",
         "1684417216",
         "1",
         "82",
         "11",
         "0.887225091457367",
         "0",
         "1",
         "1",
         "0",
         "1",
         null
        ],
        [
         "52882",
         "136655924",
         "1194250",
         null,
         "76561199154657485",
         "708",
         "13",
         "9",
         "0",
         "7",
         "1683640210",
         "schinese",
         "这游戏我第一眼看成了育碧的疯兔，但是没敢再看一眼，因为再看一眼就会爆炸。",
         "1681433216",
         "1681433216",
         "1",
         "101",
         "37",
         "0.888951539993286",
         "2",
         "1",
         "0",
         "0",
         "1",
         null
        ],
        [
         "52883",
         "136633635",
         "1194250",
         null,
         "76561198019701843",
         "1646",
         "227",
         "345",
         "0",
         "60",
         "1681419399",
         "schinese",
         "制作组在擦一种很新的边，满屏都是只因但是满屏不提只因。",
         "1681400731",
         "1681400731",
         "1",
         "111",
         "19",
         "0.886148393154144",
         "0",
         "1",
         "0",
         "0",
         "1",
         null
        ],
        [
         "52884",
         "136631088",
         "1194250",
         null,
         "76561198098647084",
         "0",
         "922",
         "183",
         "0",
         "55",
         "1681409039",
         "schinese",
         "没有背带裤篮球中分皮肤我不是很认可。",
         "1681398041",
         "1681398041",
         "1",
         "334",
         "78",
         "0.946995258331299",
         "0",
         "1",
         "0",
         "0",
         "1",
         null
        ],
        [
         "103566",
         "89949070",
         "1412510",
         null,
         "76561198982804399",
         "0",
         "1",
         "13546",
         "0",
         "9914",
         "1624893196",
         "schinese",
         "和谐不可接受，通服结果把steam版和谐了，运营还有正常人意识吗。",
         "1617893831",
         "1617893831",
         "0",
         "63",
         "0",
         "0.829448521137238",
         "0",
         "0",
         "0",
         "0",
         "0",
         null
        ],
        [
         "103567",
         "89938540",
         "1412510",
         null,
         "76561198327325084",
         "0",
         "31",
         "6613",
         "0",
         "85",
         "1624708571",
         "schinese",
         "游戏是真的不错 值得一玩 但是 但是 但是 尼玛的 为了手机端和谐尼玛steam 策划是不是脑子进屎了？啊？ 1202年了 还当你吗的 巨婴呢？ 不改回来 差评一直挂~！",
         "1617881129",
         "1617881129",
         "0",
         "148",
         "8",
         "0.867657542228699",
         "0",
         "0",
         "0",
         "0",
         "0",
         null
        ],
        [
         "103568",
         "89925154",
         "1412510",
         null,
         "76561198281479462",
         "733",
         "10",
         "3208",
         "0",
         "2381",
         "1667223417",
         "schinese",
         "我求求你把pc端的ui改回来",
         "1617858322",
         "1617858322",
         "0",
         "65",
         "2",
         "0.846834421157837",
         "0",
         "0",
         "0",
         "0",
         "0",
         null
        ],
        [
         "103569",
         "81877949",
         "1412510",
         null,
         "76561198258306326",
         "0",
         "10",
         "24914",
         "0",
         "10748",
         "1682943348",
         "schinese",
         "首先游戏设定成仙剑奇侠传很纯粹的情怀骗氪，这个仙剑老人都明白。其次这个游戏的运维脑袋都是屎，客服态度之恶劣我是第一次见过。游戏初期我们这些老人发现大量bug，主动提交给他们，他们爱理不理不说，竟然直接发个excel，让我们自己填，感觉好像我们求着他改bug似的。后期，我们反应游戏氪金体验不好，他们竟然反问卡牌游戏要什么氪金体验。如果这个游戏能火，真的是没天理了。这个游戏我从一测就开始，有过激情与期待，都被一群傻逼给毁了。策划一心就是骗钱，骗一个是一个，充钱真的就是傻逼！",
         "1607497454",
         "1610121241",
         "0",
         "238",
         "23",
         "0.914002895355225",
         "0",
         "0",
         "0",
         "0",
         "0",
         null
        ],
        [
         "103570",
         "79514205",
         "1412510",
         null,
         "76561198366266240",
         "0",
         "13",
         "11328",
         "0",
         "6349",
         "1607749787",
         "schinese",
         "先来个简评，有耐心可以继续看下去： 太肝，有骗氪倾向，爆率明显与实际标识不同，不知道表示概率是不是玩了什么文字游戏，基本吃保底； 说完问题，我们说优点，美术2.5D很棒，3D相比还需要很大加强，每个随从和法术都有不错建模和特效，音乐很棒，剧情也是能看的，当然在我这种玩了很多优质剧情有关，还是明显看出是用心的； 总体我对这款游戏的想法，如果你是刚入坑的萌新，我推荐你游玩这个游戏的前10天就行了，如果不执着于玩家竞技，会有非常良好的体验，但是你想要长久的玩这个游戏会比较痛苦；  接下来细说我对这个游戏的问题，看得不舒服可以不用往下看直接离开：  我之前说过这个游戏太肝，为什么，因为细碎的每日每天会花掉大量的时间，迷域和剧情如果是为了卡包去玩也会让你痛苦万分，更何况你每天天梯还要10胜才能拿完的奖励，虽然这个游戏你打完每日可以拿3个卡包，但是你要收集的量相比其他也是很大的，紫卡以下3张，橙卡2张，红卡一张，而且这每日3卡包必须你每天得花费很大量的时间，说白了花了更多的时间和精力获得和其他游戏差不多的收益，一种变相的通货膨胀，骗取你流量的同时，养成你的依赖性，形成一种变相的沉没成本，这时候你还觉得赚吗？  然后我说说为什么有骗氪的倾向，充值一个比一个大，首先是60块的30包鼠儿果，然后是开服前十天打半折的6个卡套，如果你是首充128是可以全部拿走的，大头是拿9个橙卡，然后是现在的228块的30包青莲，购买了外增活动的称号和一张橙卡，然后这游戏卡池是50包保底一红，加上一些活动和平日的积累，活动你得花时间和心思肝，这次的活动剧情说实话很拉跨，还故意设计分3周，每周就四个章节，怪还同质化，呵呵，而且平日积累你也得肝，就算你充值了还是得适量拿走你的时间，把玩家的剩余价值尽可能的算计完，为什么这么讲？越来越贵的礼包是测试这批玩家的短期长期的消费能力和消费上限测试，骗时间算流量和前面讲得对应，50包保底机制和官方卡50包，是为了尽可能触发玩家心理的劣根性从而到达以上的目的；  再想想我之前讲的爆率基本吃保底的问题吧，不得不说策划很精明很优秀，环环相扣，因此我很难想象玩家被这个策划算计完以后这个游戏能有好的游戏的体验，别期待你们大闹一场他就会下岗，不存在的，赚不到的策划才是垃圾策划，所以我推荐没有钱和没有时间的新手玩10天把这个游戏当成个娱乐消遣就行了，长期投入你会非常的难受，这个游戏是在一定的筛选玩家，所以我希望看到这篇文章的你，也可以想明白以后尽可能筛选适合你的游戏，如果你即有钱又喜欢里面的人物美术音乐和剧情，同时有一定的时间去玩，或者有更多的钱补足这个差距也是可以的，不要想着白嫖赢体验，因为这个游戏版本应该更新很快，大小活动相比其他卡牌更新频繁，比如这次阴卡组，你不氪金拿来的体验？羡慕别人很舒服？或者说你开服憋到现在就为了阴，先不说你怎么未卜先知的，你前面几周的体验不久没了吗？更何况你玩了这个游戏八成长期会处于一种军备竞赛的状况，活动多别人要是有人氪金，然后pvp你打不过，每日10胜的不拿了？同时可以保证氪金的可以抓到你们这些没氪金的打，哇哦就算是没氪金的也要物尽其用，所以有这个时间精力和算计，你玩其他这种类型的游戏不香吗？其他优质单机游戏的体验难倒不够充足吗？非要来这找罪受？  看到现在，如果你有时间又有钱并且沉迷这款游戏音乐美术的人，其实我也是很支持，相比很多卡牌游戏质量还是特别棒的，无论是策略性和竞技性都是别出心裁，挺优秀的，因此这个游戏的策划也是很优秀，别让他随便测出你的下限，勇敢发出声音，表明你的态度，不然真的骗氪起来谁也吃不消。",
         "1605803468",
         "1605935586",
         "0",
         "70",
         "2",
         "0.824954390525818",
         "0",
         "0",
         "0",
         "0",
         "0",
         null
        ]
       ],
       "shape": {
        "columns": 24,
        "rows": 10
       }
      },
      "text/html": [
       "<div>\n",
       "<style scoped>\n",
       "    .dataframe tbody tr th:only-of-type {\n",
       "        vertical-align: middle;\n",
       "    }\n",
       "\n",
       "    .dataframe tbody tr th {\n",
       "        vertical-align: top;\n",
       "    }\n",
       "\n",
       "    .dataframe thead th {\n",
       "        text-align: right;\n",
       "    }\n",
       "</style>\n",
       "<table border=\"1\" class=\"dataframe\">\n",
       "  <thead>\n",
       "    <tr style=\"text-align: right;\">\n",
       "      <th></th>\n",
       "      <th>recommendationid</th>\n",
       "      <th>appid</th>\n",
       "      <th>game</th>\n",
       "      <th>author_steamid</th>\n",
       "      <th>author_num_games_owned</th>\n",
       "      <th>author_num_reviews</th>\n",
       "      <th>author_playtime_forever</th>\n",
       "      <th>author_playtime_last_two_weeks</th>\n",
       "      <th>author_playtime_at_review</th>\n",
       "      <th>author_last_played</th>\n",
       "      <th>...</th>\n",
       "      <th>voted_up</th>\n",
       "      <th>votes_up</th>\n",
       "      <th>votes_funny</th>\n",
       "      <th>weighted_vote_score</th>\n",
       "      <th>comment_count</th>\n",
       "      <th>steam_purchase</th>\n",
       "      <th>received_for_free</th>\n",
       "      <th>written_during_early_access</th>\n",
       "      <th>hidden_in_steam_china</th>\n",
       "      <th>steam_china_location</th>\n",
       "    </tr>\n",
       "  </thead>\n",
       "  <tbody>\n",
       "    <tr>\n",
       "      <th>52880</th>\n",
       "      <td>138511532</td>\n",
       "      <td>1194250</td>\n",
       "      <td>NaN</td>\n",
       "      <td>76561198243707622</td>\n",
       "      <td>0</td>\n",
       "      <td>18</td>\n",
       "      <td>43</td>\n",
       "      <td>0</td>\n",
       "      <td>26</td>\n",
       "      <td>1690136004</td>\n",
       "      <td>...</td>\n",
       "      <td>1</td>\n",
       "      <td>237</td>\n",
       "      <td>34</td>\n",
       "      <td>0.938154</td>\n",
       "      <td>0</td>\n",
       "      <td>1</td>\n",
       "      <td>1</td>\n",
       "      <td>0</td>\n",
       "      <td>1</td>\n",
       "      <td>NaN</td>\n",
       "    </tr>\n",
       "    <tr>\n",
       "      <th>52881</th>\n",
       "      <td>138434293</td>\n",
       "      <td>1194250</td>\n",
       "      <td>NaN</td>\n",
       "      <td>76561199070530937</td>\n",
       "      <td>105</td>\n",
       "      <td>1</td>\n",
       "      <td>32</td>\n",
       "      <td>0</td>\n",
       "      <td>29</td>\n",
       "      <td>1694861608</td>\n",
       "      <td>...</td>\n",
       "      <td>1</td>\n",
       "      <td>82</td>\n",
       "      <td>11</td>\n",
       "      <td>0.887225</td>\n",
       "      <td>0</td>\n",
       "      <td>1</td>\n",
       "      <td>1</td>\n",
       "      <td>0</td>\n",
       "      <td>1</td>\n",
       "      <td>NaN</td>\n",
       "    </tr>\n",
       "    <tr>\n",
       "      <th>52882</th>\n",
       "      <td>136655924</td>\n",
       "      <td>1194250</td>\n",
       "      <td>NaN</td>\n",
       "      <td>76561199154657485</td>\n",
       "      <td>708</td>\n",
       "      <td>13</td>\n",
       "      <td>9</td>\n",
       "      <td>0</td>\n",
       "      <td>7</td>\n",
       "      <td>1683640210</td>\n",
       "      <td>...</td>\n",
       "      <td>1</td>\n",
       "      <td>101</td>\n",
       "      <td>37</td>\n",
       "      <td>0.888952</td>\n",
       "      <td>2</td>\n",
       "      <td>1</td>\n",
       "      <td>0</td>\n",
       "      <td>0</td>\n",
       "      <td>1</td>\n",
       "      <td>NaN</td>\n",
       "    </tr>\n",
       "    <tr>\n",
       "      <th>52883</th>\n",
       "      <td>136633635</td>\n",
       "      <td>1194250</td>\n",
       "      <td>NaN</td>\n",
       "      <td>76561198019701843</td>\n",
       "      <td>1646</td>\n",
       "      <td>227</td>\n",
       "      <td>345</td>\n",
       "      <td>0</td>\n",
       "      <td>60</td>\n",
       "      <td>1681419399</td>\n",
       "      <td>...</td>\n",
       "      <td>1</td>\n",
       "      <td>111</td>\n",
       "      <td>19</td>\n",
       "      <td>0.886148</td>\n",
       "      <td>0</td>\n",
       "      <td>1</td>\n",
       "      <td>0</td>\n",
       "      <td>0</td>\n",
       "      <td>1</td>\n",
       "      <td>NaN</td>\n",
       "    </tr>\n",
       "    <tr>\n",
       "      <th>52884</th>\n",
       "      <td>136631088</td>\n",
       "      <td>1194250</td>\n",
       "      <td>NaN</td>\n",
       "      <td>76561198098647084</td>\n",
       "      <td>0</td>\n",
       "      <td>922</td>\n",
       "      <td>183</td>\n",
       "      <td>0</td>\n",
       "      <td>55</td>\n",
       "      <td>1681409039</td>\n",
       "      <td>...</td>\n",
       "      <td>1</td>\n",
       "      <td>334</td>\n",
       "      <td>78</td>\n",
       "      <td>0.946995</td>\n",
       "      <td>0</td>\n",
       "      <td>1</td>\n",
       "      <td>0</td>\n",
       "      <td>0</td>\n",
       "      <td>1</td>\n",
       "      <td>NaN</td>\n",
       "    </tr>\n",
       "    <tr>\n",
       "      <th>103566</th>\n",
       "      <td>89949070</td>\n",
       "      <td>1412510</td>\n",
       "      <td>NaN</td>\n",
       "      <td>76561198982804399</td>\n",
       "      <td>0</td>\n",
       "      <td>1</td>\n",
       "      <td>13546</td>\n",
       "      <td>0</td>\n",
       "      <td>9914</td>\n",
       "      <td>1624893196</td>\n",
       "      <td>...</td>\n",
       "      <td>0</td>\n",
       "      <td>63</td>\n",
       "      <td>0</td>\n",
       "      <td>0.829449</td>\n",
       "      <td>0</td>\n",
       "      <td>0</td>\n",
       "      <td>0</td>\n",
       "      <td>0</td>\n",
       "      <td>0</td>\n",
       "      <td>NaN</td>\n",
       "    </tr>\n",
       "    <tr>\n",
       "      <th>103567</th>\n",
       "      <td>89938540</td>\n",
       "      <td>1412510</td>\n",
       "      <td>NaN</td>\n",
       "      <td>76561198327325084</td>\n",
       "      <td>0</td>\n",
       "      <td>31</td>\n",
       "      <td>6613</td>\n",
       "      <td>0</td>\n",
       "      <td>85</td>\n",
       "      <td>1624708571</td>\n",
       "      <td>...</td>\n",
       "      <td>0</td>\n",
       "      <td>148</td>\n",
       "      <td>8</td>\n",
       "      <td>0.867658</td>\n",
       "      <td>0</td>\n",
       "      <td>0</td>\n",
       "      <td>0</td>\n",
       "      <td>0</td>\n",
       "      <td>0</td>\n",
       "      <td>NaN</td>\n",
       "    </tr>\n",
       "    <tr>\n",
       "      <th>103568</th>\n",
       "      <td>89925154</td>\n",
       "      <td>1412510</td>\n",
       "      <td>NaN</td>\n",
       "      <td>76561198281479462</td>\n",
       "      <td>733</td>\n",
       "      <td>10</td>\n",
       "      <td>3208</td>\n",
       "      <td>0</td>\n",
       "      <td>2381</td>\n",
       "      <td>1667223417</td>\n",
       "      <td>...</td>\n",
       "      <td>0</td>\n",
       "      <td>65</td>\n",
       "      <td>2</td>\n",
       "      <td>0.846834</td>\n",
       "      <td>0</td>\n",
       "      <td>0</td>\n",
       "      <td>0</td>\n",
       "      <td>0</td>\n",
       "      <td>0</td>\n",
       "      <td>NaN</td>\n",
       "    </tr>\n",
       "    <tr>\n",
       "      <th>103569</th>\n",
       "      <td>81877949</td>\n",
       "      <td>1412510</td>\n",
       "      <td>NaN</td>\n",
       "      <td>76561198258306326</td>\n",
       "      <td>0</td>\n",
       "      <td>10</td>\n",
       "      <td>24914</td>\n",
       "      <td>0</td>\n",
       "      <td>10748</td>\n",
       "      <td>1682943348</td>\n",
       "      <td>...</td>\n",
       "      <td>0</td>\n",
       "      <td>238</td>\n",
       "      <td>23</td>\n",
       "      <td>0.914003</td>\n",
       "      <td>0</td>\n",
       "      <td>0</td>\n",
       "      <td>0</td>\n",
       "      <td>0</td>\n",
       "      <td>0</td>\n",
       "      <td>NaN</td>\n",
       "    </tr>\n",
       "    <tr>\n",
       "      <th>103570</th>\n",
       "      <td>79514205</td>\n",
       "      <td>1412510</td>\n",
       "      <td>NaN</td>\n",
       "      <td>76561198366266240</td>\n",
       "      <td>0</td>\n",
       "      <td>13</td>\n",
       "      <td>11328</td>\n",
       "      <td>0</td>\n",
       "      <td>6349</td>\n",
       "      <td>1607749787</td>\n",
       "      <td>...</td>\n",
       "      <td>0</td>\n",
       "      <td>70</td>\n",
       "      <td>2</td>\n",
       "      <td>0.824954</td>\n",
       "      <td>0</td>\n",
       "      <td>0</td>\n",
       "      <td>0</td>\n",
       "      <td>0</td>\n",
       "      <td>0</td>\n",
       "      <td>NaN</td>\n",
       "    </tr>\n",
       "  </tbody>\n",
       "</table>\n",
       "<p>10 rows × 24 columns</p>\n",
       "</div>"
      ],
      "text/plain": [
       "        recommendationid    appid game     author_steamid  \\\n",
       "52880          138511532  1194250  NaN  76561198243707622   \n",
       "52881          138434293  1194250  NaN  76561199070530937   \n",
       "52882          136655924  1194250  NaN  76561199154657485   \n",
       "52883          136633635  1194250  NaN  76561198019701843   \n",
       "52884          136631088  1194250  NaN  76561198098647084   \n",
       "103566          89949070  1412510  NaN  76561198982804399   \n",
       "103567          89938540  1412510  NaN  76561198327325084   \n",
       "103568          89925154  1412510  NaN  76561198281479462   \n",
       "103569          81877949  1412510  NaN  76561198258306326   \n",
       "103570          79514205  1412510  NaN  76561198366266240   \n",
       "\n",
       "        author_num_games_owned  author_num_reviews  author_playtime_forever  \\\n",
       "52880                        0                  18                       43   \n",
       "52881                      105                   1                       32   \n",
       "52882                      708                  13                        9   \n",
       "52883                     1646                 227                      345   \n",
       "52884                        0                 922                      183   \n",
       "103566                       0                   1                    13546   \n",
       "103567                       0                  31                     6613   \n",
       "103568                     733                  10                     3208   \n",
       "103569                       0                  10                    24914   \n",
       "103570                       0                  13                    11328   \n",
       "\n",
       "        author_playtime_last_two_weeks  author_playtime_at_review  \\\n",
       "52880                                0                         26   \n",
       "52881                                0                         29   \n",
       "52882                                0                          7   \n",
       "52883                                0                         60   \n",
       "52884                                0                         55   \n",
       "103566                               0                       9914   \n",
       "103567                               0                         85   \n",
       "103568                               0                       2381   \n",
       "103569                               0                      10748   \n",
       "103570                               0                       6349   \n",
       "\n",
       "        author_last_played  ... voted_up votes_up  votes_funny  \\\n",
       "52880           1690136004  ...        1      237           34   \n",
       "52881           1694861608  ...        1       82           11   \n",
       "52882           1683640210  ...        1      101           37   \n",
       "52883           1681419399  ...        1      111           19   \n",
       "52884           1681409039  ...        1      334           78   \n",
       "103566          1624893196  ...        0       63            0   \n",
       "103567          1624708571  ...        0      148            8   \n",
       "103568          1667223417  ...        0       65            2   \n",
       "103569          1682943348  ...        0      238           23   \n",
       "103570          1607749787  ...        0       70            2   \n",
       "\n",
       "        weighted_vote_score  comment_count  steam_purchase  received_for_free  \\\n",
       "52880              0.938154              0               1                  1   \n",
       "52881              0.887225              0               1                  1   \n",
       "52882              0.888952              2               1                  0   \n",
       "52883              0.886148              0               1                  0   \n",
       "52884              0.946995              0               1                  0   \n",
       "103566             0.829449              0               0                  0   \n",
       "103567             0.867658              0               0                  0   \n",
       "103568             0.846834              0               0                  0   \n",
       "103569             0.914003              0               0                  0   \n",
       "103570             0.824954              0               0                  0   \n",
       "\n",
       "        written_during_early_access  hidden_in_steam_china  \\\n",
       "52880                             0                      1   \n",
       "52881                             0                      1   \n",
       "52882                             0                      1   \n",
       "52883                             0                      1   \n",
       "52884                             0                      1   \n",
       "103566                            0                      0   \n",
       "103567                            0                      0   \n",
       "103568                            0                      0   \n",
       "103569                            0                      0   \n",
       "103570                            0                      0   \n",
       "\n",
       "        steam_china_location  \n",
       "52880                    NaN  \n",
       "52881                    NaN  \n",
       "52882                    NaN  \n",
       "52883                    NaN  \n",
       "52884                    NaN  \n",
       "103566                   NaN  \n",
       "103567                   NaN  \n",
       "103568                   NaN  \n",
       "103569                   NaN  \n",
       "103570                   NaN  \n",
       "\n",
       "[10 rows x 24 columns]"
      ]
     },
     "execution_count": 8,
     "metadata": {},
     "output_type": "execute_result"
    }
   ],
   "source": [
    "# Filtering rows where the 'app_name' column has missing values\n",
    "missing_app_name_entries = df[df['game'].isnull()]\n",
    "\n",
    "# Displaying the rows with missing 'app_name'\n",
    "print(\"Entries with missing 'app_name':\")\n",
    "missing_app_name_entries.head(10)"
   ]
  },
  {
   "cell_type": "code",
   "execution_count": 10,
   "id": "b4eba066",
   "metadata": {},
   "outputs": [
    {
     "data": {
      "text/plain": [
       "14"
      ]
     },
     "execution_count": 10,
     "metadata": {},
     "output_type": "execute_result"
    }
   ],
   "source": [
    "missing_app_name_entries['appid'].nunique()  # Count of unique app IDs with missing 'app_name'"
   ]
  },
  {
   "cell_type": "markdown",
   "id": "9f1f2c46",
   "metadata": {},
   "source": [
    "# Wilson Scoring (Entire Dataset)"
   ]
  },
  {
   "cell_type": "markdown",
   "id": "1ecf5f36",
   "metadata": {},
   "source": [
    "Create a new dataframe where each entry has the app_id, game name, number of votes, number of downvotes and lastly number of upvotes"
   ]
  },
  {
   "cell_type": "code",
   "execution_count": 14,
   "id": "98b2da03",
   "metadata": {},
   "outputs": [
    {
     "name": "stderr",
     "output_type": "stream",
     "text": [
      "C:\\Users\\sbm76\\AppData\\Local\\Temp\\ipykernel_296\\2924357065.py:3: DtypeWarning: Columns (23) have mixed types. Specify dtype option on import or set low_memory=False.\n",
      "  df_games_votes = pd.read_csv(file_path)\n"
     ]
    }
   ],
   "source": [
    "# Reading the CSV file\n",
    "file_path = 'dataset/weighted_score_above_08.csv'\n",
    "df_games_votes = pd.read_csv(file_path)\n",
    "\n",
    "# Grouping by the game and calculating the counts\n",
    "game_stats = df_games_votes.groupby('appid').agg(\n",
    "    total_votes=('voted_up', 'count'),\n",
    "    upvotes=('voted_up', lambda x: (x == 1).sum()),\n",
    "    downvotes=('voted_up', lambda x: (x == 0).sum())\n",
    ").reset_index()"
   ]
  },
  {
   "cell_type": "code",
   "execution_count": 15,
   "id": "c0c584e5",
   "metadata": {},
   "outputs": [
    {
     "data": {
      "application/vnd.microsoft.datawrangler.viewer.v0+json": {
       "columns": [
        {
         "name": "index",
         "rawType": "int64",
         "type": "integer"
        },
        {
         "name": "appid",
         "rawType": "int64",
         "type": "integer"
        },
        {
         "name": "total_votes",
         "rawType": "int64",
         "type": "integer"
        },
        {
         "name": "upvotes",
         "rawType": "int64",
         "type": "integer"
        },
        {
         "name": "downvotes",
         "rawType": "int64",
         "type": "integer"
        }
       ],
       "conversionMethod": "pd.DataFrame",
       "ref": "a01301a6-8fd7-44b5-9944-413744ee2e6b",
       "rows": [
        [
         "0",
         "10",
         "611",
         "611",
         "0"
        ],
        [
         "1",
         "20",
         "85",
         "81",
         "4"
        ],
        [
         "2",
         "30",
         "22",
         "22",
         "0"
        ],
        [
         "3",
         "40",
         "20",
         "19",
         "1"
        ],
        [
         "4",
         "50",
         "26",
         "26",
         "0"
        ]
       ],
       "shape": {
        "columns": 4,
        "rows": 5
       }
      },
      "text/html": [
       "<div>\n",
       "<style scoped>\n",
       "    .dataframe tbody tr th:only-of-type {\n",
       "        vertical-align: middle;\n",
       "    }\n",
       "\n",
       "    .dataframe tbody tr th {\n",
       "        vertical-align: top;\n",
       "    }\n",
       "\n",
       "    .dataframe thead th {\n",
       "        text-align: right;\n",
       "    }\n",
       "</style>\n",
       "<table border=\"1\" class=\"dataframe\">\n",
       "  <thead>\n",
       "    <tr style=\"text-align: right;\">\n",
       "      <th></th>\n",
       "      <th>appid</th>\n",
       "      <th>total_votes</th>\n",
       "      <th>upvotes</th>\n",
       "      <th>downvotes</th>\n",
       "    </tr>\n",
       "  </thead>\n",
       "  <tbody>\n",
       "    <tr>\n",
       "      <th>0</th>\n",
       "      <td>10</td>\n",
       "      <td>611</td>\n",
       "      <td>611</td>\n",
       "      <td>0</td>\n",
       "    </tr>\n",
       "    <tr>\n",
       "      <th>1</th>\n",
       "      <td>20</td>\n",
       "      <td>85</td>\n",
       "      <td>81</td>\n",
       "      <td>4</td>\n",
       "    </tr>\n",
       "    <tr>\n",
       "      <th>2</th>\n",
       "      <td>30</td>\n",
       "      <td>22</td>\n",
       "      <td>22</td>\n",
       "      <td>0</td>\n",
       "    </tr>\n",
       "    <tr>\n",
       "      <th>3</th>\n",
       "      <td>40</td>\n",
       "      <td>20</td>\n",
       "      <td>19</td>\n",
       "      <td>1</td>\n",
       "    </tr>\n",
       "    <tr>\n",
       "      <th>4</th>\n",
       "      <td>50</td>\n",
       "      <td>26</td>\n",
       "      <td>26</td>\n",
       "      <td>0</td>\n",
       "    </tr>\n",
       "  </tbody>\n",
       "</table>\n",
       "</div>"
      ],
      "text/plain": [
       "   appid  total_votes  upvotes  downvotes\n",
       "0     10          611      611          0\n",
       "1     20           85       81          4\n",
       "2     30           22       22          0\n",
       "3     40           20       19          1\n",
       "4     50           26       26          0"
      ]
     },
     "execution_count": 15,
     "metadata": {},
     "output_type": "execute_result"
    }
   ],
   "source": [
    "# Displaying the resulting DataFrame\n",
    "game_stats.head()# Displays the first 5 rows of the grouped DataFrame"
   ]
  },
  {
   "cell_type": "markdown",
   "id": "87f99a4d",
   "metadata": {},
   "source": [
    "Add app_name to corresponding app_id"
   ]
  },
  {
   "cell_type": "code",
   "execution_count": 17,
   "id": "c481e421",
   "metadata": {},
   "outputs": [],
   "source": [
    "# Adding the app_name for each app_id without repetition\n",
    "app_names = df[['appid', 'game']].drop_duplicates(subset='appid')  # Ensure unique app_id-app_name pairs"
   ]
  },
  {
   "cell_type": "code",
   "execution_count": 18,
   "id": "647df62f",
   "metadata": {},
   "outputs": [
    {
     "data": {
      "application/vnd.microsoft.datawrangler.viewer.v0+json": {
       "columns": [
        {
         "name": "index",
         "rawType": "int64",
         "type": "integer"
        },
        {
         "name": "appid",
         "rawType": "int64",
         "type": "integer"
        },
        {
         "name": "game",
         "rawType": "object",
         "type": "unknown"
        }
       ],
       "conversionMethod": "pd.DataFrame",
       "ref": "b11e9316-3c98-4853-83bd-3c45c723bd41",
       "rows": [
        [
         "0",
         "10",
         "Counter-Strike"
        ],
        [
         "611",
         "100",
         "Counter-Strike: Condition Zero Deleted Scenes"
        ],
        [
         "613",
         "1000010",
         "Crown Trick"
        ],
        [
         "631",
         "1000030",
         "Cook, Serve, Delicious! 3?!"
        ],
        [
         "649",
         "1000080",
         "Zengeon"
        ],
        [
         "654",
         "1000280",
         "Tower of Origin 2-Worm's Nest"
        ],
        [
         "655",
         "1000310",
         "人气动漫大乱斗"
        ],
        [
         "656",
         "1000360",
         "Hellish Quart"
        ],
        [
         "719",
         "1000380",
         "Rogue Reaper"
        ],
        [
         "721",
         "1000410",
         "WRATH: Aeon of Ruin"
        ],
        [
         "728",
         "1000440",
         "东方雪莲华 ～ Abyss Soul Lotus."
        ],
        [
         "732",
         "1000700",
         "Insomnis"
        ],
        [
         "733",
         "1000760",
         "Foregone"
        ],
        [
         "741",
         "1000830",
         "Gachi Finder 3000"
        ],
        [
         "750",
         "1001060",
         "Attack on Titan 2: Final Battle Upgrade Pack"
        ],
        [
         "753",
         "1001140",
         "Angry Birds VR: Isle of Pigs"
        ],
        [
         "754",
         "1001220",
         "BoneCraft"
        ],
        [
         "757",
         "1001370",
         "IL-2 Sturmovik: Fortress on the Volga Campaign"
        ],
        [
         "758",
         "1001371",
         "IL-2 Sturmovik: Polikarpov U-2VS"
        ],
        [
         "759",
         "1001490",
         "Tower Behind the Moon"
        ],
        [
         "760",
         "1001640",
         "Where the Bees Make Honey"
        ],
        [
         "763",
         "1001860",
         "Casual Desktop Game"
        ],
        [
         "765",
         "1001960",
         "Zibbs - Alien Survival"
        ],
        [
         "766",
         "1001970",
         "Rhythmy"
        ],
        [
         "767",
         "1002",
         "Rag Doll Kung Fu"
        ],
        [
         "773",
         "1002000",
         "Spitlings"
        ],
        [
         "774",
         "1002100",
         "Negligee: Love Stories"
        ],
        [
         "778",
         "1002130",
         "Rocket League® - MLB Fan Pack"
        ],
        [
         "779",
         "1002200",
         "Vasilis"
        ],
        [
         "780",
         "1002230",
         "War of Three Kingdoms"
        ],
        [
         "781",
         "1002270",
         "PiiSim"
        ],
        [
         "782",
         "1002280",
         "The Far Kingdoms: Elements"
        ],
        [
         "783",
         "1002290",
         "某1种青春"
        ],
        [
         "785",
         "1002300",
         "Fear & Hunger"
        ],
        [
         "971",
         "1002310",
         "The Childs Sight"
        ],
        [
         "972",
         "1002360",
         "BUGDAS"
        ],
        [
         "973",
         "1002430",
         "Victory Road"
        ],
        [
         "974",
         "1002560",
         "Tiny Snow"
        ],
        [
         "1019",
         "1002850",
         "古战三国 Ancient War:Three Kingdoms"
        ],
        [
         "1021",
         "1002873",
         "皓月空华 - 打赏10$"
        ],
        [
         "1022",
         "1002930",
         "坦克大战：共和国之辉"
        ],
        [
         "1031",
         "1002970",
         "Freefall 3050AD"
        ],
        [
         "1032",
         "1003090",
         "Through The Darkest of Times"
        ],
        [
         "1044",
         "1003120",
         "HitchHiker"
        ],
        [
         "1047",
         "1003160",
         "Total War: WARHAMMER II - Tiktaq'to"
        ],
        [
         "1055",
         "1003200",
         "Talisman - Realm of Souls Expansion"
        ],
        [
         "1056",
         "1003310",
         "Two Point Hospital: Pebberley Island"
        ],
        [
         "1058",
         "1003360",
         "ШХД: ЗИМА / IT'S WINTER"
        ],
        [
         "1091",
         "1003400",
         "The Lord of the Rings: Journeys in Middle-earth"
        ],
        [
         "1094",
         "1003480",
         "Fireboy & Watergirl: Elements"
        ]
       ],
       "shape": {
        "columns": 2,
        "rows": 27315
       }
      },
      "text/html": [
       "<div>\n",
       "<style scoped>\n",
       "    .dataframe tbody tr th:only-of-type {\n",
       "        vertical-align: middle;\n",
       "    }\n",
       "\n",
       "    .dataframe tbody tr th {\n",
       "        vertical-align: top;\n",
       "    }\n",
       "\n",
       "    .dataframe thead th {\n",
       "        text-align: right;\n",
       "    }\n",
       "</style>\n",
       "<table border=\"1\" class=\"dataframe\">\n",
       "  <thead>\n",
       "    <tr style=\"text-align: right;\">\n",
       "      <th></th>\n",
       "      <th>appid</th>\n",
       "      <th>game</th>\n",
       "    </tr>\n",
       "  </thead>\n",
       "  <tbody>\n",
       "    <tr>\n",
       "      <th>0</th>\n",
       "      <td>10</td>\n",
       "      <td>Counter-Strike</td>\n",
       "    </tr>\n",
       "    <tr>\n",
       "      <th>611</th>\n",
       "      <td>100</td>\n",
       "      <td>Counter-Strike: Condition Zero Deleted Scenes</td>\n",
       "    </tr>\n",
       "    <tr>\n",
       "      <th>613</th>\n",
       "      <td>1000010</td>\n",
       "      <td>Crown Trick</td>\n",
       "    </tr>\n",
       "    <tr>\n",
       "      <th>631</th>\n",
       "      <td>1000030</td>\n",
       "      <td>Cook, Serve, Delicious! 3?!</td>\n",
       "    </tr>\n",
       "    <tr>\n",
       "      <th>649</th>\n",
       "      <td>1000080</td>\n",
       "      <td>Zengeon</td>\n",
       "    </tr>\n",
       "    <tr>\n",
       "      <th>...</th>\n",
       "      <td>...</td>\n",
       "      <td>...</td>\n",
       "    </tr>\n",
       "    <tr>\n",
       "      <th>497972</th>\n",
       "      <td>996970</td>\n",
       "      <td>Far Cry New Dawn - HD Textures Pack</td>\n",
       "    </tr>\n",
       "    <tr>\n",
       "      <th>497974</th>\n",
       "      <td>997010</td>\n",
       "      <td>Police Simulator: Patrol Officers</td>\n",
       "    </tr>\n",
       "    <tr>\n",
       "      <th>498091</th>\n",
       "      <td>997060</td>\n",
       "      <td>Kotodama: The 7 Mysteries of Fujisawa</td>\n",
       "    </tr>\n",
       "    <tr>\n",
       "      <th>498092</th>\n",
       "      <td>997180</td>\n",
       "      <td>be you</td>\n",
       "    </tr>\n",
       "    <tr>\n",
       "      <th>498093</th>\n",
       "      <td>997240</td>\n",
       "      <td>Siluman Fantasy</td>\n",
       "    </tr>\n",
       "  </tbody>\n",
       "</table>\n",
       "<p>27315 rows × 2 columns</p>\n",
       "</div>"
      ],
      "text/plain": [
       "          appid                                           game\n",
       "0            10                                 Counter-Strike\n",
       "611         100  Counter-Strike: Condition Zero Deleted Scenes\n",
       "613     1000010                                    Crown Trick\n",
       "631     1000030                    Cook, Serve, Delicious! 3?!\n",
       "649     1000080                                        Zengeon\n",
       "...         ...                                            ...\n",
       "497972   996970            Far Cry New Dawn - HD Textures Pack\n",
       "497974   997010              Police Simulator: Patrol Officers\n",
       "498091   997060          Kotodama: The 7 Mysteries of Fujisawa\n",
       "498092   997180                                         be you\n",
       "498093   997240                                Siluman Fantasy\n",
       "\n",
       "[27315 rows x 2 columns]"
      ]
     },
     "execution_count": 18,
     "metadata": {},
     "output_type": "execute_result"
    }
   ],
   "source": [
    "app_names"
   ]
  },
  {
   "cell_type": "code",
   "execution_count": 19,
   "id": "fc1ca442",
   "metadata": {},
   "outputs": [],
   "source": [
    "game_stats = game_stats.merge(app_names, on='appid', how='left')"
   ]
  },
  {
   "cell_type": "code",
   "execution_count": 20,
   "id": "c043122c",
   "metadata": {},
   "outputs": [
    {
     "data": {
      "application/vnd.microsoft.datawrangler.viewer.v0+json": {
       "columns": [
        {
         "name": "index",
         "rawType": "int64",
         "type": "integer"
        },
        {
         "name": "appid",
         "rawType": "int64",
         "type": "integer"
        },
        {
         "name": "total_votes",
         "rawType": "int64",
         "type": "integer"
        },
        {
         "name": "upvotes",
         "rawType": "int64",
         "type": "integer"
        },
        {
         "name": "downvotes",
         "rawType": "int64",
         "type": "integer"
        },
        {
         "name": "game",
         "rawType": "object",
         "type": "string"
        }
       ],
       "conversionMethod": "pd.DataFrame",
       "ref": "edb80928-149a-4bac-bc8d-831ce554df7e",
       "rows": [
        [
         "0",
         "10",
         "611",
         "611",
         "0",
         "Counter-Strike"
        ],
        [
         "1",
         "20",
         "85",
         "81",
         "4",
         "Team Fortress Classic"
        ],
        [
         "2",
         "30",
         "22",
         "22",
         "0",
         "Day of Defeat"
        ],
        [
         "3",
         "40",
         "20",
         "19",
         "1",
         "Deathmatch Classic"
        ],
        [
         "4",
         "50",
         "26",
         "26",
         "0",
         "Half-Life: Opposing Force"
        ],
        [
         "5",
         "60",
         "47",
         "46",
         "1",
         "Ricochet"
        ],
        [
         "6",
         "70",
         "282",
         "282",
         "0",
         "Half-Life"
        ],
        [
         "7",
         "80",
         "64",
         "63",
         "1",
         "Counter-Strike: Condition Zero"
        ],
        [
         "8",
         "92",
         "2",
         "2",
         "0",
         "Codename Gordon"
        ],
        [
         "9",
         "100",
         "2",
         "2",
         "0",
         "Counter-Strike: Condition Zero Deleted Scenes"
        ]
       ],
       "shape": {
        "columns": 5,
        "rows": 10
       }
      },
      "text/html": [
       "<div>\n",
       "<style scoped>\n",
       "    .dataframe tbody tr th:only-of-type {\n",
       "        vertical-align: middle;\n",
       "    }\n",
       "\n",
       "    .dataframe tbody tr th {\n",
       "        vertical-align: top;\n",
       "    }\n",
       "\n",
       "    .dataframe thead th {\n",
       "        text-align: right;\n",
       "    }\n",
       "</style>\n",
       "<table border=\"1\" class=\"dataframe\">\n",
       "  <thead>\n",
       "    <tr style=\"text-align: right;\">\n",
       "      <th></th>\n",
       "      <th>appid</th>\n",
       "      <th>total_votes</th>\n",
       "      <th>upvotes</th>\n",
       "      <th>downvotes</th>\n",
       "      <th>game</th>\n",
       "    </tr>\n",
       "  </thead>\n",
       "  <tbody>\n",
       "    <tr>\n",
       "      <th>0</th>\n",
       "      <td>10</td>\n",
       "      <td>611</td>\n",
       "      <td>611</td>\n",
       "      <td>0</td>\n",
       "      <td>Counter-Strike</td>\n",
       "    </tr>\n",
       "    <tr>\n",
       "      <th>1</th>\n",
       "      <td>20</td>\n",
       "      <td>85</td>\n",
       "      <td>81</td>\n",
       "      <td>4</td>\n",
       "      <td>Team Fortress Classic</td>\n",
       "    </tr>\n",
       "    <tr>\n",
       "      <th>2</th>\n",
       "      <td>30</td>\n",
       "      <td>22</td>\n",
       "      <td>22</td>\n",
       "      <td>0</td>\n",
       "      <td>Day of Defeat</td>\n",
       "    </tr>\n",
       "    <tr>\n",
       "      <th>3</th>\n",
       "      <td>40</td>\n",
       "      <td>20</td>\n",
       "      <td>19</td>\n",
       "      <td>1</td>\n",
       "      <td>Deathmatch Classic</td>\n",
       "    </tr>\n",
       "    <tr>\n",
       "      <th>4</th>\n",
       "      <td>50</td>\n",
       "      <td>26</td>\n",
       "      <td>26</td>\n",
       "      <td>0</td>\n",
       "      <td>Half-Life: Opposing Force</td>\n",
       "    </tr>\n",
       "    <tr>\n",
       "      <th>5</th>\n",
       "      <td>60</td>\n",
       "      <td>47</td>\n",
       "      <td>46</td>\n",
       "      <td>1</td>\n",
       "      <td>Ricochet</td>\n",
       "    </tr>\n",
       "    <tr>\n",
       "      <th>6</th>\n",
       "      <td>70</td>\n",
       "      <td>282</td>\n",
       "      <td>282</td>\n",
       "      <td>0</td>\n",
       "      <td>Half-Life</td>\n",
       "    </tr>\n",
       "    <tr>\n",
       "      <th>7</th>\n",
       "      <td>80</td>\n",
       "      <td>64</td>\n",
       "      <td>63</td>\n",
       "      <td>1</td>\n",
       "      <td>Counter-Strike: Condition Zero</td>\n",
       "    </tr>\n",
       "    <tr>\n",
       "      <th>8</th>\n",
       "      <td>92</td>\n",
       "      <td>2</td>\n",
       "      <td>2</td>\n",
       "      <td>0</td>\n",
       "      <td>Codename Gordon</td>\n",
       "    </tr>\n",
       "    <tr>\n",
       "      <th>9</th>\n",
       "      <td>100</td>\n",
       "      <td>2</td>\n",
       "      <td>2</td>\n",
       "      <td>0</td>\n",
       "      <td>Counter-Strike: Condition Zero Deleted Scenes</td>\n",
       "    </tr>\n",
       "  </tbody>\n",
       "</table>\n",
       "</div>"
      ],
      "text/plain": [
       "   appid  total_votes  upvotes  downvotes  \\\n",
       "0     10          611      611          0   \n",
       "1     20           85       81          4   \n",
       "2     30           22       22          0   \n",
       "3     40           20       19          1   \n",
       "4     50           26       26          0   \n",
       "5     60           47       46          1   \n",
       "6     70          282      282          0   \n",
       "7     80           64       63          1   \n",
       "8     92            2        2          0   \n",
       "9    100            2        2          0   \n",
       "\n",
       "                                            game  \n",
       "0                                 Counter-Strike  \n",
       "1                          Team Fortress Classic  \n",
       "2                                  Day of Defeat  \n",
       "3                             Deathmatch Classic  \n",
       "4                      Half-Life: Opposing Force  \n",
       "5                                       Ricochet  \n",
       "6                                      Half-Life  \n",
       "7                 Counter-Strike: Condition Zero  \n",
       "8                                Codename Gordon  \n",
       "9  Counter-Strike: Condition Zero Deleted Scenes  "
      ]
     },
     "execution_count": 20,
     "metadata": {},
     "output_type": "execute_result"
    }
   ],
   "source": [
    "game_stats.head(10)  # Displaying the first 5 rows of the merged DataFrame"
   ]
  },
  {
   "cell_type": "code",
   "execution_count": 21,
   "id": "8dfdd3a6",
   "metadata": {},
   "outputs": [
    {
     "data": {
      "text/plain": [
       "(27315, 5)"
      ]
     },
     "execution_count": 21,
     "metadata": {},
     "output_type": "execute_result"
    }
   ],
   "source": [
    "game_stats.shape"
   ]
  },
  {
   "cell_type": "code",
   "execution_count": 24,
   "id": "6d24cb6c",
   "metadata": {},
   "outputs": [],
   "source": [
    "# moving app_name to column next to app_id\n",
    "game_stats = game_stats[['appid', 'game', 'total_votes', 'upvotes', 'downvotes']]"
   ]
  },
  {
   "cell_type": "code",
   "execution_count": 25,
   "id": "5fcae97f",
   "metadata": {},
   "outputs": [
    {
     "data": {
      "application/vnd.microsoft.datawrangler.viewer.v0+json": {
       "columns": [
        {
         "name": "index",
         "rawType": "int64",
         "type": "integer"
        },
        {
         "name": "appid",
         "rawType": "int64",
         "type": "integer"
        },
        {
         "name": "game",
         "rawType": "object",
         "type": "string"
        },
        {
         "name": "total_votes",
         "rawType": "int64",
         "type": "integer"
        },
        {
         "name": "upvotes",
         "rawType": "int64",
         "type": "integer"
        },
        {
         "name": "downvotes",
         "rawType": "int64",
         "type": "integer"
        }
       ],
       "conversionMethod": "pd.DataFrame",
       "ref": "4d6e3e73-4bfb-43cb-8970-11917dfeb8ca",
       "rows": [
        [
         "0",
         "10",
         "Counter-Strike",
         "611",
         "611",
         "0"
        ],
        [
         "1",
         "20",
         "Team Fortress Classic",
         "85",
         "81",
         "4"
        ],
        [
         "2",
         "30",
         "Day of Defeat",
         "22",
         "22",
         "0"
        ],
        [
         "3",
         "40",
         "Deathmatch Classic",
         "20",
         "19",
         "1"
        ],
        [
         "4",
         "50",
         "Half-Life: Opposing Force",
         "26",
         "26",
         "0"
        ],
        [
         "5",
         "60",
         "Ricochet",
         "47",
         "46",
         "1"
        ],
        [
         "6",
         "70",
         "Half-Life",
         "282",
         "282",
         "0"
        ],
        [
         "7",
         "80",
         "Counter-Strike: Condition Zero",
         "64",
         "63",
         "1"
        ],
        [
         "8",
         "92",
         "Codename Gordon",
         "2",
         "2",
         "0"
        ],
        [
         "9",
         "100",
         "Counter-Strike: Condition Zero Deleted Scenes",
         "2",
         "2",
         "0"
        ]
       ],
       "shape": {
        "columns": 5,
        "rows": 10
       }
      },
      "text/html": [
       "<div>\n",
       "<style scoped>\n",
       "    .dataframe tbody tr th:only-of-type {\n",
       "        vertical-align: middle;\n",
       "    }\n",
       "\n",
       "    .dataframe tbody tr th {\n",
       "        vertical-align: top;\n",
       "    }\n",
       "\n",
       "    .dataframe thead th {\n",
       "        text-align: right;\n",
       "    }\n",
       "</style>\n",
       "<table border=\"1\" class=\"dataframe\">\n",
       "  <thead>\n",
       "    <tr style=\"text-align: right;\">\n",
       "      <th></th>\n",
       "      <th>appid</th>\n",
       "      <th>game</th>\n",
       "      <th>total_votes</th>\n",
       "      <th>upvotes</th>\n",
       "      <th>downvotes</th>\n",
       "    </tr>\n",
       "  </thead>\n",
       "  <tbody>\n",
       "    <tr>\n",
       "      <th>0</th>\n",
       "      <td>10</td>\n",
       "      <td>Counter-Strike</td>\n",
       "      <td>611</td>\n",
       "      <td>611</td>\n",
       "      <td>0</td>\n",
       "    </tr>\n",
       "    <tr>\n",
       "      <th>1</th>\n",
       "      <td>20</td>\n",
       "      <td>Team Fortress Classic</td>\n",
       "      <td>85</td>\n",
       "      <td>81</td>\n",
       "      <td>4</td>\n",
       "    </tr>\n",
       "    <tr>\n",
       "      <th>2</th>\n",
       "      <td>30</td>\n",
       "      <td>Day of Defeat</td>\n",
       "      <td>22</td>\n",
       "      <td>22</td>\n",
       "      <td>0</td>\n",
       "    </tr>\n",
       "    <tr>\n",
       "      <th>3</th>\n",
       "      <td>40</td>\n",
       "      <td>Deathmatch Classic</td>\n",
       "      <td>20</td>\n",
       "      <td>19</td>\n",
       "      <td>1</td>\n",
       "    </tr>\n",
       "    <tr>\n",
       "      <th>4</th>\n",
       "      <td>50</td>\n",
       "      <td>Half-Life: Opposing Force</td>\n",
       "      <td>26</td>\n",
       "      <td>26</td>\n",
       "      <td>0</td>\n",
       "    </tr>\n",
       "    <tr>\n",
       "      <th>5</th>\n",
       "      <td>60</td>\n",
       "      <td>Ricochet</td>\n",
       "      <td>47</td>\n",
       "      <td>46</td>\n",
       "      <td>1</td>\n",
       "    </tr>\n",
       "    <tr>\n",
       "      <th>6</th>\n",
       "      <td>70</td>\n",
       "      <td>Half-Life</td>\n",
       "      <td>282</td>\n",
       "      <td>282</td>\n",
       "      <td>0</td>\n",
       "    </tr>\n",
       "    <tr>\n",
       "      <th>7</th>\n",
       "      <td>80</td>\n",
       "      <td>Counter-Strike: Condition Zero</td>\n",
       "      <td>64</td>\n",
       "      <td>63</td>\n",
       "      <td>1</td>\n",
       "    </tr>\n",
       "    <tr>\n",
       "      <th>8</th>\n",
       "      <td>92</td>\n",
       "      <td>Codename Gordon</td>\n",
       "      <td>2</td>\n",
       "      <td>2</td>\n",
       "      <td>0</td>\n",
       "    </tr>\n",
       "    <tr>\n",
       "      <th>9</th>\n",
       "      <td>100</td>\n",
       "      <td>Counter-Strike: Condition Zero Deleted Scenes</td>\n",
       "      <td>2</td>\n",
       "      <td>2</td>\n",
       "      <td>0</td>\n",
       "    </tr>\n",
       "  </tbody>\n",
       "</table>\n",
       "</div>"
      ],
      "text/plain": [
       "   appid                                           game  total_votes  upvotes  \\\n",
       "0     10                                 Counter-Strike          611      611   \n",
       "1     20                          Team Fortress Classic           85       81   \n",
       "2     30                                  Day of Defeat           22       22   \n",
       "3     40                             Deathmatch Classic           20       19   \n",
       "4     50                      Half-Life: Opposing Force           26       26   \n",
       "5     60                                       Ricochet           47       46   \n",
       "6     70                                      Half-Life          282      282   \n",
       "7     80                 Counter-Strike: Condition Zero           64       63   \n",
       "8     92                                Codename Gordon            2        2   \n",
       "9    100  Counter-Strike: Condition Zero Deleted Scenes            2        2   \n",
       "\n",
       "   downvotes  \n",
       "0          0  \n",
       "1          4  \n",
       "2          0  \n",
       "3          1  \n",
       "4          0  \n",
       "5          1  \n",
       "6          0  \n",
       "7          1  \n",
       "8          0  \n",
       "9          0  "
      ]
     },
     "execution_count": 25,
     "metadata": {},
     "output_type": "execute_result"
    }
   ],
   "source": [
    "game_stats.head(10)"
   ]
  },
  {
   "cell_type": "code",
   "execution_count": 26,
   "id": "23b46bbc",
   "metadata": {},
   "outputs": [],
   "source": [
    "# Saving the DataFrame to a JSON file\n",
    "game_stats.to_json('game_stats.json', orient='records', lines=True)"
   ]
  },
  {
   "cell_type": "markdown",
   "id": "553d757c",
   "metadata": {},
   "source": [
    "Loading the saved JSON file"
   ]
  },
  {
   "cell_type": "code",
   "execution_count": 27,
   "id": "17d60e4c",
   "metadata": {},
   "outputs": [
    {
     "data": {
      "application/vnd.microsoft.datawrangler.viewer.v0+json": {
       "columns": [
        {
         "name": "index",
         "rawType": "int64",
         "type": "integer"
        },
        {
         "name": "appid",
         "rawType": "int64",
         "type": "integer"
        },
        {
         "name": "game",
         "rawType": "object",
         "type": "string"
        },
        {
         "name": "total_votes",
         "rawType": "int64",
         "type": "integer"
        },
        {
         "name": "upvotes",
         "rawType": "int64",
         "type": "integer"
        },
        {
         "name": "downvotes",
         "rawType": "int64",
         "type": "integer"
        }
       ],
       "conversionMethod": "pd.DataFrame",
       "ref": "25982d5d-31e5-4949-a7ef-caf6a30b2e32",
       "rows": [
        [
         "0",
         "10",
         "Counter-Strike",
         "611",
         "611",
         "0"
        ],
        [
         "1",
         "20",
         "Team Fortress Classic",
         "85",
         "81",
         "4"
        ],
        [
         "2",
         "30",
         "Day of Defeat",
         "22",
         "22",
         "0"
        ],
        [
         "3",
         "40",
         "Deathmatch Classic",
         "20",
         "19",
         "1"
        ],
        [
         "4",
         "50",
         "Half-Life: Opposing Force",
         "26",
         "26",
         "0"
        ]
       ],
       "shape": {
        "columns": 5,
        "rows": 5
       }
      },
      "text/html": [
       "<div>\n",
       "<style scoped>\n",
       "    .dataframe tbody tr th:only-of-type {\n",
       "        vertical-align: middle;\n",
       "    }\n",
       "\n",
       "    .dataframe tbody tr th {\n",
       "        vertical-align: top;\n",
       "    }\n",
       "\n",
       "    .dataframe thead th {\n",
       "        text-align: right;\n",
       "    }\n",
       "</style>\n",
       "<table border=\"1\" class=\"dataframe\">\n",
       "  <thead>\n",
       "    <tr style=\"text-align: right;\">\n",
       "      <th></th>\n",
       "      <th>appid</th>\n",
       "      <th>game</th>\n",
       "      <th>total_votes</th>\n",
       "      <th>upvotes</th>\n",
       "      <th>downvotes</th>\n",
       "    </tr>\n",
       "  </thead>\n",
       "  <tbody>\n",
       "    <tr>\n",
       "      <th>0</th>\n",
       "      <td>10</td>\n",
       "      <td>Counter-Strike</td>\n",
       "      <td>611</td>\n",
       "      <td>611</td>\n",
       "      <td>0</td>\n",
       "    </tr>\n",
       "    <tr>\n",
       "      <th>1</th>\n",
       "      <td>20</td>\n",
       "      <td>Team Fortress Classic</td>\n",
       "      <td>85</td>\n",
       "      <td>81</td>\n",
       "      <td>4</td>\n",
       "    </tr>\n",
       "    <tr>\n",
       "      <th>2</th>\n",
       "      <td>30</td>\n",
       "      <td>Day of Defeat</td>\n",
       "      <td>22</td>\n",
       "      <td>22</td>\n",
       "      <td>0</td>\n",
       "    </tr>\n",
       "    <tr>\n",
       "      <th>3</th>\n",
       "      <td>40</td>\n",
       "      <td>Deathmatch Classic</td>\n",
       "      <td>20</td>\n",
       "      <td>19</td>\n",
       "      <td>1</td>\n",
       "    </tr>\n",
       "    <tr>\n",
       "      <th>4</th>\n",
       "      <td>50</td>\n",
       "      <td>Half-Life: Opposing Force</td>\n",
       "      <td>26</td>\n",
       "      <td>26</td>\n",
       "      <td>0</td>\n",
       "    </tr>\n",
       "  </tbody>\n",
       "</table>\n",
       "</div>"
      ],
      "text/plain": [
       "   appid                       game  total_votes  upvotes  downvotes\n",
       "0     10             Counter-Strike          611      611          0\n",
       "1     20      Team Fortress Classic           85       81          4\n",
       "2     30              Day of Defeat           22       22          0\n",
       "3     40         Deathmatch Classic           20       19          1\n",
       "4     50  Half-Life: Opposing Force           26       26          0"
      ]
     },
     "execution_count": 27,
     "metadata": {},
     "output_type": "execute_result"
    }
   ],
   "source": [
    "# Loading the JSON file back into a DataFrame\n",
    "df_loaded = pd.read_json('game_stats.json', orient='records', lines=True)\n",
    "\n",
    "# Displaying the loaded DataFrame\n",
    "df_loaded.head()"
   ]
  },
  {
   "cell_type": "markdown",
   "id": "1a6c9321",
   "metadata": {},
   "source": [
    "The Wilson Score is defined by - \n",
    "\n",
    "$$\n",
    "\\text{Wilson Score}=\\frac{p + \\frac{z^2}{2n} - z\\sqrt{\\frac{p(1 - p) + \\frac{z^2}{4n}}{n}}}{1 + \\frac{z^2}{n}}\n",
    "$$"
   ]
  },
  {
   "cell_type": "code",
   "execution_count": 28,
   "id": "0cbda151",
   "metadata": {},
   "outputs": [],
   "source": [
    "def wilson_score(upvotes, total_votes, z=1.96):\n",
    "    \"\"\"\n",
    "    Calculate the Wilson score interval for a given number of positive votes and total votes.\n",
    "\n",
    "    The Wilson score is used to estimate a confidence interval for a proportion and is used for ranking items \n",
    "    based on user feedback.\n",
    "\n",
    "    Parameters:\n",
    "    - upvotes (int): The number of positive votes, the user recommended this game\n",
    "    - total_votes (int): The total number of votes (upvote + downvote).\n",
    "    - z (float): The z-score corresponding to the desired confidence level. \n",
    "      Default is 1.96, which corresponds to a 95% confidence level.\n",
    "\n",
    "    Returns:\n",
    "    - float: The lower bound of the Wilson score interval, representing the adjusted proportion\n",
    "      of positive votes with the specified confidence level.\n",
    "    \"\"\"\n",
    "    \n",
    "    wilson_score = 0\n",
    "    if total_votes != 0:\n",
    "        p = upvotes / total_votes\n",
    "        denominator = 1 + z ** 2 / total_votes\n",
    "        numerator_sum_term = p + z ** 2 / (2 * total_votes)\n",
    "        numerator_square_root_term = np.sqrt(\n",
    "            (p * (1 - p) + (z ** 2 / (4 * total_votes))) / total_votes\n",
    "        )\n",
    "        wilson_score = (\n",
    "            (numerator_sum_term - z * numerator_square_root_term) / denominator\n",
    "        )   \n",
    "    return wilson_score"
   ]
  },
  {
   "cell_type": "markdown",
   "id": "2e3ec2b2",
   "metadata": {},
   "source": [
    "Calculate Wilson Scores for each Entry"
   ]
  },
  {
   "cell_type": "code",
   "execution_count": 29,
   "id": "75f9dca7",
   "metadata": {},
   "outputs": [
    {
     "name": "stderr",
     "output_type": "stream",
     "text": [
      "C:\\Users\\sbm76\\AppData\\Local\\Temp\\ipykernel_296\\951335585.py:2: SettingWithCopyWarning: \n",
      "A value is trying to be set on a copy of a slice from a DataFrame.\n",
      "Try using .loc[row_indexer,col_indexer] = value instead\n",
      "\n",
      "See the caveats in the documentation: https://pandas.pydata.org/pandas-docs/stable/user_guide/indexing.html#returning-a-view-versus-a-copy\n",
      "  game_stats['wilson_score'] = game_stats.apply(\n"
     ]
    }
   ],
   "source": [
    "# apply the function to each row (axis=1) of the DataFrame\n",
    "game_stats['wilson_score'] = game_stats.apply(\n",
    "    lambda row: wilson_score(row['upvotes'], row['total_votes']),\n",
    "    axis=1\n",
    ")"
   ]
  },
  {
   "cell_type": "code",
   "execution_count": 30,
   "id": "7be4c907",
   "metadata": {},
   "outputs": [
    {
     "data": {
      "application/vnd.microsoft.datawrangler.viewer.v0+json": {
       "columns": [
        {
         "name": "index",
         "rawType": "int64",
         "type": "integer"
        },
        {
         "name": "appid",
         "rawType": "int64",
         "type": "integer"
        },
        {
         "name": "game",
         "rawType": "object",
         "type": "string"
        },
        {
         "name": "total_votes",
         "rawType": "int64",
         "type": "integer"
        },
        {
         "name": "upvotes",
         "rawType": "int64",
         "type": "integer"
        },
        {
         "name": "downvotes",
         "rawType": "int64",
         "type": "integer"
        },
        {
         "name": "wilson_score",
         "rawType": "float64",
         "type": "float"
        }
       ],
       "conversionMethod": "pd.DataFrame",
       "ref": "38e3b895-1110-495e-b480-ae63de5d4340",
       "rows": [
        [
         "0",
         "10",
         "Counter-Strike",
         "611",
         "611",
         "0",
         "0.993751886664793"
        ],
        [
         "1",
         "20",
         "Team Fortress Classic",
         "85",
         "81",
         "4",
         "0.8851610525649923"
        ],
        [
         "2",
         "30",
         "Day of Defeat",
         "22",
         "22",
         "0",
         "0.8513404742740388"
        ],
        [
         "3",
         "40",
         "Deathmatch Classic",
         "20",
         "19",
         "1",
         "0.7638641064874331"
        ],
        [
         "4",
         "50",
         "Half-Life: Opposing Force",
         "26",
         "26",
         "0",
         "0.8712669561953783"
        ]
       ],
       "shape": {
        "columns": 6,
        "rows": 5
       }
      },
      "text/html": [
       "<div>\n",
       "<style scoped>\n",
       "    .dataframe tbody tr th:only-of-type {\n",
       "        vertical-align: middle;\n",
       "    }\n",
       "\n",
       "    .dataframe tbody tr th {\n",
       "        vertical-align: top;\n",
       "    }\n",
       "\n",
       "    .dataframe thead th {\n",
       "        text-align: right;\n",
       "    }\n",
       "</style>\n",
       "<table border=\"1\" class=\"dataframe\">\n",
       "  <thead>\n",
       "    <tr style=\"text-align: right;\">\n",
       "      <th></th>\n",
       "      <th>appid</th>\n",
       "      <th>game</th>\n",
       "      <th>total_votes</th>\n",
       "      <th>upvotes</th>\n",
       "      <th>downvotes</th>\n",
       "      <th>wilson_score</th>\n",
       "    </tr>\n",
       "  </thead>\n",
       "  <tbody>\n",
       "    <tr>\n",
       "      <th>0</th>\n",
       "      <td>10</td>\n",
       "      <td>Counter-Strike</td>\n",
       "      <td>611</td>\n",
       "      <td>611</td>\n",
       "      <td>0</td>\n",
       "      <td>0.993752</td>\n",
       "    </tr>\n",
       "    <tr>\n",
       "      <th>1</th>\n",
       "      <td>20</td>\n",
       "      <td>Team Fortress Classic</td>\n",
       "      <td>85</td>\n",
       "      <td>81</td>\n",
       "      <td>4</td>\n",
       "      <td>0.885161</td>\n",
       "    </tr>\n",
       "    <tr>\n",
       "      <th>2</th>\n",
       "      <td>30</td>\n",
       "      <td>Day of Defeat</td>\n",
       "      <td>22</td>\n",
       "      <td>22</td>\n",
       "      <td>0</td>\n",
       "      <td>0.851340</td>\n",
       "    </tr>\n",
       "    <tr>\n",
       "      <th>3</th>\n",
       "      <td>40</td>\n",
       "      <td>Deathmatch Classic</td>\n",
       "      <td>20</td>\n",
       "      <td>19</td>\n",
       "      <td>1</td>\n",
       "      <td>0.763864</td>\n",
       "    </tr>\n",
       "    <tr>\n",
       "      <th>4</th>\n",
       "      <td>50</td>\n",
       "      <td>Half-Life: Opposing Force</td>\n",
       "      <td>26</td>\n",
       "      <td>26</td>\n",
       "      <td>0</td>\n",
       "      <td>0.871267</td>\n",
       "    </tr>\n",
       "  </tbody>\n",
       "</table>\n",
       "</div>"
      ],
      "text/plain": [
       "   appid                       game  total_votes  upvotes  downvotes  \\\n",
       "0     10             Counter-Strike          611      611          0   \n",
       "1     20      Team Fortress Classic           85       81          4   \n",
       "2     30              Day of Defeat           22       22          0   \n",
       "3     40         Deathmatch Classic           20       19          1   \n",
       "4     50  Half-Life: Opposing Force           26       26          0   \n",
       "\n",
       "   wilson_score  \n",
       "0      0.993752  \n",
       "1      0.885161  \n",
       "2      0.851340  \n",
       "3      0.763864  \n",
       "4      0.871267  "
      ]
     },
     "execution_count": 30,
     "metadata": {},
     "output_type": "execute_result"
    }
   ],
   "source": [
    "game_stats.head()  # Displaying the first 5 rows of the DataFrame with Wilson score"
   ]
  },
  {
   "cell_type": "code",
   "execution_count": 31,
   "id": "82b80152",
   "metadata": {},
   "outputs": [],
   "source": [
    "game_stats_sorted = game_stats.sort_values(by='wilson_score', ascending=False).reset_index(drop=True)"
   ]
  },
  {
   "cell_type": "code",
   "execution_count": 32,
   "id": "95dfb23a",
   "metadata": {},
   "outputs": [
    {
     "data": {
      "text/plain": [
       "(27315, 6)"
      ]
     },
     "execution_count": 32,
     "metadata": {},
     "output_type": "execute_result"
    }
   ],
   "source": [
    "game_stats_sorted.shape"
   ]
  },
  {
   "cell_type": "code",
   "execution_count": 34,
   "id": "0badae9a",
   "metadata": {},
   "outputs": [
    {
     "data": {
      "application/vnd.microsoft.datawrangler.viewer.v0+json": {
       "columns": [
        {
         "name": "index",
         "rawType": "int64",
         "type": "integer"
        },
        {
         "name": "appid",
         "rawType": "int64",
         "type": "integer"
        },
        {
         "name": "game",
         "rawType": "object",
         "type": "string"
        },
        {
         "name": "total_votes",
         "rawType": "int64",
         "type": "integer"
        },
        {
         "name": "upvotes",
         "rawType": "int64",
         "type": "integer"
        },
        {
         "name": "downvotes",
         "rawType": "int64",
         "type": "integer"
        },
        {
         "name": "wilson_score",
         "rawType": "float64",
         "type": "float"
        }
       ],
       "conversionMethod": "pd.DataFrame",
       "ref": "b63059dd-8664-44a0-91fe-33204f3fe96a",
       "rows": [
        [
         "0",
         "550",
         "Left 4 Dead 2",
         "1309",
         "1309",
         "0",
         "0.9970738282516338"
        ],
        [
         "1",
         "644560",
         "Mirror",
         "925",
         "925",
         "0",
         "0.9958640956649659"
        ],
        [
         "2",
         "264710",
         "Subnautica",
         "1333",
         "1332",
         "1",
         "0.995762732953727"
        ],
        [
         "3",
         "294100",
         "RimWorld",
         "1294",
         "1293",
         "1",
         "0.9956354157323041"
        ],
        [
         "4",
         "413150",
         "Stardew Valley",
         "2240",
         "2236",
         "4",
         "0.9954172526386059"
        ],
        [
         "5",
         "739630",
         "Phasmophobia",
         "1043",
         "1042",
         "1",
         "0.9945890487814211"
        ],
        [
         "6",
         "48700",
         "Mount & Blade: Warband",
         "689",
         "689",
         "0",
         "0.9944552982961762"
        ],
        [
         "7",
         "10",
         "Counter-Strike",
         "611",
         "611",
         "0",
         "0.993751886664793"
        ],
        [
         "8",
         "526870",
         "Satisfactory",
         "598",
         "598",
         "0",
         "0.9936169251178382"
        ],
        [
         "9",
         "239030",
         "Papers, Please",
         "586",
         "586",
         "0",
         "0.9934870650018581"
        ],
        [
         "10",
         "3590",
         "Plants vs. Zombies: Game of the Year",
         "861",
         "860",
         "1",
         "0.9934505151693758"
        ],
        [
         "11",
         "227300",
         "Euro Truck Simulator 2",
         "1325",
         "1322",
         "3",
         "0.993364144078471"
        ],
        [
         "12",
         "284160",
         "BeamNG.drive",
         "573",
         "573",
         "0",
         "0.9933402861374769"
        ],
        [
         "13",
         "1289310",
         "Helltaker",
         "555",
         "555",
         "0",
         "0.9931257801852976"
        ],
        [
         "14",
         "546560",
         "Half-Life: Alyx",
         "553",
         "553",
         "0",
         "0.9931010901484372"
        ],
        [
         "15",
         "433340",
         "Slime Rancher",
         "551",
         "551",
         "0",
         "0.9930762221145639"
        ],
        [
         "16",
         "322330",
         "Don't Starve Together",
         "1048",
         "1046",
         "2",
         "0.9930683815024836"
        ],
        [
         "17",
         "1350650",
         "FreshWomen - Season 1",
         "547",
         "547",
         "0",
         "0.993025944300503"
        ],
        [
         "18",
         "4000",
         "Garry's Mod",
         "1456",
         "1452",
         "4",
         "0.9929572734077745"
        ],
        [
         "19",
         "240",
         "Counter-Strike: Source",
         "525",
         "525",
         "0",
         "0.9927358210851793"
        ]
       ],
       "shape": {
        "columns": 6,
        "rows": 20
       }
      },
      "text/html": [
       "<div>\n",
       "<style scoped>\n",
       "    .dataframe tbody tr th:only-of-type {\n",
       "        vertical-align: middle;\n",
       "    }\n",
       "\n",
       "    .dataframe tbody tr th {\n",
       "        vertical-align: top;\n",
       "    }\n",
       "\n",
       "    .dataframe thead th {\n",
       "        text-align: right;\n",
       "    }\n",
       "</style>\n",
       "<table border=\"1\" class=\"dataframe\">\n",
       "  <thead>\n",
       "    <tr style=\"text-align: right;\">\n",
       "      <th></th>\n",
       "      <th>appid</th>\n",
       "      <th>game</th>\n",
       "      <th>total_votes</th>\n",
       "      <th>upvotes</th>\n",
       "      <th>downvotes</th>\n",
       "      <th>wilson_score</th>\n",
       "    </tr>\n",
       "  </thead>\n",
       "  <tbody>\n",
       "    <tr>\n",
       "      <th>0</th>\n",
       "      <td>550</td>\n",
       "      <td>Left 4 Dead 2</td>\n",
       "      <td>1309</td>\n",
       "      <td>1309</td>\n",
       "      <td>0</td>\n",
       "      <td>0.997074</td>\n",
       "    </tr>\n",
       "    <tr>\n",
       "      <th>1</th>\n",
       "      <td>644560</td>\n",
       "      <td>Mirror</td>\n",
       "      <td>925</td>\n",
       "      <td>925</td>\n",
       "      <td>0</td>\n",
       "      <td>0.995864</td>\n",
       "    </tr>\n",
       "    <tr>\n",
       "      <th>2</th>\n",
       "      <td>264710</td>\n",
       "      <td>Subnautica</td>\n",
       "      <td>1333</td>\n",
       "      <td>1332</td>\n",
       "      <td>1</td>\n",
       "      <td>0.995763</td>\n",
       "    </tr>\n",
       "    <tr>\n",
       "      <th>3</th>\n",
       "      <td>294100</td>\n",
       "      <td>RimWorld</td>\n",
       "      <td>1294</td>\n",
       "      <td>1293</td>\n",
       "      <td>1</td>\n",
       "      <td>0.995635</td>\n",
       "    </tr>\n",
       "    <tr>\n",
       "      <th>4</th>\n",
       "      <td>413150</td>\n",
       "      <td>Stardew Valley</td>\n",
       "      <td>2240</td>\n",
       "      <td>2236</td>\n",
       "      <td>4</td>\n",
       "      <td>0.995417</td>\n",
       "    </tr>\n",
       "    <tr>\n",
       "      <th>5</th>\n",
       "      <td>739630</td>\n",
       "      <td>Phasmophobia</td>\n",
       "      <td>1043</td>\n",
       "      <td>1042</td>\n",
       "      <td>1</td>\n",
       "      <td>0.994589</td>\n",
       "    </tr>\n",
       "    <tr>\n",
       "      <th>6</th>\n",
       "      <td>48700</td>\n",
       "      <td>Mount &amp; Blade: Warband</td>\n",
       "      <td>689</td>\n",
       "      <td>689</td>\n",
       "      <td>0</td>\n",
       "      <td>0.994455</td>\n",
       "    </tr>\n",
       "    <tr>\n",
       "      <th>7</th>\n",
       "      <td>10</td>\n",
       "      <td>Counter-Strike</td>\n",
       "      <td>611</td>\n",
       "      <td>611</td>\n",
       "      <td>0</td>\n",
       "      <td>0.993752</td>\n",
       "    </tr>\n",
       "    <tr>\n",
       "      <th>8</th>\n",
       "      <td>526870</td>\n",
       "      <td>Satisfactory</td>\n",
       "      <td>598</td>\n",
       "      <td>598</td>\n",
       "      <td>0</td>\n",
       "      <td>0.993617</td>\n",
       "    </tr>\n",
       "    <tr>\n",
       "      <th>9</th>\n",
       "      <td>239030</td>\n",
       "      <td>Papers, Please</td>\n",
       "      <td>586</td>\n",
       "      <td>586</td>\n",
       "      <td>0</td>\n",
       "      <td>0.993487</td>\n",
       "    </tr>\n",
       "    <tr>\n",
       "      <th>10</th>\n",
       "      <td>3590</td>\n",
       "      <td>Plants vs. Zombies: Game of the Year</td>\n",
       "      <td>861</td>\n",
       "      <td>860</td>\n",
       "      <td>1</td>\n",
       "      <td>0.993451</td>\n",
       "    </tr>\n",
       "    <tr>\n",
       "      <th>11</th>\n",
       "      <td>227300</td>\n",
       "      <td>Euro Truck Simulator 2</td>\n",
       "      <td>1325</td>\n",
       "      <td>1322</td>\n",
       "      <td>3</td>\n",
       "      <td>0.993364</td>\n",
       "    </tr>\n",
       "    <tr>\n",
       "      <th>12</th>\n",
       "      <td>284160</td>\n",
       "      <td>BeamNG.drive</td>\n",
       "      <td>573</td>\n",
       "      <td>573</td>\n",
       "      <td>0</td>\n",
       "      <td>0.993340</td>\n",
       "    </tr>\n",
       "    <tr>\n",
       "      <th>13</th>\n",
       "      <td>1289310</td>\n",
       "      <td>Helltaker</td>\n",
       "      <td>555</td>\n",
       "      <td>555</td>\n",
       "      <td>0</td>\n",
       "      <td>0.993126</td>\n",
       "    </tr>\n",
       "    <tr>\n",
       "      <th>14</th>\n",
       "      <td>546560</td>\n",
       "      <td>Half-Life: Alyx</td>\n",
       "      <td>553</td>\n",
       "      <td>553</td>\n",
       "      <td>0</td>\n",
       "      <td>0.993101</td>\n",
       "    </tr>\n",
       "    <tr>\n",
       "      <th>15</th>\n",
       "      <td>433340</td>\n",
       "      <td>Slime Rancher</td>\n",
       "      <td>551</td>\n",
       "      <td>551</td>\n",
       "      <td>0</td>\n",
       "      <td>0.993076</td>\n",
       "    </tr>\n",
       "    <tr>\n",
       "      <th>16</th>\n",
       "      <td>322330</td>\n",
       "      <td>Don't Starve Together</td>\n",
       "      <td>1048</td>\n",
       "      <td>1046</td>\n",
       "      <td>2</td>\n",
       "      <td>0.993068</td>\n",
       "    </tr>\n",
       "    <tr>\n",
       "      <th>17</th>\n",
       "      <td>1350650</td>\n",
       "      <td>FreshWomen - Season 1</td>\n",
       "      <td>547</td>\n",
       "      <td>547</td>\n",
       "      <td>0</td>\n",
       "      <td>0.993026</td>\n",
       "    </tr>\n",
       "    <tr>\n",
       "      <th>18</th>\n",
       "      <td>4000</td>\n",
       "      <td>Garry's Mod</td>\n",
       "      <td>1456</td>\n",
       "      <td>1452</td>\n",
       "      <td>4</td>\n",
       "      <td>0.992957</td>\n",
       "    </tr>\n",
       "    <tr>\n",
       "      <th>19</th>\n",
       "      <td>240</td>\n",
       "      <td>Counter-Strike: Source</td>\n",
       "      <td>525</td>\n",
       "      <td>525</td>\n",
       "      <td>0</td>\n",
       "      <td>0.992736</td>\n",
       "    </tr>\n",
       "  </tbody>\n",
       "</table>\n",
       "</div>"
      ],
      "text/plain": [
       "      appid                                  game  total_votes  upvotes  \\\n",
       "0       550                         Left 4 Dead 2         1309     1309   \n",
       "1    644560                                Mirror          925      925   \n",
       "2    264710                            Subnautica         1333     1332   \n",
       "3    294100                              RimWorld         1294     1293   \n",
       "4    413150                        Stardew Valley         2240     2236   \n",
       "5    739630                          Phasmophobia         1043     1042   \n",
       "6     48700                Mount & Blade: Warband          689      689   \n",
       "7        10                        Counter-Strike          611      611   \n",
       "8    526870                          Satisfactory          598      598   \n",
       "9    239030                        Papers, Please          586      586   \n",
       "10     3590  Plants vs. Zombies: Game of the Year          861      860   \n",
       "11   227300                Euro Truck Simulator 2         1325     1322   \n",
       "12   284160                          BeamNG.drive          573      573   \n",
       "13  1289310                             Helltaker          555      555   \n",
       "14   546560                       Half-Life: Alyx          553      553   \n",
       "15   433340                         Slime Rancher          551      551   \n",
       "16   322330                 Don't Starve Together         1048     1046   \n",
       "17  1350650                 FreshWomen - Season 1          547      547   \n",
       "18     4000                           Garry's Mod         1456     1452   \n",
       "19      240                Counter-Strike: Source          525      525   \n",
       "\n",
       "    downvotes  wilson_score  \n",
       "0           0      0.997074  \n",
       "1           0      0.995864  \n",
       "2           1      0.995763  \n",
       "3           1      0.995635  \n",
       "4           4      0.995417  \n",
       "5           1      0.994589  \n",
       "6           0      0.994455  \n",
       "7           0      0.993752  \n",
       "8           0      0.993617  \n",
       "9           0      0.993487  \n",
       "10          1      0.993451  \n",
       "11          3      0.993364  \n",
       "12          0      0.993340  \n",
       "13          0      0.993126  \n",
       "14          0      0.993101  \n",
       "15          0      0.993076  \n",
       "16          2      0.993068  \n",
       "17          0      0.993026  \n",
       "18          4      0.992957  \n",
       "19          0      0.992736  "
      ]
     },
     "execution_count": 34,
     "metadata": {},
     "output_type": "execute_result"
    }
   ],
   "source": [
    "game_stats_sorted.head(20)  # Displaying the first 10 rows of the sorted DataFrame"
   ]
  },
  {
   "cell_type": "markdown",
   "id": "6d19f6ff",
   "metadata": {},
   "source": [
    "Save the final dataframe as JSON file"
   ]
  },
  {
   "cell_type": "code",
   "execution_count": 35,
   "id": "cd9efa2c",
   "metadata": {},
   "outputs": [],
   "source": [
    "# Saving the DataFrame to a JSON file\n",
    "game_stats_sorted.to_json('game_stats_wilson.json', orient='records', lines=True)"
   ]
  },
  {
   "cell_type": "code",
   "execution_count": 2,
   "id": "b90f338f",
   "metadata": {},
   "outputs": [],
   "source": [
    "# Loading the JSON file back into a DataFrame\n",
    "df_wilson = pd.read_json('game_stats_wilson.json', orient='records', lines=True)"
   ]
  },
  {
   "cell_type": "code",
   "execution_count": 4,
   "id": "b7bb7c23",
   "metadata": {},
   "outputs": [
    {
     "data": {
      "application/vnd.microsoft.datawrangler.viewer.v0+json": {
       "columns": [
        {
         "name": "index",
         "rawType": "int64",
         "type": "integer"
        },
        {
         "name": "appid",
         "rawType": "int64",
         "type": "integer"
        },
        {
         "name": "game",
         "rawType": "object",
         "type": "unknown"
        },
        {
         "name": "total_votes",
         "rawType": "int64",
         "type": "integer"
        },
        {
         "name": "upvotes",
         "rawType": "int64",
         "type": "integer"
        },
        {
         "name": "downvotes",
         "rawType": "int64",
         "type": "integer"
        },
        {
         "name": "wilson_score",
         "rawType": "float64",
         "type": "float"
        }
       ],
       "conversionMethod": "pd.DataFrame",
       "ref": "812c54d7-34a8-4e95-a1ce-ee1bf73a9766",
       "rows": [
        [
         "0",
         "550",
         "Left 4 Dead 2",
         "1309",
         "1309",
         "0",
         "0.9970738283"
        ],
        [
         "1",
         "644560",
         "Mirror",
         "925",
         "925",
         "0",
         "0.9958640957"
        ],
        [
         "2",
         "264710",
         "Subnautica",
         "1333",
         "1332",
         "1",
         "0.9957627330000001"
        ],
        [
         "3",
         "294100",
         "RimWorld",
         "1294",
         "1293",
         "1",
         "0.9956354157"
        ],
        [
         "4",
         "413150",
         "Stardew Valley",
         "2240",
         "2236",
         "4",
         "0.9954172526"
        ],
        [
         "5",
         "739630",
         "Phasmophobia",
         "1043",
         "1042",
         "1",
         "0.9945890488"
        ],
        [
         "6",
         "48700",
         "Mount & Blade: Warband",
         "689",
         "689",
         "0",
         "0.9944552983"
        ],
        [
         "7",
         "10",
         "Counter-Strike",
         "611",
         "611",
         "0",
         "0.9937518867"
        ],
        [
         "8",
         "526870",
         "Satisfactory",
         "598",
         "598",
         "0",
         "0.9936169251"
        ],
        [
         "9",
         "239030",
         "Papers, Please",
         "586",
         "586",
         "0",
         "0.9934870650000001"
        ],
        [
         "10",
         "3590",
         "Plants vs. Zombies: Game of the Year",
         "861",
         "860",
         "1",
         "0.9934505152"
        ],
        [
         "11",
         "227300",
         "Euro Truck Simulator 2",
         "1325",
         "1322",
         "3",
         "0.9933641441000001"
        ],
        [
         "12",
         "284160",
         "BeamNG.drive",
         "573",
         "573",
         "0",
         "0.9933402861"
        ],
        [
         "13",
         "1289310",
         "Helltaker",
         "555",
         "555",
         "0",
         "0.9931257802000001"
        ],
        [
         "14",
         "546560",
         "Half-Life: Alyx",
         "553",
         "553",
         "0",
         "0.9931010901"
        ],
        [
         "15",
         "433340",
         "Slime Rancher",
         "551",
         "551",
         "0",
         "0.9930762221"
        ],
        [
         "16",
         "322330",
         "Don't Starve Together",
         "1048",
         "1046",
         "2",
         "0.9930683815"
        ],
        [
         "17",
         "1350650",
         "FreshWomen - Season 1",
         "547",
         "547",
         "0",
         "0.9930259443"
        ],
        [
         "18",
         "4000",
         "Garry's Mod",
         "1456",
         "1452",
         "4",
         "0.9929572734000001"
        ],
        [
         "19",
         "240",
         "Counter-Strike: Source",
         "525",
         "525",
         "0",
         "0.9927358211"
        ],
        [
         "20",
         "333600",
         "NEKOPARA Vol. 1",
         "756",
         "755",
         "1",
         "0.9925456121"
        ],
        [
         "21",
         "319630",
         "Life is Strange™",
         "494",
         "494",
         "0",
         "0.9922834894"
        ],
        [
         "22",
         "365670",
         "Blender",
         "488",
         "488",
         "0",
         "0.9921893553000001"
        ],
        [
         "23",
         "698780",
         "Doki Doki Literature Club",
         "1089",
         "1086",
         "3",
         "0.9919317897000001"
        ],
        [
         "24",
         "22380",
         "Fallout: New Vegas",
         "698",
         "697",
         "1",
         "0.9919296932"
        ],
        [
         "25",
         "1593500",
         "God of War",
         "460",
         "460",
         "0",
         "0.9917178623"
        ],
        [
         "26",
         "632360",
         "Risk of Rain 2",
         "668",
         "667",
         "1",
         "0.9915693938000001"
        ],
        [
         "27",
         "1113000",
         "Persona 4 Golden",
         "449",
         "449",
         "0",
         "0.9915166804000001"
        ],
        [
         "28",
         "1794680",
         "Vampire Survivors",
         "441",
         "441",
         "0",
         "0.991364117"
        ],
        [
         "29",
         "435150",
         "Divinity: Original Sin 2",
         "821",
         "819",
         "2",
         "0.9911614992000001"
        ],
        [
         "30",
         "379720",
         "DOOM",
         "611",
         "610",
         "1",
         "0.9907879782000001"
        ],
        [
         "31",
         "1118200",
         "People Playground",
         "413",
         "413",
         "0",
         "0.9907840292000001"
        ],
        [
         "32",
         "1086940",
         "Baldur's Gate 3",
         "948",
         "945",
         "3",
         "0.9907372510000001"
        ],
        [
         "33",
         "629520",
         "Soundpad",
         "407",
         "407",
         "0",
         "0.9906494376"
        ],
        [
         "34",
         "753640",
         "Outer Wilds",
         "397",
         "397",
         "0",
         "0.9904161644"
        ],
        [
         "35",
         "367520",
         "Hollow Knight",
         "1058",
         "1054",
         "4",
         "0.9903192304"
        ],
        [
         "36",
         "646570",
         "Slay the Spire",
         "389",
         "389",
         "0",
         "0.9902209949"
        ],
        [
         "37",
         "460950",
         "Katana ZERO",
         "386",
         "386",
         "0",
         "0.9901457412"
        ],
        [
         "38",
         "6060",
         "Star Wars: Battlefront 2 (Classic, 2005)",
         "386",
         "386",
         "0",
         "0.9901457412"
        ],
        [
         "39",
         "105600",
         "Terraria",
         "1959",
         "1948",
         "11",
         "0.9899728528"
        ],
        [
         "40",
         "391540",
         "Undertale",
         "1143",
         "1138",
         "5",
         "0.9898005596"
        ],
        [
         "41",
         "1349230",
         "5D Chess With Multiverse Time Travel",
         "368",
         "368",
         "0",
         "0.9896687192"
        ],
        [
         "42",
         "238320",
         "Outlast",
         "542",
         "541",
         "1",
         "0.9896237511"
        ],
        [
         "43",
         "268910",
         "Cuphead",
         "531",
         "530",
         "1",
         "0.9894103945"
        ],
        [
         "44",
         "1817070",
         "Marvel’s Spider-Man Remastered",
         "356",
         "356",
         "0",
         "0.9893241915000001"
        ],
        [
         "45",
         "1454400",
         "Cookie Clicker",
         "352",
         "352",
         "0",
         "0.9892041852000001"
        ],
        [
         "46",
         "4500",
         "S.T.A.L.K.E.R.: Shadow of Chernobyl",
         "344",
         "344",
         "0",
         "0.9889558926"
        ],
        [
         "47",
         "1281930",
         "tModLoader",
         "343",
         "343",
         "0",
         "0.9889240506"
        ],
        [
         "48",
         "1366540",
         "Dyson Sphere Program",
         "504",
         "503",
         "1",
         "0.9888475247"
        ],
        [
         "49",
         "233860",
         "Kenshi",
         "890",
         "886",
         "4",
         "0.9885011106"
        ]
       ],
       "shape": {
        "columns": 6,
        "rows": 27315
       }
      },
      "text/html": [
       "<div>\n",
       "<style scoped>\n",
       "    .dataframe tbody tr th:only-of-type {\n",
       "        vertical-align: middle;\n",
       "    }\n",
       "\n",
       "    .dataframe tbody tr th {\n",
       "        vertical-align: top;\n",
       "    }\n",
       "\n",
       "    .dataframe thead th {\n",
       "        text-align: right;\n",
       "    }\n",
       "</style>\n",
       "<table border=\"1\" class=\"dataframe\">\n",
       "  <thead>\n",
       "    <tr style=\"text-align: right;\">\n",
       "      <th></th>\n",
       "      <th>appid</th>\n",
       "      <th>game</th>\n",
       "      <th>total_votes</th>\n",
       "      <th>upvotes</th>\n",
       "      <th>downvotes</th>\n",
       "      <th>wilson_score</th>\n",
       "    </tr>\n",
       "  </thead>\n",
       "  <tbody>\n",
       "    <tr>\n",
       "      <th>0</th>\n",
       "      <td>550</td>\n",
       "      <td>Left 4 Dead 2</td>\n",
       "      <td>1309</td>\n",
       "      <td>1309</td>\n",
       "      <td>0</td>\n",
       "      <td>9.970738e-01</td>\n",
       "    </tr>\n",
       "    <tr>\n",
       "      <th>1</th>\n",
       "      <td>644560</td>\n",
       "      <td>Mirror</td>\n",
       "      <td>925</td>\n",
       "      <td>925</td>\n",
       "      <td>0</td>\n",
       "      <td>9.958641e-01</td>\n",
       "    </tr>\n",
       "    <tr>\n",
       "      <th>2</th>\n",
       "      <td>264710</td>\n",
       "      <td>Subnautica</td>\n",
       "      <td>1333</td>\n",
       "      <td>1332</td>\n",
       "      <td>1</td>\n",
       "      <td>9.957627e-01</td>\n",
       "    </tr>\n",
       "    <tr>\n",
       "      <th>3</th>\n",
       "      <td>294100</td>\n",
       "      <td>RimWorld</td>\n",
       "      <td>1294</td>\n",
       "      <td>1293</td>\n",
       "      <td>1</td>\n",
       "      <td>9.956354e-01</td>\n",
       "    </tr>\n",
       "    <tr>\n",
       "      <th>4</th>\n",
       "      <td>413150</td>\n",
       "      <td>Stardew Valley</td>\n",
       "      <td>2240</td>\n",
       "      <td>2236</td>\n",
       "      <td>4</td>\n",
       "      <td>9.954173e-01</td>\n",
       "    </tr>\n",
       "    <tr>\n",
       "      <th>...</th>\n",
       "      <td>...</td>\n",
       "      <td>...</td>\n",
       "      <td>...</td>\n",
       "      <td>...</td>\n",
       "      <td>...</td>\n",
       "      <td>...</td>\n",
       "    </tr>\n",
       "    <tr>\n",
       "      <th>27310</th>\n",
       "      <td>305260</td>\n",
       "      <td>Battle Islands</td>\n",
       "      <td>10</td>\n",
       "      <td>0</td>\n",
       "      <td>10</td>\n",
       "      <td>0.000000e+00</td>\n",
       "    </tr>\n",
       "    <tr>\n",
       "      <th>27311</th>\n",
       "      <td>305390</td>\n",
       "      <td>World War 2: Time of Wrath</td>\n",
       "      <td>1</td>\n",
       "      <td>0</td>\n",
       "      <td>1</td>\n",
       "      <td>0.000000e+00</td>\n",
       "    </tr>\n",
       "    <tr>\n",
       "      <th>27312</th>\n",
       "      <td>305500</td>\n",
       "      <td>Trapped Dead: Lockdown</td>\n",
       "      <td>1</td>\n",
       "      <td>0</td>\n",
       "      <td>1</td>\n",
       "      <td>0.000000e+00</td>\n",
       "    </tr>\n",
       "    <tr>\n",
       "      <th>27313</th>\n",
       "      <td>2627220</td>\n",
       "      <td>The Texas Chain Saw Massacre - Bloody Killers</td>\n",
       "      <td>1</td>\n",
       "      <td>0</td>\n",
       "      <td>1</td>\n",
       "      <td>0.000000e+00</td>\n",
       "    </tr>\n",
       "    <tr>\n",
       "      <th>27314</th>\n",
       "      <td>470070</td>\n",
       "      <td>Deus Ex: Mankind Divided™ DLC - Season Pass</td>\n",
       "      <td>30</td>\n",
       "      <td>0</td>\n",
       "      <td>30</td>\n",
       "      <td>-1.230242e-17</td>\n",
       "    </tr>\n",
       "  </tbody>\n",
       "</table>\n",
       "<p>27315 rows × 6 columns</p>\n",
       "</div>"
      ],
      "text/plain": [
       "         appid                                           game  total_votes  \\\n",
       "0          550                                  Left 4 Dead 2         1309   \n",
       "1       644560                                         Mirror          925   \n",
       "2       264710                                     Subnautica         1333   \n",
       "3       294100                                       RimWorld         1294   \n",
       "4       413150                                 Stardew Valley         2240   \n",
       "...        ...                                            ...          ...   \n",
       "27310   305260                                 Battle Islands           10   \n",
       "27311   305390                     World War 2: Time of Wrath            1   \n",
       "27312   305500                         Trapped Dead: Lockdown            1   \n",
       "27313  2627220  The Texas Chain Saw Massacre - Bloody Killers            1   \n",
       "27314   470070    Deus Ex: Mankind Divided™ DLC - Season Pass           30   \n",
       "\n",
       "       upvotes  downvotes  wilson_score  \n",
       "0         1309          0  9.970738e-01  \n",
       "1          925          0  9.958641e-01  \n",
       "2         1332          1  9.957627e-01  \n",
       "3         1293          1  9.956354e-01  \n",
       "4         2236          4  9.954173e-01  \n",
       "...        ...        ...           ...  \n",
       "27310        0         10  0.000000e+00  \n",
       "27311        0          1  0.000000e+00  \n",
       "27312        0          1  0.000000e+00  \n",
       "27313        0          1  0.000000e+00  \n",
       "27314        0         30 -1.230242e-17  \n",
       "\n",
       "[27315 rows x 6 columns]"
      ]
     },
     "execution_count": 4,
     "metadata": {},
     "output_type": "execute_result"
    }
   ],
   "source": [
    "df_wilson"
   ]
  }
 ],
 "metadata": {
  "kernelspec": {
   "display_name": "base",
   "language": "python",
   "name": "python3"
  },
  "language_info": {
   "codemirror_mode": {
    "name": "ipython",
    "version": 3
   },
   "file_extension": ".py",
   "mimetype": "text/x-python",
   "name": "python",
   "nbconvert_exporter": "python",
   "pygments_lexer": "ipython3",
   "version": "3.12.7"
  }
 },
 "nbformat": 4,
 "nbformat_minor": 5
}
