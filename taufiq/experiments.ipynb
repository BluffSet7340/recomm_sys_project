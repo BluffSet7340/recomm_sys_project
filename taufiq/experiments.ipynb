{
 "cells": [
  {
   "cell_type": "markdown",
   "id": "e4c86c5a",
   "metadata": {},
   "source": [
    "# Imports"
   ]
  },
  {
   "cell_type": "code",
   "execution_count": 92,
   "id": "fc65f52e",
   "metadata": {},
   "outputs": [],
   "source": [
    "import pandas as pd\n",
    "import numpy as np\n",
    "import matplotlib.pyplot as plt\n",
    "import seaborn as sns\n",
    "import os\n",
    "import math\n",
    "from collections import defaultdict\n",
    "from tqdm import tqdm\n",
    "import json\n",
    "import pandas as pd\n",
    "import numpy as np\n",
    "from sklearn.model_selection import train_test_split\n",
    "from collections import defaultdict\n",
    "import random\n",
    "import pandas as pd\n"
   ]
  },
  {
   "cell_type": "markdown",
   "id": "4ceab8e4",
   "metadata": {},
   "source": [
    "# Load Data"
   ]
  },
  {
   "cell_type": "code",
   "execution_count": 216,
   "id": "824c41d3",
   "metadata": {},
   "outputs": [
    {
     "name": "stderr",
     "output_type": "stream",
     "text": [
      "/var/folders/sr/kk6cvpy92zvfzcj5gr5l6c6h0000gn/T/ipykernel_12916/1413335316.py:1: DtypeWarning: Columns (23) have mixed types. Specify dtype option on import or set low_memory=False.\n",
      "  df = pd.read_csv('../dataset/weighted_score_above_08.csv')\n"
     ]
    },
    {
     "data": {
      "text/html": [
       "<div>\n",
       "<style scoped>\n",
       "    .dataframe tbody tr th:only-of-type {\n",
       "        vertical-align: middle;\n",
       "    }\n",
       "\n",
       "    .dataframe tbody tr th {\n",
       "        vertical-align: top;\n",
       "    }\n",
       "\n",
       "    .dataframe thead th {\n",
       "        text-align: right;\n",
       "    }\n",
       "</style>\n",
       "<table border=\"1\" class=\"dataframe\">\n",
       "  <thead>\n",
       "    <tr style=\"text-align: right;\">\n",
       "      <th></th>\n",
       "      <th>recommendationid</th>\n",
       "      <th>appid</th>\n",
       "      <th>game</th>\n",
       "      <th>author_steamid</th>\n",
       "      <th>author_num_games_owned</th>\n",
       "      <th>author_num_reviews</th>\n",
       "      <th>author_playtime_forever</th>\n",
       "      <th>author_playtime_last_two_weeks</th>\n",
       "      <th>author_playtime_at_review</th>\n",
       "      <th>author_last_played</th>\n",
       "      <th>...</th>\n",
       "      <th>voted_up</th>\n",
       "      <th>votes_up</th>\n",
       "      <th>votes_funny</th>\n",
       "      <th>weighted_vote_score</th>\n",
       "      <th>comment_count</th>\n",
       "      <th>steam_purchase</th>\n",
       "      <th>received_for_free</th>\n",
       "      <th>written_during_early_access</th>\n",
       "      <th>hidden_in_steam_china</th>\n",
       "      <th>steam_china_location</th>\n",
       "    </tr>\n",
       "  </thead>\n",
       "  <tbody>\n",
       "    <tr>\n",
       "      <th>0</th>\n",
       "      <td>147449116</td>\n",
       "      <td>10</td>\n",
       "      <td>Counter-Strike</td>\n",
       "      <td>76561199183984450</td>\n",
       "      <td>51</td>\n",
       "      <td>12</td>\n",
       "      <td>2548</td>\n",
       "      <td>0</td>\n",
       "      <td>2480</td>\n",
       "      <td>1696305457</td>\n",
       "      <td>...</td>\n",
       "      <td>1</td>\n",
       "      <td>99</td>\n",
       "      <td>2</td>\n",
       "      <td>0.889438</td>\n",
       "      <td>0</td>\n",
       "      <td>1</td>\n",
       "      <td>0</td>\n",
       "      <td>0</td>\n",
       "      <td>1</td>\n",
       "      <td>NaN</td>\n",
       "    </tr>\n",
       "    <tr>\n",
       "      <th>1</th>\n",
       "      <td>147374264</td>\n",
       "      <td>10</td>\n",
       "      <td>Counter-Strike</td>\n",
       "      <td>76561198099573060</td>\n",
       "      <td>226</td>\n",
       "      <td>13</td>\n",
       "      <td>2369</td>\n",
       "      <td>0</td>\n",
       "      <td>2361</td>\n",
       "      <td>1696096555</td>\n",
       "      <td>...</td>\n",
       "      <td>1</td>\n",
       "      <td>122</td>\n",
       "      <td>8</td>\n",
       "      <td>0.914834</td>\n",
       "      <td>0</td>\n",
       "      <td>1</td>\n",
       "      <td>0</td>\n",
       "      <td>0</td>\n",
       "      <td>1</td>\n",
       "      <td>NaN</td>\n",
       "    </tr>\n",
       "    <tr>\n",
       "      <th>2</th>\n",
       "      <td>147357703</td>\n",
       "      <td>10</td>\n",
       "      <td>Counter-Strike</td>\n",
       "      <td>76561199080026894</td>\n",
       "      <td>118</td>\n",
       "      <td>23</td>\n",
       "      <td>13501</td>\n",
       "      <td>212</td>\n",
       "      <td>12957</td>\n",
       "      <td>1697630734</td>\n",
       "      <td>...</td>\n",
       "      <td>1</td>\n",
       "      <td>599</td>\n",
       "      <td>20</td>\n",
       "      <td>0.968375</td>\n",
       "      <td>3</td>\n",
       "      <td>1</td>\n",
       "      <td>0</td>\n",
       "      <td>0</td>\n",
       "      <td>1</td>\n",
       "      <td>NaN</td>\n",
       "    </tr>\n",
       "    <tr>\n",
       "      <th>3</th>\n",
       "      <td>147345102</td>\n",
       "      <td>10</td>\n",
       "      <td>Counter-Strike</td>\n",
       "      <td>76561198068970227</td>\n",
       "      <td>28</td>\n",
       "      <td>1</td>\n",
       "      <td>10668</td>\n",
       "      <td>640</td>\n",
       "      <td>9906</td>\n",
       "      <td>1698261011</td>\n",
       "      <td>...</td>\n",
       "      <td>1</td>\n",
       "      <td>59</td>\n",
       "      <td>12</td>\n",
       "      <td>0.826206</td>\n",
       "      <td>0</td>\n",
       "      <td>0</td>\n",
       "      <td>0</td>\n",
       "      <td>0</td>\n",
       "      <td>1</td>\n",
       "      <td>NaN</td>\n",
       "    </tr>\n",
       "    <tr>\n",
       "      <th>4</th>\n",
       "      <td>147284743</td>\n",
       "      <td>10</td>\n",
       "      <td>Counter-Strike</td>\n",
       "      <td>76561199137893460</td>\n",
       "      <td>19</td>\n",
       "      <td>5</td>\n",
       "      <td>543</td>\n",
       "      <td>10</td>\n",
       "      <td>526</td>\n",
       "      <td>1697810991</td>\n",
       "      <td>...</td>\n",
       "      <td>1</td>\n",
       "      <td>128</td>\n",
       "      <td>24</td>\n",
       "      <td>0.853612</td>\n",
       "      <td>0</td>\n",
       "      <td>1</td>\n",
       "      <td>0</td>\n",
       "      <td>0</td>\n",
       "      <td>1</td>\n",
       "      <td>NaN</td>\n",
       "    </tr>\n",
       "  </tbody>\n",
       "</table>\n",
       "<p>5 rows × 24 columns</p>\n",
       "</div>"
      ],
      "text/plain": [
       "   recommendationid  appid            game     author_steamid  \\\n",
       "0         147449116     10  Counter-Strike  76561199183984450   \n",
       "1         147374264     10  Counter-Strike  76561198099573060   \n",
       "2         147357703     10  Counter-Strike  76561199080026894   \n",
       "3         147345102     10  Counter-Strike  76561198068970227   \n",
       "4         147284743     10  Counter-Strike  76561199137893460   \n",
       "\n",
       "   author_num_games_owned  author_num_reviews  author_playtime_forever  \\\n",
       "0                      51                  12                     2548   \n",
       "1                     226                  13                     2369   \n",
       "2                     118                  23                    13501   \n",
       "3                      28                   1                    10668   \n",
       "4                      19                   5                      543   \n",
       "\n",
       "   author_playtime_last_two_weeks  author_playtime_at_review  \\\n",
       "0                               0                       2480   \n",
       "1                               0                       2361   \n",
       "2                             212                      12957   \n",
       "3                             640                       9906   \n",
       "4                              10                        526   \n",
       "\n",
       "   author_last_played  ... voted_up votes_up  votes_funny  \\\n",
       "0          1696305457  ...        1       99            2   \n",
       "1          1696096555  ...        1      122            8   \n",
       "2          1697630734  ...        1      599           20   \n",
       "3          1698261011  ...        1       59           12   \n",
       "4          1697810991  ...        1      128           24   \n",
       "\n",
       "   weighted_vote_score  comment_count  steam_purchase  received_for_free  \\\n",
       "0             0.889438              0               1                  0   \n",
       "1             0.914834              0               1                  0   \n",
       "2             0.968375              3               1                  0   \n",
       "3             0.826206              0               0                  0   \n",
       "4             0.853612              0               1                  0   \n",
       "\n",
       "   written_during_early_access  hidden_in_steam_china  steam_china_location  \n",
       "0                            0                      1                   NaN  \n",
       "1                            0                      1                   NaN  \n",
       "2                            0                      1                   NaN  \n",
       "3                            0                      1                   NaN  \n",
       "4                            0                      1                   NaN  \n",
       "\n",
       "[5 rows x 24 columns]"
      ]
     },
     "execution_count": 216,
     "metadata": {},
     "output_type": "execute_result"
    }
   ],
   "source": [
    "df = pd.read_csv('../dataset/weighted_score_above_08.csv')\n",
    "\n",
    "df.head()"
   ]
  },
  {
   "cell_type": "code",
   "execution_count": 197,
   "id": "6be50e44",
   "metadata": {},
   "outputs": [],
   "source": [
    "with open('combined_df.json', 'r') as f:\n",
    "    sample_data = [json.loads(line) for line in f]"
   ]
  },
  {
   "cell_type": "code",
   "execution_count": 217,
   "id": "7b1897df",
   "metadata": {},
   "outputs": [],
   "source": [
    "# Extract valid appids from the sample file\n",
    "# valid_appids = {entry['appid'] for entry in sample_data}\n",
    "\n",
    "# Keep original dataframe to preserve all game name mappings\n",
    "df_all = df.copy()\n",
    "\n",
    "# Filter df based on appids in the sample (for training)\n",
    "# df = df[df['appid'].isin(valid_appids)]\n",
    "\n",
    "# Build appid-to-game mapping from the full data to avoid KeyErrors later\n",
    "df_games = df_all[['appid', 'game']].dropna().drop_duplicates(subset='appid')\n",
    "appid2game = df_games.set_index('appid')['game'].to_dict()\n",
    "game2appid = df_games.set_index('game')['appid'].to_dict()\n",
    "# del df_games\n",
    "\n",
    "\n",
    "\n",
    "# Keep only the relevant columns for ALS input\n",
    "# df = df[['appid', 'author_steamid', 'voted_up']]\n"
   ]
  },
  {
   "cell_type": "code",
   "execution_count": 179,
   "id": "cdcf44de",
   "metadata": {},
   "outputs": [],
   "source": [
    "appid2genres = {entry['appid']: entry['genre'] for entry in sample_data}"
   ]
  },
  {
   "cell_type": "code",
   "execution_count": 218,
   "id": "f4d39735",
   "metadata": {},
   "outputs": [
    {
     "data": {
      "text/plain": [
       "Index(['recommendationid', 'appid', 'game', 'author_steamid',\n",
       "       'author_num_games_owned', 'author_num_reviews',\n",
       "       'author_playtime_forever', 'author_playtime_last_two_weeks',\n",
       "       'author_playtime_at_review', 'author_last_played', 'language', 'review',\n",
       "       'timestamp_created', 'timestamp_updated', 'voted_up', 'votes_up',\n",
       "       'votes_funny', 'weighted_vote_score', 'comment_count', 'steam_purchase',\n",
       "       'received_for_free', 'written_during_early_access',\n",
       "       'hidden_in_steam_china', 'steam_china_location'],\n",
       "      dtype='object')"
      ]
     },
     "execution_count": 218,
     "metadata": {},
     "output_type": "execute_result"
    }
   ],
   "source": [
    "appid2game # dictionary from appid to game name\n",
    "# appid2genres # dictionary from appid to list of string genres\n",
    "df.columns\n",
    "# Index(['appid', 'author_steamid', 'voted_up'], dtype='object')"
   ]
  },
  {
   "cell_type": "markdown",
   "id": "7a44a095",
   "metadata": {},
   "source": [
    "# Validation Methodology"
   ]
  },
  {
   "cell_type": "code",
   "execution_count": 188,
   "id": "5a0ce455",
   "metadata": {},
   "outputs": [],
   "source": [
    "# df_pos = df[df['voted_up'] == 1]\n",
    "all_appids = set(df['appid'].unique())\n",
    "\n",
    "df_pos = df[df['voted_up'] == 1].copy()\n",
    "\n",
    "# 1) Build *global* mappings on the entire positive set\n",
    "all_users = df_pos['author_steamid'].unique()\n",
    "all_items = df_pos['appid'].unique()\n",
    "\n",
    "user_ids     = {u: idx for idx, u in enumerate(all_users)}\n",
    "item_ids     = {i: idx for idx, i in enumerate(all_items)}\n",
    "user_ids_inv = {idx: u for u, idx in user_ids.items()}\n",
    "item_ids_inv = {idx: i for i, idx in item_ids.items()}\n",
    "\n",
    "# Create train/test split by user\n",
    "def train_test_split_per_user(df, test_size=0.2, seed=42):\n",
    "    np.random.seed(seed)\n",
    "    train_rows, test_rows = [], []\n",
    "\n",
    "    for user, user_df in tqdm(df.groupby('author_steamid'), desc=\"Splitting train/test by user\"):\n",
    "        if len(user_df) < 2:\n",
    "            train_rows.append(user_df)\n",
    "        else:\n",
    "            user_train, user_test = train_test_split(user_df, test_size=test_size)\n",
    "            train_rows.append(user_train)\n",
    "            test_rows.append(user_test)\n",
    "\n",
    "    train_df = pd.concat(train_rows)\n",
    "    test_df = pd.concat(test_rows)\n",
    "    return train_df, test_df\n",
    "\n",
    "def sample_negatives(test_df, train_df, num_negatives=50):\n",
    "    user_pos_train = train_df.groupby('author_steamid')['appid'].apply(set).to_dict()\n",
    "    user_pos_test = test_df.groupby('author_steamid')['appid'].apply(set).to_dict()\n",
    "    \n",
    "    test_data = []\n",
    "\n",
    "    for user in tqdm(user_pos_test, desc=\"Sampling negatives\"):\n",
    "        pos_items = user_pos_test[user]\n",
    "        neg_items = list(all_appids - user_pos_train.get(user, set()) - pos_items)\n",
    "        sampled_negatives = random.sample(neg_items, min(num_negatives, len(neg_items)))\n",
    "        \n",
    "        for pos_item in pos_items:\n",
    "            test_data.append((user, pos_item, 1))\n",
    "        for neg_item in sampled_negatives:\n",
    "            test_data.append((user, neg_item, 0))\n",
    "    \n",
    "    return pd.DataFrame(test_data, columns=['author_steamid', 'appid', 'label'])"
   ]
  },
  {
   "cell_type": "code",
   "execution_count": 219,
   "id": "b3c86bb2",
   "metadata": {},
   "outputs": [],
   "source": [
    "df_pos = df[df['voted_up'] == 1].copy()\n",
    "\n",
    "# 1) Build *global* mappings on the entire positive set\n",
    "all_users = df_pos['author_steamid'].unique()\n",
    "all_items = df_pos['appid'].unique()\n",
    "\n",
    "user_ids     = {u: idx for idx, u in enumerate(all_users)}\n",
    "item_ids     = {i: idx for idx, i in enumerate(all_items)}\n",
    "user_ids_inv = {idx: u for u, idx in user_ids.items()}\n",
    "item_ids_inv = {idx: i for i, idx in item_ids.items()}"
   ]
  },
  {
   "cell_type": "code",
   "execution_count": 190,
   "id": "57d83082",
   "metadata": {},
   "outputs": [],
   "source": [
    "user_to_true_cache = {}"
   ]
  },
  {
   "cell_type": "code",
   "execution_count": 191,
   "id": "dbb5ed65",
   "metadata": {},
   "outputs": [],
   "source": [
    "def dcg_at_k(relevance, k):\n",
    "    relevance = np.array(relevance)[:k]\n",
    "    if relevance.size == 0:\n",
    "        return 0.0\n",
    "    return np.sum(relevance / np.log2(np.arange(2, relevance.size + 2)))\n",
    "\n",
    "def ndcg_at_k(preds, true_items, k):\n",
    "    relevance = [1 if item in true_items else 0 for item in preds[:k]]\n",
    "    ideal_relevance = sorted(relevance, reverse=True)\n",
    "    dcg = dcg_at_k(relevance, k)\n",
    "    idcg = dcg_at_k(ideal_relevance, k)\n",
    "    return dcg / idcg if idcg > 0 else 0.0\n",
    "\n",
    "def average_precision_at_k(preds, true_items, k):\n",
    "    hits, score = 0, 0.0\n",
    "    for i, item in enumerate(preds[:k]):\n",
    "        if item in true_items:\n",
    "            hits += 1\n",
    "            score += hits / (i + 1)\n",
    "    if not true_items:\n",
    "        return 0.0\n",
    "    return score / min(len(true_items), k)\n",
    "\n",
    "def evaluate(test_data, recommender_fn, k=10, use_cache=False):\n",
    "    global user_to_true_cache\n",
    "    user_to_preds = defaultdict(list)\n",
    "\n",
    "    if use_cache and 'user_to_true_cache' in globals():\n",
    "        user_to_true = user_to_true_cache\n",
    "    else:\n",
    "        user_to_true = defaultdict(set)\n",
    "        for _, row in tqdm(test_data.iterrows(), total=len(test_data), desc=\"Processing test data\"):\n",
    "            user, appid, label = row['author_steamid'], row['appid'], row['label']\n",
    "            if label == 1:\n",
    "                user_to_true[user].add(appid)\n",
    "        if use_cache:\n",
    "            user_to_true_cache = user_to_true\n",
    "\n",
    "    n = 0\n",
    "    for user in tqdm(user_to_true, desc=\"Generating predictions\"):\n",
    "        n += 1\n",
    "        preds = recommender_fn(user)[:k]\n",
    "        user_to_preds[user] = preds\n",
    "\n",
    "    # print(f\"Success rate: {successes / n:.2%}\")\n",
    "    # input()\n",
    "    precisions, recalls, ndcgs, mapks = [], [], [], []\n",
    "\n",
    "    for user in tqdm(user_to_true, desc=\"Calculating metrics\"):\n",
    "        true_items = user_to_true[user]\n",
    "        pred_items = user_to_preds[user]\n",
    "\n",
    "        num_hit = len(set(pred_items) & true_items)\n",
    "        precision = num_hit / k\n",
    "        recall = num_hit / len(true_items) if len(true_items) > 0 else 0\n",
    "        ndcg = ndcg_at_k(pred_items, true_items, k)\n",
    "        mapk = average_precision_at_k(pred_items, true_items, k)\n",
    "\n",
    "        precisions.append(precision)\n",
    "        recalls.append(recall)\n",
    "        ndcgs.append(ndcg)\n",
    "        mapks.append(mapk)\n",
    "\n",
    "    results = {\n",
    "        'Precision@K': np.mean(precisions),\n",
    "        'Recall@K': np.mean(recalls),\n",
    "        'NDCG@K': np.mean(ndcgs),\n",
    "        'MAP@K': np.mean(mapks)\n",
    "    }\n",
    "    return results"
   ]
  },
  {
   "cell_type": "markdown",
   "id": "4ab1c474",
   "metadata": {},
   "source": [
    "# Model Experiments"
   ]
  },
  {
   "cell_type": "markdown",
   "id": "337ebe77",
   "metadata": {},
   "source": [
    "## Popularity-Based"
   ]
  },
  {
   "cell_type": "code",
   "execution_count": 49,
   "id": "28fe0c1d",
   "metadata": {},
   "outputs": [
    {
     "name": "stderr",
     "output_type": "stream",
     "text": [
      "Splitting train/test by user: 100%|██████████| 320412/320412 [00:10<00:00, 29292.56it/s]\n"
     ]
    }
   ],
   "source": [
    "train_df, test_df = train_test_split_per_user(df_pos)\n",
    "# test_data = sample_negatives(test_df, train_df)"
   ]
  },
  {
   "cell_type": "code",
   "execution_count": 51,
   "id": "bdfb7f74",
   "metadata": {},
   "outputs": [],
   "source": [
    "# Count how many users liked each item in the training data\n",
    "item_popularity = train_df['appid'].value_counts()\n",
    "\n",
    "# Recommend the top-N popular items for all users\n",
    "top_k = 10\n",
    "top_items = item_popularity.head(top_k).index.tolist()\n",
    "\n",
    "# For each user, generate recommendations\n",
    "def recommend_popular(user_id):\n",
    "    return top_items\n"
   ]
  },
  {
   "cell_type": "code",
   "execution_count": 57,
   "id": "842638d4",
   "metadata": {},
   "outputs": [],
   "source": [
    "train_df['label'] = train_df['voted_up'].astype(int)"
   ]
  },
  {
   "cell_type": "code",
   "execution_count": null,
   "id": "82797d54",
   "metadata": {},
   "outputs": [
    {
     "name": "stderr",
     "output_type": "stream",
     "text": [
      "Processing test data: 100%|██████████| 48343/48343 [00:00<00:00, 73046.55it/s]\n",
      "Generating predictions: 100%|██████████| 39976/39976 [00:00<00:00, 3511297.89it/s]\n",
      "Calculating metrics: 100%|██████████| 39976/39976 [00:00<00:00, 112625.84it/s]"
     ]
    },
    {
     "name": "stdout",
     "output_type": "stream",
     "text": [
      "Precision@K: 0.43%\n",
      "Recall@K: 3.84%\n",
      "NDCG@K: 1.99%\n",
      "MAP@K: 1.17%\n"
     ]
    },
    {
     "name": "stderr",
     "output_type": "stream",
     "text": [
      "\n"
     ]
    }
   ],
   "source": [
    "results = evaluate(test_df, recommend_popular, k=10)\n",
    "\n",
    "for metric, value in results.items():\n",
    "    print(f\"{metric}: {value * 100:.2f}%\")"
   ]
  },
  {
   "cell_type": "markdown",
   "id": "4e36219d",
   "metadata": {},
   "source": [
    "## Collaborative Filtering - Implicit ALS"
   ]
  },
  {
   "cell_type": "code",
   "execution_count": 192,
   "id": "3e3a5846",
   "metadata": {},
   "outputs": [],
   "source": [
    "from scipy.sparse import coo_matrix\n",
    "import implicit"
   ]
  },
  {
   "cell_type": "code",
   "execution_count": 220,
   "id": "e82fbddb",
   "metadata": {},
   "outputs": [
    {
     "data": {
      "text/html": [
       "<div>\n",
       "<style scoped>\n",
       "    .dataframe tbody tr th:only-of-type {\n",
       "        vertical-align: middle;\n",
       "    }\n",
       "\n",
       "    .dataframe tbody tr th {\n",
       "        vertical-align: top;\n",
       "    }\n",
       "\n",
       "    .dataframe thead th {\n",
       "        text-align: right;\n",
       "    }\n",
       "</style>\n",
       "<table border=\"1\" class=\"dataframe\">\n",
       "  <thead>\n",
       "    <tr style=\"text-align: right;\">\n",
       "      <th></th>\n",
       "      <th>recommendationid</th>\n",
       "      <th>appid</th>\n",
       "      <th>game</th>\n",
       "      <th>author_steamid</th>\n",
       "      <th>author_num_games_owned</th>\n",
       "      <th>author_num_reviews</th>\n",
       "      <th>author_playtime_forever</th>\n",
       "      <th>author_playtime_last_two_weeks</th>\n",
       "      <th>author_playtime_at_review</th>\n",
       "      <th>author_last_played</th>\n",
       "      <th>...</th>\n",
       "      <th>voted_up</th>\n",
       "      <th>votes_up</th>\n",
       "      <th>votes_funny</th>\n",
       "      <th>weighted_vote_score</th>\n",
       "      <th>comment_count</th>\n",
       "      <th>steam_purchase</th>\n",
       "      <th>received_for_free</th>\n",
       "      <th>written_during_early_access</th>\n",
       "      <th>hidden_in_steam_china</th>\n",
       "      <th>steam_china_location</th>\n",
       "    </tr>\n",
       "  </thead>\n",
       "  <tbody>\n",
       "    <tr>\n",
       "      <th>0</th>\n",
       "      <td>147449116</td>\n",
       "      <td>10</td>\n",
       "      <td>Counter-Strike</td>\n",
       "      <td>76561199183984450</td>\n",
       "      <td>51</td>\n",
       "      <td>12</td>\n",
       "      <td>2548</td>\n",
       "      <td>0</td>\n",
       "      <td>2480</td>\n",
       "      <td>1696305457</td>\n",
       "      <td>...</td>\n",
       "      <td>1</td>\n",
       "      <td>99</td>\n",
       "      <td>2</td>\n",
       "      <td>0.889438</td>\n",
       "      <td>0</td>\n",
       "      <td>1</td>\n",
       "      <td>0</td>\n",
       "      <td>0</td>\n",
       "      <td>1</td>\n",
       "      <td>NaN</td>\n",
       "    </tr>\n",
       "    <tr>\n",
       "      <th>1</th>\n",
       "      <td>147374264</td>\n",
       "      <td>10</td>\n",
       "      <td>Counter-Strike</td>\n",
       "      <td>76561198099573060</td>\n",
       "      <td>226</td>\n",
       "      <td>13</td>\n",
       "      <td>2369</td>\n",
       "      <td>0</td>\n",
       "      <td>2361</td>\n",
       "      <td>1696096555</td>\n",
       "      <td>...</td>\n",
       "      <td>1</td>\n",
       "      <td>122</td>\n",
       "      <td>8</td>\n",
       "      <td>0.914834</td>\n",
       "      <td>0</td>\n",
       "      <td>1</td>\n",
       "      <td>0</td>\n",
       "      <td>0</td>\n",
       "      <td>1</td>\n",
       "      <td>NaN</td>\n",
       "    </tr>\n",
       "    <tr>\n",
       "      <th>2</th>\n",
       "      <td>147357703</td>\n",
       "      <td>10</td>\n",
       "      <td>Counter-Strike</td>\n",
       "      <td>76561199080026894</td>\n",
       "      <td>118</td>\n",
       "      <td>23</td>\n",
       "      <td>13501</td>\n",
       "      <td>212</td>\n",
       "      <td>12957</td>\n",
       "      <td>1697630734</td>\n",
       "      <td>...</td>\n",
       "      <td>1</td>\n",
       "      <td>599</td>\n",
       "      <td>20</td>\n",
       "      <td>0.968375</td>\n",
       "      <td>3</td>\n",
       "      <td>1</td>\n",
       "      <td>0</td>\n",
       "      <td>0</td>\n",
       "      <td>1</td>\n",
       "      <td>NaN</td>\n",
       "    </tr>\n",
       "    <tr>\n",
       "      <th>3</th>\n",
       "      <td>147345102</td>\n",
       "      <td>10</td>\n",
       "      <td>Counter-Strike</td>\n",
       "      <td>76561198068970227</td>\n",
       "      <td>28</td>\n",
       "      <td>1</td>\n",
       "      <td>10668</td>\n",
       "      <td>640</td>\n",
       "      <td>9906</td>\n",
       "      <td>1698261011</td>\n",
       "      <td>...</td>\n",
       "      <td>1</td>\n",
       "      <td>59</td>\n",
       "      <td>12</td>\n",
       "      <td>0.826206</td>\n",
       "      <td>0</td>\n",
       "      <td>0</td>\n",
       "      <td>0</td>\n",
       "      <td>0</td>\n",
       "      <td>1</td>\n",
       "      <td>NaN</td>\n",
       "    </tr>\n",
       "    <tr>\n",
       "      <th>4</th>\n",
       "      <td>147284743</td>\n",
       "      <td>10</td>\n",
       "      <td>Counter-Strike</td>\n",
       "      <td>76561199137893460</td>\n",
       "      <td>19</td>\n",
       "      <td>5</td>\n",
       "      <td>543</td>\n",
       "      <td>10</td>\n",
       "      <td>526</td>\n",
       "      <td>1697810991</td>\n",
       "      <td>...</td>\n",
       "      <td>1</td>\n",
       "      <td>128</td>\n",
       "      <td>24</td>\n",
       "      <td>0.853612</td>\n",
       "      <td>0</td>\n",
       "      <td>1</td>\n",
       "      <td>0</td>\n",
       "      <td>0</td>\n",
       "      <td>1</td>\n",
       "      <td>NaN</td>\n",
       "    </tr>\n",
       "    <tr>\n",
       "      <th>...</th>\n",
       "      <td>...</td>\n",
       "      <td>...</td>\n",
       "      <td>...</td>\n",
       "      <td>...</td>\n",
       "      <td>...</td>\n",
       "      <td>...</td>\n",
       "      <td>...</td>\n",
       "      <td>...</td>\n",
       "      <td>...</td>\n",
       "      <td>...</td>\n",
       "      <td>...</td>\n",
       "      <td>...</td>\n",
       "      <td>...</td>\n",
       "      <td>...</td>\n",
       "      <td>...</td>\n",
       "      <td>...</td>\n",
       "      <td>...</td>\n",
       "      <td>...</td>\n",
       "      <td>...</td>\n",
       "      <td>...</td>\n",
       "      <td>...</td>\n",
       "    </tr>\n",
       "    <tr>\n",
       "      <th>498089</th>\n",
       "      <td>93910882</td>\n",
       "      <td>997010</td>\n",
       "      <td>Police Simulator: Patrol Officers</td>\n",
       "      <td>76561198055740634</td>\n",
       "      <td>0</td>\n",
       "      <td>15</td>\n",
       "      <td>22402</td>\n",
       "      <td>420</td>\n",
       "      <td>103</td>\n",
       "      <td>1698784566</td>\n",
       "      <td>...</td>\n",
       "      <td>1</td>\n",
       "      <td>168</td>\n",
       "      <td>13</td>\n",
       "      <td>0.857843</td>\n",
       "      <td>8</td>\n",
       "      <td>1</td>\n",
       "      <td>0</td>\n",
       "      <td>1</td>\n",
       "      <td>0</td>\n",
       "      <td>NaN</td>\n",
       "    </tr>\n",
       "    <tr>\n",
       "      <th>498090</th>\n",
       "      <td>93909129</td>\n",
       "      <td>997010</td>\n",
       "      <td>Police Simulator: Patrol Officers</td>\n",
       "      <td>76561198107142741</td>\n",
       "      <td>0</td>\n",
       "      <td>69</td>\n",
       "      <td>18</td>\n",
       "      <td>0</td>\n",
       "      <td>18</td>\n",
       "      <td>1623946025</td>\n",
       "      <td>...</td>\n",
       "      <td>1</td>\n",
       "      <td>1417</td>\n",
       "      <td>1226</td>\n",
       "      <td>0.938828</td>\n",
       "      <td>30</td>\n",
       "      <td>1</td>\n",
       "      <td>0</td>\n",
       "      <td>1</td>\n",
       "      <td>0</td>\n",
       "      <td>NaN</td>\n",
       "    </tr>\n",
       "    <tr>\n",
       "      <th>498091</th>\n",
       "      <td>51109633</td>\n",
       "      <td>997060</td>\n",
       "      <td>Kotodama: The 7 Mysteries of Fujisawa</td>\n",
       "      <td>76561198091884692</td>\n",
       "      <td>1588</td>\n",
       "      <td>32</td>\n",
       "      <td>835</td>\n",
       "      <td>0</td>\n",
       "      <td>835</td>\n",
       "      <td>1559864576</td>\n",
       "      <td>...</td>\n",
       "      <td>1</td>\n",
       "      <td>66</td>\n",
       "      <td>14</td>\n",
       "      <td>0.847317</td>\n",
       "      <td>0</td>\n",
       "      <td>0</td>\n",
       "      <td>1</td>\n",
       "      <td>0</td>\n",
       "      <td>0</td>\n",
       "      <td>NaN</td>\n",
       "    </tr>\n",
       "    <tr>\n",
       "      <th>498092</th>\n",
       "      <td>48814832</td>\n",
       "      <td>997180</td>\n",
       "      <td>be you</td>\n",
       "      <td>76561198136664035</td>\n",
       "      <td>95</td>\n",
       "      <td>8</td>\n",
       "      <td>7</td>\n",
       "      <td>0</td>\n",
       "      <td>7</td>\n",
       "      <td>1549516192</td>\n",
       "      <td>...</td>\n",
       "      <td>1</td>\n",
       "      <td>57</td>\n",
       "      <td>7</td>\n",
       "      <td>0.838971</td>\n",
       "      <td>2</td>\n",
       "      <td>0</td>\n",
       "      <td>0</td>\n",
       "      <td>0</td>\n",
       "      <td>0</td>\n",
       "      <td>NaN</td>\n",
       "    </tr>\n",
       "    <tr>\n",
       "      <th>498093</th>\n",
       "      <td>50250013</td>\n",
       "      <td>997240</td>\n",
       "      <td>Siluman Fantasy</td>\n",
       "      <td>76561198010914579</td>\n",
       "      <td>3130</td>\n",
       "      <td>270</td>\n",
       "      <td>30</td>\n",
       "      <td>0</td>\n",
       "      <td>30</td>\n",
       "      <td>1555848615</td>\n",
       "      <td>...</td>\n",
       "      <td>0</td>\n",
       "      <td>77</td>\n",
       "      <td>1</td>\n",
       "      <td>0.810085</td>\n",
       "      <td>0</td>\n",
       "      <td>0</td>\n",
       "      <td>1</td>\n",
       "      <td>0</td>\n",
       "      <td>0</td>\n",
       "      <td>NaN</td>\n",
       "    </tr>\n",
       "  </tbody>\n",
       "</table>\n",
       "<p>498094 rows × 24 columns</p>\n",
       "</div>"
      ],
      "text/plain": [
       "        recommendationid   appid                                   game  \\\n",
       "0              147449116      10                         Counter-Strike   \n",
       "1              147374264      10                         Counter-Strike   \n",
       "2              147357703      10                         Counter-Strike   \n",
       "3              147345102      10                         Counter-Strike   \n",
       "4              147284743      10                         Counter-Strike   \n",
       "...                  ...     ...                                    ...   \n",
       "498089          93910882  997010      Police Simulator: Patrol Officers   \n",
       "498090          93909129  997010      Police Simulator: Patrol Officers   \n",
       "498091          51109633  997060  Kotodama: The 7 Mysteries of Fujisawa   \n",
       "498092          48814832  997180                                 be you   \n",
       "498093          50250013  997240                        Siluman Fantasy   \n",
       "\n",
       "           author_steamid  author_num_games_owned  author_num_reviews  \\\n",
       "0       76561199183984450                      51                  12   \n",
       "1       76561198099573060                     226                  13   \n",
       "2       76561199080026894                     118                  23   \n",
       "3       76561198068970227                      28                   1   \n",
       "4       76561199137893460                      19                   5   \n",
       "...                   ...                     ...                 ...   \n",
       "498089  76561198055740634                       0                  15   \n",
       "498090  76561198107142741                       0                  69   \n",
       "498091  76561198091884692                    1588                  32   \n",
       "498092  76561198136664035                      95                   8   \n",
       "498093  76561198010914579                    3130                 270   \n",
       "\n",
       "        author_playtime_forever  author_playtime_last_two_weeks  \\\n",
       "0                          2548                               0   \n",
       "1                          2369                               0   \n",
       "2                         13501                             212   \n",
       "3                         10668                             640   \n",
       "4                           543                              10   \n",
       "...                         ...                             ...   \n",
       "498089                    22402                             420   \n",
       "498090                       18                               0   \n",
       "498091                      835                               0   \n",
       "498092                        7                               0   \n",
       "498093                       30                               0   \n",
       "\n",
       "        author_playtime_at_review  author_last_played  ... voted_up votes_up  \\\n",
       "0                            2480          1696305457  ...        1       99   \n",
       "1                            2361          1696096555  ...        1      122   \n",
       "2                           12957          1697630734  ...        1      599   \n",
       "3                            9906          1698261011  ...        1       59   \n",
       "4                             526          1697810991  ...        1      128   \n",
       "...                           ...                 ...  ...      ...      ...   \n",
       "498089                        103          1698784566  ...        1      168   \n",
       "498090                         18          1623946025  ...        1     1417   \n",
       "498091                        835          1559864576  ...        1       66   \n",
       "498092                          7          1549516192  ...        1       57   \n",
       "498093                         30          1555848615  ...        0       77   \n",
       "\n",
       "        votes_funny  weighted_vote_score  comment_count  steam_purchase  \\\n",
       "0                 2             0.889438              0               1   \n",
       "1                 8             0.914834              0               1   \n",
       "2                20             0.968375              3               1   \n",
       "3                12             0.826206              0               0   \n",
       "4                24             0.853612              0               1   \n",
       "...             ...                  ...            ...             ...   \n",
       "498089           13             0.857843              8               1   \n",
       "498090         1226             0.938828             30               1   \n",
       "498091           14             0.847317              0               0   \n",
       "498092            7             0.838971              2               0   \n",
       "498093            1             0.810085              0               0   \n",
       "\n",
       "        received_for_free  written_during_early_access  hidden_in_steam_china  \\\n",
       "0                       0                            0                      1   \n",
       "1                       0                            0                      1   \n",
       "2                       0                            0                      1   \n",
       "3                       0                            0                      1   \n",
       "4                       0                            0                      1   \n",
       "...                   ...                          ...                    ...   \n",
       "498089                  0                            1                      0   \n",
       "498090                  0                            1                      0   \n",
       "498091                  1                            0                      0   \n",
       "498092                  0                            0                      0   \n",
       "498093                  1                            0                      0   \n",
       "\n",
       "        steam_china_location  \n",
       "0                        NaN  \n",
       "1                        NaN  \n",
       "2                        NaN  \n",
       "3                        NaN  \n",
       "4                        NaN  \n",
       "...                      ...  \n",
       "498089                   NaN  \n",
       "498090                   NaN  \n",
       "498091                   NaN  \n",
       "498092                   NaN  \n",
       "498093                   NaN  \n",
       "\n",
       "[498094 rows x 24 columns]"
      ]
     },
     "execution_count": 220,
     "metadata": {},
     "output_type": "execute_result"
    }
   ],
   "source": [
    "df"
   ]
  },
  {
   "cell_type": "code",
   "execution_count": 205,
   "id": "df728f70",
   "metadata": {},
   "outputs": [
    {
     "data": {
      "text/plain": [
       "'Cook, Serve, Delicious! 3?!'"
      ]
     },
     "execution_count": 205,
     "metadata": {},
     "output_type": "execute_result"
    }
   ],
   "source": [
    "appid2game[item_ids_inv[3]]"
   ]
  },
  {
   "cell_type": "code",
   "execution_count": 208,
   "id": "130787cf",
   "metadata": {},
   "outputs": [
    {
     "ename": "SyntaxError",
     "evalue": "invalid syntax (1845518453.py, line 1)",
     "output_type": "error",
     "traceback": [
      "\u001b[0;36m  Cell \u001b[0;32mIn[208], line 1\u001b[0;36m\u001b[0m\n\u001b[0;31m    appid2game[]\u001b[0m\n\u001b[0m               ^\u001b[0m\n\u001b[0;31mSyntaxError\u001b[0m\u001b[0;31m:\u001b[0m invalid syntax\n"
     ]
    }
   ],
   "source": [
    "appid2game[]"
   ]
  },
  {
   "cell_type": "code",
   "execution_count": null,
   "id": "4149ce09",
   "metadata": {},
   "outputs": [
    {
     "ename": "KeyError",
     "evalue": "45360",
     "output_type": "error",
     "traceback": [
      "\u001b[0;31m---------------------------------------------------------------------------\u001b[0m",
      "\u001b[0;31mKeyError\u001b[0m                                  Traceback (most recent call last)",
      "Cell \u001b[0;32mIn[209], line 1\u001b[0m\n\u001b[0;32m----> 1\u001b[0m \u001b[43mitem_ids_inv\u001b[49m\u001b[43m[\u001b[49m\u001b[38;5;241;43m45360\u001b[39;49m\u001b[43m]\u001b[49m\n",
      "\u001b[0;31mKeyError\u001b[0m: 45360"
     ]
    }
   ],
   "source": [
    "item_ids_inv[45360]\n"
   ]
  },
  {
   "cell_type": "code",
   "execution_count": 213,
   "id": "d9783a39",
   "metadata": {},
   "outputs": [
    {
     "ename": "IndexError",
     "evalue": "index 45360 is out of bounds for axis 0 with size 27315",
     "output_type": "error",
     "traceback": [
      "\u001b[0;31m---------------------------------------------------------------------------\u001b[0m",
      "\u001b[0;31mIndexError\u001b[0m                                Traceback (most recent call last)",
      "Cell \u001b[0;32mIn[213], line 1\u001b[0m\n\u001b[0;32m----> 1\u001b[0m \u001b[43mall_items\u001b[49m\u001b[43m[\u001b[49m\u001b[38;5;241;43m45360\u001b[39;49m\u001b[43m]\u001b[49m\n",
      "\u001b[0;31mIndexError\u001b[0m: index 45360 is out of bounds for axis 0 with size 27315"
     ]
    }
   ],
   "source": [
    "all_items[45360]"
   ]
  },
  {
   "cell_type": "code",
   "execution_count": 232,
   "id": "fd2e985a",
   "metadata": {},
   "outputs": [
    {
     "name": "stderr",
     "output_type": "stream",
     "text": [
      "100%|██████████| 20/20 [00:03<00:00,  5.68it/s]\n"
     ]
    },
    {
     "name": "stdout",
     "output_type": "stream",
     "text": [
      "Demons Never Lie\n",
      "idx 0 1.0\n",
      "game_id 10\n",
      "game_name Counter-Strike\n",
      "Counter-Strike 1.0\n",
      "idx 349 0.8808598\n",
      "game_id 1024590\n",
      "game_name Hentai Babes - Sport Lovers\n",
      "Hentai Babes - Sport Lovers 0.8808598\n",
      "idx 227159 0.8635216\n",
      "idx not in item_ids_inv 227159\n",
      "idx 352390 0.80494446\n",
      "idx not in item_ids_inv 352390\n",
      "idx 352393 0.8049444\n",
      "idx not in item_ids_inv 352393\n",
      "idx 352389 0.8049444\n",
      "idx not in item_ids_inv 352389\n",
      "idx 227116 0.80283034\n",
      "idx not in item_ids_inv 227116\n",
      "idx 149364 0.802055\n",
      "idx not in item_ids_inv 149364\n",
      "idx 131883 0.8019941\n",
      "idx not in item_ids_inv 131883\n",
      "idx 88832 0.80196214\n",
      "idx not in item_ids_inv 88832\n",
      "0\n"
     ]
    },
    {
     "ename": "AttributeError",
     "evalue": "'DataFrame' object has no attribute 'game'",
     "output_type": "error",
     "traceback": [
      "\u001b[0;31m---------------------------------------------------------------------------\u001b[0m",
      "\u001b[0;31mAttributeError\u001b[0m                            Traceback (most recent call last)",
      "\u001b[0;32m/var/folders/sr/kk6cvpy92zvfzcj5gr5l6c6h0000gn/T/ipykernel_12916/1301795042.py\u001b[0m in \u001b[0;36m?\u001b[0;34m()\u001b[0m\n\u001b[1;32m     89\u001b[0m     \u001b[0mgame_id\u001b[0m \u001b[0;34m=\u001b[0m \u001b[0mitem_ids_inv\u001b[0m\u001b[0;34m.\u001b[0m\u001b[0mget\u001b[0m\u001b[0;34m(\u001b[0m\u001b[0midx\u001b[0m\u001b[0;34m,\u001b[0m \u001b[0;34m\"Unknown Game\"\u001b[0m\u001b[0;34m)\u001b[0m\u001b[0;34m\u001b[0m\u001b[0;34m\u001b[0m\u001b[0m\n\u001b[1;32m     90\u001b[0m     \u001b[0mgame_name\u001b[0m \u001b[0;34m=\u001b[0m \u001b[0mappid2game\u001b[0m\u001b[0;34m.\u001b[0m\u001b[0mget\u001b[0m\u001b[0;34m(\u001b[0m\u001b[0mgame_id\u001b[0m\u001b[0;34m,\u001b[0m \u001b[0;34m\"Unknown Game\"\u001b[0m\u001b[0;34m)\u001b[0m\u001b[0;34m\u001b[0m\u001b[0;34m\u001b[0m\u001b[0m\n\u001b[1;32m     91\u001b[0m     \u001b[0mgames\u001b[0m\u001b[0;34m.\u001b[0m\u001b[0mappend\u001b[0m\u001b[0;34m(\u001b[0m\u001b[0mgame_name\u001b[0m\u001b[0;34m)\u001b[0m\u001b[0;34m\u001b[0m\u001b[0;34m\u001b[0m\u001b[0m\n\u001b[1;32m     92\u001b[0m     \u001b[0mgames\u001b[0m\u001b[0;34m.\u001b[0m\u001b[0mappend\u001b[0m\u001b[0;34m(\u001b[0m\u001b[0mall_items\u001b[0m\u001b[0;34m[\u001b[0m\u001b[0mdata\u001b[0m\u001b[0;34m.\u001b[0m\u001b[0miloc\u001b[0m\u001b[0;34m[\u001b[0m\u001b[0midx\u001b[0m\u001b[0;34m]\u001b[0m\u001b[0;34m[\u001b[0m\u001b[0;34m'item_id'\u001b[0m\u001b[0;34m]\u001b[0m\u001b[0;34m]\u001b[0m\u001b[0;34m)\u001b[0m\u001b[0;34m\u001b[0m\u001b[0;34m\u001b[0m\u001b[0m\n\u001b[0;32m---> 93\u001b[0;31m     \u001b[0mgames\u001b[0m\u001b[0;34m.\u001b[0m\u001b[0mappend\u001b[0m\u001b[0;34m(\u001b[0m\u001b[0mdata\u001b[0m\u001b[0;34m.\u001b[0m\u001b[0mgame\u001b[0m\u001b[0;34m.\u001b[0m\u001b[0mloc\u001b[0m\u001b[0;34m[\u001b[0m\u001b[0mdata\u001b[0m\u001b[0;34m.\u001b[0m\u001b[0mitem_id\u001b[0m \u001b[0;34m==\u001b[0m \u001b[0midx\u001b[0m\u001b[0;34m]\u001b[0m\u001b[0;34m.\u001b[0m\u001b[0miloc\u001b[0m\u001b[0;34m[\u001b[0m\u001b[0;36m0\u001b[0m\u001b[0;34m]\u001b[0m\u001b[0;34m)\u001b[0m\u001b[0;34m\u001b[0m\u001b[0;34m\u001b[0m\u001b[0m\n\u001b[0m\u001b[1;32m     94\u001b[0m     \u001b[0mscores\u001b[0m\u001b[0;34m.\u001b[0m\u001b[0mappend\u001b[0m\u001b[0;34m(\u001b[0m\u001b[0mmin\u001b[0m\u001b[0;34m(\u001b[0m\u001b[0mmax\u001b[0m\u001b[0;34m(\u001b[0m\u001b[0mscore\u001b[0m\u001b[0;34m,\u001b[0m \u001b[0;36m0\u001b[0m\u001b[0;34m)\u001b[0m\u001b[0;34m,\u001b[0m \u001b[0;36m1\u001b[0m\u001b[0;34m)\u001b[0m\u001b[0;34m)\u001b[0m\u001b[0;34m\u001b[0m\u001b[0;34m\u001b[0m\u001b[0m\n\u001b[1;32m     95\u001b[0m     \u001b[0mscores\u001b[0m\u001b[0;34m.\u001b[0m\u001b[0mappend\u001b[0m\u001b[0;34m(\u001b[0m\u001b[0mscore\u001b[0m\u001b[0;34m)\u001b[0m\u001b[0;34m\u001b[0m\u001b[0;34m\u001b[0m\u001b[0m\n\u001b[1;32m     96\u001b[0m \u001b[0;34m\u001b[0m\u001b[0m\n",
      "\u001b[0;32m/opt/homebrew/Caskroom/miniconda/base/envs/mgt_flask/lib/python3.10/site-packages/pandas/core/generic.py\u001b[0m in \u001b[0;36m?\u001b[0;34m(self, name)\u001b[0m\n\u001b[1;32m   6295\u001b[0m             \u001b[0;32mand\u001b[0m \u001b[0mname\u001b[0m \u001b[0;32mnot\u001b[0m \u001b[0;32min\u001b[0m \u001b[0mself\u001b[0m\u001b[0;34m.\u001b[0m\u001b[0m_accessors\u001b[0m\u001b[0;34m\u001b[0m\u001b[0;34m\u001b[0m\u001b[0m\n\u001b[1;32m   6296\u001b[0m             \u001b[0;32mand\u001b[0m \u001b[0mself\u001b[0m\u001b[0;34m.\u001b[0m\u001b[0m_info_axis\u001b[0m\u001b[0;34m.\u001b[0m\u001b[0m_can_hold_identifiers_and_holds_name\u001b[0m\u001b[0;34m(\u001b[0m\u001b[0mname\u001b[0m\u001b[0;34m)\u001b[0m\u001b[0;34m\u001b[0m\u001b[0;34m\u001b[0m\u001b[0m\n\u001b[1;32m   6297\u001b[0m         ):\n\u001b[1;32m   6298\u001b[0m             \u001b[0;32mreturn\u001b[0m \u001b[0mself\u001b[0m\u001b[0;34m[\u001b[0m\u001b[0mname\u001b[0m\u001b[0;34m]\u001b[0m\u001b[0;34m\u001b[0m\u001b[0;34m\u001b[0m\u001b[0m\n\u001b[0;32m-> 6299\u001b[0;31m         \u001b[0;32mreturn\u001b[0m \u001b[0mobject\u001b[0m\u001b[0;34m.\u001b[0m\u001b[0m__getattribute__\u001b[0m\u001b[0;34m(\u001b[0m\u001b[0mself\u001b[0m\u001b[0;34m,\u001b[0m \u001b[0mname\u001b[0m\u001b[0;34m)\u001b[0m\u001b[0;34m\u001b[0m\u001b[0;34m\u001b[0m\u001b[0m\n\u001b[0m",
      "\u001b[0;31mAttributeError\u001b[0m: 'DataFrame' object has no attribute 'game'"
     ]
    }
   ],
   "source": [
    "import implicit\n",
    "import scipy.sparse as sparse\n",
    "\n",
    "# Drop NaN columns\n",
    "data = df_all.copy()\n",
    "# data = df.dropna()\n",
    "# data = data.copy()\n",
    "\n",
    "all_users = data['author_steamid'].unique()\n",
    "all_items = data['appid'].unique()\n",
    "\n",
    "# Rebuild mappings based on filtered data\n",
    "user_ids     = {u: idx for idx, u in enumerate(all_users)}\n",
    "item_ids     = {i: idx for idx, i in enumerate(all_items)}\n",
    "user_ids_inv = {idx: u for u, idx in user_ids.items()}\n",
    "item_ids_inv = {idx: i for i, idx in item_ids.items()}\n",
    "\n",
    "\n",
    "data['user_id'] = data['author_steamid'].map(user_ids).astype(int)\n",
    "data['item_id'] = data['appid'].map(item_ids).astype(int)\n",
    "data['rating'] = data['voted_up'].astype(int)\n",
    "data = data[['user_id', 'item_id', 'rating']]\n",
    "# The implicit library expects data as a item-user matrix so we\n",
    "# create two matricies, one for fitting the model (item-user) \n",
    "# and one for recommendations (user-item)\n",
    "sparse_item_user = sparse.csr_matrix((data['rating'], (data['item_id'], data['user_id'])))\n",
    "sparse_user_item = sparse.csr_matrix((data['rating'], (data['user_id'], data['item_id'])))\n",
    "\n",
    "# Initialize the als model and fit it using the sparse item-user matrix\n",
    "model = implicit.als.AlternatingLeastSquares(factors=20, regularization=0.1, iterations=20)\n",
    "\n",
    "# Calculate the confidence by multiplying it by our alpha value.\n",
    "alpha_val = 15\n",
    "data_conf = (sparse_item_user * alpha_val).astype('double')\n",
    "\n",
    "#Fit the model\n",
    "model.fit(data_conf)\n",
    "\n",
    "\n",
    "#---------------------\n",
    "# FIND SIMILAR ITEMS\n",
    "#---------------------\n",
    "\n",
    "# Find the 10 most similar to counter strike\n",
    "# item_id = list(item_ids.values())[1]  # Get the first item_id\n",
    "item_id = 2000\n",
    "n_similar = 10\n",
    "print(appid2game[item_ids_inv[item_id]])\n",
    "\n",
    "# Use implicit to get similar items.\n",
    "similar = model.similar_items(0, n_similar)\n",
    "\n",
    "n = 0\n",
    "# Print the names of our most similar games\n",
    "for item in zip(*similar):\n",
    "    idx, score = item\n",
    "    print('idx', idx, score)\n",
    "    if idx not in item_ids_inv:\n",
    "        print('idx not in item_ids_inv', idx)\n",
    "        continue\n",
    "    game_id = item_ids_inv.get(idx, \"Not in item_ids_inv\")\n",
    "    print('game_id', game_id)\n",
    "    if game_id not in appid2game:\n",
    "        print('game_id not in appid2game', game_id)\n",
    "        continue\n",
    "    game_name = appid2game.get(game_id, \"Not in appid2game\")\n",
    "    print('game_name', game_name)\n",
    "    print(game_name, score)\n",
    "# print(n)\n",
    "input()\n",
    "#------------------------------\n",
    "# CREATE USER RECOMMENDATIONS\n",
    "#------------------------------\n",
    "\n",
    "# Create recommendations for user with id 2025\n",
    "user_id = list(user_ids.values())[0]\n",
    "print(user_id)\n",
    "# Use the implicit recommender.\n",
    "user_items = sparse_user_item[user_id]  # Get only the row for the target user\n",
    "recommended = model.recommend(user_id, user_items)\n",
    "# recommended = model.recommend(user_id, sparse_user_item)\n",
    "\n",
    "games = []\n",
    "scores = []\n",
    "# Get game names from ids\n",
    "for item in zip(*recommended):\n",
    "    idx, score = item\n",
    "    # game_id = df.iloc[idx].item_id\n",
    "    game_id = item_ids_inv.get(idx, \"Unknown Game\")\n",
    "    game_name = appid2game.get(game_id, \"Unknown Game\")\n",
    "    games.append(game_name)\n",
    "    games.append(all_items[data.iloc[idx]['item_id']])\n",
    "    games.append(data.game.loc[data.item_id == idx].iloc[0])\n",
    "    scores.append(min(max(score, 0), 1))\n",
    "    scores.append(score)\n",
    "\n",
    "# Create a dataframe of game names and scores\n",
    "recommendations = pd.DataFrame({'game': games, 'score': scores})\n",
    "\n",
    "print(recommendations)"
   ]
  },
  {
   "cell_type": "code",
   "execution_count": null,
   "id": "89315f0d",
   "metadata": {},
   "outputs": [],
   "source": [
    "from scipy.sparse import coo_matrix\n",
    "import implicit"
   ]
  },
  {
   "cell_type": "code",
   "execution_count": 226,
   "id": "6f22140b",
   "metadata": {},
   "outputs": [
    {
     "data": {
      "text/plain": [
       "dict_keys([10, 100, 1000010, 1000030, 1000080, 1000280, 1000310, 1000360, 1000380, 1000410, 1000440, 1000700, 1000760, 1000830, 1001060, 1001140, 1001220, 1001370, 1001371, 1001490, 1001640, 1001860, 1001960, 1001970, 1002, 1002000, 1002100, 1002130, 1002200, 1002230, 1002270, 1002280, 1002290, 1002300, 1002310, 1002360, 1002430, 1002560, 1002850, 1002873, 1002930, 1002970, 1003090, 1003120, 1003160, 1003200, 1003310, 1003360, 1003400, 1003480, 1003490, 1003520, 1003590, 1003750, 1003800, 1003890, 100400, 100410, 1004150, 1004240, 1004270, 1004330, 1004490, 1004570, 1004750, 1004770, 1004860, 1004890, 1004891, 1004910, 1004917, 1004919, 1004920, 1005000, 1005050, 1005120, 1005130, 1005300, 1005340, 1005410, 1005420, 1005460, 1005480, 1005520, 1005550, 1005870, 1005910, 1005930, 1005950, 1005990, 1006140, 1006220, 1006270, 1006400, 1006460, 1006510, 1006800, 1006880, 1006930, 1007040, 1007350, 1007390, 1007400, 1007730, 1007800, 1007810, 1007840, 1007990, 1008010, 1008020, 1008080, 1008210, 1008230, 1008280, 1008300, 1008400, 1008510, 1008520, 1008580, 1008690, 1008710, 1008730, 1008860, 1008910, 10090, 1009040, 1009290, 1009450, 1009460, 1009560, 1009700, 1009820, 1009821, 1009850, 1009900, 1009990, 10100, 1010134, 1010137, 1010220, 1010240, 1010270, 1010290, 1010450, 1010600, 1010660, 1010670, 1010750, 1010800, 1010820, 1010821, 1010850, 1010860, 1010890, 10110, 1011030, 1011130, 1011190, 1011280, 1011300, 1011390, 1011420, 1011510, 1011540, 1011610, 1011700, 1011830, 1011890, 1011900, 1011940, 1011950, 1012030, 1012220, 1012240, 1012400, 1012405, 1012410, 1012560, 1012610, 1012630, 1012730, 1012790, 1012840, 1012880, 1012900, 1012980, 10130, 1013040, 1013090, 1013180, 1013220, 1013300, 1013320, 1013540, 1013660, 1013680, 1013750, 1013830, 1013870, 1013890, 1013910, 10140, 1014010, 1014040, 1014130, 1014140, 1014300, 1014370, 1014580, 1014730, 1014940, 10150, 1015020, 1015030, 1015050, 1015080, 1015090, 1015110, 1015130, 1015140, 1015160, 1015350, 1015710, 1015720, 1015730, 1015750, 1015770, 1015790, 1015800, 1015880, 1015890, 1015900, 1015930, 1015940, 1016080, 1016110, 1016120, 1016180, 1016360, 1016390, 1016520, 1016600, 1016720, 1016730, 1016770, 1016790, 1016800, 1016860, 1016920, 1016930, 1016950, 1016960, 1017030, 1017060, 1017100, 1017130, 1017160, 1017180, 1017410, 1017510, 1017520, 1017880, 1017900, 1017940, 10180, 1018000, 1018010, 1018020, 1018160, 1018170, 1018480, 1018530, 1018610, 1018800, 1018830, 1018850, 1018930, 1019010, 1019020, 1019310, 1019450, 10195, 1019510, 1019511, 1019512, 1019513, 1019550, 1019580, 1019590, 10196, 1019630, 1019640, 1019930, 1019931, 1019940, 1020030, 1020050, 1020210, 1020270, 1020330, 1020340, 1020470, 1020540, 1020600, 1020660, 1020730, 1020780, 1020800, 1020820, 1020840, 1021070, 1021100, 1021110, 1021210, 1021280, 1021690, 1021770, 1021780, 1021790, 1021820, 1021850, 1021950, 10220, 102200, 1022310, 1022450, 1022480, 1022640, 1022710, 1022780, 1022830, 1022850, 1022980, 1023040, 1023370, 1023690, 1023700, 1023740, 1023750, 1023780, 1023802, 1023870, 1023970, 1023980, 1024010, 1024380, 1024400, 1024480, 1024570, 1024590, 1024640, 1024650, 1024702, 1024770, 1024800, 1024890, 1024915, 1024950, 102500, 1025070, 1025140, 1025240, 1025250, 1025410, 1025440, 1025600, 1025960, 102600, 1026010, 1026070, 1026080, 1026110, 1026160, 1026400, 1026420, 1026680, 1026820, 1026840, 1026970, 10270, 102700, 1027120, 1027190, 1027220, 1027530, 1027620, 1027820, 1027880, 1028130, 102820, 1028270, 1028310, 1028350, 102840, 1028420, 1028430, 1028440, 1028470, 1028500, 1028520, 1028530, 1028570, 1028630, 1028702, 1028800, 1028894, 1029090, 1029210, 1029240, 1029260, 1029320, 1029331, 1029450, 1029470, 1029500, 1029550, 1029630, 1029650, 1029690, 1029730, 1029780, 1029860, 1029890, 1030060, 1030210, 1030270, 1030310, 1030490, 1030500, 1030530, 1030830, 1030840, 1030950, 1031020, 1031110, 1031120, 1031140, 1031270, 1031330, 1031440, 1031460, 1031480, 1031500, 1031510, 1031570, 1031590, 1031640, 1031800, 1031900, 1031920, 1032050, 1032170, 1032210, 1032270, 1032370, 1032430, 1032520, 1032590, 1032670, 1032700, 1032730, 1032760, 1032790, 1033060, 1033080, 1033120, 1033170, 1033220, 1033420, 1033450, 1033490, 1033530, 1033640, 1033700, 1033720, 1033810, 1033840, 1033880, 1033890, 1033910, 1033950, 1034060, 1034140, 1034160, 1034250, 1034270, 1034280, 1034370, 1034630, 1034700, 1034750, 1034850, 1034860, 1034880, 1034890, 1034900, 1034910, 1035020, 1035050, 1035120, 1035230, 1035340, 1035510, 1035560, 1035610, 1035660, 1035750, 1035760, 1035770, 1035860, 1035920, 1035930, 1035990, 1036000, 1036240, 1036440, 1036470, 1036580, 1036640, 1036660, 1036700, 1036740, 1036760, 1036850, 1036890, 1036910, 1036950, 1036960, 1036970, 1036980, 1037020, 1037080, 1037130, 1037190, 1037410, 1037560, 1037570, 1037590, 1037750, 1037830, 1037840, 1037910, 1038250, 1038280, 1038300, 1038370, 1038440, 1038450, 1038740, 1038810, 1038820, 1039040, 1039080, 1039100, 1039200, 1039811, 1039830, 1039880, 1039890, 1039940, 104000, 1040070, 1040230, 1040420, 1040430, 1040550, 1040630, 1040730, 1040880, 1040910, 1040930, 1041210, 1041290, 1041320, 1041400, 1041460, 1041670, 1041710, 1041720, 1041780, 1041820, 1041840, 1041920, 1041940, 104200, 1042020, 1042170, 1042220, 1042360, 1042380, 1042390, 1042490, 1042530, 1042550, 1042600, 1042670, 1042780, 1042800, 1042920, 1043150, 1043180, 1043230, 1043240, 1043260, 1043340, 1043350, 1043390, 1043430, 1043500, 1043860, 1044040, 1044170, 1044340, 1044410, 1044450, 1044490, 1044500, 1044620, 1044640, 1044720, 1044760, 1044790, 1044870, 1044930, 1044980, 1045080, 1045100, 1045180, 1045340, 1045350, 1045430, 1045510, 1045520, 1045580, 1045610, 1045620, 1045720, 1045840, 1045980, 10460, 104600, 1046030, 1046050, 1046180, 1046240, 1046300, 1046440, 1046470, 1046480, 1046560, 1046600, 1046790, 1046820, 1046930, 1046980, 104700, 1047010, 1047170, 1047180, 1047220, 1047440, 1047770, 1047810, 1048000, 1048100, 1048270, 1048350, 1048370, 1048460, 1048540, 1048660, 1048830, 1048920, 1048950, 104900, 1049020, 1049100, 1049130, 1049230, 1049240, 1049280, 1049290, 1049320, 1049400, 1049410, 1049440, 1049590, 1049660, 1049710, 1049790, 1049800, 1049810, 1049850, 1049890, 1049900, 10500, 105000, 1050150, 1050280, 1050340, 1050370, 1050460, 1050550, 105100, 1051150, 1051190, 1051200, 1051310, 1051410, 1051590, 1051620, 1051621, 1051670, 1051690, 1051700, 1051890, 1051960, 1052070, 1052380, 1052500, 1052530, 1052580, 1052690, 1052990, 105300, 1053390, 1053680, 1053710, 1053980, 1053990, 1054000, 1054020, 1054050, 1054071, 1054110, 1054120, 105420, 1054340, 1054350, 1054430, 1054480, 1054490, 105450, 1054510, 1054550, 1054580, 1054640, 1054650, 1054660, 1054690, 1054700, 1054710, 1054800, 1054990, 1055010, 1055090, 1055210, 1055270, 1055310, 1055331, 1055430, 1055540, 1055610, 1055670, 1055690, 1055760, 1055850, 1055880, 1055910, 1055990, 105600, 1056180, 1056280, 1056360, 1056420, 1056490, 1056520, 1056570, 1056580, 1056590, 1056600, 1056610, 1056640, 1056750, 1056760, 1056761, 1056780, 1056840, 1056960, 1056970, 1057090, 1057180, 1057270, 1057271, 1057272, 1057273, 1057276, 1057278, 1057281, 1057430, 1057470, 1057540, 1057640, 1057680, 1057700, 1057720, 1057740, 1057750, 1057780, 1057800, 1057810, 1057850, 105800, 1058000, 1058020, 1058060, 1058130, 1058140, 1058190, 1058200, 1058270, 1058280, 1058320, 1058330, 1058370, 1058380, 1058430, 1058450, 1058490, 1058530, 1058560, 1058640, 1058650, 1058710, 1058770, 1058800, 1058830, 1058930, 1059120, 1059190, 1059460, 1059820, 1059850, 1059880, 1059890, 1059900, 1059980, 1059990, 106000, 1060180, 1060210, 1060220, 1060230, 1060310, 1060320, 10604, 1060590, 10606, 1060670, 1061010, 1061090, 1061100, 1061180, 1061260, 1061470, 1061490, 1061610, 1061730, 1061880, 1061910, 1061930, 1062000, 1062040, 1062060, 1062070, 1062090, 1062110, 1062140, 1062160, 1062260, 1062340, 1062520, 1062570, 1062590, 1062810, 1062830, 1062960, 1063040, 1063130, 1063190, 1063300, 1063310, 1063340, 1063420, 1063440, 1063450, 1063540, 1063580, 1063660, 1063730, 1063770, 1063790, 1063860, 1063890, 1063980, 1063990, 1064100, 1064130, 1064200, 1064220, 1064221, 1064270, 1064271, 1064272, 1064273, 1064310, 1064340, 1064420, 1064460, 1064580, 1064610, 1064660, 1064720, 1064730, 1064820, 1064840, 1064860, 1064900, 1064950, 1065020, 1065100, 1065180, 1065200, 1065220, 1065260, 1065280, 1065310, 1065320, 1065490, 1065520, 1065570, 1065660, 1065710, 1065750, 1065920, 1065940, 1065950, 1065970, 1066110, 1066130, 1066150, 1066160, 1066180, 1066260, 1066400, 1066610, 1066670, 1066760, 1066780, 1066860, 1066890, 1066900, 1066950, 1067010, 1067020, 1067150, 1067250, 1067310, 1067320, 1067350, 1067440, 1067540, 1067560, 1067590, 1067600, 1067690, 1067720, 1067770, 1067850, 1067860, 1067900, 10680, 1068070, 1068150, 1068260, 1068290, 1068360, 1068480, 1068530, 1068600, 1068820, 1069150, 1069190, 1069210, 1069230, 1069390, 1069530, 1069552, 1069580, 1069640, 1069650, 1069660, 1069690, 10697, 1069740, 1069760, 1069920, 1070020, 1070170, 1070240, 1070260, 1070330, 1070440, 1070550, 1070580, 1070710, 1070850, 1070860, 1070910, 1070940, 107100, 107104, 1071100, 1071120, 1071130, 1071140, 1071200, 1071220, 1071240, 1071290, 1071490, 1071870, 1071940, 107200, 1072020, 1072040, 1072100, 1072120, 1072150, 1072190, 1072270, 1072390, 1072420, 1072480, 1072500, 1072560, 1072561, 1072562, 1072590, 1072620, 1072640, 1072710, 1072860, 1072920, 107300, 107310, 1073180, 1073210, 1073220, 1073310, 1073320, 1073390, 1073440, 1073770, 1073820, 1073840, 1073900, 1073910, 1074030, 1074070, 1074080, 107410, 1074170, 1074180, 1074190, 1074320, 1074321, 1074370, 1074420, 1074520, 1074620, 1074650, 1074680, 1074770, 1074820, 1075040, 1075041, 1075080, 1075170, 1075190, 1075200, 1075400, 1075480, 1075521, 1075550, 1075710, 1075740, 1075980, 1075993, 107600, 1076012, 1076070, 1076080, 1076100, 1076150, 1076160, 1076200, 1076210, 1076500, 1076550, 1076600, 1076620, 1076630, 1076640, 1076750, 1076850, 1076880, 1076920, 1077080, 1077290, 1077430, 1077450, 1077470, 1077520, 1077530, 1077690, 1077760, 1077970, 1077990, 1078200, 1078280, 1078320, 1078330, 1078350, 1078380, 1078420, 1078490, 1078510, 1078730, 1078760, 1078840, 1078920, 1078960, 1078970, 107900, 1079000, 1079160, 1079180, 1079200, 1079210, 1079230, 1079260, 1079310, 1079340, 1079510, 1079620, 1079800, 1079830, 1080010, 1080020, 1080450, 1080550, 1080750, 1080900, 1080990, 1081040, 1081090, 108110, 1081140, 1081450, 1081470, 1081510, 1081560, 1081650, 1081670, 1081840, 1081880, 1081900, 108210, 1082180, 1082350, 1082352, 1082353, 1082430, 1082450, 1082680, 1082710, 1082920, 1082930, 1083070, 1083190, 1083210, 1083280, 1083310, 1083420, 1083650, 1083760, 1083790, 1083820, 1083870, 1083880, 1084020, 1084060, 1084120, 1084160, 1084430, 1084480, 1084520, 1084570, 1084600, 1084640, 1084680, 1084790, 1084820, 1084870, 1084990, 1085160, 1085180, 1085220, 1085260, 1085310, 1085510, 1085630, 1085660, 1085750, 108600, 1086010, 1086030, 1086470, 1086480, 1086481, 1086640, 1086680, 1086810, 1086840, 1086850, 1086860, 1086940, 108700, 1087040, 108710, 108726, 1087270, 1087429, 1087450, 1087460, 1087720, 1087760, 1087960, 108800, 1088000, 1088090, 1088150, 1088290, 1088330, 1088420, 1088450, 1088590, 1088600, 1088640, 1088710, 1088770, 1088790, 1088850, 1088870, 1088950, 1089090, 1089130, 1089270, 1089310, 1089620, 1089630, 1089660, 1089710, 1089780, 1089790, 1089820, 1089830, 1089840, 1089930, 1089980, 1090150, 1090161, 1090163, 1090164, 1090200, 1090202, 1090440, 1090470, 1090520, 1090560, 1090630, 1090670, 1090730, 1090760, 1090800, 1090850, 1090900, 1091010, 1091190, 1091200, 1091210, 1091390, 1091460, 1091500, 1091520, 1091570, 1091590, 1091680, 1091740, 1091920, 1091940, 1091950, 1091980, 1092000, 1092040, 1092140, 1092210, 1092250, 1092260, 1092330, 1092400, 1092430, 1092590, 1092630, 1092660, 1092700, 1092710, 1092720, 1092790, 1092800, 1092840, 1092880, 1092980, 1093170, 1093290, 1093300, 1093320, 1093330, 1093360, 1093400, 1093700, 1093720, 1093730, 1093880, 1093910, 109400, 1094000, 1094010, 1094030, 1094160, 1094320, 1094340, 1094390, 1094420, 1094520, 1094530, 1094640, 1094660, 1094720, 1094730, 1094780, 1094820, 1094870, 1094920, 1094930, 1094960, 1095030, 1095031, 1095040, 1095080, 1095260, 1095280, 1095710, 1095770, 1095880, 109600, 1096010, 1096030, 1096040, 1096180, 1096200, 1096210, 1096300, 1096410, 1096520, 1096530, 1096550, 1096560, 1096570, 1096580, 1096590, 1096610, 1096640, 1096710, 1096720, 1096730, 1096900, 1096910, 1096930, 1096940, 1096980, 109700, 1097000, 1097110, 1097120, 1097130, 1097150, 1097200, 1097210, 1097240, 1097350, 1097370, 1097420, 1097430, 1097530, 1097580, 1097620, 1097770, 1097790, 1097810, 1097840, 1097880, 1098100, 1098120, 1098130, 1098163, 1098210, 1098270, 1098280, 1098291, 1098292, 1098300, 1098340, 1098370, 1098420, 1098440, 1098510, 1098680, 1098720, 1098840, 1098940, 1099070, 1099110, 1099122, 1099220, 1099410, 1099460, 1099550, 1099594, 1099640, 1099830, 1099840, 1099920, 1100030, 1100130, 1100140, 1100150, 1100160, 1100180, 1100250, 1100260, 1100410, 1100420, 1100430, 1100600, 1100750, 1100800, 1100810, 1100830, 1100930, 1100960, 1100990, 1101060, 1101120, 1101140, 1101180, 1101190, 1101260, 1101270, 1101300, 1101310, 1101351, 1101360, 1101400, 1101450, 1101580, 1101670, 1101760, 1101790, 1101930, 1101970, 1101980, 11020, 1102100, 1102130, 1102190, 1102310, 1102340, 1102580, 1102780, 1102880, 1102930, 1102980, 1103060, 1103100, 1103120, 1103210, 1103490, 1103730, 1103740, 1103830, 1103840, 1103860, 1103880, 11040, 110400, 1104220, 1104260, 1104280, 1104330, 1104340, 1104380, 1104390, 1104450, 1104470, 1104490, 1104660, 1104830, 1104870, 1104880, 11050, 1105040, 1105110, 1105130, 1105370, 1105371, 1105410, 1105420, 1105460, 1105500, 1105510, 1105590, 1105620, 1105630, 1105670, 1105800, 1105810, 1105890, 1106060, 1106080, 1106140, 1106170, 1106180, 1106200, 1106340, 1106530, 1106710, 1106770, 1106830, 1106840, 1106860, 1106880, 1106940, 1107050, 1107180, 1107210, 1107230, 1107260, 1107300, 1107340, 1107370, 1107730, 1107760, 1107790, 1107812, 1107840, 110800, 1108000, 1108170, 1108320, 1108370, 1108390, 1108410, 1108450, 1108460, 1108540, 1108560, 1108590, 1108640, 1108650, 1109130, 1109360, 1109410, 1109420, 1109460, 1109570, 1109630, 1109680, 1109690, 1109840, 1110050, 1110100, 1110280, 1110380, 1110390, 1110580, 1110650, 1110690, 1110890, 1110910, 1111030, 1111070, 1111210, 1111300, 1111370, 1111380, 1111390, 1111440, 1111450, 1111460, 1111500, 1111600, 1111760, 1111810, 1111880, 1111940, 1112100, 1112240, 1112340, 1112400, 1112460, 1112470, 1112520, 1112521, 1112570, 1112580, 1112620, 1112790, 1112830, 1112890, 1112930, 1112960, 11130, 1113000, 1113030, 1113120, 1113220, 1113390, 1113410, 1113550, 1113560, 1113570, 1113620, 1113680, 1113780, 1113820, 1113823, 1113824, 1113910, 1113940, 11140, 1114030, 1114050, 1114090, 1114100, 1114110, 1114130, 1114220, 1114260, 1114290, 1114420, 1114430, 1114550, 1114561, 1114730, 1114830, 1114860, 1114870, 1114900, 1114940, 11150, 1115050, 1115570, 1115640, 1115690, 1115780, 1115980, 111600, 1116100, 1116210, 1116230, 1116260, 1116340, 1116470, 1116490, 1116520, 1116550, 1116580, 1116770, 1116880, 1116960, 1117090, 1117140, 1117160, 1117350, 1117380, 1117390, 1117420, 1117630, 1117850, 1117860, 1117880, 11180, 1118010, 1118012, 1118021, 1118026, 1118070, 1118110, 1118120, 1118130, 1118200, 1118240, 1118290, 1118292, 1118310, 1118350, 1118380, 1118840, 1118910, 1118920, 1118940, 11190, 111900, 1119060, 1119100, 1119570, 1119600, 1119700, 1119710, 1119730, 1119800, 1119840, 1119980, 11200, 1120300, 1120301, 1120304, 1120305, 1120320, 1120360, 1120370, 1120400, 1120480, 1120550, 1120560, 1120620, 1120630, 1120690, 1120810, 112100, 1121300, 1121310, 1121420, 1121430, 1121560, 1121580, 1121590, 1121600, 1121640, 1121710, 1121780, 1121910, 1121960, 1121970, 1122040, 1122050, 1122080, 1122100, 1122120, 1122150, 1122210, 1122240, 1122290, 1122400, 1122490, 1122680, 1122690, 1122700, 1122720, 1122730, 1122750, 1123050, 1123060, 1123070, 1123140, 1123310, 1123450, 1123500, 1123550, 1123770, 1123830, 1123960, 11240, 1124050, 1124060, 1124080, 1124090, 1124160, 1124180, 1124260, 1124300, 1124390, 1124560, 1124660, 1124830, 11250, 1125020, 1125110, 1125210, 1125240, 1125250, 1125270, 1125390, 1125480, 1125630, 1125790, 1125910, 1125980, 11260, 1126050, 1126090, 1126130, 1126190, 1126200, 1126290, 1126310, 1126320, 1126420, 1126470, 1126580, 1126600, 1126750, 1126890, 1127110, 1127130, 1127170, 1127290, 1127400, 1127460, 1127470, 1127500, 1127540, 1127610, 1127800, 1127840, 1127940, 1127970, 1127980, 11280, 1128000, 1128260, 1128370, 1128450, 1128540, 1128550, 1128570, 1128810, 1128880, 1128900, 1128920, 1129010, 1129030, 1129050, 1129190, 1129220, 1129250, 1129310, 1129370, 1129540, 1129580, 1129920, 113020, 1130410, 1130560, 1130600, 1130620, 1130630, 1130700, 1130800, 1130840, 1131080, 1131140, 1131170, 1131190, 1131240, 1131400, 1131530, 1131550, 1131620, 1131720, 1131810, 1131900, 1131920, 1131960, 113200, 1132030, 113204, 1132060, 1132090, 1132190, 1132410, 1132490, 1132690, 1132720, 1132730, 1132760, 1132880, 1132910, 1132970, 1132980, 1133000, 1133060, 1133120, 1133300, 1133320, 1133330, 1133420, 1133450, 1133590, 1133730, 1133760, 1133770, 1133990, 11340, 113400, 1134010, 1134030, 1134100, 1134160, 1134180, 113420, 1134460, 1134480, 1134520, 1134630, 1134700, 1134710, 1135230, 1135240, 1135260, 1135300, 1135370, 1135432, 1135436, 1135570, 1135690, 1135740, 1135810, 1135830, 1135910, 1135960, 1135970, 1135971, 1136110, 1136160, 1136330, 1136370, 1136380, 1136440, 1136830, 1136890, 1136930, 11370, 1137210, 1137260, 1137300, 1137320, 1137350, 1137410, 1137450, 1137460, 1137490, 1137641, 1137750, 1137800, 1137802, 1137810, 1137820, 1137880, 1137900, 1137910, 1137940, 1137970, 1138060, 1138100, 1138190, 1138300, 1138400, 1138410, 1138640, 1138650, 1138660, 1138850, 1138960, 1138970, 11390, 1139110, 1139280, 1139800, 1139870, 1139890, 1139900, 1139920, 1139930, 1139940, 1139980, 1140000, 1140001, 1140120, 1140130, 1140150, 1140170, 1140270, 1140290, 1140440, 1140570, 1140610, 1140620, 1140630, 1140661, 1140740, 1140890, 1141020, 1141050, 1141100, 1141220, 1141290, 1141300, 1141360, 1141550, 1141580, 1141650, 1141700, 1141880, 1141930, 1141950, 1141960, 1141980, 11420, 1142080, 1142100, 1142130, 1142220, 1142330, 1142390, 1142470, 1142480, 1142500, 1142600, 1142710, 1142760, 1142800, 1142810, 1142830, 1142870, 1142880, 1143400, 1143420, 1143650, 1143810, 1143840, 1143850, 1143851, 1143852, 1143853, 1144020, 1144030, 1144110, 1144150, 1144170, 1144200, 1144250, 1144300, 1144310, 1144400, 1144410, 1144420, 1144440, 1144460, 1144500, 1144582, 1144630, 1144640, 1144643, 1144645, 1144646, 1144682, 1144683, 1144684, 1144770, 1144800, 1144860, 1144910, 11450, 1145030, 1145250, 1145290, 1145340, 1145360, 1145410, 1145450, 1145530, 1145560, 1145660, 1145810, 1145960, 1146100, 1146170, 1146230, 1146300, 1146310, 1146370, 1146500, 1146510, 1146600, 1146630, 1146830, 1146880, 1146930, 1146940, 1146950, 1146960, 1146970, 1147010, 1147030, 1147100, 1147450, 1147480, 1147500, 1147510, 1147550, 1147560, 1147660, 1147690, 1147750, 1147940, 1147960, 11480, 1148020, 1148022, 1148090, 1148150, 1148260, 1148450, 1148490, 1148510, 1148560, 1148590, 1148650, 1148680, 1148730, 1148760, 1148890, 1148920, 1149440, 1149460, 1149510, 1149540, 1149550, 1149620, 1149640, 1149660, 1149710, 1149760, 1149940, 1150080, 1150090, 1150190, 1150440, 1150460, 1150530, 1150580, 1150590, 1150620, 1150640, 1150690, 1150720, 1150730, 1150760, 1150890, 1150940, 1150950, 1150990, 115100, 1151050, 1151080, 115110, 1151120, 1151130, 1151170, 115120, 1151250, 1151340, 1151390, 1151440, 1151450, 1151530, 1151610, 1151640, 1151670, 1151700, 1151720, 1151740, 1151930, 115200, 1152090, 115210, 1152100, 1152120, 1152160, 115220, 1152300, 1152310, 1152320, 1152340, 1152810, 115300, 1153070, 115320, 1153210, 1153250, 115340, 1153430, 1153640, 1153670, 1153830, 1153960, 1154040, 1154110, 1154130, 1154591, 1154650, 1154720, 1154760, 1154790, 1154810, 1154830, 1154840, 1154850, 11550, 1155120, 1155320, 1155330, 1155420, 1155460, 1155590, 1155660, 1155760, 1155830, 1155870, 1155880, 1155920, 1155960, 1155970, 1155980, 1156060, 1156250, 1156360, 1156380, 1156510, 1156570, 1156590, 1156670, 1156730, 1156960, 1156970, 1156990, 1157170, 1157220, 1157250, 1157310, 1157340, 1157390, 1157550, 1157620, 1157640, 1157750, 1157790, 1157940, 1157960, 115800, 1158010, 1158100, 1158160, 1158180, 1158181, 1158220, 1158270, 1158310, 1158370, 1158390, 1158420, 1158430, 1158450, 1158470, 1158500, 1158690, 1158720, 1158730, 1158850, 1158890, 1158940, 1158980, 11590, 1159000, 1159010, 1159290, 1159500, 1159510, 1159520, 1159550, 1159560, 1159640, 1159660, 1159680, 1159690, 1159700, 1159830, 1159860, 1160020, 1160220, 1160330, 1160410, 1160490, 1160500, 1160580, 1160750, 1160820, 1160870, 1160920, 1160950, 11610, 116100, 1161160, 1161170, 1161180, 1161190, 1161270, 1161360, 1161370, 1161410, 1161421, 1161490, 1161580, 1161590, 1161602, 1161770, 1161870, 1161930, 1162050, 1162070, 1162110, 1162130, 1162160, 1162200, 1162201, 1162203, 1162205, 1162208, 1162230, 1162280, 1162341, 1162350, 1162380, 1162470, 1162480, 1162520, 1162560, 1162601, 1162602, 1162650, 1162680, 1162700, 1162750, 1162930, 1162960, 1162990, 1163040, 1163060, 1163070, 1163130, 1163340, 1163360, 1163500, 1163550, 1163560, 1163590, 1163600, 1163690, 1163740, 1163770, 1163870, 1163910, 1163930, 1164000, 1164010, 1164050, 1164060, 1164100, 1164110, 1164250, 1164390, 1164440, 1164690, 1164740, 1164830, 1164850, 1164940, 1165070, 1165140, 1165170, 1165400, 1165510, 1165530, 1165670, 1165850, 1165870, 1166110, 1166290, 1166310, 1166470, 1166471, 1166472, 1166600, 1166740, 1166780, 1166860, 1166990, 1167100, 1167140, 1167170, 1167300, 1167320, 1167330, 1167450, 1167630, 1167640, 1167680, 1167700, 1167750, 1167770, 1167790, 1167910, 1167950, 1168030, 1168170, 1168280, 1168470, 1168480, 1168500, 1168610, 1168660, 1168680, 1168710, 1168840, 1168870, 1168880, 1169020, 1169040, 1169070, 1169100, 1169180, 1169200, 1169740, 1169920, 1170010, 1170060, 1170080, 1170290, 1170400, 1170610, 1170720, 1170760, 1170814, 1170820, 1170880, 1170950, 1170970, 1171120, 1171140, 1171190, 1171240, 1171270, 1171310, 1171320, 1171370, 1171660, 1171690, 1171890, 1172050, 1172190, 1172380, 1172430, 1172450, 1172470, 1172540, 1172620, 1172650, 1172800, 1172860, 1172890, 1172900, 1172940, 1172980, 1173010, 1173110, 1173140, 1173200, 1173220, 1173270, 1173280, 1173330, 1173370, 1173380, 1173400, 1173410, 1173510, 1173550, 1173590, 1173770, 1173780, 1173790, 1173800, 1173810, 1173820, 1173830, 1173860, 1173900, 1173930, 1173940, 1174090, 1174110, 1174170, 1174180, 1174290, 1174320, 1174370, 1174390, 1174400, 1174410, 1174460, 1174470, 1174500, 1174580, 1174581, 1174640, 1174670, 1174690, 1174720, 1174860, 1174940, 1175010, 1175090, 1175120, 1175140, 1175160, 1175190, 1175200, 1175360, 1175380, 1175390, 1175430, 1175460, 1175480, 1175730, 1175830, 1175880, 1175950, 1176020, 1176050, 1176110, 1176170, 1176470, 1176490, 1176560, 1176710, 1176870, 1177000, 1177050, 1177130, 1177330, 1177380, 1177400, 1177420, 1177610, 1177660, 1177720, 1177880, 1177970, 1178030, 1178050, 1178130, 1178160, 1178200, 1178210, 1178220, 1178230, 1178321, 1178400, 1178490, 1178690, 1178780, 1178790, 1178830, 1178880, 1179060, 1179080, 1179100, 1179210, 1179290, 1179300, 1179420, 1179450, 1179560, 1179580, 1179680, 1179710, 1179800, 1180010, 1180030, 1180130, 1180250, 1180270, 1180320, 1180330, 1180380, 1180490, 1180491, 1180510, 1180600, 1180660, 1180900, 1181000, 1181130, 1181140, 1181230, 1181280, 1181290, 1181330, 1181400, 1181520, 1181530, 1181610, 1181740, 1181790, 1181830, 1181840, 1181990, 1182000, 1182020, 1182090, 1182110, 1182294, 1182310, 1182370, 1182390, 1182530, 1182620, 1182760, 1182830, 1182900, 1182920, 1182940, 1182970, 1183030, 1183260, 1183410, 1183470, 1183580, 1183640, 1183720, 1183800, 1184050, 1184140, 1184160, 1184210, 1184250, 1184320, 1184350, 1184351, 1184370, 1184400, 1184410, 1184411, 1184412, 1184420, 1184480, 1184560, 1184760, 1184770, 1184810, 1184820, 1184840, 1184890, 1184900, 1184990, 1185140, 1185160, 1185520, 1185620, 1185660, 1185680, 1185700, 1185750, 1185780, 1185820, 1185870, 1185910, 1186040, 1186160, 1186220, 1186260, 1186290, 1186400, 1186460, 1186600, 1186630, 1186640, 1186740, 1186860, 1187030, 1187130, 1187230, 1187510, 1187620, 1187910, 1187940, 1188080, 1188250, 1188270, 1188330, 1188540, 1188600, 1188610, 1188615, 1188619, 1188680, 1188720, 1188920, 1188930, 1189050, 1189070, 1189100, 1189230, 1189290, 1189360, 1189440, 1189490, 1189630, 1189690, 1189800, 1189850, 1189871, 1190000, 1190110, 1190150, 1190160, 1190170, 1190380, 1190400, 1190950, 1190990, 1191010, 1191100, 1191120, 1191160, 1191210, 1191260, 1191330, 1191420, 1191440, 1191490, 1191580, 1191630, 1191790, 1191840, 1191900, 1191940, 1192010, 1192070, 1192310, 1192440, 1192610, 1192640, 1192730, 1192810, 1192820, 1192890, 1192900, 1193090, 1193110, 1193340, 1193590, 1193630, 1193760, 1193990, 1194010, 1194050, 1194140, 1194590, 1194620, 1194630, 1194680, 1194690, 1194700, 1194740, 1194810, 1194830, 1194840, 1194870, 1194930, 1195020, 1195070, 1195170, 1195220, 1195240, 1195270, 1195290, 1195460, 1195480, 1195830, 1196090, 1196150, 1196280, 1196310, 1196400, 1196420, 1196450, 1196470, 1196570, 1196590, 1196600, 1196630, 1196750, 1196770, 1196880, 1197010, 1197030, 1197180, 1197220, 1197260, 1197350, 1197370, 1197440, 1197570, 1197580, 1197650, 1197670, 1197710, 1197770, 1198040, 1198050, 1198080, 1198090, 1198165, 1198260, 1198320, 1198390, 1198400, 1198450, 1198460, 1198461, 1198462, 1198470, 1198510, 1198590, 1198630, 1198730, 1198832, 1198833, 1198834, 1198835, 1198837, 1198841, 1198849, 1198850, 1199030, 1199120, 1199370, 1199450, 1199630, 1199760, 1199880, 1199910, 1200, 1200110, 1200140, 1200230, 1200330, 1200349, 1200360, 1200420, 1200520, 1200550, 1200552, 1200630, 1200710, 1200720, 1200730, 1200860, 1200910, 1200930, 1200960, 1201200, 1201230, 1201240, 1201270, 1201280, 1201330, 1201360, 1201400, 1201450, 1201540, 1201550, 1201630, 1201760, 1201830, 1201840, 1201870, 1201880, 1202031, 1202037, 1202041, 1202050, 1202051, 1202052, 1202055, 1202061, 1202070, 1202130, 1202200, 1202280, 1202310, 1202460, 1202520, 1202540, 1202580, 1202640, 1202650, 1202690, 1202770, 1202790, 1202820, 1202870, 1202900, 1202970, 1203041, 1203042, 1203140, 1203180, 1203220, 1203350, 1203360, 1203370, 1203420, 1203430, 1203440, 1203470, 1203510, 1203630, 1203710, 1203750, 1203830, 1203930, 1203970, 1204050, 1204130, 1204220, 1204230, 1204270, 1204370, 1204410, 1204470, 1204740, 1204930, 1204940, 1205020, 1205040, 1205240, 1205260, 1205361, 1205380, 1205430, 1205450, 1205480, 1205520, 1205560, 1205600, 1205760, 1205930, 1205950, 1205960, 1205970, 1206060, 1206200, 1206240, 1206330, 1206340, 1206430, 1206480, 1206560, 1206600, 1206610, 1206700, 1206820, 1206840, 1206960, 1207030, 1207480, 1207590, 1207650, 1207780, 1207850, 1207880, 1208260, 1208590, 1208600, 1208770, 1208850, 1208880, 1209000, 1209040, 1209060, 1209110, 1209120, 1209121, 1209130, 1209140, 1209150, 1209230, 1209360, 1209410, 1209460, 1209461, 1209470, 1209471, 1209480, 1209490, 1209700, 1209770, 1209990, 1210030, 1210110, 1210150, 1210230, 1210250, 1210320, 1210550, 1210620, 1210680, 1210750, 1210870, 1210930, 1211020, 1211120, 1211160, 1211170, 1211172, 1211173, 1211174, 1211176, 1211206, 1211208, 1211209, 1211360, 1211370, 1211473, 1211480, 1211600, 1211630, 1211790, 1211830, 1211930, 1211960, 1212020, 1212040, 1212100, 1212150, 1212400, 1212620, 1212720, 1212780, 1212830, 1212870, 1212940, 12130, 1213210, 1213220, 1213230, 1213370, 1213390, 1213420, 1213540, 1213611, 1213640, 1213670, 1213700, 1213710, 1213740, 1213750, 1213940, 1213950, 12140, 1214210, 1214280, 1214330, 1214360, 1214450, 1214470, 1214480, 1214670, 1214810, 12150, 1215090, 1215110, 1215160, 1215180, 1215220, 1215230, 1215260, 1215270, 1215280, 1215380, 1215390, 1215600, 1215660, 1215740, 1215820, 1215860, 1215870, 1215930, 1216060, 1216080, 1216200, 1216230, 1216320, 1216490, 1216590, 1216640, 1216660, 1216710, 1216870, 1216880, 12170, 1217050, 1217060, 1217190, 1217380, 1217390, 1217410, 1217550, 1217570, 1217610, 1217830, 1217860, 1217880, 1217890, 12180, 1218010, 1218040, 1218170, 1218210, 1218250, 1218280, 1218500, 1218520, 1218530, 1218680, 1218740, 1218750, 1218790, 1218810, 1218890, 1218900, 1218920, 1219130, 1219160, 1219320, 1219450, 1219480, 1219580, 1219590, 1219620, 1219940, 1219950, 1219990, 12200, 1220010, 1220080, 1220100, 1220140, 1220150, 1220170, 1220370, 1220580, 1220610, 1220710, 1220840, 1220890, 1220930, 12210, 1221070, 1221080, 1221230, 1221250, 1221440, 1221540, 1221700, 1221800, 12220, 1222040, 1222050, 1222140, 1222160, 1222210, 1222300, 1222370, 1222580, 1222640, 1222670, 1222680, 1222690, 1222700, 1222730, 1222750, 1222800, 1222870, 1223020, 1223060, 1223210, 1223250, 1223490, 1223500, 1223580, 1223750, 1223780, 1223810, 1223840, 1223860, 1223870, 1223910, 1224020, 1224060, 1224120, 1224160, 1224290, 1224420, 1224450, 1224600, 1224690, 1224720, 1224820, 1224900, 1225100, 1225110, 1225140, 1225560, 1225570, 1225580, 1225590, 1225660, 1225780, 1225810, 1225820, 1226020, 1226470, 1226510, 1226530, 1226640, 1226690, 1226990, 1227000, 1227170, 1227280, 1227320, 1227350, 1227440, 1227441, 1227461, 1227530, 1227570, 1227650, 1227680, 1227690, 1227700, 1227780, 1227860, 1227890, 1228510, 1228520, 1228530, 1228540, 1228560, 1228720, 1228740, 1228810, 1228840, 1229020, 1229240, 1229310, 1229320, 1229370, 1229380, 1229420, 1229460, 1229490, 1229500, 1229570, 1229580, 1229880, 1229900, 1230, 1230140, 1230170, 1230200, 1230230, 1230275, 1230276, 1230340, 1230410, 1230510, 1230530, 1230560, 1230800, 1230830, 1230980, 12310, 1231060, 1231460, 1231580, 1231590, 1231690, 1231840, 1231880, 1231940, 1231950, 1231970, 12320, 1232080, 1232130, 1232180, 1232251, 1232252, 1232253, 1232254, 1232255, 1232256, 1232257, 1232330, 1232420, 1232460, 1232520, 1232570, 1232580, 1232590, 12330, 1233060, 1233061, 1233062, 1233120, 1233170, 1233200, 1233220, 1233250, 1233260, 1233270, 1233340, 1233360, 1233370, 1233410, 1233420, 1233530, 1233550, 1233570, 1233590, 1233600, 1233710, 1233800, 1233840, 1233880, 1233900, 1233950, 12340, 1234120, 1234190, 1234240, 1234350, 1234380, 1234400, 1234430, 1234520, 1234550, 1234620, 1234730, 1234840, 1234940, 1234950, 1234980, 1235110, 1235140, 1235360, 1235460, 1235720, 1235721, 1235722, 1235730, 1235731, 1235732, 1235733, 1235734, 1235740, 1235741, 1235742, 1235743, 1235744, 1235745, 1235746, 1235747, 1235751, 1235753, 1235755, 1235756, 1235757, 1235758, 1235759, 1235761, 1235762, 1235764, 1235765, 1235766, 12360, 1236040, 1236300, 1236360, 1236400, 1236430, 1236450, 1236490, 1236500, 1236640, 1236700, 1236720, 1236780, 1236880, 1236890, 1236990, 1237040, 1237220, 1237320, 1237370, 1237523, 1237530, 1237540, 1237610, 1237730, 1237830, 1237950, 1237970, 1237980, 1238000, 1238020, 1238030, 1238040, 1238050, 1238060, 1238070, 1238080, 1238100, 1238102, 1238103, 1238104, 1238105, 1238400, 1238430, 1238440, 1238450, 1238520, 1238680, 1238730, 1238761, 1238810, 1238820, 1238831, 1238840, 1238851, 1238860, 1238871, 1238880, 1238891, 12390, 1239020, 1239050, 1239080, 1239260, 1239300, 1239320, 1239450, 1239520, 1239580, 1239660, 1239690, 1240050, 1240130, 1240210, 1240230, 1240240, 1240290, 1240360, 1240440, 1240480, 1240550, 1240590, 1240630, 1240810, 1241040, 1241100, 1241262, 1241266, 1241267, 1241268, 1241271, 1241287, 1241289, 1241510, 1241520, 1241550, 1241570, 1241700, 1241950, 12420, 1242670, 1242700, 1242740, 1242753, 1242759, 1242760, 1242777, 1242778, 1242820, 1242980, 12430, 1243040, 1243140, 1243220, 1243240, 1243420, 1243580, 1243690, 1243700, 1243770, 1243830, 1243880, 1243890, 1243960, 1244040, 1244090, 1244160, 1244460, 1244630, 1244640, 1244760, 1244780, 1244781, 1244800, 1244950, 1245150, 1245200, 1245260, 1245280, 1245380, 1245430, 1245540, 1245560, 1245590, 1245610, 1245620, 1245670, 1245780, 1245980, 1246020, 1246250, 1246400, 1246460, 1246520, 1246570, 1246780, 1246870, 1246880, 1246950, 12470, 1247010, 1247020, 1247100, 1247110, 1247120, 1247170, 1247190, 1247270, 1247290, 1247360, 1247460, 1247570, 1247750, 1247830, 1247860, 1247910, 1247950, 12480, 1248060, 1248120, 1248130, 1248360, 1248380, 1248430, 1248431, 1248432, 1248433, 1248434, 1248800, 1248820, 1248840, 1248870, 1249010, 1249060, 1249080, 1249110, 1249130, 1249260, 1249430, 1249480, 1249500, 1249800, 1249880, 1250, 12500, 1250060, 1250070, 1250180, 1250220, 1250250, 1250410, 1250440, 1250520, 1250650, 1250690, 1250760, 1250770, 1250790, 1250870, 1250890, 12510, 1251000, 1251210, 1251290, 1251300, 1251460, 1251530, 1251640, 1251680, 1251850, 1251910, 1251930, 1251940, 1251970, 1251980, 12520, 1252000, 1252010, 1252170, 1252200, 1252300, 1252320, 1252330, 1252390, 1252400, 1252560, 1252580, 1252600, 1252650, 1252710, 1252740, 1252750, 1252780, 1252830, 1252850, 1252870, 1252990, 1253190, 1253350, 1253390, 1253460, 1253550, 1253580, 1253680, 1253710, 1253860, 1253870, 1253880, 1253920, 1253990, 1254120, 1254130, 1254320, 1254350, 1254360, 1254370, 1254380, 1254480, 1254500, 1254570, 1254620, 1254670, 1254700, 1254870, 1254900, 1254980, 1254990, 1255000, 1255040, 1255150, 1255151, 1255152, 1255310, 1255560, 1255630, 1255650, 1255660, 1255740, 1255810, 1255830, 1255840, 1255950, 1255980, 1255990, 1256, 1256030, 1256060, 1256190, 1256220, 1256230, 1256380, 1256530, 1256610, 1256670, 1256690, 1256750, 1256830, 1257, 1257170, 1257200, 1257210, 1257280, 1257290, 1257360, 1257410, 1257440, 1257600, 1257880, 1257910, 1257930, 1257940, 1258040, 1258060, 1258080, 1258140, 1258220, 1258310, 1258320, 1258340, 1258480, 1258590, 1258710, 1258740, 1258780, 1258910, 1259000, 1259240, 1259360, 1259380, 1259420, 1259430, 1259440, 1259510, 1259530, 1259560, 1259740, 1259750, 1259790, 1259800, 1259840, 1259930, 1259980, 1259990, 1260020, 1260130, 1260220, 1260320, 1260390, 1260510, 1260520, 1260590, 1260680, 1260810, 1260820, 1260960, 1261040, 1261090, 1261120, 1261130, 1261180, 1261220, 1261270, 1261380, 1261430, 1261520, 1261530, 1261570, 1261760, 1261880, 1261960, 1261970, 1262000, 1262040, 1262060, 1262100, 1262110, 1262140, 1262190, 1262240, 1262350, 1262460, 1262540, 1262560, 1262571, 1262572, 1262580, 1262600, 1262640, 1262670, 1262720, 1262890, 1262910, 1263070, 1263130, 1263160, 1263230, 1263370, 1263550, 1263560, 1263620, 1263830, 1263850, 1263860, 1263990, 12640, 1264160, 1264170, 1264171, 1264250, 1264280, 1264340, 1264350, 1264510, 1264520, 1264670, 1264710, 1264740, 1264790, 1264920, 1264970, 1265030, 1265090, 1265220, 1265300, 1265510, 1265570, 1265640, 1265650, 1265690, 1265780, 1265800, 1265820, 1265850, 1265860, 1265920, 1265930, 1266030, 1266100, 1266140, 1266220, 1266340, 1266370, 1266430, 1266560, 1266580, 1266600, 1266630, 1266670, 1266690, 1266700, 1266800, 1266820, 1266840, 1267250, 1267260, 1267310, 1267470, 1267507, 1267509, 1267540, 1267910, 1267950, 1268040, 1268110, 1268140, 1268290, 1268530, 1268570, 1268750, 1268810, 1268860, 1268870, 1268940, 1268960, 12690, 1269020, 1269050, 1269240, 1269260, 1269300, 1269350, 1269370, 1269640, 1269690, 1269710, 1269810, 1269820, 1269950, 1270010, 1270100, 1270210, 1270320, 1270340, 1270370, 1270540, 1270620, 1270820, 1270830, 1270870, 1270910, 1270930, 12710, 1271050, 1271080, 1271100, 1271110, 1271190, 1271280, 1271300, 1271400, 1271580, 1271630, 1271671, 1271700, 1271710, 1271740, 1271750, 1271791, 1271850, 1271870, 1272010, 1272070, 1272080, 1272090, 1272110, 1272120, 1272160, 1272320, 1272440, 1272650, 1272654, 1272657, 1272680, 1272690, 1272840, 1272860, 1273056, 1273080, 1273220, 1273260, 1273400, 1273440, 1273450, 1273480, 1273570, 1273580, 1273590, 1273620, 1273690, 1273710, 1273750, 1273790, 1273930, 1273940, 1273970, 1273971, 1274140, 1274200, 1274290, 1274300, 1274360, 1274490, 1274570, 1274910, 12750, 1275290, 1275330, 1275350, 1275630, 1275640, 1275670, 1275730, 1275770, 1275890, 1275920, 1275980, 1276070, 1276100, 1276330, 1276370, 1276390, 1276470, 1276530, 1276550, 1276610, 1276660, 1276760, 1276790, 1276800, 12770, 1277210, 1277310, 1277320, 1277400, 1277510, 1277570, 1277920, 1277930, 1277940, 1278060, 1278150, 1278210, 1278240, 1278260, 1278300, 1278390, 1278480, 1278500, 1278750, 1278960, 1279240, 1279260, 1279270, 1279280, 1279400, 1279410, 1279590, 1279610, 1279630, 1279700, 1279800, 1279910, 1279920, 1280, 1280010, 1280260, 1280370, 1280420, 1280770, 1280780, 1280900, 1280910, 1280930, 12810, 1281010, 1281080, 1281100, 1281160, 1281200, 1281330, 1281590, 1281630, 1281790, 1281800, 1281880, 1281881, 1281930, 1282080, 1282090, 1282100, 1282150, 1282210, 1282240, 1282350, 1282410, 1282531, 1282550, 1282590, 1282690, 1282730, 12830, 1283090, 1283091, 1283130, 1283190, 1283220, 1283280, 1283320, 1283370, 1283400, 1283410, 1283500, 1283630, 1283770, 1283930, 1283960, 1283970, 1284010, 1284150, 1284190, 1284210, 1284390, 1284410, 1284540, 1284790, 1284800, 1284820, 1284870, 1284880, 1285000, 1285040, 1285060, 1285080, 1285160, 1285230, 1285510, 1285530, 1285560, 1285630, 1285670, 1285810, 1285870, 1285920, 1286010, 1286180, 1286280, 1286320, 1286330, 1286340, 1286350, 1286480, 1286580, 1286600, 1286680, 1286710, 1286730, 1286760, 1286830, 1286880, 1287000, 1287020, 1287030, 1287040, 1287050, 1287056, 1287140, 1287250, 1287260, 1287290, 1287490, 1287500, 1287530, 1287590, 1287602, 1287750, 1287800, 1287830, 1287840, 1287920, 1288170, 1288310, 1288320, 1288370, 1288440, 1288460, 1288600, 1288760, 1288900, 1288920, 1289190, 1289191, 1289234, 1289310, 1289340, 1289380, 1289450, 1289451, 1289453, 1289454, 1289520, 1289610, 1289640, 1289810, 1289890, 1289900, 1289910, 1289950, 1289990, 12900, 1290000, 1290070, 1290170, 1290220, 1290250, 1290260, 1290270, 1290350, 1290490, 1290710, 1290880, 1291010, 1291210, 1291240, 1291330, 1291340, 1291370, 1291500, 1291660, 1291790, 1292020, 1292040, 1292050, 1292130, 1292170, 1292180, 1292500, 1292520, 1292630, 1292690, 1292700, 1292750, 1292770, 1292810, 1292910, 1292940, 1292960, 1293040, 1293080, 1293160, 1293180, 1293230, 1293240, 1293280, 1293420, 1293460, 1293650, 1293730, 1293820, 1293830, 1293860, 1294060, 1294220, 1294310, 1294340, 1294420, 1294440, 1294650, 1294660, 1294680, 1294760, 1294810, 1294880, 1294970, 1295130, 1295180, 1295190, 1295270, 1295320, 1295350, 1295500, 1295510, 1295670, 1295730, 1295790, 1295800, 1295810, 1295900, 1295920, 1296280, 1296290, 1296360, 1296510, 1296540, 1296610, 1296640, 1296770, 1296810, 1296830, 1296840, 1296970, 1296980, 1297160, 1297210, 1297230, 1297300, 1297330, 1297390, 1297430, 1297460, 1297530, 1297650, 1297660, 1297790, 1298100, 1298140, 1298210, 1298260, 1298480, 1298530, 1298590, 1298620, 1298670, 1298700, 1299120, 1299270, 1299320, 1299330, 1299360, 1299370, 1299400, 1299480, 1299510, 1299530, 1299590, 1299620, 1299980, 1299990, 130, 1300, 1300100, 1300211, 1300270, 1300310, 1300360, 1300430, 1300600, 1300620, 1300700, 1300710, 1300850, 1300851, 1300920, 1301010, 1301020, 1301021, 1301220, 1301390, 1301590, 1301620, 1301720, 1301740, 1301950, 1302050, 1302110, 1302180, 1302240, 1302440, 1302590, 1302660, 1302750, 1302780, 1302800, 1302930, 1302990, 1303010, 1303182, 1303183, 1303184, 1303193, 1303670, 1303740, 1303891, 1303950, 1304090, 1304150, 1304320, 1304340, 1304350, 1304400, 1304414, 1304444, 1304449, 1304468, 1304510, 1304550, 1304580, 1304600, 1304601, 1304620, 1304640, 1304660, 1304680, 1304770, 1304780, 1304930, 1305040, 1305060, 1305300, 1305310, 1305420, 1305440, 1305540, 1305720, 1306570, 1306580, 1306620, 1306630, 1306720, 1306750, 1306770, 1306780, 1306860, 1307090, 1307240, 1307370, 1307440, 1307460, 1307550, 1307580, 1307600, 1307660, 1307670, 1307680, 1307690, 1307710, 1307890, 1308030, 1308090, 1308130, 1308180, 1308181, 1308182, 1308183, 1308360, 1308500, 1308510, 1308560, 1308700, 1308760, 1308800, 1308950, 1309000, 1309080, 1309110, 1309280, 1309610, 1309780, 1309820, 1309870, 1309980, 1309990, 1310290, 1310330, 1310460, 1310470, 1310480, 1310510, 1310520, 1310910, 1310970, 1310990, 1311070, 1311190, 1311210, 1311250, 1311540, 1311640, 1311660, 1311700, 1311740, 1311830, 1312740, 1312960, 1312990, 1313, 1313020, 1313050, 1313140, 1313310, 1313470, 1313860, 1313940, 13140, 1314000, 1314010, 1314140, 1314160, 1314290, 1314460, 1314470, 1314563, 1314620, 1314630, 1314761, 1314764, 1314765, 1315160, 1315200, 1315210, 1315270, 1315300, 1315350, 1315610, 1315630, 1315750, 1315751, 1315860, 1315980, 1316060, 1316110, 1316160, 1316230, 1316560, 1316700, 1316760, 1316840, 1316910, 1317020, 1317080, 1317120, 1317160, 1317230, 1317250, 1318030, 1318090, 1318130, 1318420, 1318560, 1318690, 1318740, 1318750, 1318790, 1318940, 1318980, 1319460, 1319850, 1320100, 1320550, 1320950, 1321030, 1321040, 1321070, 1321220, 1321230, 1321270, 1321440, 1321450, 1321680, 1321920, 1322170, 1322270, 1322290, 1322300, 1322310, 1322490, 1322540, 1322600, 1322650, 1322770, 1323200, 1323320, 1323420, 1323470, 1323540, 1323620, 1323900, 1324000, 1324010, 1324030, 1324130, 1324150, 1324190, 1324270, 1324340, 1324350, 1324530, 1324780, 1324970, 1325000, 1325200, 1325310, 1325370, 1325380, 1325400, 1325470, 1325500, 1325800, 1325860, 1325870, 1325890, 1325900, 1326000, 1326270, 1326470, 1326700, 1327020, 1327080, 1327390, 1327920, 1328000, 1328170, 1328350, 1328410, 1328530, 1328660, 1328670, 1328810, 1328840, 1328890, 1328900, 1328920, 1329080, 1329130, 1329260, 1329261, 1329262, 1329263, 1329264, 1329350, 1329410, 1329500, 1329510, 1329540, 1329730, 1329790, 1329880, 1329990, 1330000, 1330190, 1330250, 1330420, 1330460, 1330470, 1330480, 1330660, 1330721, 1330890, 1330960, 1331210, 1331270, 1331550, 1331590, 1331820, 1332010, 1332090, 1332470, 1332490, 1332720, 1332760, 1332860, 1332970, 1333220, 1333330, 1333350, 1333360, 1333470, 1333700, 1333800, 1333910, 1333920, 1334000, 1334010, 1334040, 1334590, 1334700, 1334730, 1334840, 1335070, 1335080, 1335090, 1335100, 1335140, 1335200, 1335230, 1335240, 1335510, 1335530, 1335560, 1335790, 1335830, 1335840, 1336060, 1336120, 1336160, 1336180, 1336210, 1336321, 1336322, 1336350, 1336430, 1336482, 1336483, 1336490, 1336560, 1336600, 1336840, 1336980, 1337010, 1337100, 1337270, 1337280, 1337430, 1337530, 1337590, 1337690, 1337760, 1337860, 1337890, 1337920, 1337970, 1338250, 1338320, 1338330, 1338460, 1338580, 1338630, 1338640, 1338770, 1338840, 1339000, 1339260, 1339380, 1339410, 1339460, 1339860, 1339890, 1339900, 1340120, 1340130, 1340180, 1340300, 1340420, 1340470, 1340480, 1340530, 1340600, 1340640, 1341050, 1341060, 1341170, 1341200, 1341210, 1341280, 1341290, 1341330, 1341460, 1341520, 1341550, 1341640, 1341650, 1341701, 1341702, 1341820, 1341930, 1341960, 1342040, 1342050, 1342060, 1342080, 1342090, 1342100, 1342110, 1342120, 1342260, 1342330, 1342340, 1342620, 1342630, 1342790, 1342890, 1343090, 1343220, 1343240, 1343320, 1343370, 1343400, 1343500, 1343520, 1343580, 1343620, 1343640, 1343670, 1343750, 1343770, 1343810, 1344320, 1344350, 1344440, 1344530, 1344630, 1344680, 1344740, 1344810, 1345380, 1345740, 1345750, 1345800, 1345820, 1345860, 1345870, 1345890, 1345990, 1346010, 1346020, 1346070, 1346240, 1346270, 1346400, 1346500, 1346590, 1346770, 1346830, 1346870, 1346890, 1346960, 1346970, 1346980, 1347030, 1347240, 1347430, 1347450, 1347520, 1347550, 1347750, 1347751, 1347780, 1347800, 1347920, 1347970, 1348140, 1348160, 1348180, 1348300, 1348390, 1348660, 1348661, 1348690, 1348700, 1348920, 1348970, 1349030, 1349040, 1349060, 1349120, 1349230, 1349400, 1349830, 1349850, 1349920, 1349960, 13500, 1350200, 1350250, 1350340, 1350350, 1350390, 1350500, 1350650, 1350710, 1350840, 1350860, 13510, 1351010, 1351060, 1351080, 1351170, 1351210, 1351261, 1351370, 1351450, 1351500, 1351630, 1351780, 1351830, 1351950, 13520, 1352040, 1352050, 1352080, 1352330, 1352740, 1352850, 1352930, 13530, 1353060, 1353080, 1353100, 1353120, 1353190, 1353230, 1353270, 1353300, 1353680, 1353730, 1353850, 1353870, 1353880, 1353920, 1353941, 1353942, 1353943, 1353946, 13540, 1354100, 1354230, 1354640, 1354760, 1354830, 1354910, 1354960, 1355050, 1355090, 1355650, 1355760, 1355780, 1355830, 1355880, 1355930, 1355960, 13560, 1356180, 1356220, 1356221, 1356240, 1356280, 1356411, 1356440, 1356670, 1356710, 1356810, 13570, 1357070, 1357160, 1357180, 1357210, 1357371, 1357372, 1357410, 1357490, 1357610, 1357670, 1357710, 1357830, 1357840, 1357860, 1357870, 13580, 1358070, 1358090, 1358140, 1358250, 1358530, 1358540, 1358700, 1358710, 1358750, 1358800, 1358840, 1358890, 1359090, 1359120, 1359170, 1359280, 1359320, 1359470, 1359650, 1359970, 1359980, 13600, 1360000, 1360250, 1360290, 1360390, 1360530, 1360660, 1360670, 1360850, 1360980, 1361000, 1361010, 1361110, 1361180, 1361210, 1361230, 1361260, 1361280, 1361320, 1361350, 1361400, 1361440, 1361510, 1361680, 1361700, 1361760, 1361830, 1361831, 1361860, 13620, 1362010, 1362190, 1362310, 1362420, 1362430, 1362560, 1362860, 13630, 1363350, 1363360, 1363430, 1363740, 1363810, 1363840, 1363850, 1363880, 1363900, 1364020, 1364033, 1364100, 1364130, 1364180, 1364210, 1364224, 1364290, 1364390, 1364500, 1364510, 1364760, 1364780, 1364800, 1364960, 1364980, 1365010, 1365020, 1365050, 1365070, 1365560, 1365720, 1365750, 1365760, 1365950, 1365990, 1366091, 1366290, 1366540, 1366560, 1366720, 1366750, 1366800, 1366810, 1366850, 1366900, 1366950, 1367020, 1367080, 1367230, 1367300, 1367320, 1367420, 1367430, 1367550, 1367570, 1367590, 1367690, 1367950, 1368030, 1368060, 1368130, 1368210, 1368340, 1368400, 1368430, 1368440, 1368460, 1368570, 1368571, 1368572, 1368780, 1368800, 1368810, 1368850, 1368860, 1368870, 1368910, 1368950, 1369320, 1369340, 1369370, 1369400, 1369470, 1369520, 1369630, 1369670, 1369760, 1370020, 1370050, 1370140, 1370180, 1370600, 1370610, 1370630, 1371030, 1371040, 1371300, 1371380, 1371400, 1371403, 1371500, 1371520, 1371580, 1371630, 1371660, 1371690, 1371720, 1371750, 1372110, 1372210, 1372280, 1372300, 1372320, 1372370, 1372530, 1372800, 1372810, 1372830, 1373020, 1373120, 1373220, 1373320, 1373350, 1373430, 1373510, 1373550, 1373780, 1373950, 1374010, 1374300, 1374340, 1374470, 1374480, 1374500, 1374610, 1374740, 1374840, 1374930, 1374970, 1374990, 1375400, 1375530, 1375540, 1375740, 1375760, 1375870, 1375900, 1375970, 1376040, 1376070, 1376220, 1376420, 1376470, 1376690, 1376840, 1376870, 1376890, 1376910, 1376920, 1377030, 1377080, 1377150, 1377300, 1377360, 1377380, 1377420, 1377430, 1377450, 1377530, 1377540, 1377550, 1377580, 1377590, 1377600, 1377800, 1377920, 1377980, 1378020, 1378040, 1378070, 1378080, 1378290, 1378330, 1378360, 1378660, 1378760, 1378800, 1378990, 1379110, 1379130, 1379550, 1379560, 1379580, 1379630, 1379750, 1379830, 1379870, 1379900, 1379930, 1379970, 1380010, 1380120, 1380220, 1380390, 1380400, 1380410, 1380420, 1380620, 1380650, 1380910, 1381070, 1381150, 1381440, 1381530, 1381650, 1381780, 1381850, 1381980, 1382070, 1382200, 1382210, 1382241, 1382330, 1382910, 1383040, 1383170, 1383250, 1383370, 1383450, 1383510, 1383630, 1383640, 1383680, 1383720, 1383740, 1383750, 1383880, 1384160, 1384320, 1384630, 1384700, 1384770, 1385100, 1385210, 1385380, 1385650, 1385700, 1385730, 1385780, 1385840, 1385850, 1385880, 1385950, 1386200, 1386500, 1386600, 1386612, 1386616, 1386650, 1386710, 1386730, 1386780, 1386870, 1386890, 1386900, 1386931, 1386950, 1386980, 1387030, 1387290, 1387350, 1387460, 1387480, 1387500, 1387560, 1387590, 1387980, 1388320, 1388350, 1388370, 1388570, 1388580, 1388590, 1388650, 1388720, 1388770, 1388850, 1388870, 1388880, 1389070, 1389160, 1389240, 1389260, 1389300, 1389360, 1389550, 1389560, 1389630, 1389700, 1389840, 1389910, 1389950, 1389990, 1390010, 1390150, 1390190, 1390350, 1390410, 1390430, 1390490, 1390650, 1390700, 1390710, 1390740, 1390880, 1390920, 1391000, 1391280, 1391450, 1391530, 1391740, 1391800, 1392060, 1392100, 1392130, 1392170, 1392340, 1392600, 1392700, 1392780, 1392820, 1392840, 1392960, 1393110, 1393111, 1393210, 1393310, 1393320, 1393350, 1393370, 1393410, 1393420, 1393500, 1393610, 1393750, 1393770, 1393830, 1393870, 1393970, 1394100, 1394140, 1394270, 1394400, 1394500, 1394800, 1394890, 1394930, 1395030, 1395190, 1395420, 1395560, 1395730, 1395760, 1395850, 1396150, 1396240, 1396260, 1396440, 1396470, 1396471, 1396472, 1396473, 1396474, 1396610, 1396780, 1396890, 1396980, 1397010, 1397110, 1397240, 1397290, 1397350, 1397370, 1397380, 1397390, 1397490, 1397620, 1397650, 1397790, 1397920, 1398050, 1398060, 1398070, 1398100, 1398210, 1398260, 1398390, 1398740, 1398770, 1398910, 1399080, 1399090, 1399170, 1399240, 1399300, 1399370, 1399411, 1399590, 1399690, 1399700, 1399720, 1399740, 1399750, 1399840, 1399850, 1399930, 1400070, 1400100, 1400140, 1400180, 1400290, 1400300, 1400301, 1400320, 1400460, 1400700, 1400870, 1400970, 1401170, 1401220, 1401320, 1401400, 1401462, 1401490, 1401590, 1401680, 1401760, 1402020, 1402110, 1402120, 1402320, 1402410, 1402480, 1402790, 1403020, 1403080, 1403370, 1403550, 1403630, 1403650, 1403710, 1403990, 1404130, 1404150, 1404210, 1404850, 1404930, 1405180, 1405220, 1405440, 1405470, 1405660, 1405720, 1405730, 1405790, 1405830, 1405940, 1406020, 1406040, 1406110, 1406140, 1406240, 1406270, 1406280, 1406690, 1406780, 1406810, 1406850, 1406990, 1407180, 1407200, 1407210, 1407420, 1407450, 1407790, 1407860, 1407890, 1408020, 1408110, 1408230, 1408260, 1408390, 1408610, 1408700, 1408720, 1409140, 1409142, 1409143, 1409160, 1409530, 1409670, 1409710, 1409740, 1409760, 1409770, 1409780, 1410210, 1410330, 1410360, 1410440, 1410460, 1410500, 1410640, 1410710, 1410830, 1410870, 1410980, 1411330, 1411380, 1411520, 1411660, 1411670, 1411740, 1411800, 1411840, 1412170, 1412190, 1412240, 1412310, 1412470, 1412500, 1412540, 1412570, 1412580, 1412761, 1412780, 1412850, 1412900, 1412940, 1412980, 1413000, 1413020, 1413370, 1413450, 1413480, 1413580, 1413660, 1413870, 1413960, 1413970, 1413980, 1413990, 1414000, 1414180, 1414250, 1414430, 1414480, 1414630, 1414720, 1414800, 1414850, 1414990, 1415070, 1415140, 1415280, 1415300, 1415410, 1415420, 1415660, 1415690, 1415692, 1415700, 1415830, 1416050, 1416130, 1416160, 1416210, 1416230, 1416240, 1416260, 1416340, 1416390, 1416420, 1416450, 1416520, 1416730, 1417010, 1417190, 1417260, 1417420, 1417540, 1417600, 1417720, 1417750, 1417880, 1417950, 1418020, 1418160, 1418170, 1418180, 1418230, 1418231, 1418300, 1418330, 1418360, 1418570, 1418630, 1418720, 1418760, 1418800, 1418841, 1418842, 1418843, 1418844, 1418845, 1418846, 1418848, 1418849, 1418870, 1418970, 1418980, 1419040, 1419050, 1419160, 1419170, 1419370, 1419480, 1419640, 1419730, 1419750, 1419850, 1419860, 1419980, 1420080, 1420290, 1420300, 1420330, 1420350, 1420540, 1420640, 1420740, 1420770, 1420780, 1420810, 1420830, 1420850, 1420880, 1420960, 1421250, 1421480, 1421490, 1421540, 1421550, 1421551, 1421640, 1421700, 1421760, 1421790, 1422130, 1422210, 1422260, 1422380, 1422410, 1422420, 1422430, 1422540, 1422610, 1422670, 1422730, 1422750, 1422780, 1423000, 1423060, 1423270, 1423330, 1423340, 1423370, 1423410, 1423600, 1423650, 1423780, 1423900, 1424240, 1424310, 1424330, 1424350, 1424360, 1424600, 1424660, 1424710, 1424720, 1424790, 1424800, 1424830, 1424870, 1424910, 1424920, 1424940, 1424980, 1425190, 1425250, 1425270, 1425450, 1425510, 1425730, 1425760, 1425820, 1425840, 1425880, 1426010, 1426050, 1426090, 1426110, 1426120, 1426210, 1426280, 1426300, 1426440, 1426450, 1426490, 1426500, 1426680, 1426700, 1426730, 1426880, 1427340, 1427480, 1427650, 1427680, 1427860, 1427890, 1428100, 1428220, 1428310, 1428460, 1428470, 1428520, 1428560, 1428610, 1428710, 1428770, 1428780, 1428870, 1428900, 1429500, 1429610, 1429640, 1429670, 1429740, 1429754, 1429756, 1429800, 1430030, 1430420, 1430610, 1430640, 1430680, 1430750, 1430970, 1431030, 1431040, 1431230, 1431240, 1431290, 1431350, 1431482, 1431495, 1431570, 1431610, 1431712, 1431780, 1431840, 1431950, 1432050, 1432100, 1432320, 1432500, 1432620, 1432640, 1432641, 1432642, 1432643, 1432680, 1432710, 1432750, 1432860, 1432910, 1432960, 1433010, 1433090, 1433140, 1433190, 1433340, 1433420, 1433550, 1433560, 1433570, 1433620, 1433750, 1433860, 1433890, 1433950, 1433990, 1434310, 1434480, 1434490, 1434750, 1434900, 1434950, 1435010, 1435310, 1435510, 1435530, 1435580, 1435670, 1435780, 1435790, 1436040, 1436210, 1436240, 1436590, 1436600, 1436680, 1436700, 1436710, 1436930, 1436950, 1436990, 1437000, 1437050, 1437130, 1437210, 1437650, 1437660, 1437700, 1437720, 1437750, 1437810, 1437820, 1437830, 1437840, 1437850, 1437860, 1437870, 1437880, 1437940, 1438060, 1438210, 1438440, 1438870, 1438940, 1438980, 1439000, 1439070, 1439300, 1439490, 1439840, 1440020, 1440190, 1440191, 1440290, 1440320, 1440440, 1440500, 1440510, 1440670, 1441230, 1441240, 1441400, 1441550, 1441590, 1441717, 1441719, 1441722, 1441727, 1441790, 1441840, 1442070, 1442160, 1442170, 1442300, 1442360, 1442620, 1442650, 1442670, 1442820, 1443010, 1443011, 1443055, 1443080, 1443081, 1443082, 1443083, 1443089, 1443090, 1443091, 1443092, 1443093, 1443200, 1443430, 1443490, 1443780, 1443790, 1443820, 1444020, 1444110, 1444300, 1444350, 1444480, 1444560, 1444650, 1444730, 1444860, 1444920, 1445440, 1445720, 1445810, 1446100, 1446160, 1446330, 1446360, 1446480, 1446570, 1446650, 1446730, 1446770, 1446780, 1446850, 1446990, 1447000, 1447090, 1447190, 1447290, 1447430, 1447580, 1447870, 1448030, 1448220, 1448230, 1448260, 1448400, 1448440, 1448530, 1448600, 1448750, 1448800, 1449000, 1449070, 1449100, 1449200, 1449230, 1449260, 1449280, 1449310, 1449320, 1449330, 1449350, 1449430, 1449440, 1449441, 1449442, 1449450, 1449500, 1449510, 1449630, 1449690, 1449750, 1449850, 1449880, 1450080, 1450090, 1450100, 1450120, 1450150, 1450170, 1450180, 1450330, 1450340, 1450571, 1450700, 1450830, 1450900, 1451080, 1451090, 1451120, 1451140, 1451190, 1451200, 1451230, 1451460, 1451480, 1451680, 1451740, 1451810, 1451920, 1451940, 1451950, 1451970, 1452070, 1452210, 1452490, 1452500, 1452850, 1453140, 1453440, 1453490, 1453640, 1453790, 1453840, 1453850, 1453900, 1453920, 1453940, 1454010, 1454140, 1454160, 1454240, 1454400, 1454430, 1454500, 1454520, 1454640, 1454750, 1454770, 1454970, 1455070, 1455120, 1455220, 1455300, 1455350, 1455630, 1455720, 1455840, 1455900, 1456180, 1456200, 1456210, 1456230, 1456360, 1456361, 1456362, 1456363, 1456650, 1456820, 1456880, 1457080, 1457220, 1457320, 1457430, 1457450, 1457510, 1457520, 1457540, 1457550, 1457580, 1457620, 1457630, 1457650, 1457660, 1457750, 1457930, 1458100, 1458150, 1458151, 1458154, 1458155, 1458390, 1458560, 1458660, 1459410, 1459500, 1459560, 1459720, 1459810, 1459870, 1459910, 1459960, 1460020, 1460021, 1460040, 1460090, 1460200, 1460220, 1460250, 1460490, 1460550, 1460750, 1460830, 1460920, 1461030, 1461040, 1461050, 1461100, 1461160, 1461600, 1461680, 1461730, 1461740, 1461770, 1461810, 1461850, 1461920, 1462040, 1462460, 1462470, 1462490, 1462530, 1462550, 1462570, 1462640, 1462650, 1462730, 1462740, 1462780, 1462810, 1462900, 1463020, 1463090, 1463120, 1463470, 1463730, 1463760, 1463780, 1463820, 1463920, 1464000, 1464060, 1464061, 1464062, 1464063, 1464380, 1464550, 1464910, 1464930, 1465040, 1465050, 1465070, 1465170, 1465190, 1465210, 1465360, 1465380, 1465500, 1465510, 1465550, 1465560, 1465750, 1465860, 1465890, 1466060, 1466120, 1466180, 1466640, 1466680, 1466690, 1466750, 1466860, 1467120, 1467121, 1467450, 1467810, 1467920, 1468040, 1468060, 1468080, 1468260, 1468290, 1468380, 1468480, 1468720, 1468810, 1469160, 1469170, 1469220, 1469280, 1469300, 1469370, 1469550, 1469620, 1469910, 1470120, 1470310, 1470640, 1470790, 1471040, 1471180, 1471200, 1471310, 1471390, 1471410, 1471521, 1471530, 1471590, 1471610, 1471780, 1471870, 1471940, 1472190, 1472191, 1472250, 1472310, 1472560, 1472660, 1472780, 1473050, 1473250, 1473270, 1473430, 1473480, 1474030, 1474200, 1474630, 1474700, 1474740, 1475200, 1475320, 1475380, 1475400, 1475430, 1475460, 1475530, 1475580, 1475810, 1475830, 1475840, 1475850, 1475990, 1476080, 1476340, 1476350, 1476410, 1476520, 1476780, 1476920, 1476970, 1477060, 1477070, 1477300, 1477330, 1477450, 1477460, 1477480, 1477490, 1477570, 1477590, 1477650, 1477700, 1477770, 1477780, 1477790, 1477810, 1477830, 1477840, 1477920, 1478070, 1478160, 1478220, 1478300, 1478410, 1478600, 1478650, 1478720, 1478810, 1478980, 1479140, 1479170, 1479340, 1479500, 1479630, 1480120, 1480230, 1480360, 1480370, 1480480, 1480500, 1480560, 1480810, 1480830, 1481080, 1481110, 1481111, 1481400, 1481440, 1481780, 1481910, 1482060, 1482080, 1482081, 1482320, 1482340, 1482490, 1482620, 1482630, 1482631, 1482640, 1482740, 1482750, 1482770, 1482840, 1482860, 1482910, 1483350, 1483370, 1483400, 1483730, 1483870, 1483980, 1484050, 1484231, 1484280, 1484620, 1484720, 1484800, 1484900, 1484960, 1485080, 1485100, 1485120, 1485180, 1485210, 1485240, 1485250, 1485420, 1485570, 1485690, 1485870, 1486050, 1486350, 1486440, 1486630, 1486660, 1486670, 1486690, 1486750, 1486950, 1487210, 1487270, 1487390, 1487430, 1487530, 1487540, 1487560, 1487590, 1487680, 1487770, 1488200, 1488560, 1488600, 1488820, 1489000, 1489310, 1489330, 1489410, 1489600, 1489630, 1489660, 1489840, 1489970, 1490060, 1490070, 1490080, 1490090, 1490100, 1490110, 1490111, 1490115, 1490116, 1490119, 1490130, 1490250, 1490300, 1490340, 1490410, 1490460, 1490550, 1490610, 1490680, 1490790, 1490840, 1490860, 1490890, 1490910, 1490980, 1491000, 1491140, 1491170, 1491340, 1491460, 1491490, 1491640, 1491650, 1491670, 1492070, 1492140, 1492200, 1492310, 1492320, 1492360, 1492510, 1492680, 1492730, 1493020, 1493060, 1493170, 1493300, 1493470, 1493520, 1493580, 1493730, 1493750, 1493760, 1493800, 1493910, 1493940, 1493970, 1494140, 1494190, 1494230, 1494260, 1494300, 1494400, 1494420, 1494440, 1494460, 1494470, 1494810, 1494960, 1495000, 1495320, 1495420, 1495580, 1495860, 1495940, 1495990, 1496180, 1496250, 1496790, 1496920, 1496990, 1497020, 1497080, 1497110, 1497160, 1497180, 1497230, 1497440, 1497450, 1497590, 1497640, 1497870, 1497950, 1498040, 1498090, 1498120, 1498140, 1498180, 1498210, 1498310, 1498570, 1498740, 1498760, 1499120, 1499180, 1499240, 1499300, 1499560, 1499750, 1500, 15000, 1500380, 1500490, 1500540, 1500650, 1500750, 1500800, 1500820, 1500840, 1500970, 1501090, 1501320, 1501410, 1501610, 1501650, 1501750, 1502000, 1502040, 1502080, 1502120, 1502160, 1502190, 1502230, 1502380, 1502560, 1502600, 1502620, 1502660, 1502940, 1502970, 1502980, 1502990, 1503040, 1503180, 1503190, 1503200, 1503250, 1503280, 1503390, 1503530, 1503670, 1503720, 1503820, 1503850, 1503980, 1504020, 1504270, 1504500, 1504570, 1504670, 1504740, 1504980, 1505320, 1505560, 1505620, 1505830, 1506230, 1506260, 1506280, 1506340, 1506440, 1506450, 1506510, 1506600, 1506620, 1506640, 1506680, 1506830, 1506980, 1507190, 1507220, 1507420, 1507720, 1507780, 1507790, 1507970, 15080, 1508030, 1508170, 1508200, 1508260, 1508270, 1508300, 1508360, 1508400, 1508430, 1508460, 1508490, 1508570, 1508620, 1508680, 1508740, 1508750, 1508810, 1508920, 1508950, 1509040, 1509080, 1509090, 1509120, 1509220, 1509230, 1509340, 1509350, 1509410, 1509420, 1509510, 1509590, 1509640, 1509650, 1509820, 1509960, 1510, 15100, 1510030, 1510150, 1510410, 1510460, 1510580, 1510590, 1510620, 1510670, 1510740, 1510850, 1510860, 1510950, 1511040, 1511270, 1511460, 1511650, 1511670, 1511780, 1511830, 1511860, 15120, 1512070, 1512080, 1512240, 1512590, 1512720, 1512750, 1512860, 1512940, 15130, 1513420, 1514360, 1514370, 1514380, 1514660, 1514780, 1514840, 1514860, 1514930, 1514950, 15150, 1515063, 1515065, 1515200, 1515210, 1515230, 1515290, 1515320, 1515460, 1515640, 1515820, 1515870, 1515900, 1515950, 1515980, 1516010, 1516080, 1516240, 1516260, 1516330, 1516400, 1516750, 1516820, 15170, 1517030, 1517150, 1517200, 1517201, 1517290, 1517340, 1517470, 1517481, 1517850, 1517960, 1517970, 1518360, 1518430, 1518440, 1518670, 1518750, 1518770, 1518790, 1518810, 1518820, 15190, 1519060, 1519310, 1519350, 1519490, 1519590, 1519620, 1519780, 1519900, 1520, 15200, 1520060, 1520090, 1520370, 1520380, 1520470, 1520480, 1520500, 1520620, 1520720, 1520760, 1520810, 1520840, 1520900, 15210, 1521070, 1521110, 1521190, 1521490, 1521580, 1522080, 1522090, 1522260, 1522280, 1522430, 1522550, 1522560, 1522650, 1522660, 1522820, 1522870, 1522930, 1522950, 1522960, 1523190, 1523260, 1523370, 1523390, 1523400, 1523670, 1523680, 1523730, 1523740, 1523990, 15240, 1524470, 1524550, 1524630, 1524750, 1524790, 1524820, 1524890, 1524910, 1525190, 1525260, 1525330, 1525410, 1525420, 1525460, 1525600, 1525620, 1525700, 1525720, 1525770, 1525890, 1526010, 1526180, 1526230, 1526490, 1526520, 1526700, 1526710, 15270, 1527140, 1527260, 1527500, 1527660, 1527850, 1527890, 1527910, 1527950, 1527980, 1528000, 1528070, 1528080, 1528120, 1528130, 1528240, 1528550, 1528560, 1528780, 1528810, 1528990, 1529220, 1529550, 1529570, 1529710, 1529810, 1529920, 1529930, 1530, 15300, 1530010, 1530012, 1530140, 1530160, 1530300, 1530310, 1530340, 1530430, 1530470, 1530640, 1530650, 1530720, 1530750, 1530760, 1530770, 1530890, 1530920, 15310, 1531020, 1531040, 1531250, 1531430, 1531470, 1531471, 1531540, 1531550, 1531602, 1531604, 1531605, 1531606, 1531607, 1531680, 1531720, 15320, 1532170, 1532180, 1532200, 1532250, 1532460, 1532510, 1532610, 1532690, 1532770, 1533001, 1533006, 1533007, 1533009, 1533010, 1533390, 1533420, 1533590, 1533610, 1533680, 1533880, 1534050, 1534180, 1534200, 1534260, 1534270, 1534340, 1534780, 1534980, 1535060, 1535100, 1535180, 1535190, 1535210, 1535220, 1535560, 1535610, 1535780, 1536070, 1536080, 1536210, 1536370, 1536420, 1536470, 1536610, 1536770, 1536810, 1536950, 1536952, 1536953, 1536980, 15370, 1537080, 1537480, 1537624, 1537740, 1537800, 1537830, 1537910, 1537990, 1537991, 1537992, 1537993, 15380, 1538460, 1538570, 1538850, 1538910, 1538960, 1538970, 15390, 1539080, 1539090, 1539140, 1539160, 1539580, 1539620, 1539750, 15400, 1540070, 1540150, 1540220, 1540870, 1540960, 1541220, 1541250, 1541790, 1541840, 1542040, 1542280, 1542290, 1542360, 1542500, 1542501, 1542670, 1542790, 1542810, 1543030, 1543080, 1543150, 1543210, 1543280, 1543380, 1543420, 1543530, 1543590, 1543980, 1544020, 1544340, 1544360, 1544401, 1544402, 1544403, 1544404, 1544405, 1544406, 1544407, 1544408, 1544430, 1544510, 1544570, 1544580, 1545450, 1545560, 1545820, 1545860, 1545990, 1546010, 1546090, 1546190, 1546310, 1546320, 1546400, 1546500, 1546510, 1546570, 1546670, 1546710, 1546750, 1546790, 1546860, 1546870, 1546920, 1546930, 1546970, 1546990, 1547000, 1547160, 1547170, 1547380, 1547410, 1547500, 1547600, 1547860, 1547890, 1548320, 1548600, 1548680, 1548820, 1548830, 1548850, 1548910, 1548940, 1549030, 1549060, 1549100, 1549180, 1549240, 1549250, 1549420, 1549440, 1549500, 1549550, 1549560, 1549660, 1549750, 1549970, 15500, 1550010, 1550280, 1550510, 1550600, 1550710, 1550730, 1550740, 1550750, 1550840, 1551030, 1551160, 1551220, 1551360, 1551530, 1551540, 1551560, 1551570, 1551590, 1551600, 1551640, 1551670, 15520, 1552220, 1552250, 1552350, 1552550, 1552620, 1552680, 1552730, 1552810, 1552960, 1553061, 1553120, 1553230, 1553290, 1553320, 1553890, 1553910, 1553970, 1554130, 1554400, 1554570, 1554600, 1554640, 1554690, 1554700, 1554790, 1554840, 1554860, 1554910, 1554970, 1555040, 1555050, 1555110, 1555150, 1555400, 1555590, 1555710, 15560, 1556190, 1556200, 1556490, 1556650, 1556690, 1556770, 1556790, 1556870, 1556980, 1557040, 1557210, 1557310, 1557410, 1557420, 1557480, 1557510, 1557580, 1557600, 1557740, 1557780, 1557980, 1557981, 1557990, 1558100, 1558210, 1558310, 1558490, 1558510, 1558830, 1558900, 1558990, 1559300, 1559390, 1559570, 1559600, 1559680, 1559760, 1560170, 1560200, 1560250, 1560390, 1560480, 1560500, 1560770, 1560935, 1561040, 1561360, 1561380, 1561400, 1561470, 1561660, 1561750, 1561850, 1561890, 1561910, 1561980, 15620, 1562020, 1562200, 1562260, 1562420, 1562430, 1562700, 1562800, 1562940, 1563070, 1563130, 1563160, 1563180, 1563340, 1563700, 1563850, 1564090, 1564630, 1564790, 1565080, 1565140, 1565220, 1565670, 1565890, 1565910, 1565920, 1565922, 1566060, 1566200, 1566390, 1566540, 1566680, 1566880, 1566910, 1567020, 1567060, 1567080, 1567110, 1567200, 1567260, 1567370, 1567390, 1567420, 1567800, 1567860, 1567980, 1568180, 1568540, 1568590, 1568620, 1568650, 1568680, 1568800, 1568810, 1568880, 1568940, 1568970, 1569040, 1569090, 1569140, 1569180, 1569190, 1569200, 1569220, 1569520, 1569550, 1569590, 1569630, 1569650, 1569700, 1569810, 15700, 1570010, 1570020, 1570070, 1570080, 1570130, 1570180, 1570330, 1570510, 1570730, 1570760, 1570790, 1570960, 15710, 1571040, 1571100, 1571160, 1571170, 1571220, 1571340, 1571390, 1571440, 1571580, 1571590, 1571690, 1571820, 1571940, 1571990, 1572080, 1572270, 1572330, 1572340, 1572420, 1572440, 1572450, 1572500, 1572810, 1572850, 1572920, 1573060, 1573170, 1573280, 1573300, 1573360, 1573390, 1573430, 1573500, 1573630, 1573720, 1573740, 1573750, 15740, 1574000, 1574050, 1574240, 1574250, 1574260, 1574270, 1574310, 1574330, 1574360, 1574580, 1574600, 1574700, 1574800, 1574870, 1574900, 1574910, 15750, 1575020, 1575300, 1575450, 1575470, 1575540, 1575640, 1575660, 1575670, 1575710, 1575820, 1575870, 1575885, 1575888, 1576060, 1576130, 1576240, 1576280, 1576350, 1576370, 1576390, 1576410, 1576790, 1577120, 1577160, 1577250, 1577260, 1577420, 1577620, 1578030, 1578160, 1578390, 1578650, 1578780, 1578860, 1578950, 1579020, 1579090, 1579150, 1579380, 1579880, 1579920, 1579991, 1579992, 1580050, 1580180, 1580210, 1580240, 1580510, 1580520, 1580640, 1580760, 1580780, 1580790, 1580880, 1580920, 1580970, 1581040, 1581170, 1581180, 1581450, 1581451, 1581480, 1581580, 1581750, 1581770, 1581780, 1581800, 1581937, 1582510, 1582570, 1582680, 1582890, 1583230, 1583280, 1583300, 1583320, 1583390, 1583500, 1583570, 1583720, 1583920, 1584090, 1584650, 1584830, 1584840, 1584940, 1584980, 1585020, 1585130, 1585220, 1585380, 1585440, 1585540, 1585570, 1585700, 1585790, 1585810, 1585811, 1585812, 1585814, 1585816, 1585820, 1585910, 1586080, 1586100, 1586150, 1586290, 1586300, 1586700, 1586750, 1586800, 1586820, 1586830, 1586840, 1586880, 1586990, 1587130, 1587180, 1587540, 1587560, 1587610, 1587622, 1587710, 1587860, 1588010, 1588140, 1588160, 1588380, 1588400, 1588410, 1588530, 1588560, 1588570, 1588640, 1588650, 1588720, 1588830, 1588870, 1589070, 1589120, 1589380, 1589490, 1590160, 1590230, 1590320, 1590360, 1590561, 1590563, 1590565, 1590570, 1590580, 1590600, 1590640, 1590660, 1590700, 1590710, 1590711, 1590712, 1590730, 1590910, 1591290, 1591420, 1591450, 1591490, 1591500, 1591520, 1591530, 1591570, 1591620, 1591680, 1591690, 1591860, 1591870, 1592110, 1592180, 1592190, 1592230, 1592260, 1592290, 1592520, 1592540, 1592630, 1592670, 1592730, 15930, 1593020, 1593030, 1593190, 1593260, 1593310, 1593330, 1593350, 1593360, 1593500, 1593750, 1593780, 1593790, 1594090, 1594220, 1594320, 1594400, 1594610, 1594910, 1594940, 1595030, 1595280, 1595290, 1595310, 1595380, 1595490, 1595510, 1595710, 1596310, 1596540, 1596666, 1596730, 1596850, 1596940, 1596950, 15970, 1597280, 1597290, 1597310, 1597400, 1597460, 1597480, 1597520, 1597580, 1597730, 1597920, 1598010, 1598160, 1598300, 1598560, 1598730, 1598920, 1598930, 1599010, 1599020, 1599030, 1599080, 1599250, 1599270, 1599330, 1599340, 1599470, 1599480, 1599560, 1599600, 1599660, 1599770, 1599880, 1600, 16000, 1600080, 1600100, 1600130, 1600140, 1600150, 1600260, 1600370, 1600530, 1600780, 1601280, 1601350, 1601410, 1601550, 1601740, 1601840, 1601950, 1601970, 1602010, 1602080, 1602280, 1602490, 1602560, 1602990, 1603200, 1603280, 1603410, 1603640, 1603940, 1603980, 1604000, 1604030, 1604060, 1604240, 1604260, 1604350, 1604380, 1604540, 1604640, 1604800, 1605010, 1605090, 1605220, 1605600, 1605690, 1606254, 1606280, 1606340, 1606610, 1606930, 1607016, 1607130, 1607200, 1607240, 1607250, 1607280, 1607310, 1607390, 1607680, 1607890, 1607980, 1608040, 1608070, 1608230, 1608280, 1608290, 1608400, 1608440, 1608450, 1608540, 1608550, 1608640, 1608680, 1608700, 1609040, 1609080, 1609160, 1609230, 1609570, 1609600, 1610, 16100, 1610150, 1610220, 1610400, 1610460, 1610470, 1610550, 1610690, 1610720, 1610870, 1610880, 1610900, 16110, 1611070, 1611300, 1611350, 1611410, 1611430, 1611470, 1611490, 1611580, 1611600, 1611910, 1611940, 16120, 1612120, 1612140, 1612420, 1612480, 1612520, 1612620, 1612770, 1612780, 1612810, 1612920, 16130, 1613100, 1613110, 1613190, 1613280, 1613281, 1613283, 1613284, 1613285, 1613670, 1614040, 1614250, 1614270, 1614550, 1614730, 1614890, 1614940, 1615100, 1615290, 1616180, 1616230, 1616280, 1616620, 1617030, 1617190, 1617430, 1617480, 1617600, 16180, 1618230, 1618280, 1618290, 1618310, 1618540, 1618840, 1619010, 1619070, 1619191, 1619220, 1619330, 1619540, 1619570, 1619750, 1619790, 16200, 1620030, 1620050, 1620110, 1620250, 1620290, 1620340, 1620380, 1620520, 1620540, 1620720, 1620890, 1621031, 1621070, 1621140, 1621310, 1621460, 1621470, 1621471, 1621473, 1621474, 1621475, 1621476, 1621490, 1621560, 1621650, 1621670, 1621680, 1621690, 1621740, 1621760, 1621860, 1621980, 1621990, 1622100, 1622220, 1622221, 1622640, 1622710, 1622770, 1622780, 1622800, 1622810, 1622870, 1622900, 1622940, 1622941, 1623070, 1623210, 1623660, 1623700, 1623880, 1623940, 1624380, 1624540, 1624830, 1625080, 1625230, 1625400, 1625450, 1625720, 1625960, 1626002, 1626003, 1626040, 1626350, 1626460, 1626530, 1626640, 1626890, 1626900, 1627220, 1627680, 1627720, 1627850, 1628050, 1628070, 1628130, 1628480, 1628610, 1628620, 1628760, 1628970, 1629000, 1629010, 1629200, 1629360, 1629520, 1629530, 1629830, 1629910, 1630, 1630080, 1630110, 1630170, 1630280, 1630290, 1630570, 1630590, 1630630, 1630920, 1631080, 1631090, 1631130, 1631210, 1631380, 1631480, 1631620, 1631640, 1631790, 1631850, 1632010, 1632320, 1632590, 1633010, 1633110, 1633670, 1633690, 1634040, 1634110, 1634150, 1634450, 1634500, 1634680, 1634870, 1635120, 1635350, 1635450, 1635590, 1635800, 1635960, 1636310, 1636420, 1636840, 1637070, 1637230, 1637253, 1637257, 1637320, 1637330, 1637370, 1637670, 1637730, 1638220, 1638230, 1638280, 1638300, 1638330, 1638390, 1638420, 1638520, 1638660, 1638720, 1639130, 1639190, 1639300, 1639430, 1639460, 1639610, 1639650, 1639790, 1639930, 1639990, 1640, 1640180, 1640300, 1640390, 1640470, 1640650, 1640850, 1641010, 1641270, 1641310, 1641450, 1641650, 1641670, 1641700, 1641830, 1641890, 1641940, 1641960, 1641990, 1642040, 1642130, 1642170, 1642220, 1642260, 1642320, 1642580, 1642610, 1642620, 1642790, 1642820, 1642840, 1642950, 1643020, 1643100, 1643210, 1643280, 1643340, 1643350, 1643351, 1643355, 1643440, 1643660, 1644150, 1644210, 1644310, 1644320, 1644490, 1644500, 1644720, 1644920, 1644960, 1644990, 16450, 1645140, 1645220, 1645450, 1645480, 1645550, 1645570, 1645640, 1645820, 1646350, 1646370, 16465, 1646730, 1646850, 1646930, 1647060, 1647160, 1647190, 1647200, 1647250, 1647390, 1647420, 1647440, 1647450, 1647550, 1647620, 1647730, 1647900, 1647960, 1647962, 1648020, 1648300, 1648550, 1648560, 1648590, 1648610, 1648730, 1648810, 1648880, 1649010, 1649080, 1649240, 1649580, 1649730, 1649740, 1649830, 1649880, 1650010, 1650020, 1650110, 1650550, 1650650, 1650810, 1651450, 1651490, 1651560, 1651960, 1652250, 1652490, 1652680, 1652890, 1652891, 1652892, 1653260, 1653420, 1654120, 1654170, 1654480, 1654660, 1655140, 1655190, 1655220, 1655410, 1655710, 1656240, 1656330, 1656370, 1656640, 1656680, 1656780, 1656810, 1656820, 1656970, 1656971, 1657120, 1657140, 1657170, 1657630, 1657810, 1658001, 1658040, 1658150, 1658290, 1658310, 1658570, 1658620, 1658720, 1658870, 1658880, 1658930, 1659040, 1659050, 1659420, 1659590, 1659600, 1659770, 1659800, 1659940, 1660280, 1660290, 1660490, 1660520, 1660860, 1660890, 1660910, 1660990, 1661180, 1661260, 1661270, 1661280, 1661690, 1661900, 1662080, 1662140, 1662270, 1662380, 1662430, 1662480, 1662840, 1662850, 1663080, 1663100, 1663110, 1663220, 1663530, 1663570, 1663590, 1663600, 1663640, 1664060, 1664220, 1664350, 1664410, 1664490, 1664550, 1664660, 1664670, 1664810, 1664830, 1664832, 1664931, 1664955, 1664956, 1665080, 1665130, 1665190, 1665280, 1665460, 1665490, 1665500, 1666250, 1666320, 1666500, 1666510, 1667130, 1667180, 1667320, 1667400, 1667490, 1667700, 1667920, 1668080, 1668110, 1668130, 1668290, 1668510, 1668520, 1668530, 1668540, 1668560, 1668610, 1668690, 1668710, 1668720, 1668940, 1669000, 1669170, 1669360, 1669420, 1669490, 1669870, 1669980, 1670, 1670430, 1670460, 1670540, 1670550, 1670810, 1670870, 16710, 1671200, 1671280, 1671340, 1671350, 1671410, 1671480, 1671510, 1671590, 1671600, 1671820, 1671930, 16720, 1672140, 1672210, 1672310, 1672670, 1672740, 1672880, 1672970, 16730, 1673140, 1673190, 1673320, 1673420, 1673630, 1673740, 1674060, 1674170, 1674340, 1674570, 1674580, 1674640, 1674770, 1674780, 1674820, 1674890, 1675140, 1675670, 1675900, 1675910, 1676010, 1676100, 1676130, 1676550, 1676580, 1676880, 1676910, 1677150, 1677260, 1677280, 1677350, 1677730, 1677740, 1677770, 1678140, 1678420, 1678430, 1678700, 1678710, 1678860, 1679210, 1679220, 1679290, 1679320, 1679690, 1679700, 1680000, 1680340, 1680550, 1680880, 16810, 1681060, 1681090, 1681160, 1681170, 1681510, 1681600, 1681730, 1681840, 1681880, 1681970, 1682010, 1682050, 1682060, 1682230, 1682260, 1682330, 1682410, 1682490, 1682970, 1683100, 1683320, 1683340, 1683430, 1683560, 1683860, 1683950, 1684100, 1684170, 1684210, 1684400, 1684410, 1684660, 1684670, 1684720, 1684840, 1684930, 1685460, 1685720, 1685730, 1685750, 1686130, 16862, 1686340, 1686500, 16866, 16867, 16868, 1686820, 1686870, 1686960, 16870, 1687000, 1687100, 1687150, 1687250, 1687550, 1687590, 1687670, 1687770, 1687940, 1687950, 1687990, 1688100, 1688120, 1688320, 1688540, 1688580, 1689000, 1689350, 1689480, 1689910, 1690, 16900, 1690140, 1690330, 1690650, 1690710, 1690730, 1690990, 1691400, 1691560, 1691800, 1691970, 1692080, 1692240, 1692250, 1692260, 1692280, 1692460, 1692700, 1692890, 1692900, 1693000, 1693250, 1693260, 1693430, 1693760, 1693980, 1693990, 1694110, 1694200, 1694420, 1694430, 1694560, 1694600, 1694800, 1694801, 1694960, 1695680, 1695793, 1695830, 1695840, 1696080, 1696220, 1696300, 1696440, 1696670, 1696810, 1696820, 1696960, 1697250, 1697630, 1697700, 1697880, 1698030, 1698220, 1698340, 1698350, 1698480, 1698520, 1698670, 1698960, 1699200, 1699450, 1699860, 1700, 1700180, 1700550, 1700630, 1700870, 1700890, 1701040, 1701060, 1701380, 1701520, 1701560, 1701600, 1701720, 1701800, 1701860, 1701950, 17020, 1702010, 1702060, 1702140, 1702180, 1702260, 1702320, 1702330, 1702390, 1702820, 1702830, 1703140, 1703180, 1703230, 1703340, 1704060, 1704460, 1705180, 1705520, 1705820, 1706210, 1706850, 1706870, 1706930, 1706980, 1707550, 1707650, 1707780, 17080, 1708020, 1708091, 1708190, 1708210, 1708330, 1708340, 1708390, 1708460, 1708520, 1708680, 1708870, 1708990, 1709080, 1709170, 1709400, 1709460, 1709500, 1709510, 1709730, 1709900, 1709920, 17100, 1710100, 1710170, 1710240, 1710241, 1710430, 1710540, 1710580, 1710890, 1710920, 1710930, 1711181, 1711182, 1711183, 1711400, 1711610, 1711620, 1711770, 1711771, 1711772, 1711773, 1711950, 17120, 1712020, 1712390, 1712830, 1712840, 1713610, 1713640, 1713810, 17140, 1714040, 1714070, 1714080, 1714250, 1714320, 1714330, 1714350, 1714420, 1714460, 1714580, 1714590, 1715130, 1715280, 1715350, 1715460, 1715690, 1715730, 1715850, 1715900, 1715910, 1715970, 1715980, 1716070, 1716120, 1716170, 1716600, 1716620, 1716740, 1716910, 1716940, 1717020, 1717040, 1717170, 1717270, 1717410, 1717510, 1717640, 1717770, 1717990, 1718070, 1718130, 1718160, 1718570, 1718870, 1718910, 1719440, 1719460, 1719660, 1720040, 1720050, 1720060, 1720160, 1720470, 1720560, 1720670, 1720850, 1720960, 1721170, 1721350, 1721440, 1721460, 1721470, 1721530, 1721870, 1722010, 1722020, 1722280, 1722520, 1722570, 1722620, 1722760, 1722770, 1722840, 1722860, 1723260, 1723560, 1723660, 1723790, 1723950, 1724020, 1724050, 1724190, 1724320, 1724390, 1724440, 1724860, 1724910, 1724940, 1724941, 1724980, 1725570, 1725640, 1725860, 1725950, 1726120, 1726150, 1726190, 1726360, 1726380, 1726381, 1726382, 1726400, 1727000, 1727070, 1727180, 1727210, 1727420, 1727520, 1727550, 1727650, 1727830, 1728660, 1728770, 1728840, 1729300, 1729410, 1729680, 1729700, 1729790, 1730030, 1730240, 1730250, 1730260, 1730360, 1730540, 1730590, 1730650, 1730680, 1730700, 1730910, 1730930, 1731070, 1731080, 1731081, 1731200, 1731240, 1731270, 1731360, 1731460, 1731490, 1731520, 1731720, 1731870, 1731910, 1732050, 1732060, 1732070, 1732090, 1732180, 1732190, 1732330, 1732340, 1732380, 1732650, 1732704, 1732740, 1732750, 1732920, 17330, 1733060, 1733300, 1733680, 1733860, 1733880, 1733890, 1734080, 1734160, 1734280, 1734320, 1734390, 1735420, 1735680, 1735950, 1735980, 1736120, 1736290, 1736340, 1736360, 1736400, 1736550, 1736630, 1736840, 1737070, 1737100, 1737340, 1738020, 1738232, 1738291, 1738337, 1738490, 1738520, 1738630, 1738980, 1738990, 17390, 1739000, 1739070, 1739530, 1739610, 1739630, 1739650, 1739880, 1740000, 1740010, 1740100, 1740150, 1740240, 1740300, 1740660, 1740680, 1740720, 1740730, 1740850, 1740900, 1740930, 17410, 1741040, 1741120, 1741180, 1741220, 1741240, 1741380, 1741400, 1741520, 1741640, 1742020, 1742150, 1742450, 1742470, 1742610, 1742930, 1743080, 1743260, 1743380, 1743410, 1743580, 1743650, 1743830, 1743850, 1743880, 17440, 1744080, 1744330, 1744570, 1744670, 1744780, 1744818, 1744910, 1745170, 1745200, 1745260, 1745310, 1745380, 1745440, 1745473, 1745480, 1745510, 1745690, 1745780, 1745790, 1745980, 17460, 1746080, 1746580, 1746650, 1746860, 17470, 1747050, 1747160, 1747330, 1747650, 1747800, 1747830, 1747890, 1747960, 17480, 1748050, 1748300, 1748390, 1748411, 1748610, 1748660, 1748750, 1748780, 1748920, 1748990, 1749080, 1749630, 1749750, 1749780, 17500, 1750200, 1750570, 1750770, 17510, 1751201, 1751202, 1751320, 1751540, 1751630, 1751921, 17520, 1752630, 1752740, 1752830, 1752910, 17530, 1753090, 1753100, 1753410, 1753490, 1753790, 1753900, 1754000, 1754260, 1754685, 1754720, 1754840, 1754860, 1754870, 1754960, 17550, 1755100, 1755180, 1755190, 1755300, 1755350, 1755580, 1755680, 1755830, 1755870, 1755880, 1755910, 1755920, 1756050, 1756120, 1756130, 1756150, 1756790, 17570, 1757490, 1757750, 1757760, 17580, 1758450, 1758910, 1759130, 1759140, 1759260, 1759440, 1759930, 1760000, 1760120, 1760140, 1760190, 1760250, 1760280, 1760340, 1761220, 1761270, 1761290, 1761380, 1761390, 1761550, 1761570, 1761600, 1761630, 1761780, 1761870, 1761900, 1762010, 1762140, 1762270, 1762400, 1762550, 1762570, 1763050, 1763310, 1763620, 1763740, 1763830, 1764010, 1764300, 1764390, 1764530, 1764700, 1764810, 1765150, 1765160, 1765350, 1765520, 1765780, 1766010, 1766020, 1766021, 1766022, 1766060, 1766100, 1766280, 1766390, 1766420, 1766740, 1766750, 1766790, 1766880, 1767170, 1767240, 1767310, 1767320, 1767560, 1767570, 1767680, 1767691, 1768270, 1768280, 1768550, 1768601, 1768640, 1769170, 1769320, 1769420, 1769530, 1769531, 1769532, 1769533, 1769980, 17700, 1770050, 1770080, 1770090, 1770210, 1770380, 1770390, 1770400, 1770460, 1770480, 1770550, 1770580, 1770600, 1770760, 1770830, 1770840, 17710, 1771180, 1771360, 1771380, 1772050, 1772370, 1772480, 1772820, 1772830, 1772910, 17730, 1773090, 1773180, 1773890, 17740, 1774100, 1774580, 1774970, 1775080, 1775110, 1775270, 1775530, 1775550, 1776160, 1776290, 1776380, 1776430, 1776780, 1776970, 1777000, 1777390, 1777430, 1777620, 1777670, 1777760, 1778210, 1778270, 1778290, 1778320, 1778330, 1778500, 1778560, 1778790, 1778791, 1778890, 1778950, 1779180, 1779200, 1780060, 1780370, 1780420, 1780470, 1780690, 1780790, 1780810, 1780830, 1780970, 1781000, 1781030, 1781070, 1781100, 1781130, 1781160, 1781230, 1781350, 1781510, 1781690, 1782120, 1782150, 1782170, 1782210, 1782330, 1782380, 1782450, 1782451, 1783090, 1783110, 1783200, 1783280, 1783360, 1783530, 1783540, 1783690, 1783760, 1783960, 1784570, 1784780, 1784880, 1784890, 1785150, 1785250, 1785440, 1785820, 1785850, 1785910, 1785930, 1786200, 1786230, 1786590, 1786670, 1786760, 1786790, 1786800, 1786830, 1786950, 1787030, 1787090, 1787120, 1787480, 1787500, 1787790, 1787810, 1787820, 1787860, 1787920, 1787960, 1788040, 1788100, 1788170, 1788210, 1788370, 1788490, 1788610, 1788650, 1788780, 1788850, 1789470, 1789480, 1789650, 1790230, 1790310, 1790340, 1790370, 1790460, 1790540, 1790630, 1791120, 1791610, 1791690, 1791700, 1791790, 1792010, 1792250, 1792710, 1792740, 1792820, 1792980, 1793010, 1793011, 1793013, 1793030, 1793051, 1793250, 1793480, 1793840, 1794330, 1794390, 1794470, 1794680, 1794740, 1794780, 1794874, 1794960, 1795170, 1795180, 1795210, 1795430, 1795850, 1795960, 1796140, 1796160, 1796170, 1796200, 1796220, 1796870, 1797220, 1797300, 1797340, 1797350, 1797610, 1797680, 1797880, 1797960, 1797963, 1798007, 1798010, 1798020, 1798040, 1798052, 1798063, 1798064, 1798069, 1798070, 1798072, 1798091, 1798750, 1798780, 1798930, 1799080, 1799190, 1799220, 1799370, 1799380, 1799930, 1799950, 1800730, 1800890, 1801110, 1801470, 1801640, 1801650, 1801850, 18020, 1802170, 1802330, 1802420, 1802450, 1802470, 1802690, 1802720, 1802770, 1802850, 1802860, 1802870, 1802980, 1803190, 1803400, 1803550, 1803780, 1803940, 1803960, 18040, 1804020, 1804280, 1804460, 1804500, 1804513, 1804515, 1804690, 1805130, 1805480, 1805490, 1805540, 1805600, 1805930, 1806030, 1806040, 1806120, 1806550, 1806690, 1806700, 1806840, 18070, 1807080, 1807210, 1807360, 1807450, 1807750, 1808060, 1808120, 1808400, 1808431, 1808460, 1808490, 1808700, 1808780, 1808800, 1809310, 1809490, 1809700, 1810310, 1810580, 1810590, 1810820, 1810960, 1810980, 18110, 1811010, 1811040, 1811070, 1811080, 1811260, 1811430, 1811480, 1811500, 1811530, 1811550, 1811600, 1811750, 1811950, 1811990, 1812060, 1812070, 1812090, 1812160, 1812280, 1812290, 1812300, 1812390, 1812410, 1812420, 1812620, 1812760, 1812780, 1812820, 1812910, 1812930, 1813090, 1813270, 1813430, 1813820, 1814010, 1814260, 1814490, 1814630, 1814710, 1815010, 1815020, 1815330, 1815440, 1815530, 1815550, 1815570, 1815630, 1815780, 1815931, 1815933, 1816001, 1816002, 1816080, 1816300, 1816550, 1816570, 1816650, 1816670, 1816780, 1816820, 1816821, 1816950, 1817000, 1817070, 1817190, 1817230, 1817250, 1817290, 1817361, 1817370, 1817490, 1817610, 1817940, 1818180, 1818280, 1818340, 1818370, 1818430, 1818450, 1818610, 1818940, 1819020, 1819160, 1819180, 1819230, 1819400, 1819410, 1819570, 1819800, 1819980, 1820050, 1820130, 1820140, 1820170, 1820320, 1820740, 1820940, 1821570, 1822030, 1822102, 1822104, 1822120, 1822190, 1822450, 1822710, 1822810, 1822830, 1822910, 1823380, 1823600, 1823710, 1823802, 1823930, 1824060, 1824080, 1824210, 1824220, 1824250, 1824580, 1824630, 1824880, 1824960, 1825160, 1825380, 1825390, 1825480, 1825750, 1825930, 1825970, 1826140, 1826160, 1826450, 1826980, 1827180, 1827250, 1827680, 1827870, 1827940, 1827950, 1827980, 1828100, 1828210, 1828630, 1828690, 1829340, 1829380, 1829420, 1829470, 1829580, 1829587, 1829590, 1829591, 1829592, 1829593, 1829594, 1829595, 1829650, 1829800, 1829910, 1829980, 18300, 1830620, 1830720, 1830780, 1830840, 1830870, 1830910, 1831130, 1831250, 1831260, 1831450, 1831530, 1831560, 1831630, 1831960, 1831980, 1832050, 1832220, 1832560, 1832640, 1832720, 1832740, 1832910, 1832960, 1833000, 1833040, 1833490, 1833830, 1833990, 1834620, 1834820, 1834870, 1834920, 1835060, 1835240, 1835440, 1835741, 1835810, 1835830, 1835840, 1835870, 1836030, 1836060, 1836061, 1836120, 1836160, 1836450, 1836860, 1837200, 1837230, 1837260, 1837330, 1837340, 1837580, 1837970, 1838500, 1838510, 1838750, 1838970, 1839070, 1839450, 1839510, 1839660, 1839750, 1839880, 1839940, 1840, 1840320, 1840350, 1840490, 1840540, 1840550, 1840610, 1840650, 1840660, 1840890, 1841250, 1841390, 1841630, 1841700, 18420, 1842220, 1842270, 1842690, 1842810, 1842900, 1843020, 1843090, 1843410, 1843460, 1843490, 1843550, 1843760, 1843860, 1843930, 1843931, 1843940, 1844720, 1844910, 1844930, 1845520, 1845630, 1845670, 1846020, 1846040, 1846130, 1846170, 1846330, 1846380, 1846460, 1846820, 1846920, 18470, 1847110, 1847210, 1847240, 1847600, 1847950, 1847990, 18480, 1848130, 1848421, 1848450, 1848710, 1849000, 1849040, 1849310, 1849380, 1849550, 1849820, 1849890, 1849900, 18500, 1850160, 1850270, 1850360, 1850380, 1850480, 1850510, 1850550, 1850570, 1850670, 1850740, 1850960, 1850990, 1851000, 1851020, 1851030, 1851280, 1851330, 1851340, 1851380, 1851591, 1851640, 1851730, 1851910, 1851920, 1852090, 1852180, 1852251, 1852255, 1852400, 1852470, 1852520, 1852710, 1852860, 1852990, 1853060, 1853200, 1853820, 1854090, 1854130, 1854250, 1854430, 1854710, 1854800, 1854980, 1855660, 1855800, 1856010, 1856030, 1856090, 1856190, 1856480, 1856540, 1856570, 1856680, 1856900, 1857020, 1857080, 1857650, 1858300, 1858301, 1858303, 1858305, 1858500, 1858530, 1858750, 1859270, 1859280, 1859360, 1859370, 1859470, 1859580, 1859760, 1860510, 1860570, 1860760, 1860860, 1861230, 1861290, 1861490, 1861620, 1861700, 1861970, 1862520, 1862660, 1862800, 1862940, 1863080, 1863290, 1863470, 1863540, 1863670, 1863750, 1864070, 1864100, 1864200, 1864230, 1864240, 1864250, 1864260, 1864320, 1864590, 1864790, 1865010, 1865060, 1865080, 1865130, 1865370, 1865440, 1865510, 1865780, 1865950, 1865970, 1866180, 1866420, 1866430, 1866620, 1866880, 1867520, 1867530, 1867630, 1867740, 1868000, 1868120, 1868140, 1868170, 1868180, 1868300, 1868410, 1869262, 1869263, 1869392, 1869590, 1869700, 1869701, 1869702, 1869820, 1869980, 18700, 1870120, 1870121, 1870140, 1870310, 1870320, 1870490, 1871470, 1871480, 1871620, 1871740, 1871750, 1871770, 1872550, 1872680, 1872751, 1872860, 1872870, 1873030, 1873860, 1874170, 1874260, 1874460, 1874490, 1874660, 1874720, 1874770, 1874880, 1874970, 1874973, 1874975, 1874976, 1875140, 1875280, 1875310, 1875610, 1875750, 1876070, 1876460, 1876730, 1876890, 1876990, 1877010, 1877111, 1877410, 1877460, 1877820, 1877840, 1877960, 1878070, 1878200, 1878740, 1878810, 1878910, 1879330, 1879380, 1879640, 1879710, 1879820, 1880050, 1880330, 1880360, 1880650, 1880710, 1880790, 1880830, 1880832, 1880837, 1880860, 1880890, 1881140, 1881200, 1881340, 1881350, 1881420, 1881490, 1881610, 1881700, 1882040, 1882140, 1882240, 1882280, 1882470, 1882500, 1882510, 1882540, 1882550, 1882580, 1882860, 1882862, 1882868, 1882870, 1883090, 1883260, 1883510, 1883580, 1883630, 1883650, 1884300, 1884430, 1884540, 1884780, 1885030, 1885130, 1885480, 1885690, 1886630, 1886830, 1887000, 1887020, 1887030, 1887100, 1887550, 1887560, 1887930, 1888010, 1888070, 1888160, 1888300, 1888330, 1888350, 1888470, 1888930, 1889040, 1889100, 1889260, 1889320, 1889430, 1889490, 1889520, 1889640, 1889930, 1889980, 1889981, 1890120, 1890200, 1890340, 1890520, 1890680, 1890740, 1891090, 1891440, 1891640, 1891700, 1891780, 1892030, 1892370, 1892420, 1892620, 1892700, 1892910, 1892950, 1893620, 1893800, 1893820, 1893860, 1894080, 1894240, 1894430, 1894600, 1895130, 1895300, 1895370, 1895480, 1895780, 1895810, 1895860, 1895880, 1895890, 1896050, 1896160, 1896170, 1896390, 1896450, 1896700, 1896750, 1897050, 1897120, 1897250, 1897410, 1897530, 1897740, 1898210, 1898290, 1898420, 1898430, 1898610, 1898790, 1899060, 1899400, 1899620, 1899700, 1899750, 1899800, 1899830, 1900, 19000, 1900340, 1900930, 1901200, 1901300, 1901340, 1901360, 1901370, 1901410, 1901420, 1901490, 1901750, 1901780, 1901922, 1901950, 19020, 1902490, 1902650, 1902690, 1902710, 1902790, 1902850, 1902880, 19030, 1903370, 1903580, 1903620, 1903640, 1903720, 1903970, 1904190, 1904230, 1904391, 1904392, 1904540, 1904560, 1904580, 1904610, 1904640, 1904650, 1904730, 1904790, 1904820, 1904860, 1904900, 1904980, 1905020, 1905180, 1905390, 1905530, 1905750, 1905810, 1905950, 1905970, 1905980, 1906050, 1906220, 1906240, 1906330, 1906530, 1906590, 1906750, 1906770, 1906771, 1907000, 1907080, 1907380, 1907440, 1907450, 1907720, 1908240, 1908250, 1908670, 1908720, 1908761, 1909140, 1909270, 1909350, 1909380, 1909420, 1909690, 1909810, 1909820, 1909960, 1910050, 1910070, 1910100, 1910300, 1910580, 1910680, 1910780, 1910790, 1910820, 1910860, 1911390, 1911520, 1911780, 1911980, 1912340, 1912380, 1912420, 1912460, 1912490, 1912760, 1913210, 1913370, 1913490, 1913680, 1913690, 1913711, 1913730, 1913740, 1913980, 1914082, 1914120, 1914121, 1914122, 1914390, 1914490, 1914560, 1914580, 1914750, 1914940, 1914970, 1915040, 1915340, 1915510, 1915550, 1915740, 1915910, 1916270, 1916290, 1916310, 1916850, 1916970, 1917090, 1917450, 1917630, 1917740, 1917920, 1918030, 1918040, 1918130, 1918300, 1918370, 1918450, 1918520, 1918530, 1918540, 1918680, 1918700, 1918920, 1918970, 1919460, 1919470, 1919500, 1919550, 1919590, 1919720, 1919740, 1919750, 19200, 1920100, 1920390, 1920400, 1920450, 1920480, 1920540, 1920780, 1920820, 1920960, 1921130, 1921470, 1921560, 1921760, 1921770, 1921780, 1922010, 1922020, 1922044, 1922049, 1922360, 1922560, 1922631, 1922632, 1922633, 1923670, 1923680, 1923690, 1924140, 1924170, 1924400, 1924480, 1924680, 1924720, 1924810, 1924990, 1925010, 1925090, 1925210, 1925520, 1925870, 1925970, 1926090, 1926120, 1926200, 1926210, 1926270, 1926490, 1926620, 1926680, 1927070, 1927080, 1927110, 1927540, 1927710, 1927720, 1927740, 1927780, 1927920, 1928090, 1928420, 1928430, 1928500, 1928520, 1928870, 1929360, 1929420, 1929610, 1929670, 1929870, 1929900, 1930, 1930140, 1930580, 1930600, 1930640, 1930761, 1930920, 1931020, 1931600, 1931690, 1931730, 1931770, 1931910, 1931940, 1931950, 1932160, 1932230, 1932741, 1932743, 1933240, 1933320, 1933390, 1933640, 1933650, 1933660, 1933670, 1933700, 1933740, 1933770, 1933800, 1933820, 1933980, 1934040, 1934080, 1934140, 1934780, 1934800, 1934850, 1934910, 1934990, 1935370, 1935410, 1935470, 1935540, 1935660, 1936590, 1936700, 1937230, 1937470, 1937480, 1937500, 1937520, 1937530, 1937531, 1937620, 1937690, 1937750, 1937780, 1938010, 1938090, 1938120, 1938510, 1938630, 1938680, 1938800, 1938860, 1938990, 1939160, 1939560, 1939790, 1940040, 1940340, 1940751, 1940752, 1940910, 1941000, 1941110, 1941590, 1941720, 1941780, 1941820, 1941840, 1942010, 1942100, 1942120, 1942280, 1942440, 1942650, 1942660, 1943310, 1943400, 1943610, 1943760, 1943950, 1944060, 1944210, 1944240, 1944250, 1944360, 1944430, 1944570, 1944970, 1945200, 1945230, 1945250, 1945260, 1945340, 1945360, 1945420, 1945590, 1945600, 1945680, 1945681, 1945682, 1945760, 1945840, 1945841, 1945930, 1945970, 1946010, 1946070, 1946300, 1946430, 1946550, 1946700, 1946740, 1946940, 1946960, 1946970, 1947060, 1947070, 1947130, 1947500, 1947750, 1947900, 1947940, 1947970, 1948120, 1948180, 1948280, 1948390, 1948430, 1948450, 1948620, 1948700, 1948800, 1948980, 1949010, 1949030, 1949190, 1949220, 1949474, 1949740, 1949960, 1949980, 19500, 1950440, 1950570, 1951230, 1951750, 1952170, 1952250, 1952370, 1952400, 1952540, 1952760, 1952930, 1952950, 1953170, 1953520, 1953540, 1953680, 1953760, 1953860, 1954200, 1954420, 1954520, 1954710, 1954750, 1954810, 1955330, 1955830, 1956040, 1956410, 1956600, 1956710, 1956740, 1956800, 1957780, 1957990, 1958170, 1958171, 1958220, 1958240, 1958270, 1958390, 1958400, 1958560, 1958640, 1958731, 1958810, 1958860, 1959350, 1959480, 1959960, 1960110, 1960210, 1960270, 1960590, 1960780, 1960781, 1960782, 1960920, 1961240, 1961370, 1961390, 1961460, 1961760, 1961950, 1962410, 1962430, 1962450, 1962660, 1962663, 1962770, 1962920, 1963010, 1963040, 1963210, 1963360, 1963370, 1963520, 1963900, 1964040, 1964220, 1964240, 1964310, 1964320, 1964360, 1964640, 1964820, 1964870, 1965060, 1965120, 1965130, 1965390, 1965610, 1965920, 1966010, 1966070, 1966100, 1966130, 1966420, 1966430, 1966460, 1966480, 1966630, 1966720, 1966780, 1966880, 1966900, 1967090, 1967260, 1967310, 1967320, 1967430, 1967450, 1967470, 1967510, 1967630, 1967640, 1967650, 1967690, 1967790, 19680, 1968100, 1968340, 1968430, 1968570, 1968650, 1968710, 1968730, 1968820, 1968840, 1968910, 1968911, 1969080, 1969150, 1969380, 1969440, 1969870, 1969960, 1970060, 1970200, 1970300, 1970460, 1970550, 1970580, 1970630, 1970980, 1971630, 1971650, 1971870, 1972410, 1972440, 1972550, 1973080, 1973530, 1973580, 1973610, 1973700, 1973710, 1973730, 1973970, 1974050, 1974090, 1975280, 1975340, 1975360, 1975440, 1975460, 1975570, 1975660, 1975670, 1976440, 1976460, 1976490, 1976820, 1976950, 1977280, 1977380, 1977530, 1977570, 1977740, 1978330, 1978610, 1978760, 1978800, 1979460, 1979540, 1979570, 19800, 1980240, 1980350, 1980530, 1980590, 1980920, 1980980, 1981500, 1981570, 1981610, 1981710, 1981790, 1981881, 1981883, 1982080, 1982150, 1982340, 19830, 1983245, 1983690, 1983700, 1983710, 1983900, 1983901, 1983940, 1983970, 1984260, 1984350, 1984610, 1984720, 1984790, 1985170, 1985250, 1985260, 1985360, 1985420, 1985500, 1985510, 1985610, 1985680, 1985690, 1985770, 1985790, 1985810, 1985820, 1985930, 1985960, 1986010, 1986070, 1986230, 1986310, 1986550, 1986760, 1986840, 1986880, 1987080, 1987130, 1987220, 1988100, 1988150, 1988470, 1988540, 1988550, 1988620, 1988630, 1988830, 1988850, 1989270, 1989990, 19900, 1990040, 1990050, 1990260, 1990590, 1990600, 1990690, 1990860, 1990900, 1991570, 1991830, 1991850, 1991950, 1991980, 1992291, 1992370, 1992430, 1992580, 19930, 1993010, 1993030, 1993150, 1993910, 1994010, 1994070, 1994230, 1994370, 1994450, 1994680, 1994760, 1995590, 1995600, 1995690, 1995730, 1995800, 1995870, 1995890, 1996210, 1996840, 1996930, 1997040, 1997080, 1997190, 1997250, 1997270, 1997630, 1997680, 1997780, 1997900, 19980, 1998240, 1998260, 1998330, 1998340, 1998450, 1998530, 1998650, 1998660, 1998750, 1998925, 1998963, 1998970, 1998974, 1998975, 1998976, 1998977, 1998980, 1999170, 1999190, 1999360, 1999620, 1999740, 1999770, 1999940, 20, 200010, 2000110, 2000170, 200020, 2000270, 2000280, 200050, 2000950, 2001010, 2001011, 2001012, 2001014, 2001090, 2001340, 200150, 2001570, 2001670, 200170, 2001970, 200210, 200230, 2002550, 200260, 2002850, 2002870, 2003050, 2003060, 200330, 2003310, 200370, 200390, 2004110, 2004210, 2004261, 2004320, 2004360, 2004490, 200490, 2004980, 2005010, 200510, 200550, 200590, 2005972, 2005983, 2006230, 200630, 2006330, 200670, 2006870, 2007040, 2007060, 200710, 2007280, 2007930, 2008050, 2008100, 2008400, 2008410, 2008610, 2008980, 200900, 2009010, 200910, 2009100, 2009300, 2009350, 2009390, 2009450, 2009525, 2009527, 2009530, 200960, 2009780, 201010, 2010370, 201040, 201070, 2010980, 2011470, 2011707, 2011708, 2011860, 2011970, 2011980, 2012010, 201210, 2012140, 2012180, 2012270, 201230, 2012440, 2012540, 2012610, 2012620, 201270, 201271, 201272, 201274, 201277, 201279, 2012840, 201290, 201310, 2013240, 2013290, 201330, 2013300, 2013360, 2013650, 2013670, 2013900, 201420, 2014380, 2014390, 2014620, 2014780, 2014790, 201480, 201490, 2014910, 2015080, 201510, 2015100, 2015160, 2015180, 2015360, 2015620, 2015650, 2015680, 201570, 2015840, 2015880, 2015890, 2016080, 2016370, 2016940, 201700, 2017210, 2017220, 2017270, 2017370, 2017700, 201790, 201810, 2018130, 2018230, 201830, 2018640, 201870, 201877, 201882, 2019240, 2019260, 2019730, 2020030, 2020070, 2020480, 2020500, 2020520, 2020530, 2020550, 202070, 2020710, 2020860, 202090, 2021210, 202130, 2021310, 2021560, 202170, 202181, 2021910, 202200, 2022090, 2022140, 2022180, 2022270, 2022290, 2022360, 2022470, 2022670, 202270, 2022750, 2022880, 202290, 2023050, 202310, 2023140, 2023210, 2023230, 2023250, 2023360, 202370, 2023800, 2024150, 2024230, 2024300, 2024390, 2024410, 202485, 2024880, 202530, 2025610, 2025660, 202570, 2025750, 2026290, 2026370, 2026520, 2026550, 2026580, 2026870, 2026880, 202690, 202710, 2027170, 2027330, 2027360, 2027400, 202750, 2027530, 2027920, 2028850, 202970, 203140, 203160, 203210, 203250, 203290, 203350, 203510, 203630, 203650, 203730, 203750, 203765, 203766, 203770, 203772, 203773, 203776, 203778, 203830, 204030, 204060, 204080, 204100, 204120, 204180, 204240, 204290, 204300, 204340, 204360, 204371, 204372, 204440, 204450, 204530, 204560, 204630, 204860, 204880, 204901, 204940, 20500, 205020, 2050510, 2050560, 2050590, 2050650, 2050680, 20510, 205100, 2051120, 2051200, 2051380, 2051420, 2052270, 205230, 2052351, 2052352, 2052630, 205270, 2052720, 2052820, 20530, 2053020, 2053320, 205350, 2053671, 2053940, 20540, 2054412, 2054413, 2054540, 2054740, 20550, 2055030, 2055050, 2055140, 2055220, 2055290, 205530, 2055500, 205610, 2056220, 205630, 205632, 205633, 205634, 205635, 205636, 205637, 205638, 205650, 2056560, 2056880, 20570, 2057080, 205710, 205730, 2057550, 2057710, 205810, 2058180, 2058190, 205830, 205840, 2058650, 2058750, 2058880, 2058881, 205890, 205910, 2059170, 2059190, 2059250, 2059280, 2059290, 205930, 2059310, 205950, 2059660, 2059670, 2059790, 2059810, 205990, 2059960, 2060000, 2060080, 2060130, 206020, 2060280, 2060310, 206040, 206060, 2060750, 2061020, 2061150, 2061230, 2061250, 2061300, 2061330, 2061331, 2061430, 2061440, 2061641, 206190, 206193, 206195, 2062120, 2062210, 2062370, 2062372, 2062373, 206250, 2062550, 2062830, 2062930, 2063370, 2063420, 2063500, 2063530, 2063610, 2063680, 206370, 206420, 206440, 2064490, 206450, 2064590, 2064650, 2064720, 206480, 2064810, 2064870, 206500, 206521, 206522, 2065330, 2066020, 206610, 2066250, 2066360, 2066460, 2066550, 206690, 2067000, 2067260, 206760, 2067730, 2067780, 2067790, 2067850, 2067920, 2068280, 2068710, 2068930, 2069180, 2069310, 2069640, 2069900, 2069990, 20700, 207000, 207020, 2070220, 2070550, 2070760, 207080, 2071000, 2071200, 2071280, 2071330, 207140, 2071471, 2071520, 2071530, 207170, 207190, 207210, 207221, 207230, 2072420, 2072430, 2072640, 2072890, 2073050, 207320, 2073200, 2073470, 207350, 2073570, 207420, 2074220, 2074230, 2074240, 207430, 2074320, 2074330, 2074340, 2074410, 2074431, 2074480, 2074800, 2074810, 2074890, 207490, 2074930, 2075191, 207530, 2075410, 2075680, 207570, 2075730, 207610, 207620, 2076280, 207650, 2076740, 2076800, 207690, 2077180, 2077380, 2077650, 207790, 2078040, 2078100, 2078120, 207815, 2078157, 2078158, 207816, 2078190, 2078460, 2078510, 207870, 2078780, 2079120, 2079180, 207930, 2079320, 2079370, 2079380, 2079520, 2079950, 2080060, 2080240, 2080640, 2080690, 2080851, 2081050, 2081051, 2081052, 2081053, 2081054, 2081060, 208110, 2081180, 208140, 2081400, 2081450, 2081460, 2081470, 2081520, 2081630, 20820, 208200, 2082170, 2082270, 2082320, 2082520, 2082540, 2082730, 208300, 2083160, 2083560, 2083570, 2083690, 2083840, 2083900, 208400, 2084000, 2084050, 2084110, 2084520, 2084660, 2084730, 208480, 208491, 2084940, 208520, 2085260, 2085360, 208544, 2085490, 2085510, 2085570, 208570, 208575, 208580, 2085800, 2085860, 2085920, 208600, 2086150, 2086160, 2086220, 2086380, 208650, 2086540, 208670, 2086730, 208690, 2086970, 2087030, 208730, 208750, 2087610, 208791, 208801, 208802, 208803, 2088030, 208804, 208805, 208806, 208808, 2088080, 208809, 208810, 208812, 208813, 208814, 2088160, 2088180, 2088250, 2088270, 2088340, 2088380, 2088511, 2088570, 2088630, 2088650, 2089140, 2089330, 2089340, 2089350, 2089450, 2089730, 2089733, 2089840, 20900, 209000, 2090150, 2090230, 2090370, 209060, 209080, 2091070, 2091160, 209120, 2091250, 2091330, 2091550, 2091580, 209160, 209190, 20920, 2092260, 209230, 2092700, 2092850, 2093000, 2093200, 2093220, 209330, 209340, 2093410, 2093420, 2093590, 209370, 2093880, 209390, 2093940, 2094220, 2094250, 2094270, 2094320, 2094550, 209460, 2094600, 2094750, 2094810, 2094910, 2095000, 2095090, 209520, 2095290, 2095300, 2095340, 209540, 2095450, 2095900, 209610, 2096110, 209630, 209650, 2096600, 2096610, 209670, 2096790, 209690, 209730, 2097490, 209750, 2097540, 209772, 2097720, 2097740, 2097770, 2097890, 209790, 209811, 209812, 209830, 2098350, 2098470, 209870, 2098790, 2098870, 2099080, 209950, 2099790, 2099930, 2099940, 2100, 21000, 210014, 2100160, 2100430, 2100431, 2100450, 2100540, 2100790, 2100930, 2100980, 21010, 2101080, 2101110, 2101130, 2101190, 2101210, 2101290, 2101381, 2101385, 2101430, 210170, 2101870, 2101940, 2102020, 2102490, 2102520, 2102610, 2102730, 2102760, 21030, 2103330, 2103340, 2103480, 2103530, 2103640, 2103710, 2104240, 2104360, 2104570, 2104730, 2104790, 2105010, 2105130, 210550, 2105660, 2105980, 2106450, 2106520, 2106560, 2106680, 2106700, 2106840, 2107240, 2107670, 210770, 2107850, 2107860, 2108290, 2108330, 2108420, 2108440, 2108560, 2108600, 2108630, 2108760, 2108900, 210895, 2108950, 210896, 210897, 210898, 21090, 210902, 2109020, 210904, 210906, 210908, 2109300, 2109301, 2109303, 2109304, 2109305, 2109306, 2109307, 2109308, 2109309, 2109310, 2109315, 2109316, 210933, 210934, 2109370, 2109430, 2109460, 210950, 2109640, 210970, 2109710, 21100, 211010, 2110110, 2110160, 211050, 211070, 2110740, 2110820, 2111040, 2111060, 2111170, 211160, 2111630, 2111850, 2111860, 2111960, 211200, 211201, 211202, 211205, 211206, 211207, 211208, 211209, 2112200, 2112231, 2112232, 2112520, 211260, 211280, 21130, 2113050, 2113120, 211340, 2113430, 2113530, 2113540, 2113570, 211360, 2113900, 2113920, 211400, 2114020, 2114170, 2114350, 2114370, 2114460, 2114560, 2114740, 2114760, 2114810, 211500, 2115610, 2115700, 2115770, 211580, 2115850, 211600, 2116260, 2116890, 2116930, 2117080, 211720, 211740, 211780, 2117950, 211800, 2118130, 211820, 2118370, 2118560, 2118600, 2118850, 211900, 2119110, 2119210, 2119270, 2119490, 2119510, 2119590, 2119650, 2119660, 2119680, 211970, 2119740, 2119940, 212010, 212030, 2120310, 2120320, 212050, 212070, 2120840, 2120900, 2121210, 2121360, 212160, 212180, 2121910, 2121980, 212200, 2122050, 2122070, 2122110, 2122550, 212301, 2123100, 2123140, 2123890, 212390, 212410, 2124380, 2124420, 2124650, 2124680, 2124750, 2124780, 212480, 212500, 2125160, 2125390, 2125420, 2125750, 2125770, 212580, 2126100, 2126250, 212630, 2126550, 2126610, 2126680, 212672, 212680, 2126870, 2126990, 2127010, 2127090, 2127430, 2127790, 2127791, 212780, 212800, 2128270, 2128470, 2128480, 212893, 212894, 2129020, 212910, 2129280, 2129470, 2129670, 2129970, 213030, 2130380, 2130460, 2130530, 2130540, 2130680, 2130960, 2131630, 2131640, 2131650, 2131680, 2131800, 213210, 213230, 2132430, 213250, 2132520, 2133143, 2133149, 2133270, 213330, 2133400, 2133640, 2134560, 2134860, 2135430, 2135500, 2135640, 2135690, 2135870, 2135980, 2136020, 213610, 213650, 2136690, 213670, 2137220, 2137250, 2137370, 2137630, 2137700, 2137760, 213780, 2137910, 2138090, 2138150, 2138210, 2138290, 2138330, 2138350, 2138450, 2138500, 2138510, 2138580, 2138610, 2138700, 2138710, 2138830, 2139130, 2139260, 2139261, 2139265, 2139266, 2139271, 2139300, 2139560, 2140010, 2140100, 2140330, 2140440, 2140510, 2140650, 2140850, 214150, 2141580, 2141690, 214170, 2141700, 2141730, 2141910, 2142330, 214250, 2142510, 2143030, 214310, 2143170, 2143340, 214340, 2143540, 214360, 2143810, 214420, 2144450, 2144480, 2144481, 2144761, 214490, 214510, 214550, 214560, 2145870, 214590, 2146070, 2146190, 214630, 2146720, 2146790, 214700, 2147220, 214730, 2147450, 2147490, 2147632, 2147633, 2147640, 2147680, 214770, 214790, 214830, 214850, 214870, 2148850, 2148900, 2148901, 2148903, 2148930, 2149070, 2149280, 214930, 214931, 214932, 214933, 214950, 214970, 2149840, 2149900, 2150000, 215001, 215002, 215005, 2150050, 2150631, 2150634, 2150635, 2150740, 215080, 2150870, 215100, 215120, 2151290, 2151580, 215160, 2152390, 2152440, 2152460, 215280, 2153310, 2153330, 2153360, 2153640, 215374, 2153770, 2153780, 2153800, 2154010, 2154171, 2154230, 2154330, 2154360, 2154362, 215450, 2154650, 215470, 2154770, 2154820, 2154970, 215510, 2155210, 2155260, 215530, 2155310, 215533, 215534, 215550, 2155600, 215630, 2156300, 2156620, 215670, 2156750, 215690, 215710, 2157110, 2157340, 2157680, 215790, 215814, 215825, 2158250, 215830, 2158500, 2158650, 2158730, 2158860, 215930, 2159590, 215970, 215971, 215972, 2159730, 21600, 2160000, 2160020, 2160330, 2160420, 2160480, 2161050, 216130, 2161390, 2161440, 216150, 2161720, 2162020, 216210, 2162190, 216250, 2162520, 216260, 2162610, 2162780, 2162810, 2162950, 2163000, 2163060, 2163210, 2163330, 2163590, 2163850, 216390, 21640, 216420, 2164210, 2164240, 2164310, 2164540, 2164760, 2165380, 2165590, 2165610, 2165690, 21660, 2166020, 2166050, 2166060, 2166140, 2166470, 2166680, 21670, 2167220, 2167330, 2167430, 2167451, 2167453, 2167454, 2167465, 2167580, 2167630, 2167701, 2167702, 21680, 2168240, 2168550, 2168600, 2168610, 2168630, 2168680, 2168810, 216890, 2168960, 21690, 2169090, 216910, 2169120, 2169180, 2169800, 2169830, 2170050, 2170420, 2170520, 217060, 2170680, 2170820, 217100, 217120, 2171280, 2171290, 217140, 2171420, 2171440, 2171690, 2171840, 217200, 2172260, 2172510, 2172690, 217270, 2172760, 2172840, 2172860, 217290, 2172900, 2173270, 2173570, 2173600, 217370, 2173800, 2173900, 2174320, 2175210, 2175390, 2175550, 2175650, 2175700, 2175800, 2175960, 21760, 2176130, 2176430, 2176560, 2176760, 2176790, 2176840, 217690, 2176930, 2176940, 2177040, 2177430, 217750, 2177500, 2177620, 2177670, 2177750, 2177760, 217790, 21780, 2178330, 2178420, 2178490, 2178570, 217860, 217900, 217920, 2179290, 2179300, 2179380, 217941, 2179520, 2179630, 217980, 2179800, 21800, 218020, 2180300, 2180320, 2180350, 2180430, 2180550, 218060, 2180600, 2180750, 2180840, 218090, 218130, 2181430, 2181610, 218170, 2181720, 2181930, 218230, 2182370, 2182690, 2182820, 2182850, 2183070, 2183230, 2183240, 218330, 2183600, 2183640, 2183650, 2183930, 218410, 2184130, 2184150, 218450, 218470, 2184791, 2184800, 218510, 218550, 218560, 2185770, 2185780, 2185840, 2185870, 218620, 2186250, 2186320, 218640, 2186570, 218680, 218700, 2187230, 2187290, 218740, 218760, 2187660, 218780, 218784, 218785, 218786, 218820, 2189640, 2190200, 2190210, 2190290, 2190470, 2190590, 2190900, 219092, 219097, 219098, 219101, 219103, 2191480, 2191490, 219150, 219152, 2191550, 2191620, 2191670, 219190, 2191950, 219200, 2192670, 2192750, 2192840, 2193050, 2193220, 2193450, 2193650, 2193910, 2193911, 2193940, 2194530, 2194700, 2194800, 2194810, 2194990, 2195250, 2195390, 2195610, 2196290, 2196390, 219640, 2196420, 2196790, 219680, 21970, 219700, 2197328, 219740, 2197490, 219750, 2197500, 219760, 219780, 2197812, 2197910, 21980, 219800, 2198070, 219830, 2198470, 2198610, 2198650, 2198680, 2198800, 2198872, 219890, 219910, 2199180, 2199210, 2199220, 2199370, 219950, 2199500, 21996, 219990, 2199920, 2199970, 220, 2200, 22000, 2200010, 2200190, 2200370, 2200470, 220050, 2200570, 2200580, 2200640, 2200700, 2200780, 220090, 2200970, 2200971, 2201230, 220160, 2201670, 2201940, 220200, 2202021, 2202140, 2202291, 220240, 2202430, 2202470, 2202540, 220260, 2203060, 2203170, 2203590, 2203610, 2203690, 2203720, 2203730, 2203950, 2203990, 2204230, 220440, 220460, 2204850, 2204970, 2205190, 2205290, 2205460, 2205500, 2205850, 2205894, 2206120, 2206150, 2206210, 2206320, 2206340, 220660, 220700, 220740, 2207480, 2207490, 2207540, 220760, 220780, 2207970, 220820, 220860, 2208920, 2209150, 2209190, 2209650, 2209680, 220980, 2210, 22100, 221001, 2210140, 2210142, 2210190, 221020, 221040, 2210720, 2210740, 221100, 2211090, 2211280, 2211730, 221180, 2211840, 22120, 2212330, 221260, 22130, 2213300, 2213500, 221380, 22140, 2214500, 2214600, 2214821, 2214826, 2215010, 2215260, 221540, 2215420, 2215540, 221560, 2215650, 2216070, 2216110, 2216130, 2216360, 221640, 2216600, 2216830, 2216960, 2217480, 2217730, 2217810, 22180, 2218001, 221810, 2218210, 221830, 2218400, 2218460, 2218531, 2218650, 2218750, 2218980, 221910, 2219470, 2219800, 2219810, 2219820, 2219970, 22200, 2220170, 222021, 2220832, 2221490, 222160, 2221710, 2221740, 222180, 2221920, 2221940, 2222200, 2222340, 2222341, 2222342, 2222540, 2222570, 2222904, 22230, 2223020, 2223050, 2223240, 2223660, 2223700, 2224030, 222420, 2224340, 222440, 2224400, 2224460, 2224461, 2224691, 222480, 2224850, 2224920, 2225070, 222520, 2225530, 222561, 222582, 222613, 222622, 222640, 2226700, 222710, 2227130, 222730, 2227450, 222750, 222802, 2228030, 222804, 222805, 222806, 222807, 2228200, 2228390, 222860, 222880, 2228830, 2228880, 222900, 2229080, 2229260, 222940, 2229460, 2229570, 2229680, 2229750, 222980, 2229990, 22300, 223000, 2230110, 2230150, 2230170, 2230280, 2230300, 2230760, 22310, 223100, 2231010, 2231260, 2231380, 2231450, 2231560, 2231650, 2231740, 2231770, 223180, 2231950, 22320, 223220, 2232200, 2232230, 2232370, 223280, 2232840, 22330, 223330, 2233600, 2233790, 22340, 2234060, 223410, 2234150, 223430, 223450, 2234500, 223470, 223490, 22350, 223510, 2235240, 2235540, 2235760, 2235780, 223592, 223593, 223594, 223595, 223597, 223598, 223630, 2236300, 22364, 2236480, 223650, 223670, 2236730, 2236900, 2236950, 22370, 223710, 223730, 223750, 2237830, 223790, 223792, 223793, 2237970, 2237980, 22380, 2238080, 223810, 223830, 223850, 2239000, 2239150, 2239220, 2239300, 2239550, 2239577, 224000, 2240000, 2240110, 224040, 2240530, 224060, 2240920, 22410, 2241120, 2241140, 2241240, 2241560, 2241570, 224161, 224180, 2241860, 2241890, 22420, 224200, 2242100, 2242530, 2242590, 224260, 2242710, 2242760, 224280, 22430, 224300, 2243110, 2243170, 2243200, 224340, 2243670, 2243710, 2243920, 22440, 2244080, 2244160, 224420, 2244200, 2244420, 224460, 224480, 2244840, 22450, 224500, 2245080, 2245090, 224580, 2246110, 2246120, 2246300, 2246850, 2246880, 22470, 224740, 2247570, 224760, 224820, 2248430, 224860, 2248760, 22490, 224900, 2249160, 224940, 2249450, 224960, 224980, 2249830, 22500, 225000, 2250060, 2250090, 225020, 2250550, 2250600, 2250640, 225080, 2251110, 2251130, 2251240, 2251260, 225140, 2251580, 225160, 2251620, 22520, 22521, 2252143, 2252280, 2252490, 225260, 225270, 225280, 2252850, 2252960, 225300, 2253141, 225320, 225340, 2253470, 225360, 2253720, 2253860, 225420, 2254450, 2254490, 2254750, 2254920, 2255330, 225540, 225600, 225640, 2256780, 2256790, 2257400, 2257770, 225827, 225830, 225833, 225834, 225840, 2258500, 2258590, 2258770, 2258940, 2259040, 2259210, 22600, 2260160, 2260330, 22610, 226100, 2261050, 2261070, 2261090, 226120, 2261240, 2261972, 2261983, 2262610, 2262770, 226280, 2262910, 2262930, 2263010, 226320, 2263990, 2264140, 2264880, 22650, 2265180, 2265340, 226560, 2265790, 2265850, 226620, 2266310, 2266320, 2266420, 226664, 226665, 226666, 226667, 226668, 226671, 2266770, 2266820, 2266930, 22670, 226700, 226720, 226740, 2267700, 2267740, 226780, 2267960, 226820, 226840, 2268470, 226860, 226880, 2269330, 2269460, 226960, 226980, 2269810, 2270, 227000, 227020, 2270350, 2270590, 227060, 2270600, 227080, 227100, 227160, 2271750, 227180, 2271940, 2271980, 227200, 2272050, 227220, 2272330, 227240, 2272400, 2272420, 2272500, 2272530, 227260, 227300, 227310, 2273170, 227320, 2273430, 2273550, 2273570, 2273730, 227380, 2273880, 2274120, 2274430, 2274480, 2274500, 2274510, 2274630, 2274980, 2274990, 2275150, 2275550, 2275560, 227560, 227580, 2275820, 227600, 2276690, 227680, 2276850, 2276930, 227760, 227780, 2277860, 2278010, 2278130, 2278280, 2278350, 2278351, 227860, 2278630, 2279470, 2279510, 2279710, 2280, 2280000, 2280320, 2280520, 2280540, 2280870, 2281360, 2281410, 2281460, 2281730, 228180, 2281860, 228200, 2282100, 2282210, 2282330, 2282480, 2282540, 228260, 2282610, 2282670, 228280, 228300, 2283211, 2283460, 2283550, 228360, 228380, 228400, 2285150, 2285570, 2285650, 2285970, 228601, 2286770, 2286850, 2287220, 228760, 2287650, 2287960, 2287970, 2287980, 2288070, 2288080, 2288210, 2288660, 2288680, 228880, 2289080, 228960, 2289960, 2289970, 2290000, 2290180, 2290790, 229080, 2291020, 2291030, 2291340, 2291670, 2291760, 2291810, 2291850, 2292060, 2292590, 2292720, 2292750, 2293010, 2293410, 2293420, 2293660, 2294130, 2294540, 2294610, 2294730, 229480, 229520, 229560, 229580, 2295920, 229600, 229626, 229627, 2296380, 229660, 2296990, 2297010, 229754, 2297650, 229810, 2298210, 2298590, 2298610, 229870, 229890, 2299130, 229950, 2299510, 229970, 2299700, 2299710, 2299780, 2299890, 2300, 2300160, 230050, 230070, 230090, 2300920, 2301370, 2301790, 230190, 2302140, 230230, 2302640, 230270, 2302800, 2302840, 2302882, 2302890, 230290, 2303120, 2303180, 230330, 2303350, 2303400, 230350, 2303720, 2303800, 2303810, 2304030, 230410, 2304160, 2304380, 2304400, 2304500, 2304680, 2304990, 2305480, 2305790, 230650, 2306590, 2306740, 230700, 2307120, 2307470, 2307471, 2307680, 230780, 2307950, 230820, 2308360, 230840, 2308400, 230860, 2308650, 2308870, 2308990, 2309050, 230980, 2310, 231020, 2310300, 231040, 231060, 2310690, 2311190, 2311260, 2311320, 2311350, 231140, 231160, 231180, 2311920, 2311930, 231200, 231310, 2313130, 2313140, 2313250, 231330, 2313320, 2313323, 2313400, 2313541, 2313550, 2313691, 2314000, 2314160, 231430, 2314360, 2314430, 2314650, 2314670, 2314720, 231479, 231480, 2314920, 2315040, 2315420, 2315421, 2315500, 2316400, 2316410, 2316660, 231670, 2316850, 2316890, 231720, 231740, 2317510, 2317560, 2317820, 2317910, 2317930, 2318010, 2318310, 2318480, 2319470, 231990, 2319990, 2320, 232010, 2320270, 232050, 232090, 2320910, 2320970, 2321080, 2321092, 2321180, 2321210, 2321430, 2321580, 2321690, 2321800, 2321880, 2322560, 2322660, 2323000, 2323870, 232430, 232450, 2324650, 2325281, 232530, 2325460, 232550, 232570, 2325750, 2325780, 2325830, 232590, 2325900, 232634, 2326780, 2327320, 232750, 232770, 232790, 232810, 2328720, 2328750, 2328760, 232890, 232910, 2329130, 232950, 232970, 23300, 2330500, 2330750, 2330970, 2330980, 23310, 233110, 233130, 233150, 2331540, 2331690, 2331691, 233190, 2331960, 2331970, 233210, 233230, 2332410, 233250, 233270, 2332810, 233290, 233310, 2333320, 233350, 233370, 233410, 2334340, 233450, 233470, 233510, 233530, 233550, 233610, 2336180, 2336200, 233630, 2336720, 233680, 2336980, 233700, 2337140, 233720, 233740, 2337450, 2337630, 23380, 233800, 2338000, 2338140, 233840, 233860, 2338770, 2339040, 2339281, 2339640, 233980, 23400, 234000, 2340400, 2340720, 234080, 2341070, 234140, 2341550, 234160, 2341680, 234190, 2341920, 23420, 2342040, 2342310, 2342400, 234270, 2342950, 234310, 2343180, 2343200, 2343240, 234330, 2343600, 2343650, 234390, 2344010, 2344020, 2344510, 2344520, 234490, 23450, 2345020, 234510, 234530, 234570, 2345770, 23460, 234650, 2346550, 234670, 2346830, 234710, 2347380, 2347530, 234770, 234772, 2347740, 2348100, 2348120, 2348170, 234820, 2348450, 2348650, 2348680, 2348770, 23490, 234900, 234920, 234940, 234980, 2349820, 2349830, 2350020, 2350550, 2351080, 2351090, 2351420, 2351970, 235210, 2352300, 235250, 2352770, 23530, 235320, 2353450, 2353510, 2353512, 235360, 2353720, 2353760, 235380, 2353910, 2354520, 235460, 2354940, 235520, 235540, 235580, 235584, 235585, 235600, 235620, 2356440, 2356460, 2356500, 235660, 2357400, 2357570, 235780, 235800, 235820, 2358210, 2358260, 2358430, 235883, 235900, 2359170, 2359560, 235960, 235980, 2360, 23600, 2360020, 2360050, 236090, 236110, 236130, 236150, 2361800, 2362300, 2362391, 2362420, 2362740, 2363410, 236370, 2363740, 236390, 2364270, 236430, 236450, 2364810, 236510, 2365280, 236530, 2365430, 2365810, 2366080, 2366470, 2366580, 236690, 2367230, 2367290, 236730, 2367860, 236790, 236850, 236930, 2369390, 2369454, 2369458, 2369472, 2370, 23700, 237010, 2370460, 2370570, 237090, 2371170, 2371630, 2372030, 2372380, 237310, 2373290, 2373440, 237350, 2373630, 237370, 237430, 2374460, 237450, 2374590, 237470, 2374920, 2374930, 2374980, 2375040, 2375130, 2375180, 2375330, 237550, 2375830, 237590, 237619, 237620, 237630, 2377000, 2377001, 2377240, 2377310, 237740, 2377420, 237760, 2377780, 2377950, 2378460, 237850, 2378500, 2378680, 237870, 2378760, 2378840, 237890, 2378900, 237930, 2379390, 237950, 237970, 2379720, 237990, 2380030, 238010, 2380230, 2380410, 2380450, 238050, 2380680, 238070, 238090, 2381340, 2381620, 2381690, 238170, 238210, 2382250, 238240, 238260, 2382764, 238280, 2383120, 238320, 2383250, 2383430, 2383530, 238370, 2383760, 2383990, 2384240, 2384280, 238430, 2384550, 2384570, 238460, 238482, 238530, 238590, 2386250, 2386530, 2386820, 2386870, 2386992, 238710, 2387110, 238750, 2387590, 2387780, 2387880, 2387940, 2388080, 2388460, 238870, 238890, 238910, 2389240, 238930, 238950, 238960, 2389700, 2390, 2390000, 2390150, 2390260, 239030, 239070, 239090, 239120, 239160, 2391840, 239200, 239220, 2392240, 239250, 2392520, 2392613, 2392760, 239350, 239430, 239450, 2395150, 2395210, 239550, 2395620, 239570, 2395810, 239700, 2397010, 2397791, 239800, 239820, 239840, 2398870, 2399220, 2399330, 2399540, 2399730, 2399750, 2399890, 2399910, 240, 2400, 2400280, 2400340, 2400590, 2400830, 2400900, 24010, 2401180, 2401460, 2401500, 2401890, 2401900, 240200, 2402310, 240300, 2403000, 240320, 2403270, 2403280, 2403320, 2403370, 240340, 2403430, 2404310, 240440, 240460, 2404820, 240500, 240600, 240620, 2406200, 2406290, 240660, 2406610, 240720, 2407310, 2407350, 240760, 2407940, 2407941, 240820, 24083, 2408730, 24095, 240970, 2409780, 241000, 2410180, 241070, 2410760, 2410761, 2410780, 2411230, 2411910, 2412250, 2412251, 241240, 241260, 241280, 241300, 241320, 241364, 241368, 241369, 241373, 2413840, 241410, 2414730, 2414920, 241540, 241560, 2415960, 241600, 241620, 241640, 241660, 241680, 2416900, 241720, 2417350, 2417490, 241910, 2419150, 2419151, 241930, 241990, 2420, 24200, 2420330, 242050, 2420510, 242130, 2421780, 2421800, 2421820, 2421890, 2422110, 2423320, 24240, 2424230, 2424440, 242530, 2425410, 242550, 242570, 242590, 242640, 242680, 2426930, 2426940, 242700, 242720, 2427590, 242760, 242780, 242820, 242840, 242860, 242880, 2428910, 242920, 242940, 242960, 242980, 2429870, 243000, 2430130, 243020, 243040, 2430400, 243060, 2430690, 2430830, 2430990, 2431100, 2431490, 243160, 2431880, 243200, 2432020, 2432110, 243220, 2432430, 2432590, 243300, 2433000, 243320, 2433470, 243360, 2433730, 2434160, 2434340, 243450, 243470, 243560, 2435900, 2435940, 2436600, 2437280, 2437690, 243780, 243800, 243870, 243890, 243930, 243950, 2439510, 2439620, 243970, 2439760, 24400, 2440200, 244030, 2440490, 244050, 2440510, 244060, 244070, 24410, 2441270, 244160, 24420, 2442020, 244210, 244230, 2443110, 2443360, 2443550, 2443732, 2443733, 2443760, 244390, 2443960, 2444000, 244410, 244430, 2444350, 2444470, 244450, 2445390, 2445600, 244590, 2445960, 2446080, 2446110, 2446190, 244630, 2446830, 244690, 2447000, 244710, 244730, 244750, 2447580, 244770, 24480, 244810, 2448340, 244850, 244870, 244910, 2449140, 2449260, 244930, 244950, 2450, 2450010, 245010, 2450110, 2450120, 2450130, 2450480, 245050, 2450570, 245130, 245150, 245170, 245280, 245300, 2453280, 245370, 245390, 245410, 245430, 245450, 245470, 245490, 2455060, 2455370, 245550, 2455690, 245580, 2455910, 245620, 2456710, 2456960, 2456990, 245730, 2458210, 2458530, 2458610, 2458700, 245890, 245910, 245930, 245950, 245970, 2459970, 246070, 246090, 2460980, 246110, 2461120, 2461170, 2461780, 2461800, 246260, 246280, 246300, 246400, 2464120, 246420, 246580, 2465830, 2466100, 246620, 2466680, 246680, 2466880, 24670, 2467190, 246740, 246760, 2467800, 246840, 246880, 2468910, 246900, 246920, 246940, 2469400, 246980, 2469960, 247000, 2470130, 247020, 2470720, 247080, 2471100, 247140, 24720, 247240, 247350, 2473770, 247430, 2474860, 2474940, 2475260, 247660, 2477090, 2477660, 2477950, 24780, 247830, 2478320, 2478490, 247870, 24790, 247910, 247930, 247950, 24800, 24810, 248170, 2481850, 248190, 248270, 248290, 248310, 2483110, 248330, 248350, 248390, 248450, 2484520, 248470, 2484790, 248490, 248510, 248530, 2485460, 248550, 2485640, 248570, 24860, 248610, 248650, 2486750, 24870, 2487070, 248710, 248730, 2487480, 248800, 2488050, 2488153, 248820, 2488350, 2488510, 248860, 2489020, 2489370, 248970, 2489990, 2490280, 249050, 2490790, 249088, 249092, 249130, 2491770, 249180, 249190, 249230, 2492320, 2492380, 2492940, 249310, 249320, 249330, 249360, 249380, 2494220, 2494480, 2494930, 249550, 249570, 249590, 2495980, 249630, 249650, 249680, 2497100, 2497280, 2497610, 2497760, 2498570, 249870, 249910, 249930, 2499420, 249950, 2499670, 2499680, 2499890, 249990, 2500, 25000, 250030, 250050, 2500750, 2500760, 25010, 250110, 250180, 2502240, 2502350, 250260, 2502760, 250300, 250310, 250320, 250340, 250380, 250400, 250420, 2504220, 250460, 2504720, 250500, 250520, 250540, 250560, 250580, 250600, 2506160, 250620, 250680, 250700, 2507010, 250720, 250740, 250760, 250820, 250870, 250990, 251060, 2510770, 2511030, 251110, 2511170, 251130, 251150, 2511580, 251170, 251210, 2512180, 2512200, 251230, 251270, 251290, 251310, 251370, 2513890, 251410, 251430, 251470, 2514850, 251490, 2515070, 2515240, 251530, 2515460, 251570, 251590, 2515990, 251610, 251630, 2516360, 251670, 251690, 2517260, 251730, 2517870, 251810, 2518220, 251830, 251850, 251870, 251890, 2518900, 2518960, 251950, 2519670, 251970, 2519830, 251990, 252010, 252030, 252050, 2520880, 2520890, 252110, 252130, 252170, 252230, 252250, 2522600, 252270, 252310, 252330, 252350, 252370, 252390, 2524030, 252410, 2524110, 2524220, 252430, 2524480, 252450, 2524610, 252470, 252490, 2525230, 252530, 252550, 2525680, 252610, 252630, 252670, 2526720, 252690, 252710, 252730, 2527460, 2528120, 252830, 252850, 2528660, 252870, 252910, 2529120, 2529130, 252950, 252970, 253030, 2530380, 2531020, 253110, 253150, 2531820, 253190, 2532050, 253230, 2532370, 253250, 2532550, 253290, 253310, 253330, 253350, 253370, 2533830, 253390, 2533950, 2534000, 253410, 253430, 253470, 2534810, 253510, 253530, 2535420, 2535830, 253630, 253650, 253670, 253690, 2537090, 253710, 2537200, 253750, 253770, 253790, 253840, 253860, 253880, 253900, 253920, 2539350, 253940, 253960, 253980, 2539960, 2540, 254060, 254080, 254100, 2541430, 254200, 254260, 254300, 254320, 2543300, 2543370, 254370, 254440, 254460, 2544720, 254480, 254590, 254650, 2546830, 254700, 2547570, 254820, 2548370, 254840, 254860, 254880, 254920, 2549580, 254960, 255010, 2550140, 2550170, 2550490, 255070, 255160, 255163, 2551690, 255260, 255280, 255300, 255320, 255340, 2553870, 255390, 2553920, 255480, 255520, 2555320, 2556190, 2557050, 2557060, 2557070, 255710, 255870, 255910, 255920, 255960, 255980, 25600, 256010, 256030, 256050, 2560640, 2560650, 2560670, 256070, 2561880, 256190, 2562060, 2562240, 256240, 256290, 256320, 256321, 256330, 256370, 256390, 2563910, 256410, 256460, 2568880, 257030, 257050, 257120, 257170, 257220, 257260, 2573260, 257350, 257370, 257371, 257400, 257420, 257510, 257610, 2576600, 257670, 2576770, 2576780, 2576800, 2576810, 257690, 257710, 257730, 257750, 257770, 257790, 257830, 257850, 257870, 257890, 2579610, 2579670, 257970, 2579800, 257990, 25800, 258010, 258050, 258090, 258160, 258180, 258200, 258220, 258240, 258270, 2582920, 25830, 258460, 25850, 258520, 2585630, 2585720, 258590, 258648, 258654, 2587410, 258760, 258804, 258810, 258817, 258880, 258890, 25890, 258950, 258970, 2590, 25900, 259020, 259040, 259041, 259060, 259080, 25910, 259130, 259170, 259190, 25930, 2593020, 259320, 259340, 2593750, 259380, 259381, 259410, 259430, 259450, 259510, 259530, 259550, 259570, 259600, 259640, 259660, 259680, 25970, 259720, 2597580, 259760, 259780, 25980, 259800, 259810, 259830, 259870, 25990, 259900, 2599300, 259960, 259980, 2600, 26000, 260080, 260130, 260160, 260190, 260210, 260230, 260250, 260290, 260309, 260330, 260410, 260430, 260510, 260530, 260550, 260570, 260650, 260690, 260710, 260730, 2607350, 260750, 260790, 2608590, 260860, 2610, 261030, 261050, 2610760, 261110, 261180, 261430, 261470, 2614920, 261510, 261530, 261550, 261570, 261640, 261680, 261700, 261720, 261760, 261820, 2618840, 261920, 261980, 2620, 262000, 262060, 262080, 262120, 262150, 262190, 262210, 262240, 262260, 262280, 2623000, 262370, 262390, 262410, 262450, 262470, 262490, 262550, 262590, 262610, 262690, 2627220, 262750, 262790, 262810, 262830, 262850, 262870, 262900, 262940, 262960, 262980, 2630, 263020, 263040, 263060, 263100, 263140, 263200, 263260, 263300, 263320, 263340, 263360, 263380, 263400, 263440, 263460, 263520, 263540, 263560, 263620, 263680, 263720, 263740, 263760, 263800, 263820, 263860, 263920, 263940, 263980, 2640, 264000, 264020, 264060, 264080, 264120, 264140, 264160, 264200, 264320, 264340, 264380, 264420, 264520, 264560, 264580, 264600, 264610, 264690, 264710, 264730, 265000, 265020, 265061, 265120, 265210, 265300, 265330, 265380, 265400, 265420, 265470, 265550, 265590, 265610, 265630, 265650, 265690, 265730, 265750, 265770, 265810, 265830, 265870, 265890, 265930, 265950, 265970, 265990, 266010, 266030, 266050, 266110, 266130, 266170, 266190, 266210, 266230, 266270, 266290, 266310, 266390, 266410, 266430, 266490, 266510, 266620, 266740, 266840, 266980, 267220, 267360, 267380, 267381, 267382, 267440, 267490, 267530, 267550, 267600, 267610, 267630, 267670, 267730, 267775, 267782, 267900, 267920, 267940, 267960, 267980, 26800, 26803, 268050, 268090, 268130, 268200, 268220, 268400, 268500, 268540, 268560, 268650, 268670, 268750, 268770, 268850, 268870, 268890, 268910, 268990, 26900, 269030, 269050, 269110, 269150, 269170, 269190, 269210, 269230, 269250, 269270, 269310, 269330, 269350, 269370, 269390, 269450, 269470, 269490, 269530, 269570, 269590, 269610, 269650, 269670, 269690, 269710, 269730, 269770, 269790, 269890, 269950, 2700, 27000, 270010, 270050, 270070, 270090, 270110, 270130, 270150, 270170, 270190, 27020, 270210, 270270, 270370, 270430, 270450, 270490, 27050, 270510, 270550, 270590, 270630, 270750, 270760, 270770, 270790, 270810, 270830, 270850, 270880, 270910, 270950, 2710, 271030, 271110, 271240, 271260, 271360, 271370, 271444, 271479, 271500, 271570, 271590, 271640, 271670, 271760, 271820, 271850, 271860, 271900, 271920, 271942, 271943, 271944, 271970, 272040, 272060, 272230, 272270, 272300, 272350, 272470, 272510, 272600, 272620, 272680, 272890, 272920, 272990, 273030, 273070, 273110, 273152, 273153, 273240, 273300, 273350, 273380, 273381, 273390, 273500, 273570, 273580, 273590, 273600, 273620, 273730, 273740, 273750, 273760, 273770, 273800, 273820, 273840, 273850, 273890, 273940, 273960, 27400, 274010, 274123, 274160, 274161, 274170, 274190, 274230, 274250, 274270, 274290, 274310, 274350, 274440, 274450, 274480, 274500, 274520, 274560, 274620, 274700, 274900, 274940, 274960, 274980, 275030, 275060, 275080, 275100, 275180, 275200, 275290, 275310, 275350, 275390, 275470, 275490, 275510, 275530, 275560, 275570, 275590, 275670, 275690, 275700, 275850, 276340, 276360, 276440, 276460, 276550, 276750, 276810, 276870, 276890, 277110, 277150, 277170, 277270, 277390, 277430, 277450, 277460, 277470, 277490, 277500, 277520, 277540, 277560, 277590, 277630, 277650, 277680, 277720, 277730, 277739, 277740, 277742, 277760, 277767, 277768, 277770, 277777, 277821, 277830, 277890, 277950, 2780, 27800, 278080, 278190, 278210, 278360, 278420, 278460, 278530, 278550, 278570, 278620, 278712, 278810, 278890, 278930, 278970, 27900, 279070, 279140, 279160, 27920, 279260, 27940, 279440, 279480, 279500, 279540, 279560, 279600, 279620, 279623, 279640, 279720, 279740, 279800, 279840, 279900, 279920, 279940, 280, 2800, 28000, 280040, 280140, 280160, 280180, 280220, 280320, 280360, 280380, 280440, 28050, 280520, 280540, 280560, 280600, 280620, 280640, 280680, 280720, 280740, 280790, 280850, 280890, 280910, 2810, 281050, 281130, 281200, 281220, 281260, 281280, 281350, 281370, 281390, 281410, 281430, 281450, 281580, 281610, 281640, 281750, 281770, 281900, 281920, 281940, 281990, 2820, 282010, 282030, 282050, 282070, 282100, 282140, 282210, 282280, 282350, 282400, 282440, 282470, 282510, 282511, 282512, 282513, 282514, 282516, 282530, 282560, 282590, 282620, 282760, 282800, 282860, 282880, 282900, 283060, 283160, 283180, 283230, 283270, 283290, 283310, 283330, 283350, 283370, 283410, 283430, 283600, 283620, 283640, 283660, 283680, 283740, 283820, 283880, 283920, 283940, 283960, 283980, 2840, 284000, 284020, 284050, 284070, 284100, 284160, 284240, 284260, 284390, 284430, 284440, 284441, 284450, 284460, 284710, 284730, 284750, 284770, 284830, 284850, 284870, 284890, 284930, 284950, 284990, 285010, 285050, 285070, 285090, 285110, 285160, 285190, 285310, 285330, 285380, 285400, 285420, 285440, 285480, 285500, 285520, 285580, 285670, 285740, 285800, 285820, 285840, 285900, 285920, 286000, 286040, 286080, 286100, 286120, 286140, 286160, 286200, 286220, 286240, 286260, 286280, 286300, 286320, 286360, 286460, 286480, 286634, 286636, 286690, 286730, 286750, 286770, 286810, 286830, 286930, 286940, 2870, 287020, 287070, 287100, 287120, 287200, 287220, 287260, 287290, 287310, 287330, 287370, 287371, 287390, 287450, 287580, 287600, 287630, 287680, 287700, 287720, 287740, 287840, 287900, 287920, 287960, 287980, 288020, 288040, 288060, 288080, 288120, 288140, 288160, 288220, 288260, 288370, 288390, 288470, 288520, 288570, 288730, 288750, 288840, 288860, 288880, 288930, 289050, 289070, 289090, 289130, 289180, 289200, 289220, 289280, 289300, 289340, 289360, 289380, 289400, 289420, 289440, 289460, 289480, 289500, 289520, 289550, 289600, 289620, 289650, 289690, 289760, 289780, 289800, 289820, 289840, 289880, 289881, 289890, 289930, 289950, 2900, 290020, 290040, 290060, 290080, 290140, 290260, 290280, 290300, 290340, 290380, 290400, 290401, 290402, 290440, 290470, 290490, 290530, 290630, 290650, 290690, 290730, 290750, 290770, 290790, 290810, 290830, 290870, 290890, 290930, 290970, 2910, 291010, 291030, 291050, 291130, 291170, 291190, 291210, 291250, 291270, 291290, 291330, 291370, 291450, 291480, 291550, 291650, 291690, 291710, 29180, 291840, 291860, 291900, 291910, 291930, 291960, 2920, 292030, 292050, 292060, 292120, 292140, 292160, 292180, 292200, 292230, 292240, 292330, 292380, 292390, 292400, 292410, 292420, 292480, 292500, 292630, 292660, 292670, 292712, 292730, 292760, 292780, 292800, 292820, 292840, 292860, 292880, 292910, 292930, 292980, 292982, 292985, 292990, 293010, 293054, 293059, 293140, 293160, 293180, 293240, 293260, 293320, 293340, 293440, 293480, 293540, 293560, 293600, 293660, 293680, 293740, 293760, 293780, 293820, 293840, 293860, 293880, 293920, 293940, 293960, 294020, 294040, 294060, 294100, 294140, 294180, 294230, 294280, 294370, 294390, 294420, 294440, 294530, 294540, 294570, 294590, 294650, 294660, 294670, 294680, 294710, 294720, 294730, 294750, 294770, 294790, 294810, 294830, 294860, 295069, 295086, 295089, 295093, 295220, 295221, 295250, 295270, 29540, 295437, 295510, 295590, 295670, 29570, 295710, 295730, 295750, 295770, 295790, 295810, 295990, 29600, 296050, 296070, 296170, 296180, 29620, 296210, 296220, 296240, 296280, 296470, 296490, 296530, 296550, 296570, 296590, 296710, 296770, 296830, 296870, 296910, 296970, 296990, 29700, 297000, 297020, 297060, 297120, 297130, 297190, 297210, 297290, 297310, 297330, 297350, 297450, 297470, 297512, 297570, 297620, 297750, 297760, 297790, 297791, 297792, 297830, 297831, 297860, 297900, 297920, 29800, 298030, 298050, 298110, 298140, 298160, 298180, 298240, 298260, 298280, 298340, 298360, 298400, 298480, 298520, 298600, 298610, 298630, 298641, 298680, 298850, 298860, 298900, 298930, 298950, 2990, 29900, 299020, 299030, 299050, 299070, 299100, 299110, 299180, 299230, 299240, 299250, 299340, 299360, 299400, 299420, 299440, 299460, 299480, 299500, 299600, 299640, 299660, 299680, 299700, 299720, 299740, 299780, 299820, 299860, 299890, 299910, 299950, 30, 300, 3000, 300060, 300120, 300160, 300220, 300260, 300300, 300320, 300360, 300380, 300400, 300540, 300550, 300570, 300580, 300610, 300630, 300820, 300870, 300910, 300960, 300970, 3010, 301120, 301150, 301190, 301200, 301220, 301300, 301320, 301380, 301460, 301480, 301500, 301520, 301560, 301610, 301640, 301650, 301670, 301690, 301700, 301740, 301750, 301760, 301840, 301860, 301892, 301910, 301920, 301970, 301980, 3020, 302010, 302060, 302080, 302130, 302160, 302190, 302210, 302260, 302270, 302290, 302330, 302350, 302380, 302390, 302440, 302470, 302490, 302510, 302570, 302610, 302670, 302690, 302710, 302790, 302830, 302910, 302950, 303210, 303260, 303290, 303310, 303390, 303430, 303590, 303610, 303680, 303690, 303720, 303730, 303790, 303800, 303830, 303870, 303880, 303940, 304010, 304020, 304030, 304050, 304140, 304170, 304211, 304212, 304214, 304240, 304270, 304310, 304320, 304350, 304360, 304380, 304390, 304410, 304430, 304460, 304480, 304530, 304540, 304580, 304650, 304670, 304690, 304730, 304810, 304930, 304950, 3050, 305050, 305070, 305260, 305380, 305390, 305500, 305620, 305640, 305700, 305760, 305780, 305840, 305860, 305920, 305940, 305960, 306020, 306040, 306130, 306150, 306190, 306200, 306260, 306350, 306370, 306390, 306393, 306394, 306395, 306396, 306397, 306399, 306410, 306460, 306490, 306550, 306630, 306640, 306660, 306670, 306690, 306700, 306760, 306930, 306950, 307010, 307050, 307070, 307110, 307130, 307150, 307190, 307230, 307290, 307340, 307410, 307430, 307570, 307580, 307590, 307620, 307640, 307670, 307690, 307750, 307760, 307770, 307780, 307800, 307880, 307940, 307950, 307960, 307990, 308000, 308040, 308060, 308173, 308270, 308310, 308330, 308380, 308420, 308600, 310031, 310060, 310070, 310080, 310110, 310360, 310370, 310390, 310450, 310470, 310490, 310510, 310640, 310660, 310700, 310740, 310790, 310850, 310890, 310950, 310970, 31100, 311010, 311050, 311060, 311080, 311100, 311120, 311140, 311190, 311210, 311240, 311260, 311290, 311310, 311340, 311400, 311480, 311500, 311560, 311660, 311680, 311690, 31170, 311720, 311730, 311770, 311800, 311870, 311910, 311930, 311980, 312020, 312050, 312060, 31220, 312200, 312210, 312230, 312280, 312310, 312350, 312360, 312370, 312390, 312420, 312440, 312450, 312520, 312530, 312540, 312560, 312600, 312610, 312630, 312650, 312660, 312670, 312680, 31270, 312720, 312750, 312780, 312790, 31280, 312840, 31290, 312920, 312960, 312970, 312980, 312990, 3130, 31300, 313010, 313020, 313080, 313120, 313140, 313160, 313200, 313210, 313240, 313280, 313330, 313340, 313360, 313381, 313390, 313400, 313480, 313500, 313590, 313620, 313630, 313650, 313660, 313690, 313730, 313740, 313780, 313800, 313810, 313830, 314000, 314010, 314020, 314030, 314070, 314150, 314160, 314180, 314200, 314230, 314240, 314280, 314320, 314330, 314340, 314360, 314380, 314410, 314420, 314430, 314450, 314470, 314500, 314510, 314520, 314560, 314650, 314660, 314680, 314710, 314730, 314790, 314810, 314830, 314970, 314980, 315070, 315080, 315150, 315151, 315190, 315260, 315320, 315330, 315430, 315440, 315460, 315480, 315540, 315550, 315640, 315660, 315810, 315840, 315850, 315860, 315880, 315930, 315960, 316010, 316030, 316050, 316140, 316160, 316240, 316260, 316320, 316370, 316390, 316410, 316430, 316440, 316441, 316446, 316600, 316610, 316700, 316750, 316790, 316810, 316830, 316890, 316910, 316930, 316960, 316962, 316964, 316965, 316967, 316970, 3170, 31700, 317030, 317040, 317060, 317080, 317100, 317250, 317280, 317300, 317320, 317360, 317370, 317380, 317400, 317410, 317440, 317470, 317480, 317490, 317510, 317600, 317610, 317620, 317660, 317790, 317820, 317850, 317940, 317950, 318020, 318090, 318100, 318130, 318220, 318230, 318260, 31830, 318310, 318320, 318330, 318390, 318412, 318420, 318430, 31850, 318510, 318511, 318520, 318521, 318530, 31860, 318600, 318690, 318740, 318793, 318850, 318950, 318970, 319000, 319010, 319011, 319012, 319013, 319014, 319015, 319016, 319017, 319018, 319050, 319080, 319090, 319120, 319140, 319150, 319170, 319180, 319230, 319250, 319280, 319290, 31930, 319400, 319410, 319430, 319450, 319470, 319480, 319510, 319540, 319560, 319570, 319630, 319740, 319760, 319780, 319810, 319830, 319870, 319910, 319930, 319970, 319980, 319990, 320, 3200, 320000, 320030, 320040, 320090, 320120, 320140, 320240, 320300, 320310, 320320, 320330, 320340, 320352, 320353, 320364, 320370, 320371, 320372, 320380, 320383, 320386, 320400, 320430, 320553, 320610, 320670, 320690, 320760, 320790, 320820, 320840, 320890, 320970, 320989, 321030, 321040, 321060, 32110, 321150, 321190, 321260, 321270, 321290, 321300, 321350, 321360, 32140, 321400, 321410, 321430, 321480, 321540, 321580, 32160, 321600, 321800, 321830, 321840, 321870, 321920, 321950, 321960, 321980, 3220, 322000, 322020, 322021, 322022, 322110, 322130, 322160, 322170, 322190, 322210, 322290, 322330, 322420, 322430, 322440, 322450, 322500, 322520, 322600, 322630, 322660, 322680, 322770, 322780, 322850, 322900, 322920, 322970, 322980, 3230, 323060, 32310, 323130, 323140, 323150, 323160, 323170, 323180, 323190, 323220, 323230, 323240, 323280, 32330, 323320, 323340, 323380, 32340, 323410, 323450, 323470, 323490, 32350, 323500, 323580, 32360, 323620, 323670, 323680, 32370, 323720, 323780, 32380, 323850, 32390, 323910, 32400, 324020, 324030, 324070, 324080, 324090, 324110, 324140, 324160, 324170, 324190, 32420, 324240, 324260, 324280, 324290, 32430, 324310, 324344, 324390, 32440, 32450, 324510, 324520, 324570, 32460, 324610, 324650, 324680, 32469, 32470, 324710, 324740, 324760, 324770, 324790, 324800, 324810, 324830, 324850, 32500, 325090, 32510, 325100, 325120, 325150, 325180, 325210, 325260, 325320, 325370, 325420, 325504, 325520, 325580, 325600, 325610, 325630, 325730, 325790, 325880, 325954, 325956, 325974, 325987, 3260, 326060, 32610, 326120, 326130, 326150, 326160, 326180, 326190, 32620, 326230, 32630, 326340, 326350, 326360, 326380, 326390, 326391, 32640, 326410, 326460, 326480, 326621, 326650, 326670, 326730, 326740, 32680, 326840, 326950, 326960, 3270, 327010, 327030, 327060, 327090, 32710, 327130, 327140, 327173, 327175, 32720, 327220, 327280, 32730, 327310, 327380, 327390, 32740, 327400, 327410, 327490, 32750, 327510, 327520, 327560, 32760, 327640, 327670, 327690, 32770, 327740, 327830, 327831, 327860, 327880, 327890, 327910, 327920, 327930, 327940, 327950, 328060, 328070, 328080, 328100, 328140, 328220, 328240, 328270, 328440, 328450, 328470, 328500, 328590, 328730, 328760, 328818, 328880, 328890, 328900, 328920, 328930, 328940, 32900, 329010, 329011, 329012, 329013, 329040, 329050, 329070, 329110, 329130, 329200, 329320, 329380, 329430, 329440, 329460, 329480, 329490, 329530, 329620, 329630, 329640, 329650, 329670, 329680, 329790, 329830, 329860, 329880, 329920, 329970, 329980, 3300, 330020, 330100, 330160, 330210, 330270, 330350, 330390, 330420, 330460, 330580, 330590, 330660, 330710, 330720, 330760, 330770, 330820, 330830, 330840, 330990, 3310, 33100, 331050, 33110, 331120, 331160, 331190, 33120, 331200, 331210, 33130, 331340, 331380, 331390, 331440, 331450, 331470, 331480, 331492, 331500, 331510, 331600, 331610, 331650, 331660, 331670, 331690, 331750, 331760, 331790, 33180, 331870, 331900, 331920, 331970, 331980, 3320, 33220, 332200, 332250, 332260, 332270, 33229, 33230, 332310, 332350, 332360, 332370, 332380, 332390, 332400, 332410, 332480, 332490, 332500, 332570, 332620, 332630, 332790, 332800, 332830, 332950, 3330, 333091, 333110, 333120, 33320, 333210, 333250, 333300, 333330, 333340, 333350, 333420, 333430, 333490, 333510, 333600, 333640, 333660, 33372, 333740, 333800, 333811, 333813, 333816, 333817, 333820, 333860, 333870, 333880, 333930, 333950, 333980, 333990, 334040, 334070, 334080, 334100, 334120, 334190, 33420, 334210, 334230, 334270, 334280, 334290, 334310, 334330, 334420, 334440, 334480, 334490, 334540, 33460, 334660, 334710, 334850, 334920, 334940, 334980, 3350, 335000, 335020, 335030, 335050, 335070, 335120, 335180, 335190, 33520, 335200, 335240, 335260, 335300, 335320, 335330, 33540, 335420, 335430, 33550, 335510, 335620, 335640, 335660, 335670, 33570, 335790, 33580, 335800, 335820, 335830, 335900, 335930, 3360, 33600, 336060, 336080, 33610, 336130, 336140, 336150, 33620, 336240, 336300, 336370, 336420, 336440, 33650, 336530, 336610, 336630, 336670, 33670, 336710, 336730, 336760, 336770, 336780, 336790, 33680, 336850, 336851, 336940, 337000, 337040, 337070, 337150, 33720, 337220, 337270, 337280, 337320, 337340, 337350, 337360, 337410, 337460, 337630, 337660, 337661, 337680, 33770, 337720, 337760, 33780, 337820, 337840, 337850, 337880, 337890, 337930, 337940, 3380, 338050, 338060, 338070, 338090, 338100, 338120, 338130, 338140, 338160, 338161, 338163, 338170, 338250, 338300, 338320, 338330, 338350, 338360, 338390, 338400, 338420, 338540, 338620, 338640, 338710, 338723, 338800, 338830, 338840, 338960, 338980, 3390, 33900, 339000, 339034, 339040, 33910, 339130, 339160, 339190, 339200, 339210, 339230, 339240, 339280, 33930, 33934, 339340, 339350, 339400, 339470, 339480, 33950, 339510, 339550, 339570, 339580, 339600, 339610, 339640, 339700, 339790, 339800, 339830, 339840, 339850, 33990, 339900, 339910, 340, 340000, 340030, 340050, 340070, 340080, 34010, 340110, 340150, 340170, 340210, 340220, 340270, 340280, 34030, 340320, 340330, 340340, 340360, 340460, 340490, 34050, 340520, 340580, 340610, 340730, 340770, 340810, 340830, 340860, 340880, 340990, 3410, 341000, 341020, 341030, 341040, 341060, 341150, 341170, 341190, 341300, 341310, 341380, 341390, 341440, 341500, 341540, 341550, 341700, 341710, 341720, 341730, 34174, 34178, 34179, 341800, 341820, 341870, 34190, 341910, 341930, 341940, 341960, 342090, 342180, 342190, 342200, 342230, 342260, 342280, 342300, 342310, 342350, 342370, 342380, 342450, 342480, 342500, 342510, 342550, 342560, 342570, 342580, 342610, 342620, 342630, 342640, 34270, 34272, 34274, 34275, 34276, 34277, 34278, 34280, 34281, 34282, 342825, 342836, 34284, 342841, 34285, 34286, 342860, 342870, 34288, 34289, 342890, 342910, 342940, 342980, 342990, 3430, 343000, 343070, 343090, 34310, 343100, 34311, 34312, 34313, 343140, 34316, 343180, 34319, 34330, 343330, 343340, 343360, 34342, 34343, 343440, 34345, 343460, 343461, 343462, 343463, 343464, 34348, 343560, 343630, 343690, 343710, 343780, 343800, 343820, 343860, 343930, 343950, 343955, 343990, 34410, 344120, 344140, 34420, 344230, 344290, 344340, 344410, 344440, 344450, 344463, 344480, 344500, 344630, 344740, 344760, 344770, 344800, 344820, 344840, 344850, 344860, 344890, 344910, 3450, 345010, 345060, 345090, 345140, 345180, 345200, 345220, 345230, 345240, 345260, 345330, 345350, 345370, 345390, 345430, 345440, 345520, 345540, 345580, 345610, 345620, 345630, 345650, 345660, 345700, 345710, 345740, 345741, 345750, 345800, 345820, 345890, 345980, 345990, 34600, 346010, 346040, 346060, 346110, 346120, 346140, 346170, 346210, 346250, 346270, 346290, 346330, 34640, 346420, 346430, 346460, 346470, 346550, 346560, 346630, 346730, 346750, 346810, 346820, 346830, 346850, 346900, 346940, 346970, 347000, 347060, 347170, 347213, 347230, 347250, 347260, 347290, 347400, 347430, 347560, 347600, 347620, 347670, 347720, 347800, 347830, 347940, 347950, 347980, 347990, 3480, 34800, 348040, 348090, 348091, 34810, 34820, 348200, 348240, 348250, 348270, 348290, 3483, 34830, 348300, 348330, 348360, 348380, 348450, 348470, 348510, 348540, 348550, 348560, 348561, 348620, 34870, 348870, 348910, 348950, 348980, 34900, 349000, 349040, 349100, 349140, 349220, 349231, 349240, 349250, 349270, 349280, 349300, 349320, 349450, 349470, 349480, 349500, 349730, 349770, 349790, 349830, 35000, 350010, 350070, 350080, 350110, 350200, 350280, 35030, 350310, 350380, 350460, 350480, 350490, 350500, 350640, 350660, 350690, 350700, 350740, 350770, 350810, 35083, 350880, 35090, 35091, 350910, 350970, 350990, 35101, 35102, 351030, 351040, 351060, 351080, 351090, 351100, 351150, 351220, 351240, 351290, 35130, 351300, 351330, 351340, 35140, 351480, 351490, 351510, 351570, 351640, 351700, 351710, 351790, 351800, 351820, 351860, 351870, 351890, 351900, 351910, 351920, 351940, 351970, 352000, 352010, 352070, 352130, 352140, 352220, 352240, 352360, 352370, 352400, 352430, 352520, 352550, 352590, 352610, 352620, 352640, 352700, 352720, 352740, 352780, 352790, 352840, 352890, 352950, 35300, 353051, 353053, 353090, 35310, 353190, 35320, 353220, 353270, 353280, 353330, 353360, 353370, 353380, 353390, 353540, 353550, 353560, 353580, 353600, 353610, 353630, 353640, 353700, 353760, 353830, 353890, 3540, 354020, 354140, 354160, 35419, 354200, 354240, 354290, 354310, 354330, 354331, 354380, 354400, 354430, 354464, 354465, 354466, 354467, 35450, 354500, 354560, 35460, 354680, 354730, 354740, 354770, 35480, 354830, 354900, 354950, 354970, 355050, 355060, 355070, 355100, 355130, 355150, 355170, 355180, 355240, 355250, 355270, 355350, 355400, 355420, 355530, 355650, 355680, 355740, 355760, 355790, 355800, 355810, 355860, 355880, 355950, 355960, 355970, 355980, 3560, 356000, 356040, 356070, 356160, 356190, 356200, 356210, 356250, 356260, 356270, 356280, 356290, 356310, 356370, 356390, 356400, 356420, 356430, 356450, 356460, 356500, 356520, 356530, 356570, 356580, 356640, 356650, 356670, 356820, 356831, 356910, 35700, 357070, 357190, 35720, 357290, 357300, 357310, 357330, 357340, 357360, 357480, 357500, 357600, 357670, 357760, 357780, 357900, 357910, 358000, 358020, 358070, 358090, 358130, 358140, 358142, 358150, 358210, 358250, 358270, 358290, 358350, 358360, 358380, 358400, 358410, 358470, 358650, 358750, 358920, 358930, 3590, 359040, 359050, 359100, 359160, 359220, 359230, 359250, 359310, 359320, 359350, 359370, 359390, 359400, 359420, 359440, 359480, 359490, 359496, 359510, 359550, 359560, 359580, 359600, 359610, 359620, 359630, 359650, 359800, 359840, 359860, 359870, 359900, 359920, 359930, 359940, 359960, 360, 360090, 360114, 360150, 360170, 360270, 360390, 360430, 360450, 360480, 360510, 360550, 360620, 360640, 360650, 360720, 360740, 360820, 360830, 360840, 360870, 360890, 360940, 360960, 361190, 361200, 361230, 361250, 361280, 361290, 361300, 361320, 361330, 361360, 361380, 361420, 361550, 361630, 361670, 361690, 361700, 361820, 361840, 361850, 361930, 361950, 361970, 361990, 3620, 362020, 362090, 362160, 362400, 362410, 362490, 362620, 362660, 362680, 362780, 362860, 362870, 362890, 362920, 362930, 362940, 362960, 363090, 363110, 363130, 363150, 363350, 363351, 363360, 363410, 363420, 363440, 363460, 363490, 363500, 363510, 363520, 363530, 363600, 363610, 363620, 363680, 363860, 363890, 363930, 363940, 363960, 363970, 363980, 364200, 364210, 364230, 364300, 364324, 364326, 364350, 364360, 364380, 364390, 364420, 364470, 364510, 364630, 364640, 364690, 364710, 364740, 364750, 364790, 364800, 364810, 364820, 364840, 364890, 364910, 364930, 364940, 364970, 365020, 365070, 365080, 365150, 365160, 365260, 365300, 365320, 365350, 365360, 365400, 365420, 365450, 365460, 365480, 365560, 365580, 365590, 365620, 365660, 365670, 365720, 365770, 365800, 365810, 365820, 365880, 365890, 365900, 365960, 365980, 366000, 366080, 366090, 366220, 366230, 366240, 366250, 366260, 366270, 366280, 36630, 366320, 366380, 366440, 366510, 366530, 366640, 366660, 366690, 366760, 366780, 366800, 366843, 366849, 366870, 366910, 366920, 366960, 366970, 367000, 367020, 367040, 367080, 367120, 367210, 367270, 367330, 367340, 367412, 367413, 367415, 367450, 367480, 367500, 367520, 367570, 367580, 367670, 367680, 367700, 367710, 367850, 367990, 368000, 368050, 368070, 368080, 368160, 368180, 368220, 368230, 368260, 368340, 368360, 368370, 368390, 368420, 368430, 368450, 368470, 368500, 368590, 368600, 368610, 368620, 368640, 368650, 368730, 368780, 368860, 368870, 368890, 368950, 368990, 36900, 369000, 369070, 369080, 369100, 369110, 369150, 369180, 369230, 369280, 369420, 369440, 369530, 369550, 369560, 369700, 369767, 369830, 369890, 369990, 3700, 37000, 370001, 370002, 370003, 370020, 370060, 370220, 370240, 370250, 370280, 370350, 370360, 370440, 370460, 370480, 370540, 370550, 370600, 370700, 370730, 370770, 370780, 370870, 370910, 3710, 371010, 371100, 371120, 371140, 371180, 371190, 371200, 371230, 371260, 371300, 371310, 371450, 371460, 371510, 371520, 371570, 371660, 371670, 371710, 371810, 371970, 3720, 372000, 37210, 372150, 37220, 372210, 37230, 372330, 372350, 372360, 372390, 37240, 372480, 372540, 37260, 372740, 372750, 372780, 372800, 372830, 372930, 372940, 3730, 373000, 373140, 373150, 373180, 373240, 373280, 373290, 373330, 373340, 373370, 373380, 373390, 373420, 373480, 373610, 373650, 373680, 373700, 373720, 373730, 373740, 373750, 373770, 373810, 373920, 373930, 373940, 373950, 373951, 373960, 373970, 373980, 373990, 37400, 374030, 374040, 374060, 374190, 374280, 374300, 374301, 374380, 374390, 374400, 374500, 374510, 374520, 374570, 374640, 374690, 374851, 374900, 374950, 375010, 375030, 375120, 375130, 375170, 375180, 375190, 375200, 375220, 375250, 375310, 375320, 375440, 375450, 375460, 375480, 375500, 375510, 375520, 375530, 375600, 375620, 375680, 375710, 375750, 375820, 375840, 375900, 375910, 375950, 375960, 37600, 376140, 376210, 376300, 376390, 376391, 376450, 376520, 376560, 376570, 376660, 376680, 376730, 376790, 376870, 376920, 376933, 376935, 376936, 376938, 376943, 376944, 376953, 376954, 376955, 376961, 376975, 376980, 376990, 377060, 377070, 377080, 377140, 377160, 377300, 377310, 377330, 377350, 377360, 377430, 377450, 377460, 377480, 377520, 377530, 377560, 377600, 377670, 377680, 377690, 377710, 377840, 377860, 377870, 377880, 377900, 377950, 377970, 377980, 378030, 378040, 378041, 378080, 378100, 378110, 378120, 378270, 378300, 378360, 378370, 378400, 378420, 378478, 378540, 378580, 378610, 378642, 378643, 378644, 378645, 378646, 378647, 378648, 378649, 378660, 378710, 378720, 378730, 378731, 378760, 378770, 378790, 378800, 378950, 379210, 379233, 379310, 379340, 379370, 379400, 379430, 379520, 379530, 379542, 379546, 379551, 379560, 379565, 379567, 379568, 379610, 379640, 379720, 379870, 379960, 379980, 379990, 380, 3800, 380020, 380080, 380150, 380220, 380230, 380360, 380580, 380600, 380660, 380750, 380810, 380840, 380990, 3810, 381010, 381020, 381100, 381120, 38120, 381210, 38130, 381320, 381560, 381570, 381640, 381711, 381712, 381780, 381810, 381840, 38185, 381870, 381880, 381890, 381910, 381940, 381990, 3820, 382000, 382050, 382080, 382090, 382110, 382120, 382140, 382160, 38230, 382300, 382310, 382330, 382350, 382380, 382400, 382460, 382462, 382464, 382466, 382467, 382468, 382469, 382470, 382490, 382560, 382800, 382850, 3830, 383080, 383100, 383120, 383150, 383180, 383230, 383270, 383460, 383580, 383590, 383630, 383690, 383730, 383740, 383790, 383840, 383870, 383930, 383960, 383980, 38400, 384000, 384020, 384021, 384030, 384080, 384090, 38410, 384110, 384180, 384190, 38420, 38430, 384300, 384310, 384360, 38440, 384490, 38450, 384500, 384540, 384550, 384570, 38460, 384630, 384680, 384690, 384700, 384740, 384750, 38480, 384840, 38490, 384910, 384920, 384940, 384960, 384980, 385080, 385120, 385150, 385240, 385250, 385310, 385330, 385370, 385380, 385400, 385470, 385511, 385530, 385560, 385710, 385721, 385730, 385770, 385800, 385830, 385890, 385960, 385970, 38600, 386070, 386080, 386110, 386160, 386180, 386260, 386280, 386360, 386480, 386560, 386590, 386620, 386640, 386690, 386700, 386770, 386820, 386870, 386880, 386900, 386930, 386940, 386960, 386970, 386990, 38700, 387010, 387020, 387240, 387290, 387340, 387370, 38740, 387430, 387440, 387450, 387840, 387860, 387870, 387920, 387930, 387980, 387990, 388080, 388090, 388160, 388210, 38830, 388320, 388340, 388410, 388420, 388450, 388470, 388471, 388472, 388474, 388475, 388477, 388479, 388490, 388520, 388600, 388620, 388750, 388800, 388840, 388880, 388980, 389050, 389140, 389150, 389160, 389170, 389220, 389250, 389280, 389300, 389310, 389421, 389430, 389470, 389510, 389570, 389650, 389670, 389700, 389730, 389810, 389870, 389900, 389930, 389980, 3900, 39000, 390030, 390040, 390100, 390200, 390220, 390290, 390310, 390330, 390340, 390510, 390520, 390560, 390570, 390580, 390610, 390651, 390655, 390657, 390710, 390720, 390730, 390880, 3910, 391000, 391070, 39110, 391140, 391160, 39120, 391210, 391220, 391260, 391270, 391280, 391310, 39140, 391420, 391460, 391490, 39150, 391540, 391570, 391580, 391590, 39160, 391600, 391640, 391680, 391720, 391730, 391780, 391820, 39190, 3920, 39200, 392000, 392020, 392030, 392080, 39210, 392110, 392160, 392190, 392260, 392280, 392450, 392470, 392580, 392610, 39270, 392820, 392940, 392950, 393010, 393080, 393190, 393200, 393220, 393230, 393290, 393320, 393340, 393360, 393380, 393390, 393420, 393430, 393520, 393530, 393610, 393820, 393830, 393831, 393920, 393930, 393980, 394160, 394220, 394280, 394290, 394310, 394320, 394321, 394360, 394510, 394540, 394690, 394700, 394750, 394760, 394840, 394850, 394870, 394910, 394970, 39500, 39510, 395150, 395160, 395170, 395180, 39520, 395200, 395230, 395232, 395235, 395236, 395239, 395260, 395270, 39530, 39540, 395470, 39550, 395520, 395530, 395550, 395560, 395570, 39560, 395600, 395620, 395850, 395860, 395900, 395990, 3960, 396030, 396090, 396160, 396171, 396172, 396280, 39630, 396310, 396350, 39640, 396480, 39650, 396530, 39660, 396640, 396650, 396660, 396680, 39670, 396710, 396750, 396790, 39680, 396800, 396850, 396860, 396890, 39690, 396900, 396960, 397030, 397040, 397060, 397100, 397150, 397160, 397180, 397190, 397210, 397270, 397310, 397320, 397330, 397340, 397350, 397390, 397420, 397430, 397440, 397460, 397500, 397540, 397550, 397570, 397580, 397680, 397690, 397720, 397740, 397750, 397780, 397900, 397950, 397970, 3980, 39800, 398000, 398030, 398100, 398120, 398170, 398180, 398210, 398450, 398620, 398640, 398710, 398810, 398840, 398850, 398890, 398913, 398915, 398916, 398917, 398960, 398980, 398990, 3990, 399040, 399070, 399090, 399120, 399130, 399140, 399230, 399430, 399600, 399610, 399620, 399640, 399660, 399670, 399730, 399790, 399810, 399820, 399860, 399890, 40, 400, 4000, 400040, 400080, 400110, 400160, 400170, 400180, 400220, 400240, 400330, 400370, 400430, 400450, 400470, 400490, 400500, 400510, 400551, 400580, 400630, 400650, 400660, 400740, 400750, 400780, 400790, 400800, 400910, 400940, 40100, 401090, 401190, 401330, 40135, 401360, 401590, 401635, 401650, 401660, 401680, 401690, 401710, 401760, 401780, 401810, 401820, 401890, 401920, 402020, 402040, 402060, 402120, 402130, 402150, 402180, 402190, 402260, 402290, 402310, 402330, 402390, 402530, 402560, 402570, 402620, 402630, 402750, 402800, 402840, 402850, 402880, 40300, 403040, 403070, 403120, 403151, 403152, 403153, 403180, 403190, 40320, 403200, 403290, 40330, 403351, 403390, 40340, 403400, 403410, 403430, 40350, 403520, 403560, 403590, 403640, 403660, 403690, 403700, 403740, 403780, 40380, 403830, 403850, 403860, 403870, 40390, 40392, 40393, 403940, 403950, 403970, 40400, 404010, 404011, 404012, 404013, 404014, 404015, 404030, 404040, 404050, 404080, 404180, 40420, 404200, 404230, 404250, 404410, 404420, 404430, 404480, 404530, 404540, 404580, 404590, 404620, 404630, 404640, 404680, 404690, 404790, 404800, 404820, 404960, 405000, 405010, 405032, 405050, 405080, 405130, 405170, 405180, 405240, 405290, 405310, 405360, 405430, 405610, 405640, 405650, 405710, 405780, 405820, 405830, 405900, 405920, 406080, 406090, 406110, 406130, 406150, 406160, 406170, 406290, 406350, 406540, 406550, 406560, 406580, 406590, 406600, 406610, 406620, 406720, 406730, 406850, 406860, 406870, 406970, 40700, 407000, 407020, 40703, 407090, 407130, 407190, 40720, 407200, 407210, 407230, 407250, 407300, 407310, 407320, 407330, 407340, 407420, 407450, 407474, 407510, 407530, 407560, 407600, 407620, 407680, 407720, 407780, 407810, 407840, 407880, 407900, 407980, 40800, 408000, 408110, 408120, 408250, 408280, 408300, 408330, 408400, 408410, 408500, 408520, 408610, 408640, 408650, 408740, 408770, 408900, 408920, 408930, 408960, 408990, 409000, 409070, 409090, 409100, 409160, 409210, 409280, 409380, 40940, 409450, 40950, 409510, 409520, 409590, 40960, 409600, 409660, 40970, 409710, 409720, 40980, 409850, 409870, 409890, 40990, 409910, 409920, 41000, 41010, 410110, 410120, 410130, 41014, 410150, 41019, 410210, 410320, 410340, 410390, 410420, 410430, 41050, 41060, 41070, 410710, 41074, 410740, 410770, 410780, 410790, 410820, 410840, 410850, 410890, 410900, 410970, 410980, 410990, 41100, 411000, 411010, 411060, 411130, 411180, 411300, 411310, 411320, 411330, 411370, 411380, 411390, 411420, 411470, 411480, 411530, 411560, 411590, 411620, 411650, 411750, 411760, 411820, 411830, 411880, 411890, 411891, 411892, 411893, 411894, 411910, 411911, 411920, 411930, 411950, 411960, 411970, 411980, 412020, 412220, 412330, 412460, 412470, 412480, 412520, 412580, 412660, 412670, 412720, 412730, 412740, 412770, 412790, 412830, 412880, 412940, 41300, 413150, 413160, 413290, 413360, 413370, 413380, 413390, 413410, 413420, 413600, 413710, 413850, 413870, 414060, 414080, 414120, 414150, 414160, 414190, 414301, 414330, 414340, 414510, 414530, 414550, 414660, 414670, 414700, 414720, 414730, 414740, 414870, 414920, 414950, 41500, 415030, 415170, 415180, 415200, 415300, 415350, 415400, 415420, 415480, 415590, 415600, 415610, 415670, 415680, 415700, 415710, 415720, 415740, 415800, 415830, 415840, 415850, 415860, 415880, 415920, 415950, 415960, 416000, 416060, 416130, 416190, 416210, 416240, 416250, 416290, 416310, 416360, 416380, 416400, 416420, 416421, 416422, 416424, 416450, 416480, 416590, 416600, 416630, 416640, 416670, 416680, 416690, 416750, 416760, 416770, 416790, 416830, 416870, 416930, 41700, 417110, 417200, 417290, 417360, 417380, 41740, 417430, 417461, 417462, 417463, 417464, 417465, 417750, 417860, 417880, 417890, 417910, 41800, 418030, 418040, 418070, 418160, 418180, 418190, 418240, 418250, 418270, 418300, 418340, 418370, 418440, 418460, 418520, 418530, 418620, 418650, 418670, 418760, 418780, 418790, 418800, 418810, 418890, 418910, 418950, 418990, 41900, 419070, 419130, 419270, 419340, 419460, 419480, 420, 420000, 420060, 420100, 420110, 420180, 420270, 420290, 420300, 420440, 420490, 420520, 420530, 420550, 420560, 420610, 420660, 420670, 420740, 420790, 420880, 420920, 420930, 420970, 420980, 421040, 421050, 421060, 421120, 421170, 42120, 421260, 42140, 42160, 421600, 421610, 421630, 421650, 421660, 421670, 42170, 421700, 421740, 421790, 421810, 421830, 421890, 422100, 422130, 422140, 422220, 422250, 422270, 422400, 422420, 422510, 422630, 422650, 422760, 422810, 422860, 422900, 422910, 422970, 423230, 423320, 423490, 423550, 423580, 423590, 423620, 423630, 423650, 423700, 423710, 423740, 423770, 423810, 423880, 423890, 423950, 424000, 424010, 424030, 424060, 424170, 424200, 424250, 424260, 424280, 424370, 424590, 424780, 424840, 425120, 425210, 425220, 425240, 425310, 425460, 425540, 425570, 425580, 425600, 425670, 425680, 425720, 425770, 425840, 425960, 426000, 426050, 426100, 426190, 426230, 426310, 426321, 426330, 426560, 426590, 426630, 426690, 42670, 426730, 426790, 42680, 426860, 426920, 426921, 426930, 42695, 42698, 42700, 427030, 427100, 42716, 42718, 42719, 427190, 42722, 427240, 427250, 427270, 427290, 427470, 427490, 427510, 427520, 427550, 427570, 427660, 427680, 427700, 427720, 427730, 427760, 427810, 427820, 427860, 427880, 427910, 427920, 427940, 427950, 427980, 42810, 428100, 428180, 428190, 428200, 428210, 428220, 428270, 428280, 428312, 428340, 428350, 428370, 428420, 428430, 428460, 42850, 428540, 428550, 428605, 428610, 428630, 428660, 428690, 428730, 428750, 428800, 428810, 428830, 428860, 428880, 42890, 428900, 428940, 428950, 42903, 429050, 429060, 42910, 42918, 42920, 429300, 429330, 429350, 429390, 429470, 429490, 429520, 429530, 429540, 429570, 429580, 42960, 429610, 429620, 42966, 429660, 42968, 429680, 429700, 429720, 429780, 429790, 42980, 42990, 429940, 43000, 430020, 43006, 430070, 430080, 430094, 430100, 430110, 430210, 430410, 430930, 430960, 43100, 431030, 431120, 431180, 431240, 431260, 431280, 431330, 431350, 431410, 431450, 431510, 431520, 431540, 431590, 43160, 431600, 431620, 431621, 431640, 431650, 431700, 431730, 431750, 431770, 431810, 431840, 431930, 431940, 431960, 432010, 432100, 432110, 432130, 432180, 432190, 432250, 432290, 432330, 432350, 432370, 432380, 432420, 432450, 432470, 432490, 432670, 432980, 433000, 433080, 433090, 433091, 433100, 433170, 433241, 433242, 433280, 433290, 433300, 433320, 433340, 433350, 433380, 433400, 433430, 433450, 433530, 433550, 433630, 433670, 433730, 433750, 433790, 433800, 433840, 433850, 433900, 433910, 433930, 433950, 434000, 434020, 434030, 434040, 434050, 434060, 434063, 434064, 434066, 434068, 434069, 434090, 434120, 434130, 434170, 434190, 434210, 434250, 434260, 434310, 434370, 434420, 434460, 434480, 434510, 434520, 434570, 434600, 434610, 434650, 434680, 434730, 434740, 434820, 434830, 434880, 434960, 435030, 435040, 435060, 435100, 435120, 435150, 435250, 435300, 435360, 435400, 435440, 435480, 435490, 435530, 435790, 435800, 435840, 435881, 435910, 435970, 436000, 436030, 436040, 436050, 436070, 436080, 436081, 436082, 436090, 436110, 436120, 436121, 436150, 436160, 436180, 436230, 436250, 436260, 436290, 436320, 436390, 436490, 436500, 436520, 436560, 436670, 436890, 437000, 437020, 437070, 437160, 437220, 437233, 437250, 437530, 437570, 437590, 437630, 437700, 437701, 437702, 437720, 437870, 437900, 437920, 438000, 438020, 438040, 438080, 438100, 438130, 438140, 438150, 438180, 438270, 438310, 438320, 438340, 438420, 438430, 438450, 438480, 438490, 438640, 438660, 438680, 438690, 438730, 438740, 438790, 438980, 439190, 439241, 439260, 439310, 439340, 439370, 439460, 439480, 439490, 439540, 439550, 439650, 439660, 439700, 439720, 439910, 439930, 439940, 440, 440020, 440090, 440310, 440410, 440420, 440520, 440540, 440640, 440650, 440730, 440740, 440760, 440810, 440820, 440880, 440900, 440950, 441010, 441050, 441060, 441250, 441270, 441280, 441380, 441440, 441550, 441600, 441670, 441680, 441700, 441730, 441790, 441830, 441850, 441870, 441920, 4420, 442010, 442050, 442051, 442052, 442070, 442080, 442120, 442180, 442500, 442710, 442780, 442810, 442890, 443000, 443020, 443070, 443080, 443110, 44320, 443260, 443330, 443360, 443370, 443380, 44340, 443420, 443460, 44350, 443570, 443580, 443700, 443730, 443810, 443860, 443880, 443970, 444090, 444140, 444170, 444200, 444220, 444250, 444260, 444280, 444350, 444410, 444420, 444490, 444560, 444580, 444590, 444640, 444690, 444720, 444770, 444800, 444880, 444940, 445020, 445040, 445070, 445110, 445130, 445140, 445190, 445220, 445230, 445260, 445310, 445420, 445600, 445670, 445680, 445700, 445720, 445750, 445770, 445800, 445840, 445870, 445980, 445990, 4460, 446000, 446010, 446020, 446100, 446120, 446150, 446250, 446270, 446310, 446330, 446390, 446460, 446470, 446480, 446520, 446540, 446560, 446600, 446610, 446620, 446750, 446780, 446790, 446800, 446810, 446830, 446840, 44690, 446910, 446990, 4470, 447020, 447040, 447120, 447150, 447170, 447180, 447190, 447200, 447270, 447290, 447500, 447530, 447700, 447780, 447800, 447820, 447850, 447860, 447890, 447940, 448000, 448020, 448060, 448070, 448080, 448184, 448240, 448280, 448290, 448320, 448370, 448400, 448440, 448470, 448510, 448540, 448580, 448670, 448730, 448780, 448800, 448830, 448850, 448910, 449000, 449020, 449040, 449050, 449090, 449140, 449170, 449200, 449210, 449220, 449230, 449250, 449300, 449380, 449393, 449394, 449530, 449540, 449550, 449610, 449680, 449710, 449760, 449780, 449800, 449820, 449940, 449960, 449980, 449981, 4500, 45000, 450080, 450120, 450140, 450170, 450190, 450220, 450250, 450390, 450440, 450480, 450500, 450530, 450540, 450550, 450660, 450670, 450790, 450812, 450820, 450860, 450950, 45100, 451010, 451020, 451050, 451140, 451340, 451400, 451410, 451570, 451640, 451650, 451660, 451670, 451690, 451760, 451780, 451840, 451880, 451920, 451980, 4520, 452000, 452060, 452070, 452230, 452340, 452410, 452420, 452440, 452510, 452520, 452521, 452522, 452523, 452530, 452570, 452650, 452860, 452960, 4530, 45300, 453020, 453090, 453100, 453270, 453290, 453300, 453310, 453340, 453360, 453400, 453480, 453670, 453690, 453750, 453770, 453790, 453820, 453850, 453870, 453890, 453960, 453980, 453990, 4540, 45400, 454060, 45410, 454100, 454120, 454140, 454220, 454230, 454250, 454350, 454410, 45450, 454510, 454530, 454540, 454550, 454580, 454650, 454690, 454890, 454900, 454950, 4550, 455000, 455040, 455041, 455050, 455120, 455340, 455370, 455400, 455440, 455460, 455490, 455520, 455570, 455572, 455690, 455710, 455760, 455810, 455820, 455910, 455980, 4560, 456200, 456220, 456221, 456540, 456630, 456670, 456750, 456780, 456810, 4570, 45700, 457010, 457087, 45710, 457140, 457162, 457190, 457191, 457195, 457197, 457198, 457199, 45720, 457210, 45730, 457320, 457330, 457370, 457380, 45740, 457420, 457450, 457480, 457490, 45750, 457530, 457550, 457570, 457590, 45760, 457680, 45770, 457710, 45773, 457730, 45775, 45776, 457760, 457840, 457841, 457842, 457860, 457960, 4580, 458000, 458030, 458160, 458330, 458360, 458380, 458420, 458470, 458520, 458560, 458580, 458630, 458640, 458710, 458730, 458750, 458770, 458820, 458860, 458920, 458960, 459010, 459020, 459080, 459090, 459120, 459130, 459160, 459220, 459310, 459370, 459470, 459540, 459550, 459640, 459790, 459820, 459840, 459940, 460030, 460060, 460120, 460160, 460220, 460340, 460420, 460430, 460580, 460630, 460700, 460780, 460790, 460810, 460850, 460870, 460920, 460930, 460950, 460960, 461010, 461040, 461150, 461160, 461170, 461210, 461241, 461242, 461244, 461245, 461247, 461249, 461400, 461430, 461510, 461520, 461560, 461620, 461640, 461700, 461740, 461750, 461760, 461780, 461800, 461810, 461820, 461840, 461870, 461890, 461950, 462000, 462100, 462170, 462240, 462260, 462261, 462280, 462290, 46250, 46260, 462660, 46270, 462730, 462770, 462780, 46290, 462930, 462940, 462960, 462990, 463000, 463020, 463030, 463060, 463070, 463100, 463150, 463160, 463170, 463220, 463270, 463290, 463350, 46340, 463530, 46360, 46370, 463720, 463740, 463791, 463792, 463795, 46380, 463850, 463860, 463870, 463930, 463980, 46400, 464060, 464080, 46410, 464100, 464150, 464170, 46420, 464200, 464260, 464340, 464350, 464360, 464380, 46440, 464410, 464450, 464490, 464500, 46460, 464620, 464670, 464690, 464700, 464780, 46480, 464800, 464840, 464880, 46490, 464920, 464960, 46500, 465020, 46510, 465100, 465130, 465170, 465180, 465190, 46520, 465200, 465240, 465250, 465280, 465360, 46540, 465480, 465490, 46550, 465510, 465520, 46560, 465660, 46570, 465720, 465760, 465780, 465840, 465870, 465980, 466000, 466060, 466110, 466130, 466170, 466210, 466240, 466270, 466300, 466350, 466390, 466420, 466490, 466500, 466543, 466546, 466560, 466580, 466630, 466660, 466720, 466740, 466780, 466810, 466860, 466870, 466890, 466910, 466980, 467210, 467270, 467290, 46730, 467320, 467330, 467360, 467380, 467390, 467430, 467490, 46750, 467520, 46760, 467600, 467660, 467680, 46770, 467760, 467820, 467890, 46790, 467900, 467930, 467950, 467960, 467980, 468070, 468160, 468240, 468270, 468280, 46830, 468320, 46840, 468410, 468490, 468530, 468550, 468560, 468670, 468700, 468726, 468737, 468920, 468930, 469600, 469610, 469650, 469720, 469790, 469800, 469820, 469890, 469920, 469990, 4700, 47000, 470070, 470090, 470170, 470210, 470220, 470260, 470270, 470300, 470310, 470590, 470690, 470890, 471010, 471170, 471330, 471350, 471520, 471550, 471650, 471660, 471710, 471810, 471891, 471920, 4720, 472060, 472350, 472420, 472490, 472680, 472870, 473444, 473460, 473520, 473530, 473610, 473670, 473690, 473770, 473810, 473850, 473900, 473920, 473950, 473970, 47400, 474020, 474030, 47410, 474210, 474220, 474240, 474740, 474750, 474760, 474761, 474762, 474763, 474890, 474910, 474960, 474980, 475150, 475180, 475190, 475230, 47540, 475490, 475550, 4760, 476020, 476240, 476370, 476420, 476460, 476530, 476540, 476600, 476650, 476862, 476864, 476865, 476869, 476920, 476940, 4770, 477130, 477140, 477160, 477200, 477270, 477310, 477730, 477740, 477750, 477770, 47780, 477870, 477881, 47790, 4780, 47810, 47870, 47890, 47892, 47893, 47894, 47896, 47898, 478980, 47899, 479010, 479170, 47920, 47930, 47931, 47932, 479330, 479990, 4800, 48000, 480430, 480450, 480490, 480630, 480631, 480640, 480650, 481090, 48110, 481110, 481180, 481190, 48120, 481510, 48160, 48180, 48190, 48220, 482221, 482222, 482300, 482390, 48240, 482400, 482450, 482890, 482920, 482990, 4830, 483330, 483420, 483450, 483770, 483840, 483950, 483960, 483980, 484860, 484870, 484900, 484950, 4850, 485000, 485030, 485040, 485080, 485280, 485310, 485330, 485340, 485350, 485360, 485370, 485380, 485400, 485450, 485460, 485510, 485610, 485630, 485650, 485690, 485730, 485820, 485830, 485860, 485870, 485890, 485900, 485950, 485980, 486160, 486170, 486210, 486230, 486310, 486380, 486480, 486510, 486540, 486570, 486571, 486650, 486690, 486720, 486780, 486850, 486860, 486970, 4870, 48700, 487000, 48705, 487120, 487180, 48720, 487220, 487280, 487300, 487430, 487490, 487530, 487700, 487720, 4880, 48800, 488040, 488060, 488130, 488140, 488210, 488280, 488310, 488340, 488430, 488440, 488470, 488550, 488660, 488730, 488760, 488770, 488790, 488810, 488811, 488812, 488860, 488920, 488950, 4890, 48900, 489020, 489070, 489110, 489140, 489170, 489360, 489370, 489380, 48950, 489520, 489570, 489600, 489610, 489630, 489830, 489940, 4900, 490080, 490100, 490220, 490230, 490260, 490270, 490280, 490300, 490320, 490370, 490390, 490450, 490650, 490820, 490860, 490870, 490880, 490890, 490920, 490930, 490950, 490980, 490990, 491090, 491130, 491160, 491220, 491260, 491280, 491330, 491420, 491470, 491490, 491510, 491530, 491540, 491650, 491790, 491950, 4920, 492090, 492140, 492150, 492170, 492220, 492230, 492270, 492280, 492290, 492370, 492490, 492500, 492630, 492680, 492720, 492740, 492840, 492870, 49300, 493080, 493190, 493200, 49330, 493310, 493340, 493370, 493440, 493450, 493490, 493520, 493530, 493540, 493580, 493610, 493720, 493840, 493880, 493900, 493950, 493980, 494050, 494090, 494100, 494110, 494150, 494230, 494392, 494430, 494440, 494450, 494460, 494470, 494580, 494600, 494630, 494670, 494720, 494740, 494830, 494840, 495010, 495050, 495110, 495140, 495160, 49520, 495280, 495300, 495350, 495371, 49540, 495410, 495420, 495480, 495520, 495560, 495570, 495580, 495700, 495730, 495820, 495890, 495910, 495950, 495980, 495990, 49600, 496100, 496101, 496103, 496240, 496260, 496290, 496300, 496310, 496340, 496350, 496390, 496450, 496460, 496490, 496550, 496620, 496640, 496650, 496680, 496730, 496750, 496760, 496810, 496840, 496890, 496980, 496990, 497170, 497180, 497260, 497360, 497400, 497470, 497580, 497640, 497660, 497680, 497690, 497700, 497730, 497780, 497800, 497850, 497860, 497940, 497970, 498190, 498240, 498280, 498310, 498330, 498500, 498570, 498580, 498630, 498660, 498700, 498770, 498870, 49900, 499100, 499210, 499370, 499440, 499460, 499520, 499590, 499620, 499660, 499890, 499910, 50, 500, 50000, 500170, 500211, 500246, 500260, 500271, 500272, 500320, 500370, 500390, 500392, 500460, 500500, 500620, 500670, 500690, 500710, 500810, 500870, 501080, 501090, 50110, 501120, 501190, 501210, 50130, 501300, 501320, 501500, 501590, 501750, 501760, 501790, 501840, 501860, 501930, 501950, 501970, 501990, 502010, 502090, 502130, 502210, 502230, 502280, 502320, 502370, 502380, 502420, 502470, 502500, 502520, 502550, 502570, 502600, 502710, 502720, 502740, 502750, 502770, 502800, 502820, 502870, 502880, 502890, 502891, 502940, 50300, 503060, 503070, 503180, 503240, 503350, 503400, 503450, 503480, 503560, 503580, 503620, 503650, 503770, 503820, 503830, 503940, 504000, 504010, 504050, 504110, 504130, 504210, 504230, 504280, 504300, 504310, 504370, 504380, 504390, 504400, 504430, 504490, 504680, 504770, 504790, 504800, 504920, 504980, 505040, 505060, 505080, 505090, 505100, 505170, 505210, 505230, 505330, 505460, 505540, 505630, 505640, 505700, 505730, 505740, 506140, 50620, 506260, 506480, 50650, 506500, 506510, 506540, 506610, 506730, 506800, 506840, 506870, 506900, 506920, 506970, 506971, 507010, 507120, 507490, 507510, 508150, 508170, 508180, 508260, 508290, 508300, 508340, 508390, 508400, 508405, 508440, 508550, 508590, 508600, 508660, 508740, 508760, 508840, 508900, 508910, 508980, 508990, 509060, 509081, 509110, 509220, 509250, 509290, 509340, 509350, 509390, 509420, 509430, 509440, 509560, 509570, 509580, 50960, 509610, 50970, 509770, 509800, 509840, 50990, 509980, 51000, 510050, 51010, 510120, 510200, 510240, 510380, 510420, 510490, 510500, 510520, 510540, 510550, 510570, 510590, 51060, 510620, 510630, 510650, 510660, 510680, 510750, 510840, 510850, 51100, 511010, 511160, 511330, 511350, 511430, 511450, 511470, 511540, 511630, 511660, 511680, 511740, 511800, 511820, 512032, 512033, 512034, 512035, 512060, 512080, 512180, 512220, 512230, 512250, 512270, 512300, 512340, 512350, 512430, 512460, 512470, 512490, 512540, 512621, 512710, 512790, 512890, 512900, 513000, 513030, 513230, 513270, 513290, 513320, 513330, 513360, 513370, 513440, 513450, 513460, 513490, 513510, 513560, 513570, 513620, 513690, 513710, 513730, 513740, 513770, 513780, 513800, 513880, 513890, 513930, 514080, 514090, 514140, 514150, 514160, 514180, 514190, 514290, 514310, 514330, 514410, 514500, 514660, 514670, 514700, 514750, 514800, 514920, 514930, 514990, 515020, 515040, 515180, 515190, 515191, 515260, 515470, 515570, 515650, 515690, 515910, 515960, 515980, 516110, 516120, 516130, 516250, 516480, 516510, 516600, 516650, 516750, 516950, 517000, 517140, 517160, 517170, 517330, 517360, 517370, 517400, 517500, 517630, 517710, 517720, 517780, 517790, 517810, 517910, 518030, 518040, 518060, 518150, 518280, 518580, 518660, 518670, 518720, 518730, 518790, 518910, 518920, 519110, 519140, 519170, 519180, 519190, 519490, 519860, 519990, 520010, 520210, 520440, 520520, 520550, 520600, 520610, 520720, 520850, 520860, 520940, 520950, 521130, 521150, 521160, 521200, 521210, 521220, 521340, 521350, 521470, 521500, 521570, 521630, 521660, 521680, 521690, 521710, 521720, 521740, 521750, 521760, 521790, 521800, 521840, 521880, 521890, 521920, 522040, 522090, 522120, 522210, 522334, 522470, 522570, 522590, 522620, 522690, 522880, 522940, 523000, 523070, 523110, 523150, 523160, 523210, 523410, 523500, 523501, 523502, 523504, 523506, 523508, 523510, 523511, 523533, 523600, 523610, 523640, 523650, 523660, 523710, 523730, 523780, 524010, 524172, 524175, 524176, 524200, 524220, 524260, 524270, 524290, 524310, 524320, 524330, 524390, 524490, 524520, 524580, 524590, 524600, 524640, 524660, 524850, 524910, 525000, 525019, 525030, 525031, 525040, 525240, 525300, 525360, 525380, 525430, 525460, 525480, 525510, 525610, 525620, 525680, 525690, 525700, 525720, 525780, 525920, 526060, 526090, 526140, 526160, 526290, 526300, 526490, 526531, 526600, 526740, 526840, 526870, 526910, 526980, 527000, 527070, 527100, 527150, 527160, 527190, 527230, 527280, 527290, 527340, 527350, 527420, 527430, 527440, 527450, 527510, 527700, 527710, 527750, 527760, 527770, 527810, 527820, 527990, 528010, 528050, 528051, 528053, 528055, 528057, 528058, 528060, 528070, 528120, 528160, 528180, 528230, 528260, 528300, 528460, 528510, 528550, 528610, 528620, 528640, 528660, 528730, 528740, 528820, 529020, 529060, 529110, 529130, 529150, 529160, 529180, 529240, 529340, 529390, 529440, 529490, 529500, 529520, 529590, 529620, 529660, 529700, 529720, 529780, 529830, 529860, 529890, 529910, 529930, 529950, 530020, 530040, 530060, 530070, 530120, 530180, 530320, 530330, 530360, 530390, 530560, 530580, 530595, 530610, 530611, 530620, 530630, 530660, 530661, 530690, 530710, 530711, 530760, 530780, 530890, 530920, 530930, 530940, 530950, 531050, 531130, 531131, 531163, 531190, 531200, 531510, 531640, 531660, 531680, 531730, 531740, 531860, 531910, 531930, 531960, 532021, 532030, 532110, 532190, 532210, 532320, 532700, 532750, 532770, 532840, 532920, 533110, 533170, 533300, 533480, 533540, 533560, 533570, 533670, 533780, 533850, 533920, 533950, 533970, 534110, 534160, 534210, 534290, 534331, 534370, 534380, 534480, 534550, 534600, 534840, 534920, 534980, 534990, 535480, 535490, 535520, 535700, 535820, 535890, 535930, 536220, 536270, 536280, 536320, 536430, 536450, 536470, 536560, 536576, 536610, 536640, 536770, 536890, 537000, 537110, 537180, 537330, 537340, 537430, 537450, 537520, 537770, 537780, 537790, 537800, 537990, 538000, 538020, 538021, 538030, 538060, 538070, 538090, 538100, 538190, 538470, 538590, 538680, 538810, 538840, 538870, 538880, 538910, 539050, 539260, 539270, 539280, 539290, 539330, 539340, 539400, 539450, 539460, 539470, 539660, 539670, 539720, 540180, 540340, 540510, 540610, 540690, 540720, 540740, 540810, 540840, 540880, 541200, 541210, 541230, 541300, 541370, 541400, 541450, 541560, 541570, 541640, 541660, 541670, 541720, 541920, 541930, 542050, 542160, 542200, 542260, 542280, 542290, 542310, 542330, 542340, 542400, 542480, 542530, 542550, 542590, 542770, 543010, 543100, 543140, 543192, 543240, 543260, 543390, 543460, 543470, 543650, 543870, 543900, 543930, 543980, 544310, 544330, 544380, 544390, 544550, 544580, 544600, 544610, 544650, 544680, 544730, 544750, 544810, 544920, 544970, 544990, 545020, 545030, 545040, 545050, 545060, 545100, 545110, 545150, 545180, 545200, 545210, 545270, 545330, 545400, 545410, 545540, 545570, 545600, 545670, 545690, 545700, 545800, 545820, 545850, 545960, 545980, 546050, 546070, 546080, 546090, 546200, 546220, 546230, 546260, 546340, 546390, 546400, 546410, 546430, 546490, 546550, 546560, 546660, 546780, 546900, 546930, 546980, 547040, 547180, 547340, 547360, 547390, 547410, 547480, 547500, 547501, 547502, 547590, 547660, 547680, 547760, 547820, 547850, 547900, 547910, 547930, 547960, 548240, 548280, 548290, 548370, 548420, 548421, 548430, 548480, 548570, 548720, 548810, 548840, 549040, 549080, 549160, 549170, 549180, 549260, 549700, 549760, 549770, 549840, 549850, 549860, 549950, 550, 55000, 550010, 550040, 550080, 550240, 550310, 550320, 550333, 550340, 55040, 550440, 550470, 550590, 550650, 550670, 550840, 550880, 55100, 551050, 55110, 551110, 551170, 551370, 55140, 551450, 55150, 551520, 551610, 551620, 551630, 551730, 551770, 551780, 551810, 551820, 551821, 551840, 551860, 551880, 552030, 55205, 552080, 552090, 552100, 552110, 552160, 552280, 55230, 552410, 552440, 552450, 552460, 552500, 552520, 552570, 552590, 552620, 552651, 552700, 552770, 552780, 552880, 552900, 552910, 552920, 552970, 552990, 553120, 553260, 553280, 553310, 553320, 553420, 553470, 553480, 553520, 553540, 553590, 553610, 553640, 553660, 553670, 55370, 553790, 55381, 553880, 55390, 55393, 55394, 553960, 55397, 554000, 554220, 554290, 554310, 554330, 554380, 554381, 554600, 554620, 554640, 554750, 554790, 554791, 554810, 555000, 555120, 555150, 555160, 555210, 555220, 555260, 555290, 555300, 555310, 555320, 555370, 555400, 555440, 555450, 555510, 555531, 555570, 555630, 555640, 555650, 555670, 555750, 555880, 555920, 555950, 556100, 556130, 556180, 556212, 556219, 556221, 556260, 556280, 556391, 556392, 556470, 556480, 556570, 556710, 556740, 556820, 556860, 556870, 556880, 556900, 556970, 557040, 557180, 557240, 557260, 557280, 557340, 557410, 557520, 557600, 557630, 557680, 557700, 557750, 557810, 557850, 557890, 558100, 558110, 558230, 558241, 558243, 558244, 558245, 558260, 558340, 558370, 558420, 558440, 558450, 558490, 558670, 558780, 558790, 558870, 558990, 559010, 559070, 559100, 559130, 559210, 559310, 559330, 559430, 559610, 559620, 559640, 559650, 559680, 559870, 559900, 559910, 560000, 560130, 560170, 560230, 560250, 560260, 560350, 560370, 560410, 560430, 560720, 560730, 560750, 560760, 560940, 561120, 561140, 561150, 561400, 561440, 561470, 561527, 561600, 561610, 561630, 561631, 561650, 561680, 561690, 561730, 561740, 561770, 561950, 562010, 562210, 562220, 562250, 562260, 562280, 562330, 562350, 562360, 562378, 562410, 562470, 562480, 562490, 562500, 562570, 562590, 562690, 562730, 562810, 562860, 563160, 563190, 563320, 563430, 563520, 563560, 563760, 563810, 563840, 563850, 56400, 564030, 564050, 564150, 564160, 564180, 564190, 564230, 564310, 564340, 56436, 564360, 56437, 56438, 564400, 564530, 564700, 564710, 564780, 564790, 564792, 564793, 564794, 56489, 564900, 56493, 564960, 565020, 565080, 565120, 565170, 565210, 565250, 565410, 565550, 565610, 565690, 565720, 565840, 565860, 566050, 566090, 566160, 566190, 566440, 566530, 566540, 566560, 566860, 567030, 567080, 567090, 567130, 567210, 567240, 567280, 567290, 567370, 567380, 567580, 567630, 567640, 567670, 567680, 567750, 567780, 567990, 568020, 568040, 568090, 568110, 568220, 568290, 568320, 568380, 568570, 568580, 568750, 568770, 568860, 568930, 568990, 569200, 569210, 569220, 569290, 569380, 569480, 569530, 569610, 569712, 569714, 569716, 569717, 569770, 569800, 569860, 569870, 569970, 570050, 570090, 570220, 570361, 570380, 570420, 570490, 570580, 570660, 570680, 570690, 570710, 570770, 570780, 570840, 570860, 570900, 570930, 570940, 570950, 570960, 570980, 571010, 571060, 571100, 571210, 571260, 571310, 571350, 571410, 571520, 571530, 571710, 571720, 571740, 571760, 571810, 571880, 571890, 572000, 572050, 572220, 572330, 572410, 572430, 572600, 572710, 572890, 57300, 573040, 573060, 573080, 573090, 573100, 573110, 573120, 573130, 573160, 573170, 573180, 573290, 573320, 573330, 573410, 573470, 573490, 573600, 573660, 573780, 573790, 573830, 573832, 57400, 574030, 574050, 574070, 574080, 574090, 574140, 574180, 574200, 574310, 574560, 574570, 574580, 574640, 574720, 574740, 574760, 574820, 574890, 574967, 574980, 575010, 575050, 575100, 575160, 575290, 575330, 575400, 575480, 575510, 575570, 575640, 575680, 575690, 575720, 575750, 575780, 575830, 575840, 575860, 575940, 575950, 575960, 575970, 57600, 576020, 576030, 576050, 57620, 576260, 576310, 57640, 576410, 576420, 576440, 576470, 57650, 576500, 576590, 576660, 576770, 57680, 576860, 57690, 57695, 57696, 576960, 57697, 576980, 577080, 577230, 57730, 577350, 577353, 577354, 577355, 577356, 577357, 577358, 577359, 577390, 57740, 577410, 577460, 577480, 577530, 577670, 577690, 577730, 577901, 577940, 577970, 577980, 577990, 578080, 578210, 578310, 578330, 578430, 578440, 578540, 578590, 578620, 578650, 578670, 578690, 578720, 578800, 578850, 578900, 578930, 57900, 579020, 579110, 579120, 579180, 579230, 57925, 579320, 579330, 579490, 579760, 579820, 579930, 579940, 579950, 579980, 580020, 580040, 580100, 580170, 580180, 580200, 580430, 580440, 580570, 580600, 580620, 580640, 580710, 580720, 580730, 580731, 580833, 580930, 580940, 581030, 581060, 581120, 581130, 581200, 581220, 581230, 581270, 581300, 581320, 581360, 581370, 581450, 581520, 581630, 581660, 581670, 581760, 581980, 582160, 582260, 582270, 582330, 582380, 582500, 582540, 582550, 582560, 582571, 582577, 582600, 582610, 582620, 582660, 582880, 582890, 582980, 583010, 583040, 583090, 583270, 583470, 583490, 583590, 583620, 583740, 583760, 583810, 583890, 583930, 583950, 58400, 584095, 584096, 584097, 584100, 584140, 584141, 584210, 584280, 584370, 584400, 584630, 584640, 584800, 584890, 584930, 584940, 584970, 584980, 584990, 585020, 585040, 585080, 585180, 58520, 585240, 585420, 585450, 58550, 585550, 58560, 585690, 58570, 585710, 585830, 585840, 585890, 585900, 585910, 585950, 585990, 586030, 586080, 58610, 586110, 586140, 586200, 586210, 586240, 586310, 586350, 586380, 586420, 586670, 586750, 586790, 586880, 586950, 586960, 586970, 586980, 587000, 587100, 587110, 587220, 587260, 587290, 587420, 587430, 587450, 587470, 587520, 587580, 587620, 587650, 587810, 587860, 588030, 588040, 588110, 588140, 588160, 588190, 588230, 588240, 588300, 588430, 588440, 588570, 588600, 588650, 588690, 588710, 588730, 588750, 588920, 588950, 588970, 589060, 589120, 589200, 589280, 589290, 589300, 589320, 589360, 589500, 589510, 589530, 589590, 589670, 589690, 589760, 589770, 589780, 589860, 589870, 589940, 590270, 590360, 590380, 590390, 590391, 590590, 590610, 590670, 590690, 590870, 590910, 590970, 591000, 591370, 591380, 591420, 591460, 591530, 591630, 591710, 591740, 591750, 591800, 591960, 592030, 592060, 592260, 592270, 592320, 592350, 592372, 592373, 592374, 592460, 592461, 592480, 592550, 592580, 592600, 592660, 592700, 592800, 593030, 593051, 593070, 593100, 593150, 593200, 593270, 593280, 593330, 593370, 593380, 593400, 593490, 593530, 593600, 593640, 593700, 593880, 593900, 593950, 593960, 594040, 594050, 594130, 594160, 594220, 594320, 594330, 594350, 594380, 594550, 594570, 594591, 594650, 594660, 594680, 594970, 595060, 595140, 595160, 595280, 595290, 595320, 595331, 595440, 595500, 595520, 595690, 595730, 595740, 595770, 595790, 595930, 596000, 596190, 596240, 596280, 596380, 596540, 596620, 596650, 596870, 596940, 596950, 596970, 597030, 597120, 597150, 597170, 597180, 597190, 597210, 597220, 597230, 597700, 597760, 597820, 597840, 597920, 597970, 598060, 598190, 598290, 598330, 598350, 598440, 598450, 598480, 598490, 598550, 598660, 598700, 598710, 598730, 598780, 598810, 598940, 598960, 598980, 598990, 599000, 599050, 599060, 599080, 599140, 599390, 599460, 599480, 599560, 599590, 599610, 599750, 599840, 599900, 599960, 60, 6000, 600080, 600090, 600120, 600130, 600280, 600370, 600420, 600460, 600480, 600520, 600560, 600610, 600720, 600750, 600990, 6010, 601010, 601020, 601050, 601150, 601220, 601380, 601430, 601510, 601530, 601540, 601570, 601640, 601670, 601790, 601810, 601840, 6020, 602180, 602310, 602320, 602430, 602472, 602510, 602520, 602590, 602623, 602700, 602770, 602860, 602890, 602910, 602930, 602960, 6030, 603010, 603020, 603030, 603100, 603110, 603120, 603130, 603140, 603150, 603190, 603250, 603260, 603320, 603380, 603390, 60340, 603400, 603460, 60350, 603510, 603530, 603550, 603700, 603730, 603750, 603790, 603850, 603870, 603880, 603930, 603940, 603960, 6040, 604070, 604190, 604240, 604330, 604450, 604490, 604500, 604540, 604780, 604830, 605180, 605190, 605230, 605270, 605450, 605550, 605610, 605740, 605780, 605800, 605920, 605990, 6060, 606060, 606080, 606140, 606150, 606230, 606280, 606330, 606370, 606480, 606500, 606510, 606520, 606680, 606690, 606710, 606730, 606800, 606860, 606880, 606890, 606950, 606960, 606970, 606980, 607050, 607080, 607120, 607200, 607260, 607440, 607460, 607820, 607880, 607890, 6080, 60800, 608120, 608180, 608510, 608530, 608680, 608760, 608800, 608990, 6090, 609110, 609150, 609320, 609410, 609420, 609490, 609800, 609920, 609940, 609970, 610070, 610080, 610120, 610180, 610190, 610220, 610310, 610360, 610370, 610380, 610400, 610610, 610660, 610700, 610701, 610705, 610706, 610708, 610810, 610860, 610900, 610960, 611020, 611040, 611060, 611110, 611120, 611160, 611180, 611300, 611350, 611370, 611400, 611421, 611500, 611660, 611670, 611750, 611760, 611770, 611790, 611830, 611860, 611980, 6120, 612020, 612100, 612110, 612261, 612300, 612370, 612390, 612470, 612480, 612491, 612520, 612540, 612570, 612610, 612620, 612720, 612740, 612880, 612900, 612930, 612960, 613100, 613190, 613210, 613220, 613240, 613270, 613390, 613450, 613470, 613620, 613670, 613730, 613830, 613900, 614004, 614007, 614130, 614450, 614530, 614560, 614570, 614580, 614581, 614582, 614630, 614860, 614890, 614910, 614950, 61500, 615010, 615050, 61510, 615120, 615150, 61520, 615250, 615350, 615400, 615530, 615610, 615770, 615930, 615970, 61600, 616110, 616170, 616190, 616191, 616200, 616210, 616220, 616250, 616560, 616620, 616700, 616720, 616740, 616750, 616830, 616850, 616920, 616950, 617030, 617160, 617290, 617440, 617480, 617610, 617640, 617660, 617670, 617700, 617750, 617810, 617820, 617830, 617870, 617970, 617980, 618000, 618010, 618050, 618080, 618100, 618140, 618210, 618430, 618490, 618510, 618550, 618610, 618620, 618710, 618720, 618740, 618850, 618950, 618970, 619080, 619150, 619210, 619280, 619310, 619320, 619390, 619430, 619490, 619500, 619510, 619680, 619700, 619780, 619790, 619880, 619910, 619940, 620, 6200, 62000, 620040, 620080, 620190, 620210, 620220, 620370, 620590, 620610, 620620, 620640, 620650, 620700, 620890, 620940, 620980, 6210, 621000, 621020, 621060, 621070, 621080, 621220, 621290, 621500, 621810, 621830, 621870, 621880, 621922, 621927, 621930, 621970, 6220, 622010, 622060, 622080, 622220, 622330, 622370, 622420, 622450, 622460, 622650, 622660, 622670, 622680, 622710, 622720, 622770, 622830, 622870, 622890, 623080, 623090, 623110, 623140, 623150, 623280, 623310, 623320, 623340, 623580, 623640, 623700, 623810, 623840, 623880, 623920, 623940, 624070, 624080, 624090, 624270, 624320, 624370, 624371, 624460, 624550, 624620, 624621, 624622, 624690, 624970, 6250, 625050, 625100, 625140, 625180, 625340, 625350, 625430, 625470, 625500, 625680, 625740, 625780, 625860, 625910, 625960, 625980, 625990, 626250, 626470, 626510, 626550, 626560, 626580, 626610, 626660, 626680, 626690, 627270, 627350, 627510, 627620, 627690, 627820, 627910, 628020, 628030, 628040, 628050, 628060, 628070, 628080, 628130, 628140, 628150, 628160, 628170, 628200, 628290, 628320, 628330, 628660, 628670, 628710, 628730, 628740, 628750, 628760, 628770, 628800, 628890, 628900, 628920, 628950, 629000, 629030, 629090, 629220, 629240, 629330, 629340, 629430, 629440, 629520, 629580, 629650, 629690, 629700, 629730, 629760, 629770, 629820, 629840, 629910, 629930, 629960, 630, 6300, 63000, 630010, 630030, 630060, 630310, 630490, 630550, 630610, 630690, 630720, 630790, 630830, 630850, 630940, 630980, 6310, 63110, 631510, 631540, 631560, 631570, 631660, 631830, 631980, 631990, 63200, 632000, 632020, 632070, 632290, 632300, 632350, 632360, 632470, 632710, 632730, 632800, 632870, 632900, 633030, 633060, 633080, 633110, 633230, 633300, 633310, 633360, 633460, 633660, 63380, 633950, 634030, 634120, 634160, 634180, 634230, 634340, 634410, 634700, 63500, 635030, 635200, 635250, 635260, 635310, 635320, 635330, 635390, 635410, 635590, 635670, 635790, 635850, 635940, 63600, 636040, 636070, 63610, 636100, 636170, 63620, 636320, 636450, 636480, 63650, 636500, 636501, 636502, 636520, 636570, 63660, 636630, 636710, 636960, 636970, 6370, 637050, 637090, 637100, 637310, 637410, 637650, 637670, 637850, 637860, 637880, 638000, 638070, 638110, 638160, 638200, 638230, 638280, 638490, 638510, 638650, 638850, 638930, 638970, 638990, 63900, 63910, 639130, 639170, 639300, 639310, 63940, 639437, 639470, 639490, 63950, 63960, 639600, 639620, 639650, 639680, 639701, 639780, 639790, 639840, 6400, 64000, 640050, 640120, 640140, 640150, 640230, 640310, 640340, 640380, 640590, 640800, 640820, 640860, 640890, 640920, 640990, 641000, 641080, 641320, 641380, 641384, 641780, 641910, 641960, 641990, 6420, 642090, 642200, 642240, 642250, 642280, 642560, 642610, 642630, 642750, 642770, 642802, 642890, 642920, 643200, 643270, 643620, 643681, 643700, 643810, 643820, 643830, 643870, 643880, 643900, 643960, 643970, 643980, 644160, 644200, 644290, 644320, 644390, 644480, 644540, 644550, 644560, 644640, 644680, 644710, 644830, 644930, 645090, 645290, 645320, 645340, 645360, 645400, 645401, 645402, 645420, 645450, 645460, 645630, 645690, 645700, 645730, 645780, 645790, 645820, 645920, 646010, 646050, 646100, 646200, 646270, 646330, 646430, 646470, 646500, 646570, 646668, 646780, 646910, 647280, 647560, 647570, 647740, 647830, 647960, 648050, 648070, 648100, 648120, 648350, 648390, 648410, 648430, 648440, 648530, 648580, 648590, 648600, 648630, 648750, 648800, 648890, 649170, 649190, 649410, 649580, 649600, 649620, 649640, 649790, 649810, 649950, 650000, 650110, 650220, 650250, 650330, 650410, 650440, 650490, 650500, 650510, 650524, 650570, 650611, 650670, 650700, 650760, 650780, 650840, 650940, 6510, 651090, 651340, 651380, 651440, 651470, 651490, 651500, 651660, 651670, 651680, 65200, 652150, 652230, 65224, 652250, 652340, 652410, 65246, 65255, 652550, 65270, 652960, 652980, 65300, 653210, 653530, 653580, 653930, 653940, 653950, 65400, 654080, 654100, 654172, 654187, 654220, 654260, 654300, 654350, 654390, 654470, 654500, 654550, 654610, 654850, 654880, 654890, 654900, 654990, 6550, 65500, 655100, 655160, 655170, 655270, 655290, 65530, 655380, 65540, 655420, 655480, 655500, 655530, 65560, 655730, 655770, 655780, 65600, 65610, 656200, 656220, 656240, 656350, 656450, 656510, 656530, 656570, 656600, 656610, 656700, 656900, 656940, 6570, 65700, 657000, 657040, 657090, 65720, 657200, 657240, 657260, 657280, 657290, 65730, 657320, 65740, 657470, 657590, 657630, 657690, 657790, 65780, 657860, 65790, 65800, 658140, 658150, 658160, 658260, 658430, 658470, 658500, 658550, 658560, 658570, 658590, 658600, 658610, 658620, 658630, 658690, 658700, 658780, 658830, 658850, 658890, 658920, 658980, 659110, 659120, 659190, 65920, 65930, 659480, 659540, 65980, 659960, 66000, 66001, 66002, 660080, 660160, 660180, 660330, 660880, 660920, 660990, 661000, 661040, 661130, 661230, 661280, 661330, 661430, 661610, 661740, 661770, 661790, 661820, 661920, 661940, 661990, 662190, 662230, 662240, 662320, 662350, 662352, 662353, 662540, 662680, 662830, 662840, 662960, 662970, 663090, 663110, 663130, 663240, 663300, 663390, 663420, 663580, 664000, 664090, 664130, 664180, 664290, 664320, 664350, 664420, 664570, 664750, 664780, 664830, 664870, 665040, 665090, 665120, 665270, 665300, 665330, 665360, 665370, 665380, 665490, 665510, 665890, 666020, 666100, 666140, 666150, 666220, 666230, 666232, 666310, 666330, 666350, 666570, 666610, 666630, 666730, 666820, 666840, 666860, 666870, 666930, 666940, 666960, 667030, 667120, 667170, 667520, 667530, 667600, 667610, 667720, 667810, 667820, 667870, 667890, 667970, 668210, 668300, 668320, 668350, 668360, 668430, 668550, 668580, 668590, 668630, 668680, 668770, 668980, 669050, 669290, 669320, 669330, 669500, 669650, 669770, 669950, 67000, 670160, 670180, 670260, 670290, 670410, 670440, 670490, 670750, 670820, 670900, 671090, 671160, 671170, 671190, 671210, 671240, 671260, 671390, 671440, 671510, 671610, 671620, 671640, 671650, 671700, 671720, 671800, 671810, 671860, 671900, 671970, 671980, 672140, 672160, 672230, 672270, 672590, 672630, 672640, 672680, 672710, 672730, 672840, 672860, 672870, 672880, 673000, 673070, 673130, 673190, 673210, 673260, 673400, 673440, 673450, 673500, 673560, 673600, 673610, 673660, 67370, 673740, 673750, 673850, 673880, 673910, 673940, 673950, 674020, 674090, 674140, 674150, 674190, 674400, 674500, 674520, 674750, 674930, 674940, 675010, 675240, 675260, 675280, 675290, 675354, 675360, 675590, 675630, 675690, 675720, 675730, 676030, 676090, 676130, 676410, 676430, 676500, 676510, 676630, 676760, 676820, 676840, 677120, 677160, 677310, 677340, 677370, 677480, 677610, 677620, 677810, 677870, 678001, 678003, 678190, 678310, 678390, 678520, 678560, 678800, 678850, 678890, 678900, 678950, 678960, 678970, 679110, 679190, 679490, 679660, 679750, 679860, 679900, 679990, 6800, 680030, 680340, 680360, 680380, 680420, 680480, 680550, 680590, 680700, 680830, 680860, 680910, 680930, 680940, 680980, 6810, 681100, 681110, 681150, 681160, 681240, 681280, 681290, 681330, 681390, 681500, 681590, 681620, 681660, 681730, 681780, 681810, 681820, 681830, 681840, 682130, 682140, 682450, 682480, 682490, 682500, 682530, 682570, 682780, 682970, 682990, 6830, 683100, 683230, 683280, 683320, 683530, 683850, 683900, 683940, 6840, 684050, 684130, 684200, 684270, 684410, 684450, 684580, 684630, 684680, 684690, 684700, 684850, 684851, 684870, 6850, 685130, 685240, 685340, 685400, 685420, 685670, 685680, 685790, 685990, 6860, 686200, 686260, 686440, 686490, 686550, 686680, 686720, 686760, 686770, 686810, 686900, 6870, 687260, 687500, 687540, 687590, 687630, 687650, 687750, 687800, 687830, 687920, 687980, 6880, 688020, 688060, 688130, 688140, 688260, 688420, 688470, 688570, 688660, 688690, 688700, 688740, 689070, 689090, 689180, 689270, 689520, 689580, 689700, 689710, 689790, 689800, 689810, 689860, 689870, 689900, 689910, 689920, 689950, 689980, 6900, 690040, 690080, 690120, 690140, 690180, 690240, 690370, 690420, 690460, 690530, 690550, 690580, 690640, 690740, 690790, 690810, 690830, 690980, 6910, 691020, 691080, 691110, 691150, 691160, 691260, 691280, 691320, 691450, 691560, 691630, 691690, 691730, 691770, 691790, 691830, 691910, 691980, 6920, 692010, 692030, 692100, 692360, 692590, 692770, 692840, 692850, 692890, 692920, 692950, 693170, 693250, 693580, 693700, 693800, 693880, 693890, 693960, 694060, 694130, 694280, 694500, 694680, 694720, 694770, 694880, 695050, 695100, 695290, 695330, 695600, 695630, 695680, 695740, 695920, 695970, 696140, 696170, 696180, 696220, 696250, 696310, 696360, 696370, 696470, 696480, 696500, 696590, 696600, 696680, 696790, 696940, 697550, 697630, 697650, 697860, 697930, 6980, 698240, 698260, 698540, 698610, 698640, 698670, 698700, 698780, 698830, 698870, 699010, 699040, 699080, 699130, 699170, 699180, 699240, 699330, 699350, 699540, 699550, 699590, 699600, 699670, 699680, 699700, 699740, 699760, 699780, 699920, 699940, 70, 7000, 70000, 700060, 700100, 700160, 700280, 700282, 700330, 700480, 700600, 700660, 700730, 700740, 700820, 7010, 70100, 70110, 701100, 701160, 701180, 70120, 701380, 701531, 701720, 701730, 701870, 701930, 7020, 70200, 702050, 702110, 702120, 702150, 702190, 702210, 702320, 702350, 702540, 702660, 702670, 702680, 702700, 702810, 702890, 702960, 702980, 702990, 70300, 703060, 703080, 703180, 703210, 703310, 703320, 703510, 703530, 703600, 703700, 703730, 703840, 703860, 703920, 703940, 70400, 704010, 704020, 704030, 704180, 704190, 70420, 704200, 704230, 704250, 704270, 704286, 704300, 704360, 704430, 704450, 704480, 704510, 704640, 704690, 704710, 704740, 704840, 704850, 704860, 704910, 704920, 704950, 705040, 705050, 705070, 705120, 705210, 705240, 705280, 705290, 705300, 705340, 705390, 705670, 705700, 705710, 705740, 705810, 70600, 706020, 706130, 706150, 70620, 706320, 706330, 70640, 706490, 70650, 706560, 706580, 70660, 706690, 706770, 706960, 706990, 707010, 707030, 707140, 707172, 707189, 707195, 707300, 707390, 707410, 707670, 707770, 707870, 708150, 708171, 708172, 708173, 708310, 708430, 708450, 708550, 708580, 708640, 708720, 708770, 708830, 708880, 708970, 70900, 709050, 709060, 709090, 709150, 709170, 709172, 709174, 709240, 709410, 709620, 709720, 709780, 709820, 709830, 709840, 709870, 709880, 709900, 709920, 71000, 710030, 710070, 710110, 710120, 710130, 710350, 710430, 710470, 710490, 710610, 710710, 710780, 710800, 710880, 710920, 7110, 711070, 71110, 71111, 71114, 71115, 71117, 711172, 71118, 71119, 71120, 711240, 711380, 711540, 711560, 71160, 71161, 71164, 71165, 71166, 711660, 71167, 71168, 711681, 711730, 711750, 711810, 711930, 711980, 712000, 712010, 712100, 712130, 712180, 712190, 71230, 712330, 712340, 712390, 71240, 71250, 712530, 71260, 712630, 712640, 71270, 712730, 712880, 713050, 713180, 713260, 71340, 713460, 713530, 713540, 713650, 714010, 714020, 714070, 714080, 714100, 714120, 714210, 714250, 714370, 714590, 714740, 714800, 715050, 715070, 715110, 715190, 715191, 715192, 715193, 715194, 715210, 715310, 715370, 715380, 715400, 715510, 715520, 715560, 715580, 715650, 715810, 715850, 715900, 715910, 715940, 715950, 715980, 716010, 716050, 716230, 716250, 716270, 716330, 716340, 716380, 716400, 716490, 716500, 716630, 716640, 716660, 716670, 716710, 717120, 717190, 717250, 717560, 717610, 717640, 717690, 717720, 717790, 717820, 717850, 717980, 718010, 718200, 718320, 718330, 718370, 718560, 718570, 718590, 718600, 718650, 718670, 718690, 718790, 718850, 718940, 719040, 719080, 719120, 719200, 719300, 719330, 719590, 719640, 719730, 719750, 719890, 7200, 720030, 720040, 720240, 720250, 720280, 720350, 720380, 720470, 720530, 720620, 720960, 7210, 721030, 721060, 721090, 721270, 721280, 721290, 721310, 721340, 721341, 721390, 721620, 721700, 721850, 7220, 722020, 722060, 722180, 722230, 722340, 722540, 722560, 722570, 722670, 722680, 722730, 722760, 722870, 722960, 722990, 723090, 723270, 723390, 723760, 723790, 723890, 723930, 724070, 724250, 724260, 724300, 724370, 724450, 724490, 724710, 724740, 724940, 724970, 725040, 725080, 725260, 725270, 725280, 725320, 725330, 725340, 725410, 725480, 725610, 725780, 725850, 725980, 7260, 726050, 726070, 726110, 726200, 726250, 726320, 726360, 726480, 726590, 726690, 726720, 726760, 726830, 726840, 726870, 726910, 727020, 72709, 727110, 727130, 727170, 727180, 72730, 72740, 727420, 727440, 72750, 727510, 727530, 727570, 72760, 727640, 72770, 72771, 72772, 72773, 727730, 72774, 727760, 727850, 727910, 727930, 728240, 728300, 72840, 72850, 728530, 728540, 728730, 728740, 728830, 728850, 728870, 728880, 72900, 729000, 729030, 729040, 729450, 729460, 729490, 729530, 729640, 729660, 729670, 729720, 730, 730050, 73010, 73020, 730220, 730260, 730261, 730262, 730280, 73031, 730310, 730390, 73041, 730410, 730430, 730580, 73060, 730620, 730720, 730820, 730830, 730840, 730870, 731000, 731150, 731160, 731171, 731172, 731230, 731490, 731650, 73170, 73190, 731920, 731940, 732050, 73210, 73220, 732240, 732370, 732430, 732460, 732500, 732670, 732690, 732730, 732810, 732860, 733050, 733070, 733140, 733210, 733300, 733340, 733460, 733740, 733760, 733770, 733790, 733800, 733820, 733990, 734070, 734282, 734400, 734430, 734510, 734550, 734580, 734730, 734750, 734830, 734900, 734910, 734920, 735000, 735280, 735290, 735350, 735360, 735420, 735570, 735580, 735730, 735850, 736100, 736110, 736190, 736220, 736260, 736430, 736570, 736590, 736710, 736750, 736770, 736810, 736820, 736840, 736850, 736860, 737000, 737001, 737002, 737040, 737270, 737272, 737520, 737890, 737990, 738000, 738020, 738060, 738270, 738510, 738520, 738530, 738540, 738550, 738560, 738610, 738650, 738920, 739030, 739080, 739130, 739190, 739240, 739280, 739281, 739282, 739540, 739581, 739630, 739650, 739980, 740040, 740070, 740080, 740090, 740130, 740140, 740141, 740190, 740200, 740250, 740260, 740290, 740410, 740550, 740570, 740600, 740780, 740790, 740810, 741100, 741120, 741140, 741150, 741250, 741260, 741350, 741370, 741430, 741450, 741500, 741510, 741650, 741670, 741820, 741990, 742120, 742150, 742170, 742250, 742300, 742420, 742480, 742490, 742500, 742520, 742700, 742892, 742900, 743130, 743350, 743380, 743390, 743450, 743640, 743770, 743830, 743860, 743890, 743900, 744010, 744050, 744060, 744190, 744260, 744270, 744340, 744420, 744430, 744520, 744570, 744680, 744710, 744750, 744760, 744800, 744810, 744840, 744900, 744930, 744940, 744950, 745010, 745330, 745340, 745530, 745640, 745670, 745680, 745740, 745820, 745850, 745880, 745900, 745920, 745930, 745940, 745950, 745960, 745970, 746040, 746140, 746390, 746400, 746510, 746580, 746620, 746710, 746730, 746731, 746760, 746820, 746840, 746850, 746920, 746930, 746940, 746960, 747060, 747200, 747250, 747290, 747340, 747350, 747360, 747610, 747620, 747660, 747800, 747850, 747900, 747910, 747920, 747970, 747990, 748040, 748060, 748260, 748270, 748300, 748340, 748341, 748360, 748370, 748480, 748490, 748610, 748680, 748800, 748890, 748940, 748970, 749050, 749140, 749250, 749340, 749410, 749520, 749540, 749550, 749800, 749850, 749890, 749960, 750010, 750020, 750030, 750031, 750050, 750070, 750130, 750170, 750200, 750230, 750290, 750381, 750430, 750460, 750740, 750800, 750910, 750912, 750920, 750990, 7510, 751060, 751110, 751280, 751320, 751340, 751390, 751430, 751440, 751500, 751610, 751630, 751640, 751690, 751780, 751820, 7520, 752050, 752220, 752380, 752470, 752480, 752500, 752570, 752580, 752590, 752780, 752900, 752910, 753, 7530, 753170, 753220, 753230, 753360, 753400, 753420, 753590, 753640, 753650, 753892, 753900, 753920, 753930, 753990, 754040, 754050, 754120, 754150, 754330, 754350, 754500, 754510, 754520, 754530, 754610, 754680, 754770, 754800, 754850, 754890, 754921, 755220, 755290, 755350, 755410, 755470, 755500, 755540, 755570, 755630, 755800, 755980, 756010, 756071, 756320, 756360, 756500, 756520, 756530, 756560, 756590, 756600, 756660, 756800, 756880, 757130, 757180, 757200, 757210, 757240, 757300, 757310, 757320, 757330, 757480, 757870, 757910, 758080, 758090, 758160, 758190, 758320, 758330, 758370, 758390, 758400, 758410, 758420, 758480, 758500, 758530, 758570, 758690, 758730, 758770, 758771, 758870, 758930, 758980, 758990, 759080, 759130, 759440, 759540, 759570, 759581, 759640, 759740, 759870, 759940, 7600, 760050, 760060, 760070, 760160, 760200, 760330, 760350, 760410, 760460, 760550, 760560, 760630, 760640, 760650, 760710, 760730, 760800, 760843, 760890, 760920, 7610, 761010, 761030, 761170, 761350, 761460, 761596, 761600, 761620, 761630, 761640, 761700, 761790, 761830, 761890, 7620, 762140, 762174, 762178, 762180, 762220, 762480, 762520, 762610, 762650, 762770, 762830, 762840, 762913, 762914, 762920, 762930, 762940, 763030, 763100, 763250, 763280, 763300, 763360, 763410, 763695, 763699, 763710, 763740, 763780, 763790, 763820, 763890, 763930, 763970, 763990, 764010, 764050, 764230, 764240, 764300, 764470, 764500, 764510, 764560, 764570, 764670, 764790, 764920, 7650, 765160, 765180, 765210, 765260, 765410, 765630, 765640, 765690, 765710, 765810, 765850, 765870, 765880, 765890, 765900, 765910, 765940, 7660, 766040, 766280, 766320, 766570, 766630, 766680, 766700, 766730, 766850, 766870, 7670, 767110, 767130, 767240, 767310, 767380, 767390, 767420, 767490, 767500, 767560, 767930, 768100, 768170, 768180, 768200, 768290, 768340, 768450, 768460, 768520, 768530, 768540, 768800, 768830, 769080, 769090, 769110, 769180, 769360, 769390, 769440, 769550, 769560, 769670, 769680, 769690, 769840, 769950, 769970, 770070, 770100, 770240, 770390, 770400, 770410, 770440, 770600, 770780, 770810, 770970, 770972, 770973, 770974, 770975, 770976, 770977, 770990, 771240, 771300, 771310, 771350, 771370, 771400, 771420, 771430, 771560, 771610, 771710, 771720, 771810, 771920, 771950, 772070, 772150, 772430, 772470, 772480, 772500, 772540, 772670, 772730, 7730, 773120, 773130, 773370, 773390, 773430, 773460, 773500, 773540, 773580, 773590, 773600, 773670, 773740, 773790, 773840, 773900, 773951, 773991, 774011, 774041, 774071, 774091, 774131, 774151, 774171, 774181, 774201, 774241, 774321, 774331, 774351, 774361, 774451, 774461, 774511, 774521, 774541, 774651, 774791, 774801, 774811, 774861, 775410, 775490, 775500, 775630, 775760, 775820, 775900, 775940, 775960, 7760, 776000, 776340, 776480, 776490, 776530, 776550, 776580, 776740, 776820, 776830, 776890, 776920, 776950, 776960, 7770, 777020, 777040, 777090, 777130, 777150, 777160, 777200, 777240, 777320, 777340, 777400, 777590, 777650, 777770, 777820, 778010, 778080, 778150, 778160, 778190, 778340, 778390, 778400, 778410, 778550, 778610, 778700, 778760, 778810, 778930, 779100, 779130, 779250, 779280, 779290, 779330, 779340, 779401, 779450, 779570, 779590, 779610, 779640, 779650, 779880, 779894, 779930, 779932, 779933, 779934, 779935, 779936, 779937, 779938, 779939, 779960, 779990, 7800, 78000, 780020, 780100, 780210, 780270, 780280, 780290, 780310, 780340, 780350, 780500, 780560, 780590, 780670, 780750, 780760, 780800, 780820, 780980, 780990, 781000, 781030, 781050, 781100, 781110, 781130, 781190, 781220, 781440, 781480, 781520, 781590, 781610, 781660, 781760, 781820, 781880, 781950, 782090, 782100, 782140, 782190, 782250, 782300, 782330, 782340, 782570, 782670, 782690, 7830, 783050, 783060, 783120, 783170, 783180, 783210, 783240, 783330, 783590, 783770, 783810, 783840, 783890, 783940, 784010, 784070, 784080, 784100, 784150, 784950, 785030, 785060, 785100, 785110, 785130, 785260, 785300, 785480, 785640, 785740, 785750, 785770, 785780, 785790, 785840, 785850, 785860, 785880, 785890, 785900, 785910, 785930, 7860, 786340, 786410, 786520, 786580, 786680, 786820, 786990, 787070, 787110, 787250, 787300, 787340, 787370, 787400, 787450, 787480, 787510, 787670, 787720, 787740, 787780, 787790, 787810, 787850, 787860, 787910, 787930, 787970, 787980, 788100, 788210, 788270, 788380, 788430, 788470, 788630, 788690, 788700, 788720, 788770, 788960, 788970, 789010, 789070, 789100, 789220, 789260, 789380, 789570, 789660, 789730, 789740, 789760, 789880, 789910, 789930, 789950, 790020, 790060, 790360, 790410, 790540, 790600, 790650, 790710, 790740, 790820, 790830, 790831, 790850, 790860, 790900, 790930, 791330, 791400, 791470, 791770, 791930, 791950, 792000, 792030, 792040, 792050, 792100, 792120, 792220, 792300, 792320, 792331, 792520, 792640, 792660, 792710, 792880, 792990, 793050, 793150, 793180, 793220, 793350, 793370, 793450, 793460, 793490, 793560, 793690, 793830, 7940, 794050, 794060, 794110, 794180, 794190, 794220, 794260, 794270, 794300, 794340, 794342, 794343, 794344, 794345, 794480, 794490, 794540, 794550, 794570, 794580, 794600, 794650, 794690, 794740, 794760, 794800, 794820, 794860, 794940, 794950, 794960, 795040, 795100, 795160, 795420, 795510, 795580, 795621, 795760, 795990, 796130, 796330, 796350, 796440, 796480, 796600, 796620, 796710, 796790, 796860, 796900, 796910, 796940, 797010, 797060, 797280, 797390, 797400, 797410, 797430, 797470, 797660, 797910, 798140, 798280, 798290, 798380, 798390, 798420, 798430, 798460, 798490, 798510, 798540, 798541, 798542, 798543, 798590, 798610, 798810, 798840, 798860, 799070, 799120, 799200, 799240, 799500, 799510, 799520, 799600, 799610, 799640, 799750, 799751, 799790, 799800, 799860, 799870, 799890, 799950, 799960, 80, 8000, 800030, 800120, 800180, 800230, 800240, 800270, 800310, 800320, 800330, 800370, 800450, 800490, 800600, 800620, 801060, 801260, 801290, 801320, 801480, 801500, 801550, 801600, 801630, 801670, 801710, 801780, 801860, 801980, 801990, 80200, 802200, 802260, 802360, 802640, 802700, 802730, 802810, 802870, 802880, 802890, 802900, 803030, 803040, 803050, 803080, 80310, 803140, 803150, 80330, 803330, 80340, 80350, 80360, 803600, 803610, 803720, 803800, 803830, 803890, 803980, 804010, 804120, 804210, 804270, 804320, 804410, 804440, 804490, 804600, 804644, 804646, 804700, 804730, 804760, 804780, 804850, 805270, 805360, 805500, 805550, 805590, 805610, 805660, 805820, 805850, 805880, 805940, 8060, 806140, 806470, 806510, 806560, 806610, 806740, 806780, 806950, 807120, 807230, 807320, 807340, 807920, 8080, 808080, 808090, 808100, 808290, 808770, 808910, 809000, 809020, 809050, 809140, 809220, 809230, 809250, 809260, 809280, 809310, 809320, 809440, 809450, 809500, 809540, 809580, 809720, 809730, 809770, 809800, 809840, 809850, 809880, 809890, 809960, 8100, 810040, 810060, 810500, 810660, 810670, 810780, 811320, 811450, 811460, 811480, 811550, 811720, 811750, 811840, 811870, 811880, 811890, 812040, 812070, 812100, 812130, 812140, 812160, 812170, 81240, 812410, 812440, 812450, 812550, 812560, 812800, 812810, 812840, 812860, 812870, 812940, 812980, 813110, 813390, 813410, 813420, 813540, 813630, 813650, 813700, 813780, 813820, 813840, 8140, 814000, 814030, 814200, 814251, 814360, 814370, 814380, 814480, 814530, 814540, 814650, 814680, 814740, 815210, 815260, 815370, 815380, 815450, 815460, 815780, 815940, 815950, 816080, 816090, 816190, 816210, 816250, 816270, 816330, 816340, 816350, 816430, 816490, 816590, 816710, 816720, 816790, 816810, 816880, 816990, 8170, 817020, 817160, 817460, 817490, 817510, 817540, 817550, 817660, 817680, 817760, 817770, 817840, 817950, 818320, 818330, 818380, 818440, 818530, 818730, 818760, 818860, 818940, 8190, 819020, 819030, 819190, 819230, 819630, 819650, 819950, 820020, 820030, 820140, 820200, 820203, 820240, 820520, 820540, 820610, 820630, 820730, 820880, 820900, 820910, 820930, 821060, 821090, 821250, 821320, 821500, 821520, 821560, 821610, 821640, 821670, 821740, 821750, 821780, 821790, 821800, 821820, 821880, 821890, 821940, 821950, 821970, 821980, 821990, 822000, 822070, 822240, 822380, 822460, 822470, 822530, 822760, 822800, 822830, 822840, 822930, 822990, 823130, 823160, 823500, 823550, 823580, 823610, 823840, 823910, 823940, 823950, 823990, 824000, 824070, 824190, 824200, 824270, 824280, 824550, 824580, 824600, 824720, 824760, 824830, 824850, 825300, 825310, 825380, 825430, 825570, 825630, 825730, 825930, 826000, 826010, 826030, 826050, 826084, 826090, 826160, 826230, 826480, 826540, 826600, 826630, 826650, 826740, 826940, 827000, 827050, 827100, 827240, 827290, 827560, 827610, 827640, 827920, 828050, 828070, 828230, 828550, 828580, 828640, 828660, 828740, 828790, 828900, 828910, 828950, 829110, 829260, 829280, 829420, 829540, 829590, 829660, 829780, 830370, 830450, 830451, 830460, 830461, 830580, 830630, 830640, 830820, 830980, 8310, 831050, 831060, 831470, 831540, 831560, 831660, 831720, 831840, 831950, 832320, 832360, 832540, 832610, 832700, 832770, 8330, 833040, 833090, 833140, 833300, 833360, 833370, 833380, 833910, 833990, 834150, 834180, 834210, 834280, 834380, 834390, 834400, 834530, 834740, 834760, 834800, 834910, 835040, 835430, 835500, 835520, 835570, 835590, 835650, 835670, 835671, 835700, 835860, 836450, 836480, 836490, 836590, 836600, 836630, 836632, 836640, 836781, 836810, 836890, 836900, 836910, 836920, 836940, 837200, 837380, 837390, 837400, 837430, 837440, 837470, 837510, 837550, 837590, 837610, 837840, 837841, 837860, 837880, 837900, 837940, 838050, 838110, 838180, 838270, 838310, 838330, 838340, 838350, 838380, 838410, 838620, 838630, 838770, 838860, 838940, 839020, 839080, 839300, 839310, 839420, 839430, 839450, 839500, 839560, 839630, 839670, 839740, 839770, 839850, 839870, 839910, 8400, 840010, 840090, 840130, 840140, 840210, 840230, 840240, 840260, 840390, 840500, 840610, 840700, 840710, 840720, 840800, 840910, 841140, 841190, 841210, 841250, 841300, 841350, 841770, 842020, 842100, 842130, 842140, 842150, 842180, 842250, 842330, 842350, 842560, 842680, 842780, 842810, 842910, 843040, 843050, 843190, 843260, 843380, 843390, 843400, 843720, 843730, 843780, 843800, 843810, 843900, 844040, 844050, 844140, 844190, 844210, 844260, 844330, 844350, 844390, 844420, 844590, 844610, 844660, 844670, 844750, 844810, 844850, 844870, 844890, 844920, 844930, 844950, 844960, 844980, 845000, 845020, 845070, 845250, 845350, 845500, 845640, 845730, 845880, 845890, 846010, 846030, 846050, 846110, 846200, 846470, 846660, 846720, 846730, 846770, 846800, 846820, 846870, 847360, 847370, 847530, 847560, 847680, 847950, 848010, 848030, 848050, 848060, 848280, 848310, 848320, 848350, 848450, 848480, 848500, 848530, 848550, 848700, 848990, 849100, 849260, 849261, 849262, 849306, 849309, 849320, 849560, 849620, 849680, 849740, 849790, 849940, 8500, 850000, 850010, 850050, 850060, 850170, 850210, 850260, 850290, 850320, 850450, 850630, 850820, 850980, 851050, 851100, 851110, 851180, 851200, 851280, 851350, 851520, 851670, 851710, 851730, 851800, 851810, 851850, 851880, 851890, 851930, 851950, 852110, 852220, 852300, 852320, 852480, 852910, 853050, 853060, 853110, 853220, 853240, 853310, 853360, 853380, 853500, 853550, 853580, 853620, 853770, 853860, 854070, 854160, 854570, 854750, 854860, 854870, 854940, 854960, 855010, 855190, 855320, 855550, 855630, 855640, 855740, 855860, 855930, 856130, 856210, 856370, 856400, 856440, 856490, 856610, 856880, 856980, 856990, 857010, 857050, 857060, 857080, 857140, 857200, 857280, 857320, 857350, 857370, 857450, 857500, 857510, 857520, 857570, 857680, 857690, 857700, 857710, 857940, 857950, 857980, 858010, 858040, 858050, 858060, 858100, 858210, 858240, 858260, 858420, 858440, 858590, 858630, 858710, 858760, 858810, 858820, 858880, 858940, 859040, 859150, 859180, 859280, 859340, 859440, 859500, 859570, 859580, 859680, 859700, 859990, 8600, 860090, 860260, 860340, 860350, 860440, 860510, 860620, 860650, 860890, 860900, 860910, 860950, 861050, 861250, 861270, 861330, 861350, 861400, 861410, 861540, 861590, 861650, 861720, 861740, 861760, 861870, 861871, 861872, 861930, 862120, 862280, 862300, 862440, 862450, 862480, 862570, 862690, 862710, 862800, 862810, 862990, 863420, 863460, 863490, 863560, 863570, 863590, 863900, 864060, 864100, 864160, 864430, 864450, 864540, 864550, 864680, 864700, 864760, 864940, 8650, 865040, 865090, 865160, 865270, 865360, 865390, 865540, 865570, 865610, 865670, 865680, 865720, 865820, 865830, 865880, 865930, 865940, 865980, 866140, 866190, 866310, 866420, 866440, 866510, 866520, 866540, 866710, 866800, 867010, 867050, 867070, 867120, 867210, 867250, 867290, 867380, 867400, 867490, 867700, 867730, 867960, 868020, 868150, 868190, 868230, 868280, 868310, 868312, 868320, 868360, 868370, 868380, 868410, 868422, 868424, 868490, 868520, 868550, 868710, 868770, 868890, 868970, 868980, 869060, 869480, 869760, 869840, 869880, 870100, 870110, 870180, 870200, 870290, 870450, 870780, 870820, 871100, 871170, 871200, 871420, 871530, 871650, 871710, 871720, 871810, 871870, 871930, 871950, 871980, 871990, 872070, 872090, 872130, 872200, 872240, 872280, 872410, 872570, 872610, 872670, 872680, 872750, 872790, 872820, 873030, 873180, 873190, 873200, 873220, 873230, 873270, 873320, 873490, 873610, 873840, 873880, 873890, 873940, 873980, 874040, 874260, 874310, 874341, 874342, 874343, 874344, 874345, 874360, 874380, 874390, 874460, 874650, 874661, 874700, 874830, 875210, 875240, 875310, 875430, 875550, 875620, 875670, 875760, 875800, 875830, 875950, 875960, 876160, 876200, 876310, 876320, 876330, 876470, 876650, 876850, 876890, 876910, 876960, 876980, 877010, 877080, 877150, 877190, 877200, 877280, 877360, 877620, 877800, 877810, 877850, 878160, 878170, 878280, 878380, 878460, 878461, 878463, 878465, 878467, 878520, 878580, 878640, 878670, 878750, 8790, 879000, 879140, 879160, 879240, 879420, 879430, 879510, 879610, 879850, 8800, 880200, 880220, 880380, 880400, 880490, 880510, 880550, 880580, 880640, 880730, 880750, 880780, 880850, 880940, 880950, 880990, 881100, 881320, 881420, 881490, 881510, 881560, 881680, 881690, 881920, 881960, 882020, 882100, 882110, 882140, 882250, 882290, 882410, 882640, 882680, 882710, 882790, 882900, 882940, 882960, 883070, 883100, 883130, 883150, 883220, 883360, 883590, 883680, 883710, 883780, 883860, 883870, 883970, 884090, 884101, 884140, 884141, 884143, 884260, 884320, 884430, 884620, 884660, 884980, 884990, 8850, 885000, 885120, 885140, 885150, 885190, 885380, 885510, 885570, 885640, 885810, 885940, 885960, 885970, 886040, 886060, 886070, 886110, 886160, 886250, 886470, 886710, 886730, 886820, 886900, 886960, 8870, 887060, 887080, 887340, 887370, 887380, 887400, 887450, 887530, 887550, 887570, 887720, 887780, 887800, 887850, 887970, 8880, 888000, 888040, 888090, 888530, 888630, 888650, 888740, 888770, 888790, 888810, 888870, 888872, 8890, 889080, 889480, 889510, 889600, 889620, 889700, 889710, 889770, 889890, 889902, 889903, 889910, 889920, 889921, 890070, 890220, 890400, 890500, 890520, 890550, 890720, 890750, 890800, 890880, 890890, 890970, 891020, 891040, 891220, 891230, 891301, 891360, 891370, 891430, 891480, 891510, 891660, 891730, 891810, 892420, 892510, 892550, 892630, 892760, 892860, 892990, 8930, 893010, 893020, 893030, 893050, 893070, 893180, 893390, 893500, 893510, 893570, 893610, 893680, 893720, 893770, 893790, 893850, 893870, 893950, 893980, 894000, 894020, 894460, 894500, 894600, 894610, 894630, 894690, 894710, 894900, 894940, 895060, 895110, 895200, 895220, 895400, 895420, 895480, 895490, 895491, 895492, 895493, 895580, 895600, 895620, 895670, 895710, 895870, 895950, 895970, 896000, 896030, 896160, 896190, 896380, 896520, 896580, 896590, 896680, 896715, 896719, 896750, 896780, 896840, 896890, 896950, 897020, 897030, 897040, 897220, 897300, 897330, 897410, 897440, 897450, 897610, 897670, 897730, 897820, 897840, 897930, 8980, 898080, 898190, 898450, 898570, 898580, 898650, 898720, 898750, 898800, 898890, 898920, 898960, 898962, 8990, 899160, 899190, 899200, 899310, 899390, 899440, 899460, 899470, 899540, 899760, 899770, 899834, 899900, 899970, 899990, 900040, 900270, 900290, 900400, 900447, 900448, 900449, 900883, 9010, 901147, 90200, 903040, 903630, 903830, 903950, 904310, 904320, 904360, 904380, 904520, 904540, 904600, 904740, 904900, 904960, 904990, 90500, 905010, 905090, 905150, 905300, 905340, 905370, 905450, 905640, 905660, 905670, 905690, 905970, 9060, 906010, 906050, 906100, 906120, 906280, 906300, 906390, 906510, 906600, 906730, 906740, 906790, 906870, 906920, 906930, 907150, 907210, 907270, 907320, 907370, 907460, 907470, 907650, 907680, 907710, 907760, 907770, 907820, 908020, 908050, 908070, 908100, 908120, 908180, 908213, 908390, 908520, 908690, 908740, 908790, 908990, 909080, 909090, 909150, 909320, 909340, 909380, 909610, 909640, 909660, 909670, 909720, 909820, 909830, 909850, 909851, 909970, 910320, 910450, 910460, 910470, 910490, 910630, 910830, 910880, 910940, 91100, 911040, 911220, 911250, 911400, 911430, 911510, 911550, 911590, 911690, 911930, 91200, 912110, 912370, 912380, 912450, 912460, 912540, 912570, 913010, 913060, 91310, 913160, 91330, 91346, 913550, 913590, 913720, 913740, 913780, 913850, 914000, 914010, 914020, 914110, 914140, 914170, 914180, 914260, 914430, 914620, 914690, 914710, 914750, 914800, 915020, 915130, 915200, 915310, 915320, 915390, 915460, 915490, 915600, 915653, 915670, 915710, 915810, 91600, 916000, 916060, 916100, 916140, 916160, 916170, 916430, 916440, 916730, 916840, 916900, 916930, 916950, 91700, 917020, 917150, 917390, 917550, 917680, 917720, 917740, 917840, 917920, 9180, 91800, 918380, 918430, 918490, 918570, 918820, 918900, 91900, 919000, 919050, 919051, 919200, 919220, 919260, 919280, 919330, 919360, 919370, 919390, 919410, 919640, 919680, 919720, 92, 9200, 92000, 920190, 920210, 920320, 920460, 920490, 920520, 920560, 920561, 920562, 920563, 920564, 920565, 920566, 920567, 920568, 920571, 920630, 920680, 920690, 920840, 920960, 92100, 921390, 921530, 921540, 921570, 921590, 921700, 921710, 921780, 921800, 9219, 921900, 921950, 922040, 922050, 922100, 922140, 922320, 922400, 922450, 922460, 922500, 922630, 922800, 923260, 923470, 923530, 923570, 923720, 923810, 923840, 923890, 923910, 923970, 924020, 924070, 924140, 924150, 924220, 924490, 924650, 924780, 924800, 924970, 924980, 92502, 925100, 925440, 925460, 925470, 925570, 925580, 925670, 925690, 925750, 925863, 925900, 925930, 925940, 925950, 926140, 926310, 926340, 926390, 926400, 926520, 926540, 926580, 926810, 926860, 926990, 92700, 927250, 927270, 927310, 927350, 927380, 927730, 927890, 927990, 92800, 92803, 928140, 928390, 928520, 928600, 928690, 928840, 928880, 928950, 928960, 928990, 929010, 929100, 929101, 929102, 929103, 929106, 929200, 929270, 929290, 929300, 929490, 929600, 929670, 929800, 929860, 930010, 930030, 930100, 930210, 930280, 930310, 930320, 930620, 930780, 930910, 9310, 931000, 931120, 931250, 931270, 931280, 931310, 931470, 931500, 931560, 931650, 931670, 931690, 931950, 93200, 932120, 932160, 932310, 932330, 932500, 932660, 932850, 932980, 933060, 933080, 933110, 933300, 933450, 933480, 933504, 933524, 933610, 933710, 933720, 933770, 933820, 933860, 933920, 933940, 9340, 934060, 934430, 934470, 934540, 934580, 934630, 934640, 934650, 934670, 934680, 934710, 934780, 934840, 934860, 934930, 9350, 935070, 935360, 935400, 935500, 935510, 935511, 935570, 935580, 935840, 935880, 935920, 935930, 935980, 936140, 936160, 936180, 936190, 936490, 936500, 936530, 936720, 936780, 936790, 936820, 936930, 936960, 936980, 937020, 937170, 937300, 937310, 937380, 937570, 937580, 937740, 937770, 937850, 937890, 937891, 937940, 938220, 938250, 938270, 938300, 938310, 938380, 938390, 938490, 938500, 938510, 938520, 938560, 938810, 938820, 938860, 938870, 938940, 939000, 939100, 939120, 939330, 939360, 939390, 939400, 939450, 939480, 939510, 939520, 939600, 939620, 939700, 939750, 939790, 939840, 939850, 939920, 939960, 939990, 94000, 940220, 940300, 940310, 940390, 940580, 940650, 940680, 940710, 940731, 940910, 941170, 941180, 941241, 941300, 941410, 941460, 941480, 941570, 941650, 941800, 941920, 941952, 941955, 941956, 941957, 941958, 941959, 941960, 941961, 941962, 941964, 941965, 941966, 941968, 9420, 942010, 942050, 942140, 942210, 942270, 942290, 942300, 942340, 942430, 942800, 942810, 942850, 942900, 942930, 942970, 94300, 943140, 943260, 943370, 943380, 943390, 943410, 943700, 943720, 943740, 943810, 943820, 943980, 94400, 944010, 944020, 944050, 944070, 944071, 944110, 944180, 944220, 944250, 944290, 944330, 944540, 944920, 9450, 945160, 945360, 945460, 945680, 945710, 945740, 945760, 945770, 9460, 946030, 946050, 946090, 946110, 94620, 946430, 946600, 946610, 946650, 946660, 946670, 946720, 946800, 946870, 946970, 946990, 947000, 947120, 947300, 947510, 947600, 947650, 947660, 947670, 947680, 947820, 947890, 947940, 9480, 948070, 948100, 948120, 948350, 948420, 948430, 948630, 948640, 948680, 948730, 948740, 948770, 948830, 948900, 949050, 949060, 949080, 949081, 949200, 949230, 949290, 949370, 949450, 949480, 949600, 949630, 949700, 949790, 949800, 949830, 949970, 9500, 950050, 950100, 950300, 950370, 950460, 950530, 950620, 950670, 950700, 950740, 950760, 950780, 950850, 950860, 950990, 951000, 951050, 951130, 951240, 951260, 951320, 951360, 951430, 951440, 951530, 951570, 951640, 951650, 951660, 951670, 951750, 951820, 951830, 951860, 951930, 952020, 952040, 952060, 952070, 952080, 952150, 952240, 952250, 952290, 952420, 952490, 952540, 952730, 952860, 952890, 952891, 952892, 952900, 95300, 953020, 953270, 953370, 953490, 953570, 953580, 953610, 953660, 953740, 953820, 953830, 953840, 953880, 953900, 953940, 953980, 95400, 954060, 954070, 954103, 954170, 954280, 954590, 954610, 954650, 954740, 954760, 954810, 954850, 954870, 954970, 955050, 955060, 955070, 955170, 955200, 955320, 955400, 955560, 955570, 955580, 955610, 955650, 955740, 955860, 955870, 955900, 956030, 956060, 956240, 956450, 956680, 95700, 957050, 957110, 957120, 957122, 957124, 957126, 957440, 957660, 957710, 957720, 957790, 957960, 958130, 958260, 958300, 958320, 958370, 958400, 958480, 958530, 958640, 958720, 958740, 958850, 958960, 95900, 959000, 959080, 959150, 959200, 959350, 959410, 959520, 959750, 959850, 959860, 959880, 959890, 96000, 960030, 960040, 960090, 960170, 960190, 960310, 960330, 960360, 960690, 960710, 960720, 960740, 960781, 960800, 960900, 960910, 960920, 960980, 960990, 96100, 961010, 961080, 961090, 961150, 961200, 961440, 961490, 961510, 961620, 961660, 961730, 961840, 961860, 961930, 96200, 962090, 962130, 962150, 962400, 962580, 962630, 962700, 962730, 962750, 962970, 96300, 963000, 963060, 963220, 963280, 963290, 963300, 963330, 963370, 963400, 963450, 963490, 963500, 963690, 963710, 963870, 963930, 963960, 964020, 964040, 964130, 964230, 964240, 964350, 964440, 964570, 964650, 964800, 964990, 965010, 965060, 965070, 965080, 965180, 965200, 965220, 965230, 965300, 965310, 965320, 965340, 965580, 965590, 965640, 965670, 965680, 965810, 965820, 965890, 965950, 965990, 966010, 966320, 966330, 966350, 966430, 966460, 966470, 966530, 966560, 966600, 966610, 966670, 966680, 966690, 966870, 967050, 967150, 967230, 967240, 967250, 967330, 967380, 967390, 967440, 967450, 967460, 967490, 96800, 968250, 968350, 968370, 968390, 968440, 968550, 968700, 968760, 968790, 968820, 968870, 968950, 968970, 969270, 969450, 969590, 969680, 969700, 969710, 969760, 969990, 97000, 970060, 970070, 970500, 970510, 970560, 970570, 970600, 970640, 970670, 970800, 970830, 970840, 970940, 970960, 970970, 9710, 971030, 97110, 971160, 97130, 971430, 971620, 971630, 971680, 971690, 971720, 971760, 971790, 971924, 971925, 971995, 971996, 971998, 971999, 972010, 972160, 972351, 972370, 972430, 972660, 972770, 972920, 9730, 973060, 973090, 973230, 973240, 973440, 973550, 973560, 973580, 973700, 973760, 973800, 973810, 973910, 974290, 974300, 974330, 974400, 974450, 974610, 974650, 974670, 974910, 974920, 974950, 975000, 975020, 975050, 975120, 975150, 975180, 975240, 975270, 975280, 975350, 975370, 975400, 975470, 975510, 975560, 975620, 975640, 975680, 975760, 975950, 9760, 976010, 976030, 976120, 976210, 976310, 976320, 976390, 976420, 976500, 976590, 976620, 976700, 976730, 976800, 976890, 976920, 976940, 976980, 977220, 977230, 977400, 977420, 977460, 977490, 977500, 977570, 977610, 977630, 977640, 977720, 977770, 977880, 977950, 978070, 978250, 978270, 978300, 978360, 978460, 978470, 978520, 978680, 978690, 978700, 978720, 978780, 978870, 978960, 978970, 979010, 979060, 979070, 979080, 979110, 979120, 979290, 979310, 979400, 979480, 979560, 979600, 979620, 979640, 979690, 979700, 979710, 979810, 979910, 979920, 979930, 9800, 980090, 980210, 980300, 980450, 980543, 980544, 980548, 980591, 980592, 980610, 980830, 980850, 980940, 980950, 98100, 981020, 981260, 981300, 981430, 981550, 981600, 981630, 981750, 981770, 981890, 981910, 98200, 982040, 982110, 982220, 982270, 982290, 982310, 982400, 982580, 982590, 982690, 982700, 982720, 982760, 982800, 982970, 982990, 98300, 983070, 983150, 983160, 983280, 983350, 983670, 983970, 98400, 984070, 984080, 984110, 984170, 984200, 98421, 984470, 984560, 984600, 984610, 984660, 984680, 984730, 984780, 984800, 9850, 985000, 985020, 985080, 98510, 985400, 985420, 985430, 985460, 985500, 985650, 985690, 985760, 985810, 985830, 985890, 985900, 985940, 985950, 986020, 986040, 986070, 986090, 986130, 986250, 986280, 986310, 986350, 986680, 986800, 986850, 9870, 987020, 987050, 987070, 987150, 987200, 987230, 987270, 987290, 987350, 987400, 987410, 987480, 987570, 987580, 987590, 987720, 987740, 987820, 987840, 987850, 987900, 987950, 9880, 98800, 988100, 988160, 988171, 98821, 988440, 988450, 988470, 988490, 988810, 988910, 988940, 988980, 98900, 989060, 989080, 989340, 989440, 989450, 989550, 989560, 989580, 989690, 989770, 989780, 989790, 9900, 990030, 990050, 990080, 990250, 990260, 990360, 990430, 990630, 990650, 990730, 990850, 990900, 990920, 99100, 991170, 991240, 991260, 991270, 991560, 991600, 991710, 991750, 991780, 991810, 991870, 991960, 992070, 992120, 992170, 992171, 992172, 992173, 992174, 992175, 992176, 992260, 992300, 992310, 992330, 992490, 992610, 992640, 992730, 992740, 992910, 99300, 993090, 993110, 993170, 993270, 993290, 993330, 993530, 993580, 993680, 993740, 993790, 993990, 9940, 99400, 994020, 994140, 994190, 994200, 994220, 994280, 994320, 994340, 994730, 994860, 994870, 994910, 994930, 995050, 995070, 995210, 995230, 995240, 995310, 995330, 995460, 995470, 995660, 995780, 995860, 995980, 996000, 996060, 99610, 99611, 99612, 99614, 996160, 996280, 996380, 996580, 996770, 996820, 996970, 997010, 997060, 997180, 997240])"
      ]
     },
     "execution_count": 226,
     "metadata": {},
     "output_type": "execute_result"
    }
   ],
   "source": [
    "appid2game.keys()"
   ]
  },
  {
   "cell_type": "code",
   "execution_count": null,
   "id": "3cedf4e9",
   "metadata": {},
   "outputs": [
    {
     "name": "stderr",
     "output_type": "stream",
     "text": [
      "Splitting train/test by user: 100%|██████████| 320412/320412 [00:13<00:00, 23090.54it/s]\n"
     ]
    }
   ],
   "source": [
    "# Step 1: Build user/item mappings from the ENTIRE dataset (not just training)\n",
    "all_user_ids = {uid: idx for idx, uid in enumerate(df_pos['author_steamid'].unique())}\n",
    "all_item_ids = {iid: idx for idx, iid in enumerate(df_pos['appid'].unique())}\n",
    "all_item_ids_inv = {v: k for k, v in all_item_ids.items()}\n",
    "\n",
    "# Step 2: Add index columns to the entire dataset\n",
    "df_pos['user_idx'] = df_pos['author_steamid'].map(all_user_ids)\n",
    "df_pos['item_idx'] = df_pos['appid'].map(all_item_ids)\n",
    "\n",
    "# Step 3: Now split AFTER indexing\n",
    "train_df, test_df = train_test_split_per_user(df_pos)\n",
    "\n",
    "# Step 4: Build matrix only from train data, but use global user/item shapes\n",
    "item_user_matrix = coo_matrix(\n",
    "    (np.ones(len(train_df)), (train_df['item_idx'], train_df['user_idx'])),\n",
    "    shape=(len(all_item_ids), len(all_user_ids))\n",
    ").tocsr()\n"
   ]
  },
  {
   "cell_type": "code",
   "execution_count": null,
   "id": "751cc513",
   "metadata": {},
   "outputs": [
    {
     "name": "stderr",
     "output_type": "stream",
     "text": [
      "/opt/homebrew/Caskroom/miniconda/base/envs/mgt_flask/lib/python3.10/site-packages/tqdm/auto.py:21: TqdmWarning: IProgress not found. Please update jupyter and ipywidgets. See https://ipywidgets.readthedocs.io/en/stable/user_install.html\n",
      "  from .autonotebook import tqdm as notebook_tqdm\n"
     ]
    }
   ],
   "source": [
    "from scipy.sparse import coo_matrix\n",
    "import implicit"
   ]
  },
  {
   "cell_type": "code",
   "execution_count": null,
   "id": "9bb6ebf7",
   "metadata": {},
   "outputs": [],
   "source": [
    "df_pos['user_idx'] = df_pos['author_steamid'].map(user_ids)\n",
    "df_pos['item_idx'] = df_pos['appid'].map(item_ids)\n"
   ]
  },
  {
   "cell_type": "code",
   "execution_count": null,
   "id": "a3661d21",
   "metadata": {},
   "outputs": [
    {
     "name": "stderr",
     "output_type": "stream",
     "text": [
      "100%|██████████| 10/10 [00:02<00:00,  4.02it/s]\n"
     ]
    }
   ],
   "source": [
    "# ,\n",
    "model_als = implicit.als.AlternatingLeastSquares(factors=50, iterations=10)\n",
    "model_als.fit(item_user_matrix)\n",
    "\n",
    "# 6) Precompute transpose once\n",
    "user_items_csr = item_user_matrix.T.tocsr()"
   ]
  },
  {
   "cell_type": "code",
   "execution_count": null,
   "id": "91d07fb6",
   "metadata": {},
   "outputs": [],
   "source": [
    "# 4) Ensure you have your popularity fallback defined\n",
    "top_items = (\n",
    "    train_df['appid']\n",
    "    .value_counts()\n",
    "    .head(10)\n",
    "    .index\n",
    "    .tolist()\n",
    ")\n",
    "\n",
    "def recommend_als(user_id, k=10):\n",
    "    if user_id not in user_ids:\n",
    "        return top_items  # fallback to popularity\n",
    "\n",
    "    user_idx = user_ids[user_id]\n",
    "    user_interactions = user_items_csr[user_idx]\n",
    "    item_indices, _ = model_als.recommend(\n",
    "        user_idx, user_interactions, N=k, filter_already_liked_items=True\n",
    "    )\n",
    "    return [item_ids_inv[i] for i in item_indices if i in item_ids_inv]"
   ]
  },
  {
   "cell_type": "code",
   "execution_count": null,
   "id": "88d587f3",
   "metadata": {},
   "outputs": [],
   "source": [
    "test_df['label'] = test_df['voted_up'].astype(int)"
   ]
  },
  {
   "cell_type": "code",
   "execution_count": null,
   "id": "8a626151",
   "metadata": {},
   "outputs": [
    {
     "name": "stderr",
     "output_type": "stream",
     "text": [
      "Processing test data: 100%|██████████| 48343/48343 [00:01<00:00, 29317.43it/s]\n",
      "Generating predictions:   0%|          | 0/39976 [00:58<?, ?it/s]\n"
     ]
    },
    {
     "ename": "IndexError",
     "evalue": "index 54547 is out of bounds for axis 0 with size 22903",
     "output_type": "error",
     "traceback": [
      "\u001b[0;31m---------------------------------------------------------------------------\u001b[0m\n",
      "\u001b[0;31mIndexError\u001b[0m                                Traceback (most recent call last)\n",
      "Cell \u001b[0;32mIn[72], line 1\u001b[0m\n",
      "\u001b[0;32m----> 1\u001b[0m results \u001b[38;5;241m=\u001b[39m \u001b[43mevaluate\u001b[49m\u001b[43m(\u001b[49m\u001b[43mtest_df\u001b[49m\u001b[43m,\u001b[49m\u001b[43m \u001b[49m\u001b[43mrecommend_als\u001b[49m\u001b[43m,\u001b[49m\u001b[43m \u001b[49m\u001b[43mk\u001b[49m\u001b[38;5;241;43m=\u001b[39;49m\u001b[38;5;241;43m10\u001b[39;49m\u001b[43m,\u001b[49m\u001b[43m \u001b[49m\u001b[43muse_cache\u001b[49m\u001b[38;5;241;43m=\u001b[39;49m\u001b[38;5;28;43;01mFalse\u001b[39;49;00m\u001b[43m)\u001b[49m\n",
      "\u001b[1;32m      3\u001b[0m \u001b[38;5;28;01mfor\u001b[39;00m metric, value \u001b[38;5;129;01min\u001b[39;00m results\u001b[38;5;241m.\u001b[39mitems():\n",
      "\u001b[1;32m      4\u001b[0m     \u001b[38;5;28mprint\u001b[39m(\u001b[38;5;124mf\u001b[39m\u001b[38;5;124m\"\u001b[39m\u001b[38;5;132;01m{\u001b[39;00mmetric\u001b[38;5;132;01m}\u001b[39;00m\u001b[38;5;124m: \u001b[39m\u001b[38;5;132;01m{\u001b[39;00mvalue\u001b[38;5;132;01m:\u001b[39;00m\u001b[38;5;124m.4f\u001b[39m\u001b[38;5;132;01m}\u001b[39;00m\u001b[38;5;124m\"\u001b[39m)\n",
      "\n",
      "Cell \u001b[0;32mIn[48], line 42\u001b[0m, in \u001b[0;36mevaluate\u001b[0;34m(test_data, recommender_fn, k, use_cache)\u001b[0m\n",
      "\u001b[1;32m     40\u001b[0m \u001b[38;5;28;01mfor\u001b[39;00m user \u001b[38;5;129;01min\u001b[39;00m tqdm(user_to_true, desc\u001b[38;5;241m=\u001b[39m\u001b[38;5;124m\"\u001b[39m\u001b[38;5;124mGenerating predictions\u001b[39m\u001b[38;5;124m\"\u001b[39m):\n",
      "\u001b[1;32m     41\u001b[0m     n \u001b[38;5;241m+\u001b[39m\u001b[38;5;241m=\u001b[39m \u001b[38;5;241m1\u001b[39m\n",
      "\u001b[0;32m---> 42\u001b[0m     preds \u001b[38;5;241m=\u001b[39m \u001b[43mrecommender_fn\u001b[49m\u001b[43m(\u001b[49m\u001b[43muser\u001b[49m\u001b[43m)\u001b[49m[:k]\n",
      "\u001b[1;32m     43\u001b[0m     user_to_preds[user] \u001b[38;5;241m=\u001b[39m preds\n",
      "\u001b[1;32m     45\u001b[0m \u001b[38;5;66;03m# print(f\"Success rate: {successes / n:.2%}\")\u001b[39;00m\n",
      "\u001b[1;32m     46\u001b[0m \u001b[38;5;66;03m# input()\u001b[39;00m\n",
      "\n",
      "Cell \u001b[0;32mIn[66], line 16\u001b[0m, in \u001b[0;36mrecommend_als\u001b[0;34m(user_id, k)\u001b[0m\n",
      "\u001b[1;32m     14\u001b[0m user_idx \u001b[38;5;241m=\u001b[39m user_ids[user_id]\n",
      "\u001b[1;32m     15\u001b[0m user_interactions \u001b[38;5;241m=\u001b[39m user_items_csr[user_idx]\n",
      "\u001b[0;32m---> 16\u001b[0m item_indices, _ \u001b[38;5;241m=\u001b[39m \u001b[43mmodel_als\u001b[49m\u001b[38;5;241;43m.\u001b[39;49m\u001b[43mrecommend\u001b[49m\u001b[43m(\u001b[49m\n",
      "\u001b[1;32m     17\u001b[0m \u001b[43m    \u001b[49m\u001b[43muser_idx\u001b[49m\u001b[43m,\u001b[49m\u001b[43m \u001b[49m\u001b[43muser_interactions\u001b[49m\u001b[43m,\u001b[49m\u001b[43m \u001b[49m\u001b[43mN\u001b[49m\u001b[38;5;241;43m=\u001b[39;49m\u001b[43mk\u001b[49m\u001b[43m,\u001b[49m\u001b[43m \u001b[49m\u001b[43mfilter_already_liked_items\u001b[49m\u001b[38;5;241;43m=\u001b[39;49m\u001b[38;5;28;43;01mTrue\u001b[39;49;00m\n",
      "\u001b[1;32m     18\u001b[0m \u001b[43m\u001b[49m\u001b[43m)\u001b[49m\n",
      "\u001b[1;32m     19\u001b[0m \u001b[38;5;28;01mreturn\u001b[39;00m [item_ids_inv[i] \u001b[38;5;28;01mfor\u001b[39;00m i \u001b[38;5;129;01min\u001b[39;00m item_indices \u001b[38;5;28;01mif\u001b[39;00m i \u001b[38;5;129;01min\u001b[39;00m item_ids_inv]\n",
      "\n",
      "File \u001b[0;32m/opt/homebrew/Caskroom/miniconda/base/envs/mgt_flask/lib/python3.10/site-packages/implicit/cpu/matrix_factorization_base.py:51\u001b[0m, in \u001b[0;36mMatrixFactorizationBase.recommend\u001b[0;34m(self, userid, user_items, N, filter_already_liked_items, filter_items, recalculate_user, items)\u001b[0m\n",
      "\u001b[1;32m     48\u001b[0m     \u001b[38;5;28;01mif\u001b[39;00m user_items\u001b[38;5;241m.\u001b[39mshape[\u001b[38;5;241m0\u001b[39m] \u001b[38;5;241m!=\u001b[39m user_count:\n",
      "\u001b[1;32m     49\u001b[0m         \u001b[38;5;28;01mraise\u001b[39;00m \u001b[38;5;167;01mValueError\u001b[39;00m(\u001b[38;5;124m\"\u001b[39m\u001b[38;5;124muser_items must contain 1 row for every user in userids\u001b[39m\u001b[38;5;124m\"\u001b[39m)\n",
      "\u001b[0;32m---> 51\u001b[0m user \u001b[38;5;241m=\u001b[39m \u001b[38;5;28;43mself\u001b[39;49m\u001b[38;5;241;43m.\u001b[39;49m\u001b[43m_user_factor\u001b[49m\u001b[43m(\u001b[49m\u001b[43muserid\u001b[49m\u001b[43m,\u001b[49m\u001b[43m \u001b[49m\u001b[43muser_items\u001b[49m\u001b[43m,\u001b[49m\u001b[43m \u001b[49m\u001b[43mrecalculate_user\u001b[49m\u001b[43m)\u001b[49m\n",
      "\u001b[1;32m     53\u001b[0m item_factors \u001b[38;5;241m=\u001b[39m \u001b[38;5;28mself\u001b[39m\u001b[38;5;241m.\u001b[39mitem_factors\n",
      "\u001b[1;32m     55\u001b[0m \u001b[38;5;66;03m# if we have an item list to restrict down to, we need to filter the item_factors\u001b[39;00m\n",
      "\u001b[1;32m     56\u001b[0m \u001b[38;5;66;03m# and filter_query_items\u001b[39;00m\n",
      "\n",
      "File \u001b[0;32m/opt/homebrew/Caskroom/miniconda/base/envs/mgt_flask/lib/python3.10/site-packages/implicit/cpu/matrix_factorization_base.py:135\u001b[0m, in \u001b[0;36mMatrixFactorizationBase._user_factor\u001b[0;34m(self, userid, user_items, recalculate_user)\u001b[0m\n",
      "\u001b[1;32m    133\u001b[0m \u001b[38;5;28;01mif\u001b[39;00m recalculate_user:\n",
      "\u001b[1;32m    134\u001b[0m     \u001b[38;5;28;01mreturn\u001b[39;00m \u001b[38;5;28mself\u001b[39m\u001b[38;5;241m.\u001b[39mrecalculate_user(userid, user_items)\n",
      "\u001b[0;32m--> 135\u001b[0m \u001b[38;5;28;01mreturn\u001b[39;00m \u001b[38;5;28;43mself\u001b[39;49m\u001b[38;5;241;43m.\u001b[39;49m\u001b[43muser_factors\u001b[49m\u001b[43m[\u001b[49m\u001b[43muserid\u001b[49m\u001b[43m]\u001b[49m\n",
      "\n",
      "\u001b[0;31mIndexError\u001b[0m: index 54547 is out of bounds for axis 0 with size 22903"
     ]
    }
   ],
   "source": [
    "results = evaluate(test_df, recommend_als, k=10, use_cache=False)\n",
    "\n",
    "for metric, value in results.items():\n",
    "    print(f\"{metric}: {value:.4f}\")"
   ]
  },
  {
   "cell_type": "code",
   "execution_count": 171,
   "id": "02750e0b",
   "metadata": {},
   "outputs": [
    {
     "data": {
      "text/plain": [
       "27315"
      ]
     },
     "execution_count": 171,
     "metadata": {},
     "output_type": "execute_result"
    }
   ],
   "source": [
    "len(item_ids)"
   ]
  },
  {
   "cell_type": "code",
   "execution_count": 134,
   "id": "3ff38dff",
   "metadata": {},
   "outputs": [
    {
     "name": "stdout",
     "output_type": "stream",
     "text": [
      "27314\n",
      "27314\n"
     ]
    }
   ],
   "source": [
    "print(max(item_ids.values()))\n",
    "print(max(data['item_id']))"
   ]
  },
  {
   "cell_type": "code",
   "execution_count": 172,
   "id": "734ee231",
   "metadata": {},
   "outputs": [
    {
     "data": {
      "text/plain": [
       "27315"
      ]
     },
     "execution_count": 172,
     "metadata": {},
     "output_type": "execute_result"
    }
   ],
   "source": [
    "len(appid2game)"
   ]
  },
  {
   "cell_type": "code",
   "execution_count": 116,
   "id": "aa6b11df",
   "metadata": {},
   "outputs": [
    {
     "name": "stdout",
     "output_type": "stream",
     "text": [
      "Empty DataFrame\n",
      "Columns: [appid, author_steamid, voted_up]\n",
      "Index: []\n"
     ]
    }
   ],
   "source": [
    "# Find rows with non-finite values\n",
    "non_finite_values = data[~np.isfinite(data).all(axis=1)]\n",
    "\n",
    "# Display rows with non-finite values\n",
    "print(non_finite_values)"
   ]
  },
  {
   "cell_type": "code",
   "execution_count": 98,
   "id": "404f3571",
   "metadata": {},
   "outputs": [
    {
     "name": "stderr",
     "output_type": "stream",
     "text": [
      "Splitting train/test by user: 100%|██████████| 320412/320412 [00:21<00:00, 14805.55it/s]\n"
     ]
    }
   ],
   "source": [
    "# Step 1: Build user/item mappings from the FULL dataset\n",
    "all_user_ids = {uid: idx for idx, uid in enumerate(df_pos['author_steamid'].unique())}\n",
    "all_item_ids = {iid: idx for idx, iid in enumerate(df_pos['appid'].unique())}\n",
    "all_item_ids_inv = {v: k for k, v in all_item_ids.items()}\n",
    "user_ids = all_user_ids\n",
    "item_ids = all_item_ids\n",
    "item_ids_inv = all_item_ids_inv\n",
    "\n",
    "# Step 2: Add index columns to full dataset\n",
    "df_pos['user_idx'] = df_pos['author_steamid'].map(user_ids)\n",
    "df_pos['item_idx'] = df_pos['appid'].map(item_ids)\n",
    "\n",
    "# Step 3: Split for evaluation purposes only (recommendations now trained on full set)\n",
    "train_df, test_df = train_test_split_per_user(df_pos)"
   ]
  },
  {
   "cell_type": "code",
   "execution_count": 101,
   "id": "360b8ef8",
   "metadata": {},
   "outputs": [
    {
     "data": {
      "text/html": [
       "<div>\n",
       "<style scoped>\n",
       "    .dataframe tbody tr th:only-of-type {\n",
       "        vertical-align: middle;\n",
       "    }\n",
       "\n",
       "    .dataframe tbody tr th {\n",
       "        vertical-align: top;\n",
       "    }\n",
       "\n",
       "    .dataframe thead th {\n",
       "        text-align: right;\n",
       "    }\n",
       "</style>\n",
       "<table border=\"1\" class=\"dataframe\">\n",
       "  <thead>\n",
       "    <tr style=\"text-align: right;\">\n",
       "      <th></th>\n",
       "      <th>appid</th>\n",
       "      <th>author_steamid</th>\n",
       "      <th>voted_up</th>\n",
       "    </tr>\n",
       "  </thead>\n",
       "  <tbody>\n",
       "    <tr>\n",
       "      <th>0</th>\n",
       "      <td>10</td>\n",
       "      <td>76561199183984450</td>\n",
       "      <td>1</td>\n",
       "    </tr>\n",
       "    <tr>\n",
       "      <th>1</th>\n",
       "      <td>10</td>\n",
       "      <td>76561198099573060</td>\n",
       "      <td>1</td>\n",
       "    </tr>\n",
       "    <tr>\n",
       "      <th>2</th>\n",
       "      <td>10</td>\n",
       "      <td>76561199080026894</td>\n",
       "      <td>1</td>\n",
       "    </tr>\n",
       "    <tr>\n",
       "      <th>3</th>\n",
       "      <td>10</td>\n",
       "      <td>76561198068970227</td>\n",
       "      <td>1</td>\n",
       "    </tr>\n",
       "    <tr>\n",
       "      <th>4</th>\n",
       "      <td>10</td>\n",
       "      <td>76561199137893460</td>\n",
       "      <td>1</td>\n",
       "    </tr>\n",
       "    <tr>\n",
       "      <th>...</th>\n",
       "      <td>...</td>\n",
       "      <td>...</td>\n",
       "      <td>...</td>\n",
       "    </tr>\n",
       "    <tr>\n",
       "      <th>498089</th>\n",
       "      <td>997010</td>\n",
       "      <td>76561198055740634</td>\n",
       "      <td>1</td>\n",
       "    </tr>\n",
       "    <tr>\n",
       "      <th>498090</th>\n",
       "      <td>997010</td>\n",
       "      <td>76561198107142741</td>\n",
       "      <td>1</td>\n",
       "    </tr>\n",
       "    <tr>\n",
       "      <th>498091</th>\n",
       "      <td>997060</td>\n",
       "      <td>76561198091884692</td>\n",
       "      <td>1</td>\n",
       "    </tr>\n",
       "    <tr>\n",
       "      <th>498092</th>\n",
       "      <td>997180</td>\n",
       "      <td>76561198136664035</td>\n",
       "      <td>1</td>\n",
       "    </tr>\n",
       "    <tr>\n",
       "      <th>498093</th>\n",
       "      <td>997240</td>\n",
       "      <td>76561198010914579</td>\n",
       "      <td>0</td>\n",
       "    </tr>\n",
       "  </tbody>\n",
       "</table>\n",
       "<p>498094 rows × 3 columns</p>\n",
       "</div>"
      ],
      "text/plain": [
       "         appid     author_steamid  voted_up\n",
       "0           10  76561199183984450         1\n",
       "1           10  76561198099573060         1\n",
       "2           10  76561199080026894         1\n",
       "3           10  76561198068970227         1\n",
       "4           10  76561199137893460         1\n",
       "...        ...                ...       ...\n",
       "498089  997010  76561198055740634         1\n",
       "498090  997010  76561198107142741         1\n",
       "498091  997060  76561198091884692         1\n",
       "498092  997180  76561198136664035         1\n",
       "498093  997240  76561198010914579         0\n",
       "\n",
       "[498094 rows x 3 columns]"
      ]
     },
     "execution_count": 101,
     "metadata": {},
     "output_type": "execute_result"
    }
   ],
   "source": [
    "df"
   ]
  },
  {
   "cell_type": "code",
   "execution_count": 100,
   "id": "94348e3f",
   "metadata": {},
   "outputs": [
    {
     "data": {
      "text/plain": [
       "(320412, 22903)"
      ]
     },
     "execution_count": 100,
     "metadata": {},
     "output_type": "execute_result"
    }
   ],
   "source": [
    "user_items_csr.shape"
   ]
  },
  {
   "cell_type": "code",
   "execution_count": 88,
   "id": "91cad29c",
   "metadata": {},
   "outputs": [
    {
     "data": {
      "text/plain": [
       "320411"
      ]
     },
     "execution_count": 88,
     "metadata": {},
     "output_type": "execute_result"
    }
   ],
   "source": [
    "max(user_ids.values())"
   ]
  },
  {
   "cell_type": "code",
   "execution_count": null,
   "id": "9dfdb3aa",
   "metadata": {},
   "outputs": [
    {
     "name": "stderr",
     "output_type": "stream",
     "text": [
      "100%|██████████| 10/10 [00:02<00:00,  3.74it/s]\n"
     ]
    }
   ],
   "source": [
    "# Step 4: Build item-user matrix from ALL data\n",
    "item_user_matrix = coo_matrix(\n",
    "    (np.ones(len(df_pos)), (df_pos['item_idx'], df_pos['user_idx'])),\n",
    "    shape=(len(item_ids), len(user_ids))\n",
    ").tocsr()\n",
    "\n",
    "# Step 5: Train ALS model\n",
    "model_als = implicit.als.AlternatingLeastSquares(factors=50, regularization=0.1, iterations=10)\n",
    "alpha_val = 15\n",
    "confidence_matrix = (item_user_matrix * alpha_val).astype('double')\n",
    "model_als.fit(confidence_matrix)\n",
    "\n",
    "# Step 6: Precompute transpose for recommendations\n",
    "user_items_csr = item_user_matrix.T.tocsr()\n",
    "\n",
    "# Step 7: Define fallback for unseen users (should rarely be used now)\n",
    "top_items = (\n",
    "    df_pos['appid']\n",
    "    .value_counts()\n",
    "    .head(10)\n",
    "    .index\n",
    "    .tolist()\n",
    ")\n",
    "# Step 8: Define recommendation function (no more bounds errors!)\n",
    "def recommend_als(user_id, k=10):\n",
    "    if user_id not in user_ids:\n",
    "        return top_items\n",
    "\n",
    "    user_idx = user_ids[user_id]\n",
    "    user_interactions = user_items_csr[user_idx]\n",
    "    user_interactions = user_interactions.toarray().reshape(-1)\n",
    "    print('len user interactions', len(user_interactions))\n",
    "    print('user idx', user_idx)\n",
    "    \n",
    "    item_indices, _ = model_als.recommend(\n",
    "        user_idx, user_interactions, N=k, filter_already_liked_items=False\n",
    "    )\n",
    "    return [item_ids_inv[i] for i in item_indices if i in item_ids_inv]\n"
   ]
  },
  {
   "cell_type": "code",
   "execution_count": 91,
   "id": "f0928e84",
   "metadata": {},
   "outputs": [],
   "source": [
    "\n",
    "user_vecs = model_als.user_factors\n",
    "item_vecs = model_als.item_factors\n"
   ]
  },
  {
   "cell_type": "code",
   "execution_count": 86,
   "id": "b13f0f95",
   "metadata": {},
   "outputs": [
    {
     "name": "stderr",
     "output_type": "stream",
     "text": [
      "Processing test data: 100%|██████████| 48343/48343 [00:01<00:00, 28110.27it/s]\n",
      "Generating predictions:   0%|          | 0/39976 [00:00<?, ?it/s]"
     ]
    },
    {
     "name": "stdout",
     "output_type": "stream",
     "text": [
      "len user interactions 22903\n",
      "user idx 54547\n"
     ]
    },
    {
     "name": "stderr",
     "output_type": "stream",
     "text": [
      "\n"
     ]
    },
    {
     "ename": "IndexError",
     "evalue": "index 54547 is out of bounds for axis 0 with size 22903",
     "output_type": "error",
     "traceback": [
      "\u001b[0;31m---------------------------------------------------------------------------\u001b[0m",
      "\u001b[0;31mIndexError\u001b[0m                                Traceback (most recent call last)",
      "Cell \u001b[0;32mIn[86], line 3\u001b[0m\n\u001b[1;32m      1\u001b[0m \u001b[38;5;66;03m# Step 9: Evaluate\u001b[39;00m\n\u001b[1;32m      2\u001b[0m test_df[\u001b[38;5;124m'\u001b[39m\u001b[38;5;124mlabel\u001b[39m\u001b[38;5;124m'\u001b[39m] \u001b[38;5;241m=\u001b[39m test_df[\u001b[38;5;124m'\u001b[39m\u001b[38;5;124mvoted_up\u001b[39m\u001b[38;5;124m'\u001b[39m]\u001b[38;5;241m.\u001b[39mastype(\u001b[38;5;28mint\u001b[39m)\n\u001b[0;32m----> 3\u001b[0m results \u001b[38;5;241m=\u001b[39m \u001b[43mevaluate\u001b[49m\u001b[43m(\u001b[49m\u001b[43mtest_df\u001b[49m\u001b[43m,\u001b[49m\u001b[43m \u001b[49m\u001b[43mrecommend_als\u001b[49m\u001b[43m,\u001b[49m\u001b[43m \u001b[49m\u001b[43mk\u001b[49m\u001b[38;5;241;43m=\u001b[39;49m\u001b[38;5;241;43m10\u001b[39;49m\u001b[43m,\u001b[49m\u001b[43m \u001b[49m\u001b[43muse_cache\u001b[49m\u001b[38;5;241;43m=\u001b[39;49m\u001b[38;5;28;43;01mFalse\u001b[39;49;00m\u001b[43m)\u001b[49m\n\u001b[1;32m      5\u001b[0m \u001b[38;5;28;01mfor\u001b[39;00m metric, value \u001b[38;5;129;01min\u001b[39;00m results\u001b[38;5;241m.\u001b[39mitems():\n\u001b[1;32m      6\u001b[0m     \u001b[38;5;28mprint\u001b[39m(\u001b[38;5;124mf\u001b[39m\u001b[38;5;124m\"\u001b[39m\u001b[38;5;132;01m{\u001b[39;00mmetric\u001b[38;5;132;01m}\u001b[39;00m\u001b[38;5;124m: \u001b[39m\u001b[38;5;132;01m{\u001b[39;00mvalue\u001b[38;5;132;01m:\u001b[39;00m\u001b[38;5;124m.4f\u001b[39m\u001b[38;5;132;01m}\u001b[39;00m\u001b[38;5;124m\"\u001b[39m)\n",
      "Cell \u001b[0;32mIn[48], line 42\u001b[0m, in \u001b[0;36mevaluate\u001b[0;34m(test_data, recommender_fn, k, use_cache)\u001b[0m\n\u001b[1;32m     40\u001b[0m \u001b[38;5;28;01mfor\u001b[39;00m user \u001b[38;5;129;01min\u001b[39;00m tqdm(user_to_true, desc\u001b[38;5;241m=\u001b[39m\u001b[38;5;124m\"\u001b[39m\u001b[38;5;124mGenerating predictions\u001b[39m\u001b[38;5;124m\"\u001b[39m):\n\u001b[1;32m     41\u001b[0m     n \u001b[38;5;241m+\u001b[39m\u001b[38;5;241m=\u001b[39m \u001b[38;5;241m1\u001b[39m\n\u001b[0;32m---> 42\u001b[0m     preds \u001b[38;5;241m=\u001b[39m \u001b[43mrecommender_fn\u001b[49m\u001b[43m(\u001b[49m\u001b[43muser\u001b[49m\u001b[43m)\u001b[49m[:k]\n\u001b[1;32m     43\u001b[0m     user_to_preds[user] \u001b[38;5;241m=\u001b[39m preds\n\u001b[1;32m     45\u001b[0m \u001b[38;5;66;03m# print(f\"Success rate: {successes / n:.2%}\")\u001b[39;00m\n\u001b[1;32m     46\u001b[0m \u001b[38;5;66;03m# input()\u001b[39;00m\n",
      "Cell \u001b[0;32mIn[85], line 36\u001b[0m, in \u001b[0;36mrecommend_als\u001b[0;34m(user_id, k)\u001b[0m\n\u001b[1;32m     33\u001b[0m \u001b[38;5;28mprint\u001b[39m(\u001b[38;5;124m'\u001b[39m\u001b[38;5;124mlen user interactions\u001b[39m\u001b[38;5;124m'\u001b[39m, \u001b[38;5;28mlen\u001b[39m(user_interactions))\n\u001b[1;32m     34\u001b[0m \u001b[38;5;28mprint\u001b[39m(\u001b[38;5;124m'\u001b[39m\u001b[38;5;124muser idx\u001b[39m\u001b[38;5;124m'\u001b[39m, user_idx)\n\u001b[0;32m---> 36\u001b[0m item_indices, _ \u001b[38;5;241m=\u001b[39m \u001b[43mmodel_als\u001b[49m\u001b[38;5;241;43m.\u001b[39;49m\u001b[43mrecommend\u001b[49m\u001b[43m(\u001b[49m\n\u001b[1;32m     37\u001b[0m \u001b[43m    \u001b[49m\u001b[43muser_idx\u001b[49m\u001b[43m,\u001b[49m\u001b[43m \u001b[49m\u001b[43muser_interactions\u001b[49m\u001b[43m,\u001b[49m\u001b[43m \u001b[49m\u001b[43mN\u001b[49m\u001b[38;5;241;43m=\u001b[39;49m\u001b[43mk\u001b[49m\u001b[43m,\u001b[49m\u001b[43m \u001b[49m\u001b[43mfilter_already_liked_items\u001b[49m\u001b[38;5;241;43m=\u001b[39;49m\u001b[38;5;28;43;01mFalse\u001b[39;49;00m\n\u001b[1;32m     38\u001b[0m \u001b[43m\u001b[49m\u001b[43m)\u001b[49m\n\u001b[1;32m     39\u001b[0m \u001b[38;5;28;01mreturn\u001b[39;00m [item_ids_inv[i] \u001b[38;5;28;01mfor\u001b[39;00m i \u001b[38;5;129;01min\u001b[39;00m item_indices \u001b[38;5;28;01mif\u001b[39;00m i \u001b[38;5;129;01min\u001b[39;00m item_ids_inv]\n",
      "File \u001b[0;32m/opt/homebrew/Caskroom/miniconda/base/envs/mgt_flask/lib/python3.10/site-packages/implicit/cpu/matrix_factorization_base.py:51\u001b[0m, in \u001b[0;36mMatrixFactorizationBase.recommend\u001b[0;34m(self, userid, user_items, N, filter_already_liked_items, filter_items, recalculate_user, items)\u001b[0m\n\u001b[1;32m     48\u001b[0m     \u001b[38;5;28;01mif\u001b[39;00m user_items\u001b[38;5;241m.\u001b[39mshape[\u001b[38;5;241m0\u001b[39m] \u001b[38;5;241m!=\u001b[39m user_count:\n\u001b[1;32m     49\u001b[0m         \u001b[38;5;28;01mraise\u001b[39;00m \u001b[38;5;167;01mValueError\u001b[39;00m(\u001b[38;5;124m\"\u001b[39m\u001b[38;5;124muser_items must contain 1 row for every user in userids\u001b[39m\u001b[38;5;124m\"\u001b[39m)\n\u001b[0;32m---> 51\u001b[0m user \u001b[38;5;241m=\u001b[39m \u001b[38;5;28;43mself\u001b[39;49m\u001b[38;5;241;43m.\u001b[39;49m\u001b[43m_user_factor\u001b[49m\u001b[43m(\u001b[49m\u001b[43muserid\u001b[49m\u001b[43m,\u001b[49m\u001b[43m \u001b[49m\u001b[43muser_items\u001b[49m\u001b[43m,\u001b[49m\u001b[43m \u001b[49m\u001b[43mrecalculate_user\u001b[49m\u001b[43m)\u001b[49m\n\u001b[1;32m     53\u001b[0m item_factors \u001b[38;5;241m=\u001b[39m \u001b[38;5;28mself\u001b[39m\u001b[38;5;241m.\u001b[39mitem_factors\n\u001b[1;32m     55\u001b[0m \u001b[38;5;66;03m# if we have an item list to restrict down to, we need to filter the item_factors\u001b[39;00m\n\u001b[1;32m     56\u001b[0m \u001b[38;5;66;03m# and filter_query_items\u001b[39;00m\n",
      "File \u001b[0;32m/opt/homebrew/Caskroom/miniconda/base/envs/mgt_flask/lib/python3.10/site-packages/implicit/cpu/matrix_factorization_base.py:135\u001b[0m, in \u001b[0;36mMatrixFactorizationBase._user_factor\u001b[0;34m(self, userid, user_items, recalculate_user)\u001b[0m\n\u001b[1;32m    133\u001b[0m \u001b[38;5;28;01mif\u001b[39;00m recalculate_user:\n\u001b[1;32m    134\u001b[0m     \u001b[38;5;28;01mreturn\u001b[39;00m \u001b[38;5;28mself\u001b[39m\u001b[38;5;241m.\u001b[39mrecalculate_user(userid, user_items)\n\u001b[0;32m--> 135\u001b[0m \u001b[38;5;28;01mreturn\u001b[39;00m \u001b[38;5;28;43mself\u001b[39;49m\u001b[38;5;241;43m.\u001b[39;49m\u001b[43muser_factors\u001b[49m\u001b[43m[\u001b[49m\u001b[43muserid\u001b[49m\u001b[43m]\u001b[49m\n",
      "\u001b[0;31mIndexError\u001b[0m: index 54547 is out of bounds for axis 0 with size 22903"
     ]
    }
   ],
   "source": [
    "# Step 9: Evaluate\n",
    "test_df['label'] = test_df['voted_up'].astype(int)\n",
    "results = evaluate(test_df, recommend_als, k=10, use_cache=False)\n",
    "\n",
    "for metric, value in results.items():\n",
    "    print(f\"{metric}: {value:.4f}\")"
   ]
  },
  {
   "cell_type": "code",
   "execution_count": null,
   "id": "d2c3e98f",
   "metadata": {},
   "outputs": [],
   "source": []
  },
  {
   "cell_type": "code",
   "execution_count": 74,
   "id": "31495621",
   "metadata": {},
   "outputs": [
    {
     "name": "stderr",
     "output_type": "stream",
     "text": [
      "100%|██████████| 10/10 [00:02<00:00,  4.06it/s]\n"
     ]
    }
   ],
   "source": [
    "\n",
    "# Step 4: Create item-user matrix (REQUIRED format for implicit)\n",
    "item_user_matrix = coo_matrix(\n",
    "    (np.ones(len(train_df)), (train_df['item_idx'], train_df['user_idx'])),\n",
    "    shape=(len(item_ids), len(user_ids))\n",
    ").tocsr()\n",
    "\n",
    "# Step 5: Initialize and train ALS model with confidence\n",
    "model_als = implicit.als.AlternatingLeastSquares(factors=50, regularization=0.1, iterations=10)\n",
    "alpha_val = 15\n",
    "confidence_matrix = (item_user_matrix * alpha_val).astype('double')\n",
    "model_als.fit(confidence_matrix)\n",
    "\n",
    "# Step 6: Transpose for recommendation usage\n",
    "user_items_csr = item_user_matrix.T.tocsr()\n",
    "\n",
    "# Step 7: Define fallback for cold-start users\n",
    "top_items = (\n",
    "    train_df['appid']\n",
    "    .value_counts()\n",
    "    .head(10)\n",
    "    .index\n",
    "    .tolist()\n",
    ")\n",
    "\n",
    "# Step 8: Wrap recommendation logic with fixed compatibility\n",
    "def recommend_als(user_id, k=10):\n",
    "    if user_id not in user_ids:\n",
    "        return top_items  # fallback to popularity\n",
    "\n",
    "    user_idx = user_ids[user_id]\n",
    "    user_interactions = user_items_csr[user_idx]\n",
    "    \n",
    "    item_indices, _ = model_als.recommend(\n",
    "        user_idx, user_interactions, N=k, filter_already_liked_items=True\n",
    "    )\n",
    "    \n",
    "    return [item_ids_inv[i] for i in item_indices if i in item_ids_inv]"
   ]
  },
  {
   "cell_type": "code",
   "execution_count": null,
   "id": "708c8f4e",
   "metadata": {},
   "outputs": [],
   "source": []
  },
  {
   "cell_type": "code",
   "execution_count": 75,
   "id": "865bc437",
   "metadata": {},
   "outputs": [
    {
     "name": "stderr",
     "output_type": "stream",
     "text": [
      "Processing test data: 100%|██████████| 48343/48343 [00:01<00:00, 29348.36it/s]\n",
      "Generating predictions:   0%|          | 0/39976 [00:00<?, ?it/s]\n"
     ]
    },
    {
     "ename": "IndexError",
     "evalue": "index 54547 is out of bounds for axis 0 with size 22903",
     "output_type": "error",
     "traceback": [
      "\u001b[0;31m---------------------------------------------------------------------------\u001b[0m",
      "\u001b[0;31mIndexError\u001b[0m                                Traceback (most recent call last)",
      "Cell \u001b[0;32mIn[75], line 3\u001b[0m\n\u001b[1;32m      1\u001b[0m \u001b[38;5;66;03m# Step 9: Evaluate results\u001b[39;00m\n\u001b[1;32m      2\u001b[0m test_df[\u001b[38;5;124m'\u001b[39m\u001b[38;5;124mlabel\u001b[39m\u001b[38;5;124m'\u001b[39m] \u001b[38;5;241m=\u001b[39m test_df[\u001b[38;5;124m'\u001b[39m\u001b[38;5;124mvoted_up\u001b[39m\u001b[38;5;124m'\u001b[39m]\u001b[38;5;241m.\u001b[39mastype(\u001b[38;5;28mint\u001b[39m)\n\u001b[0;32m----> 3\u001b[0m results \u001b[38;5;241m=\u001b[39m \u001b[43mevaluate\u001b[49m\u001b[43m(\u001b[49m\u001b[43mtest_df\u001b[49m\u001b[43m,\u001b[49m\u001b[43m \u001b[49m\u001b[43mrecommend_als\u001b[49m\u001b[43m,\u001b[49m\u001b[43m \u001b[49m\u001b[43mk\u001b[49m\u001b[38;5;241;43m=\u001b[39;49m\u001b[38;5;241;43m10\u001b[39;49m\u001b[43m,\u001b[49m\u001b[43m \u001b[49m\u001b[43muse_cache\u001b[49m\u001b[38;5;241;43m=\u001b[39;49m\u001b[38;5;28;43;01mFalse\u001b[39;49;00m\u001b[43m)\u001b[49m\n\u001b[1;32m      5\u001b[0m \u001b[38;5;28;01mfor\u001b[39;00m metric, value \u001b[38;5;129;01min\u001b[39;00m results\u001b[38;5;241m.\u001b[39mitems():\n\u001b[1;32m      6\u001b[0m     \u001b[38;5;28mprint\u001b[39m(\u001b[38;5;124mf\u001b[39m\u001b[38;5;124m\"\u001b[39m\u001b[38;5;132;01m{\u001b[39;00mmetric\u001b[38;5;132;01m}\u001b[39;00m\u001b[38;5;124m: \u001b[39m\u001b[38;5;132;01m{\u001b[39;00mvalue\u001b[38;5;132;01m:\u001b[39;00m\u001b[38;5;124m.4f\u001b[39m\u001b[38;5;132;01m}\u001b[39;00m\u001b[38;5;124m\"\u001b[39m)\n",
      "Cell \u001b[0;32mIn[48], line 42\u001b[0m, in \u001b[0;36mevaluate\u001b[0;34m(test_data, recommender_fn, k, use_cache)\u001b[0m\n\u001b[1;32m     40\u001b[0m \u001b[38;5;28;01mfor\u001b[39;00m user \u001b[38;5;129;01min\u001b[39;00m tqdm(user_to_true, desc\u001b[38;5;241m=\u001b[39m\u001b[38;5;124m\"\u001b[39m\u001b[38;5;124mGenerating predictions\u001b[39m\u001b[38;5;124m\"\u001b[39m):\n\u001b[1;32m     41\u001b[0m     n \u001b[38;5;241m+\u001b[39m\u001b[38;5;241m=\u001b[39m \u001b[38;5;241m1\u001b[39m\n\u001b[0;32m---> 42\u001b[0m     preds \u001b[38;5;241m=\u001b[39m \u001b[43mrecommender_fn\u001b[49m\u001b[43m(\u001b[49m\u001b[43muser\u001b[49m\u001b[43m)\u001b[49m[:k]\n\u001b[1;32m     43\u001b[0m     user_to_preds[user] \u001b[38;5;241m=\u001b[39m preds\n\u001b[1;32m     45\u001b[0m \u001b[38;5;66;03m# print(f\"Success rate: {successes / n:.2%}\")\u001b[39;00m\n\u001b[1;32m     46\u001b[0m \u001b[38;5;66;03m# input()\u001b[39;00m\n",
      "Cell \u001b[0;32mIn[74], line 33\u001b[0m, in \u001b[0;36mrecommend_als\u001b[0;34m(user_id, k)\u001b[0m\n\u001b[1;32m     30\u001b[0m user_idx \u001b[38;5;241m=\u001b[39m user_ids[user_id]\n\u001b[1;32m     31\u001b[0m user_interactions \u001b[38;5;241m=\u001b[39m user_items_csr[user_idx]\n\u001b[0;32m---> 33\u001b[0m item_indices, _ \u001b[38;5;241m=\u001b[39m \u001b[43mmodel_als\u001b[49m\u001b[38;5;241;43m.\u001b[39;49m\u001b[43mrecommend\u001b[49m\u001b[43m(\u001b[49m\n\u001b[1;32m     34\u001b[0m \u001b[43m    \u001b[49m\u001b[43muser_idx\u001b[49m\u001b[43m,\u001b[49m\u001b[43m \u001b[49m\u001b[43muser_interactions\u001b[49m\u001b[43m,\u001b[49m\u001b[43m \u001b[49m\u001b[43mN\u001b[49m\u001b[38;5;241;43m=\u001b[39;49m\u001b[43mk\u001b[49m\u001b[43m,\u001b[49m\u001b[43m \u001b[49m\u001b[43mfilter_already_liked_items\u001b[49m\u001b[38;5;241;43m=\u001b[39;49m\u001b[38;5;28;43;01mTrue\u001b[39;49;00m\n\u001b[1;32m     35\u001b[0m \u001b[43m\u001b[49m\u001b[43m)\u001b[49m\n\u001b[1;32m     37\u001b[0m \u001b[38;5;28;01mreturn\u001b[39;00m [item_ids_inv[i] \u001b[38;5;28;01mfor\u001b[39;00m i \u001b[38;5;129;01min\u001b[39;00m item_indices \u001b[38;5;28;01mif\u001b[39;00m i \u001b[38;5;129;01min\u001b[39;00m item_ids_inv]\n",
      "File \u001b[0;32m/opt/homebrew/Caskroom/miniconda/base/envs/mgt_flask/lib/python3.10/site-packages/implicit/cpu/matrix_factorization_base.py:51\u001b[0m, in \u001b[0;36mMatrixFactorizationBase.recommend\u001b[0;34m(self, userid, user_items, N, filter_already_liked_items, filter_items, recalculate_user, items)\u001b[0m\n\u001b[1;32m     48\u001b[0m     \u001b[38;5;28;01mif\u001b[39;00m user_items\u001b[38;5;241m.\u001b[39mshape[\u001b[38;5;241m0\u001b[39m] \u001b[38;5;241m!=\u001b[39m user_count:\n\u001b[1;32m     49\u001b[0m         \u001b[38;5;28;01mraise\u001b[39;00m \u001b[38;5;167;01mValueError\u001b[39;00m(\u001b[38;5;124m\"\u001b[39m\u001b[38;5;124muser_items must contain 1 row for every user in userids\u001b[39m\u001b[38;5;124m\"\u001b[39m)\n\u001b[0;32m---> 51\u001b[0m user \u001b[38;5;241m=\u001b[39m \u001b[38;5;28;43mself\u001b[39;49m\u001b[38;5;241;43m.\u001b[39;49m\u001b[43m_user_factor\u001b[49m\u001b[43m(\u001b[49m\u001b[43muserid\u001b[49m\u001b[43m,\u001b[49m\u001b[43m \u001b[49m\u001b[43muser_items\u001b[49m\u001b[43m,\u001b[49m\u001b[43m \u001b[49m\u001b[43mrecalculate_user\u001b[49m\u001b[43m)\u001b[49m\n\u001b[1;32m     53\u001b[0m item_factors \u001b[38;5;241m=\u001b[39m \u001b[38;5;28mself\u001b[39m\u001b[38;5;241m.\u001b[39mitem_factors\n\u001b[1;32m     55\u001b[0m \u001b[38;5;66;03m# if we have an item list to restrict down to, we need to filter the item_factors\u001b[39;00m\n\u001b[1;32m     56\u001b[0m \u001b[38;5;66;03m# and filter_query_items\u001b[39;00m\n",
      "File \u001b[0;32m/opt/homebrew/Caskroom/miniconda/base/envs/mgt_flask/lib/python3.10/site-packages/implicit/cpu/matrix_factorization_base.py:135\u001b[0m, in \u001b[0;36mMatrixFactorizationBase._user_factor\u001b[0;34m(self, userid, user_items, recalculate_user)\u001b[0m\n\u001b[1;32m    133\u001b[0m \u001b[38;5;28;01mif\u001b[39;00m recalculate_user:\n\u001b[1;32m    134\u001b[0m     \u001b[38;5;28;01mreturn\u001b[39;00m \u001b[38;5;28mself\u001b[39m\u001b[38;5;241m.\u001b[39mrecalculate_user(userid, user_items)\n\u001b[0;32m--> 135\u001b[0m \u001b[38;5;28;01mreturn\u001b[39;00m \u001b[38;5;28;43mself\u001b[39;49m\u001b[38;5;241;43m.\u001b[39;49m\u001b[43muser_factors\u001b[49m\u001b[43m[\u001b[49m\u001b[43muserid\u001b[49m\u001b[43m]\u001b[49m\n",
      "\u001b[0;31mIndexError\u001b[0m: index 54547 is out of bounds for axis 0 with size 22903"
     ]
    }
   ],
   "source": [
    "# Step 9: Evaluate results\n",
    "test_df['label'] = test_df['voted_up'].astype(int)\n",
    "results = evaluate(test_df, recommend_als, k=10, use_cache=False)\n",
    "\n",
    "for metric, value in results.items():\n",
    "    print(f\"{metric}: {value:.4f}\")"
   ]
  },
  {
   "cell_type": "code",
   "execution_count": 64,
   "id": "b8a265ef",
   "metadata": {},
   "outputs": [
    {
     "name": "stderr",
     "output_type": "stream",
     "text": [
      "Splitting train/test by user: 100%|██████████| 320412/320412 [00:13<00:00, 23090.54it/s]\n"
     ]
    }
   ],
   "source": [
    "# Step 1: Build user/item mappings from the ENTIRE dataset (not just training)\n",
    "all_user_ids = {uid: idx for idx, uid in enumerate(df_pos['author_steamid'].unique())}\n",
    "all_item_ids = {iid: idx for idx, iid in enumerate(df_pos['appid'].unique())}\n",
    "all_item_ids_inv = {v: k for k, v in all_item_ids.items()}\n",
    "\n",
    "# Step 2: Add index columns to the entire dataset\n",
    "df_pos['user_idx'] = df_pos['author_steamid'].map(all_user_ids)\n",
    "df_pos['item_idx'] = df_pos['appid'].map(all_item_ids)\n",
    "\n",
    "# Step 3: Now split AFTER indexing\n",
    "train_df, test_df = train_test_split_per_user(df_pos)\n",
    "\n",
    "# Step 4: Build matrix only from train data, but use global user/item shapes\n",
    "item_user_matrix = coo_matrix(\n",
    "    (np.ones(len(train_df)), (train_df['item_idx'], train_df['user_idx'])),\n",
    "    shape=(len(all_item_ids), len(all_user_ids))\n",
    ").tocsr()\n"
   ]
  },
  {
   "cell_type": "code",
   "execution_count": null,
   "id": "78eaf4b0",
   "metadata": {},
   "outputs": [
    {
     "name": "stderr",
     "output_type": "stream",
     "text": [
      "/opt/homebrew/Caskroom/miniconda/base/envs/mgt_flask/lib/python3.10/site-packages/tqdm/auto.py:21: TqdmWarning: IProgress not found. Please update jupyter and ipywidgets. See https://ipywidgets.readthedocs.io/en/stable/user_install.html\n",
      "  from .autonotebook import tqdm as notebook_tqdm\n"
     ]
    }
   ],
   "source": [
    "from scipy.sparse import coo_matrix\n",
    "import implicit"
   ]
  },
  {
   "cell_type": "code",
   "execution_count": null,
   "id": "0e4a58fa",
   "metadata": {},
   "outputs": [],
   "source": [
    "df_pos['user_idx'] = df_pos['author_steamid'].map(user_ids)\n",
    "df_pos['item_idx'] = df_pos['appid'].map(item_ids)\n"
   ]
  },
  {
   "cell_type": "code",
   "execution_count": 65,
   "id": "f3cd0832",
   "metadata": {},
   "outputs": [
    {
     "name": "stderr",
     "output_type": "stream",
     "text": [
      "100%|██████████| 10/10 [00:02<00:00,  4.02it/s]\n"
     ]
    }
   ],
   "source": [
    "# ,\n",
    "model_als = implicit.als.AlternatingLeastSquares(factors=50, iterations=10)\n",
    "model_als.fit(item_user_matrix)\n",
    "\n",
    "# 6) Precompute transpose once\n",
    "user_items_csr = item_user_matrix.T.tocsr()"
   ]
  },
  {
   "cell_type": "code",
   "execution_count": null,
   "id": "f04b72e6",
   "metadata": {},
   "outputs": [],
   "source": [
    "# 4) Ensure you have your popularity fallback defined\n",
    "top_items = (\n",
    "    train_df['appid']\n",
    "    .value_counts()\n",
    "    .head(10)\n",
    "    .index\n",
    "    .tolist()\n",
    ")\n",
    "\n",
    "def recommend_als(user_id, k=10):\n",
    "    if user_id not in user_ids:\n",
    "        return top_items  # fallback to popularity\n",
    "\n",
    "    user_idx = user_ids[user_id]\n",
    "    user_interactions = user_items_csr[user_idx]\n",
    "    item_indices, _ = model_als.recommend(\n",
    "        user_idx, user_interactions, N=k, filter_already_liked_items=True\n",
    "    )\n",
    "    return [item_ids_inv[i] for i in item_indices if i in item_ids_inv]"
   ]
  },
  {
   "cell_type": "code",
   "execution_count": 68,
   "id": "2cb4937c",
   "metadata": {},
   "outputs": [],
   "source": [
    "test_df['label'] = test_df['voted_up'].astype(int)"
   ]
  },
  {
   "cell_type": "code",
   "execution_count": 72,
   "id": "5ee7a8d6",
   "metadata": {},
   "outputs": [
    {
     "name": "stderr",
     "output_type": "stream",
     "text": [
      "Processing test data: 100%|██████████| 48343/48343 [00:01<00:00, 29317.43it/s]\n",
      "Generating predictions:   0%|          | 0/39976 [00:58<?, ?it/s]\n"
     ]
    },
    {
     "ename": "IndexError",
     "evalue": "index 54547 is out of bounds for axis 0 with size 22903",
     "output_type": "error",
     "traceback": [
      "\u001b[0;31m---------------------------------------------------------------------------\u001b[0m",
      "\u001b[0;31mIndexError\u001b[0m                                Traceback (most recent call last)",
      "Cell \u001b[0;32mIn[72], line 1\u001b[0m\n\u001b[0;32m----> 1\u001b[0m results \u001b[38;5;241m=\u001b[39m \u001b[43mevaluate\u001b[49m\u001b[43m(\u001b[49m\u001b[43mtest_df\u001b[49m\u001b[43m,\u001b[49m\u001b[43m \u001b[49m\u001b[43mrecommend_als\u001b[49m\u001b[43m,\u001b[49m\u001b[43m \u001b[49m\u001b[43mk\u001b[49m\u001b[38;5;241;43m=\u001b[39;49m\u001b[38;5;241;43m10\u001b[39;49m\u001b[43m,\u001b[49m\u001b[43m \u001b[49m\u001b[43muse_cache\u001b[49m\u001b[38;5;241;43m=\u001b[39;49m\u001b[38;5;28;43;01mFalse\u001b[39;49;00m\u001b[43m)\u001b[49m\n\u001b[1;32m      3\u001b[0m \u001b[38;5;28;01mfor\u001b[39;00m metric, value \u001b[38;5;129;01min\u001b[39;00m results\u001b[38;5;241m.\u001b[39mitems():\n\u001b[1;32m      4\u001b[0m     \u001b[38;5;28mprint\u001b[39m(\u001b[38;5;124mf\u001b[39m\u001b[38;5;124m\"\u001b[39m\u001b[38;5;132;01m{\u001b[39;00mmetric\u001b[38;5;132;01m}\u001b[39;00m\u001b[38;5;124m: \u001b[39m\u001b[38;5;132;01m{\u001b[39;00mvalue\u001b[38;5;132;01m:\u001b[39;00m\u001b[38;5;124m.4f\u001b[39m\u001b[38;5;132;01m}\u001b[39;00m\u001b[38;5;124m\"\u001b[39m)\n",
      "Cell \u001b[0;32mIn[48], line 42\u001b[0m, in \u001b[0;36mevaluate\u001b[0;34m(test_data, recommender_fn, k, use_cache)\u001b[0m\n\u001b[1;32m     40\u001b[0m \u001b[38;5;28;01mfor\u001b[39;00m user \u001b[38;5;129;01min\u001b[39;00m tqdm(user_to_true, desc\u001b[38;5;241m=\u001b[39m\u001b[38;5;124m\"\u001b[39m\u001b[38;5;124mGenerating predictions\u001b[39m\u001b[38;5;124m\"\u001b[39m):\n\u001b[1;32m     41\u001b[0m     n \u001b[38;5;241m+\u001b[39m\u001b[38;5;241m=\u001b[39m \u001b[38;5;241m1\u001b[39m\n\u001b[0;32m---> 42\u001b[0m     preds \u001b[38;5;241m=\u001b[39m \u001b[43mrecommender_fn\u001b[49m\u001b[43m(\u001b[49m\u001b[43muser\u001b[49m\u001b[43m)\u001b[49m[:k]\n\u001b[1;32m     43\u001b[0m     user_to_preds[user] \u001b[38;5;241m=\u001b[39m preds\n\u001b[1;32m     45\u001b[0m \u001b[38;5;66;03m# print(f\"Success rate: {successes / n:.2%}\")\u001b[39;00m\n\u001b[1;32m     46\u001b[0m \u001b[38;5;66;03m# input()\u001b[39;00m\n",
      "Cell \u001b[0;32mIn[66], line 16\u001b[0m, in \u001b[0;36mrecommend_als\u001b[0;34m(user_id, k)\u001b[0m\n\u001b[1;32m     14\u001b[0m user_idx \u001b[38;5;241m=\u001b[39m user_ids[user_id]\n\u001b[1;32m     15\u001b[0m user_interactions \u001b[38;5;241m=\u001b[39m user_items_csr[user_idx]\n\u001b[0;32m---> 16\u001b[0m item_indices, _ \u001b[38;5;241m=\u001b[39m \u001b[43mmodel_als\u001b[49m\u001b[38;5;241;43m.\u001b[39;49m\u001b[43mrecommend\u001b[49m\u001b[43m(\u001b[49m\n\u001b[1;32m     17\u001b[0m \u001b[43m    \u001b[49m\u001b[43muser_idx\u001b[49m\u001b[43m,\u001b[49m\u001b[43m \u001b[49m\u001b[43muser_interactions\u001b[49m\u001b[43m,\u001b[49m\u001b[43m \u001b[49m\u001b[43mN\u001b[49m\u001b[38;5;241;43m=\u001b[39;49m\u001b[43mk\u001b[49m\u001b[43m,\u001b[49m\u001b[43m \u001b[49m\u001b[43mfilter_already_liked_items\u001b[49m\u001b[38;5;241;43m=\u001b[39;49m\u001b[38;5;28;43;01mTrue\u001b[39;49;00m\n\u001b[1;32m     18\u001b[0m \u001b[43m\u001b[49m\u001b[43m)\u001b[49m\n\u001b[1;32m     19\u001b[0m \u001b[38;5;28;01mreturn\u001b[39;00m [item_ids_inv[i] \u001b[38;5;28;01mfor\u001b[39;00m i \u001b[38;5;129;01min\u001b[39;00m item_indices \u001b[38;5;28;01mif\u001b[39;00m i \u001b[38;5;129;01min\u001b[39;00m item_ids_inv]\n",
      "File \u001b[0;32m/opt/homebrew/Caskroom/miniconda/base/envs/mgt_flask/lib/python3.10/site-packages/implicit/cpu/matrix_factorization_base.py:51\u001b[0m, in \u001b[0;36mMatrixFactorizationBase.recommend\u001b[0;34m(self, userid, user_items, N, filter_already_liked_items, filter_items, recalculate_user, items)\u001b[0m\n\u001b[1;32m     48\u001b[0m     \u001b[38;5;28;01mif\u001b[39;00m user_items\u001b[38;5;241m.\u001b[39mshape[\u001b[38;5;241m0\u001b[39m] \u001b[38;5;241m!=\u001b[39m user_count:\n\u001b[1;32m     49\u001b[0m         \u001b[38;5;28;01mraise\u001b[39;00m \u001b[38;5;167;01mValueError\u001b[39;00m(\u001b[38;5;124m\"\u001b[39m\u001b[38;5;124muser_items must contain 1 row for every user in userids\u001b[39m\u001b[38;5;124m\"\u001b[39m)\n\u001b[0;32m---> 51\u001b[0m user \u001b[38;5;241m=\u001b[39m \u001b[38;5;28;43mself\u001b[39;49m\u001b[38;5;241;43m.\u001b[39;49m\u001b[43m_user_factor\u001b[49m\u001b[43m(\u001b[49m\u001b[43muserid\u001b[49m\u001b[43m,\u001b[49m\u001b[43m \u001b[49m\u001b[43muser_items\u001b[49m\u001b[43m,\u001b[49m\u001b[43m \u001b[49m\u001b[43mrecalculate_user\u001b[49m\u001b[43m)\u001b[49m\n\u001b[1;32m     53\u001b[0m item_factors \u001b[38;5;241m=\u001b[39m \u001b[38;5;28mself\u001b[39m\u001b[38;5;241m.\u001b[39mitem_factors\n\u001b[1;32m     55\u001b[0m \u001b[38;5;66;03m# if we have an item list to restrict down to, we need to filter the item_factors\u001b[39;00m\n\u001b[1;32m     56\u001b[0m \u001b[38;5;66;03m# and filter_query_items\u001b[39;00m\n",
      "File \u001b[0;32m/opt/homebrew/Caskroom/miniconda/base/envs/mgt_flask/lib/python3.10/site-packages/implicit/cpu/matrix_factorization_base.py:135\u001b[0m, in \u001b[0;36mMatrixFactorizationBase._user_factor\u001b[0;34m(self, userid, user_items, recalculate_user)\u001b[0m\n\u001b[1;32m    133\u001b[0m \u001b[38;5;28;01mif\u001b[39;00m recalculate_user:\n\u001b[1;32m    134\u001b[0m     \u001b[38;5;28;01mreturn\u001b[39;00m \u001b[38;5;28mself\u001b[39m\u001b[38;5;241m.\u001b[39mrecalculate_user(userid, user_items)\n\u001b[0;32m--> 135\u001b[0m \u001b[38;5;28;01mreturn\u001b[39;00m \u001b[38;5;28;43mself\u001b[39;49m\u001b[38;5;241;43m.\u001b[39;49m\u001b[43muser_factors\u001b[49m\u001b[43m[\u001b[49m\u001b[43muserid\u001b[49m\u001b[43m]\u001b[49m\n",
      "\u001b[0;31mIndexError\u001b[0m: index 54547 is out of bounds for axis 0 with size 22903"
     ]
    }
   ],
   "source": [
    "results = evaluate(test_df, recommend_als, k=10, use_cache=False)\n",
    "\n",
    "for metric, value in results.items():\n",
    "    print(f\"{metric}: {value:.4f}\")"
   ]
  },
  {
   "cell_type": "markdown",
   "id": "4c035953",
   "metadata": {},
   "source": [
    "## Content-Aware: LightFM With Genres"
   ]
  },
  {
   "cell_type": "code",
   "execution_count": null,
   "id": "dd459cf5",
   "metadata": {},
   "outputs": [
    {
     "name": "stderr",
     "output_type": "stream",
     "text": [
      "Splitting train/test by user: 100%|██████████| 320412/320412 [00:11<00:00, 28447.29it/s]\n"
     ]
    }
   ],
   "source": [
    "train_df, test_df = train_test_split_per_user(df_pos)  # same as before"
   ]
  },
  {
   "cell_type": "code",
   "execution_count": 19,
   "id": "3340d8dd",
   "metadata": {},
   "outputs": [],
   "source": [
    "from lightfm import LightFM\n",
    "from lightfm.data import Dataset\n",
    "\n",
    "dataset = Dataset()\n",
    "\n",
    "# Fit users, items, and item features (genres)\n",
    "dataset.fit(train_df['author_steamid'], appid2genres.keys())\n",
    "all_genres = set(g for genres in appid2genres.values() for g in genres)\n",
    "dataset.fit_partial(items=train_df['appid'], item_features=all_genres)\n",
    "\n",
    "# Build interactions\n",
    "interactions, _ = dataset.build_interactions(\n",
    "    ((row['author_steamid'], row['appid']) for _, row in train_df.iterrows())\n",
    ")\n",
    "\n",
    "# Build item features\n",
    "item_features = dataset.build_item_features(\n",
    "    ((appid, appid2genres.get(appid, [])) for appid in appid2genres)\n",
    ")"
   ]
  },
  {
   "cell_type": "code",
   "execution_count": 20,
   "id": "14b14fec",
   "metadata": {},
   "outputs": [
    {
     "data": {
      "text/plain": [
       "<lightfm.lightfm.LightFM at 0x382864160>"
      ]
     },
     "execution_count": 20,
     "metadata": {},
     "output_type": "execute_result"
    }
   ],
   "source": [
    "# Train model\n",
    "model_lfm = LightFM(loss='warp')\n",
    "model_lfm.fit(interactions, item_features=item_features, epochs=10)\n"
   ]
  },
  {
   "cell_type": "code",
   "execution_count": 21,
   "id": "859109ef",
   "metadata": {},
   "outputs": [],
   "source": [
    "def recommend_lightfm(user_id, k=10):\n",
    "    if user_id not in user_ids:\n",
    "        return top_items  # fallback\n",
    "\n",
    "    user_idx = user_ids[user_id]\n",
    "    scores = model_lfm.predict(user_ids[user_id], np.arange(len(item_ids)), item_features=item_features)\n",
    "    top_indices = np.argsort(-scores)[:k]\n",
    "    return [item_ids_inv[i] for i in top_indices]\n"
   ]
  },
  {
   "cell_type": "code",
   "execution_count": 23,
   "id": "b606c73c",
   "metadata": {},
   "outputs": [
    {
     "name": "stderr",
     "output_type": "stream",
     "text": [
      "Processing test data: 100%|██████████| 2047143/2047143 [00:25<00:00, 80710.47it/s]\n",
      "Generating predictions: 100%|██████████| 39976/39976 [01:15<00:00, 531.70it/s]\n"
     ]
    },
    {
     "name": "stdout",
     "output_type": "stream",
     "text": [
      "Success rate: 100.00%\n"
     ]
    },
    {
     "name": "stderr",
     "output_type": "stream",
     "text": [
      "Calculating metrics: 100%|██████████| 39976/39976 [00:00<00:00, 110374.24it/s]"
     ]
    },
    {
     "name": "stdout",
     "output_type": "stream",
     "text": [
      "Precision@K: 0.0001\n",
      "Recall@K: 0.0004\n",
      "NDCG@K: 0.0003\n",
      "MAP@K: 0.0002\n"
     ]
    },
    {
     "name": "stderr",
     "output_type": "stream",
     "text": [
      "\n"
     ]
    }
   ],
   "source": [
    "results = evaluate(test_data, recommend_lightfm, k=10)\n",
    "\n",
    "for metric, value in results.items():\n",
    "    print(f\"{metric}: {value:.4f}\")"
   ]
  }
 ],
 "metadata": {
  "kernelspec": {
   "display_name": "mgt_flask",
   "language": "python",
   "name": "python3"
  },
  "language_info": {
   "codemirror_mode": {
    "name": "ipython",
    "version": 3
   },
   "file_extension": ".py",
   "mimetype": "text/x-python",
   "name": "python",
   "nbconvert_exporter": "python",
   "pygments_lexer": "ipython3",
   "version": "3.10.13"
  }
 },
 "nbformat": 4,
 "nbformat_minor": 5
}
