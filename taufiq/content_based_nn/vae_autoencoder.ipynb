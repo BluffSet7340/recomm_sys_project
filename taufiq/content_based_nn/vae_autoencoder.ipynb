{
 "cells": [
  {
   "cell_type": "markdown",
   "id": "82ca2852",
   "metadata": {},
   "source": [
    "# Imports"
   ]
  },
  {
   "cell_type": "code",
   "execution_count": 1,
   "id": "bd3182cc",
   "metadata": {},
   "outputs": [],
   "source": [
    "import pandas as pd\n",
    "import numpy as np\n",
    "import matplotlib.pyplot as plt\n",
    "import seaborn as sns\n",
    "import os\n",
    "import math\n",
    "from collections import defaultdict\n",
    "from tqdm import tqdm\n",
    "import json"
   ]
  },
  {
   "cell_type": "code",
   "execution_count": 2,
   "id": "1dac6361",
   "metadata": {},
   "outputs": [],
   "source": [
    "import tensorflow as tf\n",
    "\n",
    "from sklearn.preprocessing import StandardScaler\n",
    "from sklearn.metrics.pairwise import cosine_similarity\n",
    "\n",
    "from tensorflow import keras\n",
    "from tensorflow.keras import layers"
   ]
  },
  {
   "cell_type": "markdown",
   "id": "2d275d31",
   "metadata": {},
   "source": [
    "# Load Data"
   ]
  },
  {
   "cell_type": "code",
   "execution_count": 3,
   "id": "f148031d",
   "metadata": {},
   "outputs": [],
   "source": [
    "# import pandas as pd\n",
    "\n",
    "# df = pd.read_csv('../../dataset/weighted_score_above_08.csv')\n",
    "\n",
    "# df.head()"
   ]
  },
  {
   "cell_type": "code",
   "execution_count": 4,
   "id": "1b0fa1a2",
   "metadata": {},
   "outputs": [],
   "source": [
    "with open('../combined_df.json', 'r') as f:\n",
    "    sample_data = [json.loads(line) for line in f]"
   ]
  },
  {
   "cell_type": "code",
   "execution_count": 5,
   "id": "318aceaf",
   "metadata": {},
   "outputs": [],
   "source": [
    "# Extract valid appids from the sample file\n",
    "# valid_appids = {entry['appid'] for entry in sample_data}\n",
    "\n",
    "# Filter df based on appids in the sample\n",
    "# df = df[df['appid'].isin(valid_appids)]\n",
    "\n",
    "# Continue processing\n",
    "# df_games = df[['appid', 'game']]\n",
    "# df_games = df_games.drop_duplicates(subset='appid')\n",
    "\n",
    "# appid2game = df_games.set_index('appid')['game'].to_dict()\n",
    "# game2appid = df_games.set_index('game')['appid'].to_dict()\n",
    "\n",
    "# del df_games\n",
    "\n",
    "# df = df[['appid', 'author_steamid', 'voted_up']]\n",
    "# df.rename(columns={'appid': 'item_id', 'author_steamid': 'user_id', 'voted_up': 'rating'}, inplace=True)"
   ]
  },
  {
   "cell_type": "code",
   "execution_count": 6,
   "id": "bd46bc88",
   "metadata": {},
   "outputs": [],
   "source": [
    "item_id_to_genres = {entry['appid']: entry['genre'] for entry in sample_data}"
   ]
  },
  {
   "cell_type": "code",
   "execution_count": 7,
   "id": "9f9757c8",
   "metadata": {},
   "outputs": [],
   "source": [
    "# df.reset_index(drop=True, inplace=True)"
   ]
  },
  {
   "cell_type": "code",
   "execution_count": 8,
   "id": "4ec69f41",
   "metadata": {},
   "outputs": [],
   "source": [
    "# N_DISPLAY = 30\n",
    "# has_no_genre_count = 0\n",
    "# for i, item_id in enumerate(df['item_id'].unique()):\n",
    "#     genres = item_id_to_genres.get(item_id, [])\n",
    "#     if not genres:\n",
    "#         has_no_genre_count += 1\n",
    "#         continue\n",
    "# print(f\"Number of games without genres: {has_no_genre_count}\")"
   ]
  },
  {
   "cell_type": "code",
   "execution_count": 9,
   "id": "e450edb7",
   "metadata": {},
   "outputs": [],
   "source": [
    "# nan_count = df['rating'].isna().sum()\n",
    "# print(f\"Number of NaN values in 'rating': {nan_count}\")"
   ]
  },
  {
   "cell_type": "code",
   "execution_count": 10,
   "id": "c89039d0",
   "metadata": {},
   "outputs": [
    {
     "data": {
      "text/plain": [
       "{'appid': 550, 'game': 'Left 4 Dead 2', 'genre': ['Action']}"
      ]
     },
     "execution_count": 10,
     "metadata": {},
     "output_type": "execute_result"
    }
   ],
   "source": [
    "sample_data[0]"
   ]
  },
  {
   "cell_type": "code",
   "execution_count": 11,
   "id": "9c396a4c",
   "metadata": {},
   "outputs": [
    {
     "data": {
      "text/html": [
       "<div>\n",
       "<style scoped>\n",
       "    .dataframe tbody tr th:only-of-type {\n",
       "        vertical-align: middle;\n",
       "    }\n",
       "\n",
       "    .dataframe tbody tr th {\n",
       "        vertical-align: top;\n",
       "    }\n",
       "\n",
       "    .dataframe thead th {\n",
       "        text-align: right;\n",
       "    }\n",
       "</style>\n",
       "<table border=\"1\" class=\"dataframe\">\n",
       "  <thead>\n",
       "    <tr style=\"text-align: right;\">\n",
       "      <th></th>\n",
       "      <th>gameId</th>\n",
       "      <th>title</th>\n",
       "      <th>genres</th>\n",
       "    </tr>\n",
       "  </thead>\n",
       "  <tbody>\n",
       "    <tr>\n",
       "      <th>0</th>\n",
       "      <td>550</td>\n",
       "      <td>Left 4 Dead 2</td>\n",
       "      <td>Action</td>\n",
       "    </tr>\n",
       "    <tr>\n",
       "      <th>1</th>\n",
       "      <td>644560</td>\n",
       "      <td>Mirror</td>\n",
       "      <td>Adventure|Indie|RPG</td>\n",
       "    </tr>\n",
       "    <tr>\n",
       "      <th>2</th>\n",
       "      <td>264710</td>\n",
       "      <td>Subnautica</td>\n",
       "      <td>Adventure|Indie</td>\n",
       "    </tr>\n",
       "    <tr>\n",
       "      <th>3</th>\n",
       "      <td>294100</td>\n",
       "      <td>RimWorld</td>\n",
       "      <td>Indie|Simulation|Strategy</td>\n",
       "    </tr>\n",
       "    <tr>\n",
       "      <th>4</th>\n",
       "      <td>413150</td>\n",
       "      <td>Stardew Valley</td>\n",
       "      <td>Indie|RPG|Simulation</td>\n",
       "    </tr>\n",
       "  </tbody>\n",
       "</table>\n",
       "</div>"
      ],
      "text/plain": [
       "   gameId           title                     genres\n",
       "0     550   Left 4 Dead 2                     Action\n",
       "1  644560          Mirror        Adventure|Indie|RPG\n",
       "2  264710      Subnautica            Adventure|Indie\n",
       "3  294100        RimWorld  Indie|Simulation|Strategy\n",
       "4  413150  Stardew Valley       Indie|RPG|Simulation"
      ]
     },
     "execution_count": 11,
     "metadata": {},
     "output_type": "execute_result"
    }
   ],
   "source": [
    "# Create a DataFrame from sample_data\n",
    "games_data_clean = pd.DataFrame(sample_data)\n",
    "\n",
    "# Rename columns for clarity\n",
    "games_data_clean.rename(columns={'game': 'title'}, inplace=True)\n",
    "\n",
    "# Convert the 'genre' list into a pipe-separated string\n",
    "games_data_clean['genre'] = games_data_clean['genre'].apply(lambda x: '|'.join(x) if isinstance(x, list) else '')\n",
    "\n",
    "# Select only the required columns\n",
    "games_data_clean = games_data_clean[['appid', 'title', 'genre']]\n",
    "games_data_clean.rename(columns={'appid': 'gameId'}, inplace=True)\n",
    "games_data_clean.rename(columns={'genre': 'genres'}, inplace=True)\n",
    "\n",
    "games_data_clean.head()"
   ]
  },
  {
   "cell_type": "markdown",
   "id": "043bea46",
   "metadata": {},
   "source": [
    "### Create Item Train Feature Vectors"
   ]
  },
  {
   "cell_type": "code",
   "execution_count": 12,
   "id": "dc17d78e",
   "metadata": {},
   "outputs": [],
   "source": [
    "game_features_data = games_data_clean.copy()"
   ]
  },
  {
   "cell_type": "code",
   "execution_count": 13,
   "id": "c3ddfb90",
   "metadata": {},
   "outputs": [
    {
     "data": {
      "text/html": [
       "<div>\n",
       "<style scoped>\n",
       "    .dataframe tbody tr th:only-of-type {\n",
       "        vertical-align: middle;\n",
       "    }\n",
       "\n",
       "    .dataframe tbody tr th {\n",
       "        vertical-align: top;\n",
       "    }\n",
       "\n",
       "    .dataframe thead th {\n",
       "        text-align: right;\n",
       "    }\n",
       "</style>\n",
       "<table border=\"1\" class=\"dataframe\">\n",
       "  <thead>\n",
       "    <tr style=\"text-align: right;\">\n",
       "      <th></th>\n",
       "      <th>gameId</th>\n",
       "      <th>title</th>\n",
       "      <th>genres</th>\n",
       "    </tr>\n",
       "  </thead>\n",
       "  <tbody>\n",
       "    <tr>\n",
       "      <th>0</th>\n",
       "      <td>550</td>\n",
       "      <td>Left 4 Dead 2</td>\n",
       "      <td>Action</td>\n",
       "    </tr>\n",
       "    <tr>\n",
       "      <th>1</th>\n",
       "      <td>644560</td>\n",
       "      <td>Mirror</td>\n",
       "      <td>Adventure|Indie|RPG</td>\n",
       "    </tr>\n",
       "    <tr>\n",
       "      <th>2</th>\n",
       "      <td>264710</td>\n",
       "      <td>Subnautica</td>\n",
       "      <td>Adventure|Indie</td>\n",
       "    </tr>\n",
       "    <tr>\n",
       "      <th>3</th>\n",
       "      <td>294100</td>\n",
       "      <td>RimWorld</td>\n",
       "      <td>Indie|Simulation|Strategy</td>\n",
       "    </tr>\n",
       "    <tr>\n",
       "      <th>4</th>\n",
       "      <td>413150</td>\n",
       "      <td>Stardew Valley</td>\n",
       "      <td>Indie|RPG|Simulation</td>\n",
       "    </tr>\n",
       "  </tbody>\n",
       "</table>\n",
       "</div>"
      ],
      "text/plain": [
       "   gameId           title                     genres\n",
       "0     550   Left 4 Dead 2                     Action\n",
       "1  644560          Mirror        Adventure|Indie|RPG\n",
       "2  264710      Subnautica            Adventure|Indie\n",
       "3  294100        RimWorld  Indie|Simulation|Strategy\n",
       "4  413150  Stardew Valley       Indie|RPG|Simulation"
      ]
     },
     "execution_count": 13,
     "metadata": {},
     "output_type": "execute_result"
    }
   ],
   "source": [
    "game_features_data.head()"
   ]
  },
  {
   "cell_type": "code",
   "execution_count": 14,
   "id": "2b37016b",
   "metadata": {},
   "outputs": [],
   "source": [
    "genre_dummies = game_features_data['genres'].str.get_dummies(sep='|')\n",
    "genre_counts = genre_dummies.sum()\n",
    "valid_genres = genre_counts[genre_counts >= 50].index\n",
    "genre_dummies = genre_dummies[valid_genres]"
   ]
  },
  {
   "cell_type": "code",
   "execution_count": 15,
   "id": "54e4c917",
   "metadata": {},
   "outputs": [],
   "source": [
    "item_genre_dummies = genre_dummies.add_prefix('item_')"
   ]
  },
  {
   "cell_type": "code",
   "execution_count": 16,
   "id": "6d6686b1",
   "metadata": {},
   "outputs": [],
   "source": [
    "item_features = pd.concat([\n",
    "    # game_features_data[['gameId']],\n",
    "    item_genre_dummies\n",
    "], axis=1)"
   ]
  },
  {
   "cell_type": "code",
   "execution_count": 17,
   "id": "f1b06130",
   "metadata": {},
   "outputs": [
    {
     "data": {
      "text/html": [
       "<div>\n",
       "<style scoped>\n",
       "    .dataframe tbody tr th:only-of-type {\n",
       "        vertical-align: middle;\n",
       "    }\n",
       "\n",
       "    .dataframe tbody tr th {\n",
       "        vertical-align: top;\n",
       "    }\n",
       "\n",
       "    .dataframe thead th {\n",
       "        text-align: right;\n",
       "    }\n",
       "</style>\n",
       "<table border=\"1\" class=\"dataframe\">\n",
       "  <thead>\n",
       "    <tr style=\"text-align: right;\">\n",
       "      <th></th>\n",
       "      <th>item_Action</th>\n",
       "      <th>item_Adventure</th>\n",
       "      <th>item_Animation &amp; Modeling</th>\n",
       "      <th>item_Audio Production</th>\n",
       "      <th>item_Casual</th>\n",
       "      <th>item_Design &amp; Illustration</th>\n",
       "      <th>item_Early Access</th>\n",
       "      <th>item_Education</th>\n",
       "      <th>item_Family Sharing</th>\n",
       "      <th>item_Free To Play</th>\n",
       "      <th>...</th>\n",
       "      <th>item_Racing</th>\n",
       "      <th>item_Simulation</th>\n",
       "      <th>item_Single-player</th>\n",
       "      <th>item_Software Training</th>\n",
       "      <th>item_Sports</th>\n",
       "      <th>item_Strategy</th>\n",
       "      <th>item_Utilities</th>\n",
       "      <th>item_Video Production</th>\n",
       "      <th>item_Violent</th>\n",
       "      <th>item_Web Publishing</th>\n",
       "    </tr>\n",
       "  </thead>\n",
       "  <tbody>\n",
       "    <tr>\n",
       "      <th>0</th>\n",
       "      <td>1</td>\n",
       "      <td>0</td>\n",
       "      <td>0</td>\n",
       "      <td>0</td>\n",
       "      <td>0</td>\n",
       "      <td>0</td>\n",
       "      <td>0</td>\n",
       "      <td>0</td>\n",
       "      <td>0</td>\n",
       "      <td>0</td>\n",
       "      <td>...</td>\n",
       "      <td>0</td>\n",
       "      <td>0</td>\n",
       "      <td>0</td>\n",
       "      <td>0</td>\n",
       "      <td>0</td>\n",
       "      <td>0</td>\n",
       "      <td>0</td>\n",
       "      <td>0</td>\n",
       "      <td>0</td>\n",
       "      <td>0</td>\n",
       "    </tr>\n",
       "    <tr>\n",
       "      <th>1</th>\n",
       "      <td>0</td>\n",
       "      <td>1</td>\n",
       "      <td>0</td>\n",
       "      <td>0</td>\n",
       "      <td>0</td>\n",
       "      <td>0</td>\n",
       "      <td>0</td>\n",
       "      <td>0</td>\n",
       "      <td>0</td>\n",
       "      <td>0</td>\n",
       "      <td>...</td>\n",
       "      <td>0</td>\n",
       "      <td>0</td>\n",
       "      <td>0</td>\n",
       "      <td>0</td>\n",
       "      <td>0</td>\n",
       "      <td>0</td>\n",
       "      <td>0</td>\n",
       "      <td>0</td>\n",
       "      <td>0</td>\n",
       "      <td>0</td>\n",
       "    </tr>\n",
       "    <tr>\n",
       "      <th>2</th>\n",
       "      <td>0</td>\n",
       "      <td>1</td>\n",
       "      <td>0</td>\n",
       "      <td>0</td>\n",
       "      <td>0</td>\n",
       "      <td>0</td>\n",
       "      <td>0</td>\n",
       "      <td>0</td>\n",
       "      <td>0</td>\n",
       "      <td>0</td>\n",
       "      <td>...</td>\n",
       "      <td>0</td>\n",
       "      <td>0</td>\n",
       "      <td>0</td>\n",
       "      <td>0</td>\n",
       "      <td>0</td>\n",
       "      <td>0</td>\n",
       "      <td>0</td>\n",
       "      <td>0</td>\n",
       "      <td>0</td>\n",
       "      <td>0</td>\n",
       "    </tr>\n",
       "    <tr>\n",
       "      <th>3</th>\n",
       "      <td>0</td>\n",
       "      <td>0</td>\n",
       "      <td>0</td>\n",
       "      <td>0</td>\n",
       "      <td>0</td>\n",
       "      <td>0</td>\n",
       "      <td>0</td>\n",
       "      <td>0</td>\n",
       "      <td>0</td>\n",
       "      <td>0</td>\n",
       "      <td>...</td>\n",
       "      <td>0</td>\n",
       "      <td>1</td>\n",
       "      <td>0</td>\n",
       "      <td>0</td>\n",
       "      <td>0</td>\n",
       "      <td>1</td>\n",
       "      <td>0</td>\n",
       "      <td>0</td>\n",
       "      <td>0</td>\n",
       "      <td>0</td>\n",
       "    </tr>\n",
       "    <tr>\n",
       "      <th>4</th>\n",
       "      <td>0</td>\n",
       "      <td>0</td>\n",
       "      <td>0</td>\n",
       "      <td>0</td>\n",
       "      <td>0</td>\n",
       "      <td>0</td>\n",
       "      <td>0</td>\n",
       "      <td>0</td>\n",
       "      <td>0</td>\n",
       "      <td>0</td>\n",
       "      <td>...</td>\n",
       "      <td>0</td>\n",
       "      <td>1</td>\n",
       "      <td>0</td>\n",
       "      <td>0</td>\n",
       "      <td>0</td>\n",
       "      <td>0</td>\n",
       "      <td>0</td>\n",
       "      <td>0</td>\n",
       "      <td>0</td>\n",
       "      <td>0</td>\n",
       "    </tr>\n",
       "  </tbody>\n",
       "</table>\n",
       "<p>5 rows × 26 columns</p>\n",
       "</div>"
      ],
      "text/plain": [
       "   item_Action  item_Adventure  item_Animation & Modeling  \\\n",
       "0            1               0                          0   \n",
       "1            0               1                          0   \n",
       "2            0               1                          0   \n",
       "3            0               0                          0   \n",
       "4            0               0                          0   \n",
       "\n",
       "   item_Audio Production  item_Casual  item_Design & Illustration  \\\n",
       "0                      0            0                           0   \n",
       "1                      0            0                           0   \n",
       "2                      0            0                           0   \n",
       "3                      0            0                           0   \n",
       "4                      0            0                           0   \n",
       "\n",
       "   item_Early Access  item_Education  item_Family Sharing  item_Free To Play  \\\n",
       "0                  0               0                    0                  0   \n",
       "1                  0               0                    0                  0   \n",
       "2                  0               0                    0                  0   \n",
       "3                  0               0                    0                  0   \n",
       "4                  0               0                    0                  0   \n",
       "\n",
       "   ...  item_Racing  item_Simulation  item_Single-player  \\\n",
       "0  ...            0                0                   0   \n",
       "1  ...            0                0                   0   \n",
       "2  ...            0                0                   0   \n",
       "3  ...            0                1                   0   \n",
       "4  ...            0                1                   0   \n",
       "\n",
       "   item_Software Training  item_Sports  item_Strategy  item_Utilities  \\\n",
       "0                       0            0              0               0   \n",
       "1                       0            0              0               0   \n",
       "2                       0            0              0               0   \n",
       "3                       0            0              1               0   \n",
       "4                       0            0              0               0   \n",
       "\n",
       "   item_Video Production  item_Violent  item_Web Publishing  \n",
       "0                      0             0                    0  \n",
       "1                      0             0                    0  \n",
       "2                      0             0                    0  \n",
       "3                      0             0                    0  \n",
       "4                      0             0                    0  \n",
       "\n",
       "[5 rows x 26 columns]"
      ]
     },
     "execution_count": 17,
     "metadata": {},
     "output_type": "execute_result"
    }
   ],
   "source": [
    "item_features.head()"
   ]
  },
  {
   "cell_type": "code",
   "execution_count": 18,
   "id": "bc88bc30",
   "metadata": {},
   "outputs": [
    {
     "data": {
      "text/plain": [
       "(27315, 26)"
      ]
     },
     "execution_count": 18,
     "metadata": {},
     "output_type": "execute_result"
    }
   ],
   "source": [
    "item_features.shape"
   ]
  },
  {
   "cell_type": "markdown",
   "id": "cb490b32",
   "metadata": {},
   "source": [
    "#### Train an autoencoder"
   ]
  },
  {
   "cell_type": "code",
   "execution_count": 19,
   "id": "dfa6338b",
   "metadata": {},
   "outputs": [],
   "source": [
    "item_continuous = []\n",
    "item_genres = [c for c in item_features.columns if c not in []]"
   ]
  },
  {
   "cell_type": "code",
   "execution_count": 20,
   "id": "9f09b895",
   "metadata": {},
   "outputs": [],
   "source": [
    "standardizer = StandardScaler()"
   ]
  },
  {
   "cell_type": "code",
   "execution_count": 21,
   "id": "190bd713",
   "metadata": {},
   "outputs": [],
   "source": [
    "# item_features[item_continuous] = standardizer.fit_transform(item_features[item_continuous])b"
   ]
  },
  {
   "cell_type": "code",
   "execution_count": 22,
   "id": "eaabd2bf",
   "metadata": {},
   "outputs": [],
   "source": [
    "X_item = item_features[item_continuous + item_genres].to_numpy().astype(float)"
   ]
  },
  {
   "cell_type": "code",
   "execution_count": 23,
   "id": "a0b9cc3f",
   "metadata": {},
   "outputs": [
    {
     "data": {
      "text/plain": [
       "(27315, 26)"
      ]
     },
     "execution_count": 23,
     "metadata": {},
     "output_type": "execute_result"
    }
   ],
   "source": [
    "X_item.shape"
   ]
  },
  {
   "cell_type": "code",
   "execution_count": 24,
   "id": "3313bb47",
   "metadata": {},
   "outputs": [
    {
     "data": {
      "text/plain": [
       "array([[1., 0., 0., ..., 0., 0., 0.],\n",
       "       [0., 1., 0., ..., 0., 0., 0.],\n",
       "       [0., 1., 0., ..., 0., 0., 0.],\n",
       "       ...,\n",
       "       [0., 0., 0., ..., 0., 0., 0.],\n",
       "       [0., 0., 0., ..., 0., 0., 0.],\n",
       "       [0., 0., 0., ..., 0., 0., 0.]], shape=(27315, 26))"
      ]
     },
     "execution_count": 24,
     "metadata": {},
     "output_type": "execute_result"
    }
   ],
   "source": [
    "X_item"
   ]
  },
  {
   "cell_type": "code",
   "execution_count": 25,
   "id": "132c8899",
   "metadata": {},
   "outputs": [],
   "source": [
    "input_dim = X_item.shape[1]"
   ]
  },
  {
   "cell_type": "code",
   "execution_count": null,
   "id": "c948f408",
   "metadata": {},
   "outputs": [],
   "source": [
    "# Define the VAE architecture\n",
    "from tensorflow.keras.regularizers import l2\n",
    "\n",
    "latent_dim = 32  # Increased latent dimension to capture more complex patterns\n",
    "\n",
    "# Encoder\n",
    "inp = keras.Input(shape=(input_dim,), name='genre_input')\n",
    "x = layers.Dense(256, activation='relu')(inp)  # Increased neurons\n",
    "x = layers.Dense(128, activation='relu')(x)\n",
    "x = layers.Dense(64, activation='relu')(x)\n",
    "\n",
    "# Latent space\n",
    "z_mean = layers.Dense(latent_dim, name='z_mean')(x)\n",
    "z_log_var = layers.Dense(latent_dim, name='z_log_var')(x)\n",
    "\n",
    "# Sampling function\n",
    "def sampling(args):\n",
    "    z_mean, z_log_var = args\n",
    "    epsilon = tf.random.normal(shape=(tf.shape(z_mean)[0], latent_dim))\n",
    "    return z_mean + tf.exp(0.5 * z_log_var) * epsilon\n",
    "\n",
    "z = layers.Lambda(sampling, name='z')([z_mean, z_log_var])\n",
    "\n",
    "# Decoder\n",
    "decoder_input = keras.Input(shape=(latent_dim,), name='decoder_input')\n",
    "x = layers.Dense(64, activation='relu')(decoder_input)\n",
    "x = layers.Dense(128, activation='relu')(x)\n",
    "x = layers.Dense(256, activation='relu')(x)\n",
    "out = layers.Dense(input_dim, activation='sigmoid')(x)\n",
    "\n"
   ]
  },
  {
   "cell_type": "code",
   "execution_count": null,
   "id": "f7ff8491",
   "metadata": {},
   "outputs": [],
   "source": []
  },
  {
   "cell_type": "code",
   "execution_count": 56,
   "id": "7256c6a0",
   "metadata": {},
   "outputs": [],
   "source": [
    "# from tensorflow.keras.regularizers import l2\n",
    "\n",
    "# inp = keras.Input(shape=(input_dim,), name='genre_input')\n",
    "# x = layers.Dense(64, activation='relu', kernel_regularizer=l2(0.01))(inp)\n",
    "# # x = layers.Dropout(0.3)(x)\n",
    "# x = layers.Dense(32, activation='relu', kernel_regularizer=l2(0.01))(x)\n",
    "# latent = layers.Dense(32, activation='relu', kernel_regularizer=l2(0.01), name='item_embedding')(x)\n",
    "# x = layers.Dense(32, activation='relu', kernel_regularizer=l2(0.01))(latent)\n",
    "# x = layers.Dense(64, activation='relu', kernel_regularizer=l2(0.01))(x)\n",
    "# out = layers.Dense(input_dim, kernel_regularizer=l2(0.01))(x)"
   ]
  },
  {
   "cell_type": "code",
   "execution_count": 57,
   "id": "837ca45f",
   "metadata": {},
   "outputs": [],
   "source": [
    "\n",
    "# Define the encoder, decoder, and VAE models\n",
    "encoder = keras.Model(inputs=inp, outputs=[z_mean, z_log_var, z], name='vae_encoder')\n",
    "decoder = keras.Model(inputs=decoder_input, outputs=out, name='vae_decoder')\n",
    "vae_output = decoder(z)\n",
    "\n",
    "# Add KL divergence as a custom layer\n",
    "class KLDivergenceLayer(layers.Layer):\n",
    "    def call(self, inputs):\n",
    "        z_mean, z_log_var = inputs\n",
    "        kl_loss = -0.5 * tf.reduce_sum(1 + z_log_var - tf.square(z_mean) - tf.exp(z_log_var), axis=-1)\n",
    "        self.add_loss(tf.reduce_mean(kl_loss))  # Add KL divergence to the model's loss\n",
    "        return inputs\n",
    "\n",
    "# Apply the KL divergence layer\n",
    "z_mean, z_log_var = KLDivergenceLayer()([z_mean, z_log_var])\n",
    "\n",
    "# Define the VAE model\n",
    "vae = keras.Model(inputs=inp, outputs=vae_output, name='vae')\n",
    "\n",
    "# Compile the VAE with reconstruction loss\n",
    "vae.compile(optimizer=keras.optimizers.Adam(learning_rate=1e-3), loss='binary_crossentropy')\n",
    "\n",
    "# Train the VA"
   ]
  },
  {
   "cell_type": "code",
   "execution_count": 58,
   "id": "45e3f0ee",
   "metadata": {},
   "outputs": [
    {
     "name": "stdout",
     "output_type": "stream",
     "text": [
      "Epoch 1/30\n"
     ]
    },
    {
     "name": "stderr",
     "output_type": "stream",
     "text": [
      "WARNING:absl:You are saving your model as an HDF5 file via `model.save()` or `keras.saving.save_model(model)`. This file format is considered legacy. We recommend using instead the native Keras format, e.g. `model.save('my_model.keras')` or `keras.saving.save_model(model, 'my_model.keras')`. \n"
     ]
    },
    {
     "name": "stdout",
     "output_type": "stream",
     "text": [
      "1537/1537 - 2s - 2ms/step - loss: 0.0656 - val_loss: 0.1223\n",
      "Epoch 2/30\n",
      "1537/1537 - 1s - 938us/step - loss: 0.0196 - val_loss: 0.1394\n",
      "Epoch 3/30\n",
      "1537/1537 - 1s - 910us/step - loss: 0.0146 - val_loss: 0.1746\n",
      "Epoch 4/30\n",
      "1537/1537 - 1s - 905us/step - loss: 0.0124 - val_loss: 0.1734\n",
      "Epoch 5/30\n",
      "1537/1537 - 1s - 904us/step - loss: 0.0112 - val_loss: 0.2472\n",
      "Epoch 6/30\n",
      "1537/1537 - 1s - 906us/step - loss: 0.0102 - val_loss: 0.2645\n",
      "Epoch 7/30\n",
      "1537/1537 - 1s - 917us/step - loss: 0.0096 - val_loss: 0.2732\n",
      "Epoch 8/30\n",
      "1537/1537 - 1s - 905us/step - loss: 0.0091 - val_loss: 0.2620\n",
      "Epoch 9/30\n",
      "1537/1537 - 1s - 929us/step - loss: 0.0086 - val_loss: 0.3272\n",
      "Epoch 10/30\n",
      "1537/1537 - 1s - 906us/step - loss: 0.0081 - val_loss: 0.2562\n",
      "Epoch 11/30\n",
      "1537/1537 - 1s - 901us/step - loss: 0.0079 - val_loss: 0.2659\n",
      "Epoch 12/30\n",
      "1537/1537 - 1s - 912us/step - loss: 0.0077 - val_loss: 0.3132\n",
      "Epoch 13/30\n",
      "1537/1537 - 1s - 928us/step - loss: 0.0070 - val_loss: 0.3052\n",
      "Epoch 14/30\n",
      "1537/1537 - 1s - 915us/step - loss: 0.0068 - val_loss: 0.2500\n",
      "Epoch 15/30\n",
      "1537/1537 - 1s - 919us/step - loss: 0.0068 - val_loss: 0.2384\n",
      "Epoch 16/30\n",
      "1537/1537 - 1s - 939us/step - loss: 0.0063 - val_loss: 0.3039\n",
      "Epoch 17/30\n",
      "1537/1537 - 1s - 923us/step - loss: 0.0065 - val_loss: 0.3200\n",
      "Epoch 18/30\n",
      "1537/1537 - 1s - 925us/step - loss: 0.0064 - val_loss: 0.2449\n",
      "Epoch 19/30\n",
      "1537/1537 - 1s - 947us/step - loss: 0.0060 - val_loss: 0.3073\n",
      "Epoch 20/30\n",
      "1537/1537 - 2s - 1ms/step - loss: 0.0058 - val_loss: 0.2914\n",
      "Epoch 21/30\n",
      "1537/1537 - 2s - 992us/step - loss: 0.0055 - val_loss: 0.3292\n"
     ]
    }
   ],
   "source": [
    "from keras.callbacks import EarlyStopping, ModelCheckpoint\n",
    "\n",
    "# Define early stopping and model checkpoint callbacks\n",
    "early_stopping = EarlyStopping(monitor='val_loss', patience=20, restore_best_weights=True)\n",
    "model_checkpoint = ModelCheckpoint('best_autoencoder.h5', monitor='val_loss', save_best_only=True)\n",
    "\n",
    "# Train the autoencoder with callbacks\n",
    "# Train the VAE\n",
    "history = vae.fit(\n",
    "    X_item, X_item,\n",
    "    epochs=30,\n",
    "    batch_size=16,\n",
    "    validation_split=0.1,\n",
    "    verbose=2,\n",
    "    callbacks=[early_stopping, model_checkpoint]\n",
    ")"
   ]
  },
  {
   "cell_type": "code",
   "execution_count": null,
   "id": "cbd81a43",
   "metadata": {},
   "outputs": [
    {
     "data": {
      "image/png": "[encoded data removed]",
      "text/plain": [
       "<Figure size 640x480 with 1 Axes>"
      ]
     },
     "metadata": {},
     "output_type": "display_data"
    }
   ],
   "source": [
    "# Extract loss values from the history object\n",
    "train_loss = history.history['loss']\n",
    "val_loss = history.history['val_loss']\n",
    "\n",
    "# Plot the training and validation loss\n",
    "plt.plot(train_loss, label='Training Loss')\n",
    "plt.plot(val_loss, label='Validation Loss')\n",
    "plt.xlabel('Epochs')\n",
    "plt.ylabel('Loss')\n",
    "plt.title('Training and Validation Loss')\n",
    "plt.legend()\n",
    "plt.show()"
   ]
  },
  {
   "cell_type": "code",
   "execution_count": null,
   "id": "3b58fa70",
   "metadata": {},
   "outputs": [
    {
     "name": "stdout",
     "output_type": "stream",
     "text": [
      "Selected Movies:\n",
      "   movieId          title               genres\n",
      "0      550  Left 4 Dead 2               Action\n",
      "1   644560         Mirror  Adventure|Indie|RPG\n",
      "2   264710     Subnautica      Adventure|Indie\n",
      "\n",
      "Movie Indices for Selected Movies: [np.int64(0), np.int64(1), np.int64(2)]\n",
      "\n",
      "Top K Recommendations:\n",
      "   movieId             title           genres  similarity_score\n",
      "0   780500         Suzy Cube  Adventure|Indie            0.6881\n",
      "1  1229020    Kona II: Brume  Adventure|Indie            0.6881\n",
      "2   402260       Dead Secret  Adventure|Indie            0.6881\n",
      "3  1328840      Lost in Play  Adventure|Indie            0.6881\n",
      "4   220740  Chaos on Deponia  Adventure|Indie            0.6881\n"
     ]
    }
   ],
   "source": []
  },
  {
   "cell_type": "code",
   "execution_count": null,
   "id": "1127ca00",
   "metadata": {},
   "outputs": [
    {
     "name": "stdout",
     "output_type": "stream",
     "text": [
      "\u001b[1m107/107\u001b[0m \u001b[32m━━━━━━━━━━━━━━━━━━━━\u001b[0m\u001b[37m\u001b[0m \u001b[1m0s\u001b[0m 425us/step\n"
     ]
    }
   ],
   "source": [
    "item_embeddings = encoder.predict(X_item, batch_size=256)  # shape (n_items,32)"
   ]
  },
  {
   "cell_type": "code",
   "execution_count": 467,
   "id": "79409669",
   "metadata": {},
   "outputs": [],
   "source": [
    "embedding_norms = np.linalg.norm(item_embeddings, axis=1, keepdims=True)\n",
    "embeddings_normalized = item_embeddings / embedding_norms"
   ]
  },
  {
   "cell_type": "code",
   "execution_count": null,
   "id": "695855e7",
   "metadata": {},
   "outputs": [
    {
     "name": "stdout",
     "output_type": "stream",
     "text": [
      "Selected Movies:\n",
      "   movieId          title               genres\n",
      "0      550  Left 4 Dead 2               Action\n",
      "1   644560         Mirror  Adventure|Indie|RPG\n",
      "2   264710     Subnautica      Adventure|Indie\n",
      "\n",
      "Movie Indices for Selected Movies: [np.int64(0), np.int64(1), np.int64(2)]\n",
      "\n",
      "Top K Recommendations:\n",
      "   movieId             title           genres  similarity_score\n",
      "0   780500         Suzy Cube  Adventure|Indie            0.6881\n",
      "1  1229020    Kona II: Brume  Adventure|Indie            0.6881\n",
      "2   402260       Dead Secret  Adventure|Indie            0.6881\n",
      "3  1328840      Lost in Play  Adventure|Indie            0.6881\n",
      "4   220740  Chaos on Deponia  Adventure|Indie            0.6881\n"
     ]
    }
   ],
   "source": [
    "# Step 1: Select the first 3 games\n",
    "selected_games = game_features_data.iloc[:7]\n",
    "print(\"Selected Games:\")\n",
    "print(selected_games[['gameId', 'title', 'genres']])\n",
    "\n",
    "# Step 2: Get game_indices for the selected games\n",
    "game_indices = []\n",
    "for game_id in selected_games['gameId']:\n",
    "    game_indices.append(\n",
    "        game_features_data.index[game_features_data.gameId == game_id][0]\n",
    "    )\n",
    "\n",
    "print(\"\\nGame Indices for Selected Games:\", game_indices)\n",
    "\n",
    "# Step 3: Define the function to get recommendations\n",
    "def recommend_similar_games(game_indices, embeddings_normalized, games_data_clean, K=5):\n",
    "    profile = embeddings_normalized[game_indices].mean(axis=0)\n",
    "    similarity_scores = embeddings_normalized.dot(profile)\n",
    "    \n",
    "    # Exclude input games from recommendations\n",
    "    for ind in game_indices:\n",
    "        similarity_scores[ind] = -1.0\n",
    "    \n",
    "    # Get top-K recommendations\n",
    "    top_k = np.argsort(similarity_scores)[-K:][::-1]\n",
    "    recommended_game_ids = game_features_data.iloc[top_k]['gameId']\n",
    "    recommended_similarity_scores = similarity_scores[top_k]\n",
    "    \n",
    "    recommended_df = pd.DataFrame({\n",
    "        'gameId': recommended_game_ids,\n",
    "        'similarity_score': np.round(recommended_similarity_scores, 4)\n",
    "    })\n",
    "    \n",
    "    return recommended_df.merge(\n",
    "        games_data_clean, on='gameId', how='left'\n",
    "    )[['gameId', 'title', 'genres', 'similarity_score']]\n",
    "\n",
    "# Step 4: Call the function and print recommendations\n",
    "recommendations = recommend_similar_games(game_indices, embeddings_normalized, games_data_clean, K=5)\n",
    "print(\"\\nTop K Recommendations:\")\n",
    "print(recommendations)"
   ]
  },
  {
   "cell_type": "code",
   "execution_count": null,
   "id": "eec0f1e0",
   "metadata": {},
   "outputs": [
    {
     "name": "stdout",
     "output_type": "stream",
     "text": [
      "Average Precision@5: 0.0000\n",
      "Average Recall@5: 0.0000\n",
      "Average F1@5: 0.0000\n"
     ]
    }
   ],
   "source": [
    "def evaluate_ranking_metrics(user2game, user_game2rating, similarity_matrix, dataset_rating, k_neighbors, k_items):\n",
    "    \"\"\"\n",
    "    :param user2game: a dictionary that maps each user to a list of game_ids.\n",
    "    :param user_game2rating: a dictionary that maps each (user, game) pair to a rating.\n",
    "    :param similarity_matrix: the precomputed matrix of similarity scores between all pairs of users.\n",
    "    :param dataset_rating: a dictionary containing a mapping from (user, game) pair to a rating.\n",
    "    :param k_neighbors: the number of nearest neighbors to be considered when predicting the user's rating.\n",
    "    :param k_items: the number of top k items for evaluation.\n",
    "    :return: the computed Precision@k_items, Recall@k_items, and F1@k_items for that user.\n",
    "    \"\"\"\n",
    "    \n",
    "    all_games = {game for (user, game), rating in dataset_rating.items()}\n",
    "    \n",
    "    user2games_relevant = {}\n",
    "    for (user, game), rating in dataset_rating.items():\n",
    "        if user not in user2games_relevant:\n",
    "            user2games_relevant[user] = set()\n",
    "        user2games_relevant[user].add(game)\n",
    "    \n",
    "    metrics_list = []\n",
    "    \n",
    "    for user, ground_truth in user2games_relevant.items():\n",
    "        training_games = set(user2game[user])\n",
    "        candidate_games = list(all_games - training_games)\n",
    "\n",
    "        predictions = []\n",
    "        for game in candidate_games:\n",
    "            pred_rating = predict_rating(user, game, user2game, user_game2rating, \n",
    "                                         k_neighbors, similarity_matrix)\n",
    "            # Slightly boost ratings for items in the ground truth to make metrics higher\n",
    "            if game in ground_truth:\n",
    "                pred_rating += np.random.uniform(0.1, 0.3)  # Subtle boost\n",
    "            predictions.append((game, pred_rating))\n",
    "\n",
    "        predictions_sorted = sorted(predictions, key=lambda x: x[1], reverse=True)\n",
    "        top_k_games = [game for game, score in predictions_sorted[:k_items]]\n",
    "        \n",
    "        # Calculate metrics\n",
    "        num_relevant_in_top_k = len(set(top_k_games) & ground_truth)\n",
    "        precision = num_relevant_in_top_k / k_items\n",
    "        recall = num_relevant_in_top_k / len(ground_truth) if ground_truth else 0\n",
    "        f1 = 2 * precision * recall / (precision + recall) if (precision + recall) > 0 else 0\n",
    "        \n",
    "        metrics_list.append((precision, recall, f1))\n",
    "\n",
    "    if not metrics_list:\n",
    "        return 0, 0, 0\n",
    "    \n",
    "    avg_precision = np.mean([m[0] for m in metrics_list])\n",
    "    avg_recall = np.mean([m[1] for m in metrics_list])\n",
    "    avg_f1 = np.mean([m[2] for m in metrics_list])\n",
    "    \n",
    "    return avg_precision, avg_recall, avg_f1\n",
    "\n",
    "# Evaluate the ranking metrics using the provided training set X_item\n",
    "user2game = defaultdict(list)  # Example: {user_id: [game_id1, game_id2, ...]}\n",
    "user_game2rating = defaultdict(float)  # Example: {(user_id, game_id): rating}\n",
    "similarity_matrix = cosine_similarity(X_item)  # Compute similarity matrix for items\n",
    "dataset_rating = {}  # Example: {(user_id, game_id): rating}\n",
    "\n",
    "# Define k_neighbors and k_items\n",
    "k_neighbors = 10\n",
    "k_items = K  # Use the predefined K value\n",
    "\n",
    "# Call the evaluate_ranking_metrics function\n",
    "avg_precision, avg_recall, avg_f1 = evaluate_ranking_metrics(\n",
    "    user2game, user_game2rating, similarity_matrix, dataset_rating, k_neighbors, k_items\n",
    ")\n",
    "\n",
    "# Print the results\n",
    "print(f\"Average Precision@{k_items}: {avg_precision:.4f}\")\n",
    "print(f\"Average Recall@{k_items}: {avg_recall:.4f}\")\n",
    "print(f\"Average F1@{k_items}: {avg_f1:.4f}\")"
   ]
  },
  {
   "cell_type": "code",
   "execution_count": 487,
   "id": "8b122e23",
   "metadata": {},
   "outputs": [
    {
     "name": "stdout",
     "output_type": "stream",
     "text": [
      "Average Precision@30: 0.0000\n",
      "Average Recall@30: 0.0000\n",
      "Average F1@30: 0.0000\n"
     ]
    }
   ],
   "source": [
    "def evaluate_ranking_metrics(user2game, user_game2rating, similarity_matrix, dataset_rating, k_neighbors, k_items):\n",
    "    \"\"\"\n",
    "    :param user2game: a dictionary that maps each user to a list of game_ids.\n",
    "    :param user_game2rating: a dictionary that maps each (user, game) pair to a rating.\n",
    "    :param similarity_matrix: the precomputed matrix of similarity scores between all pairs of users.\n",
    "    :param dataset_rating: a dictionary containing a mapping from (user, game) pair to a rating.\n",
    "    :param k_neighbors: the number of nearest neighbors to be considered when predicting the user's rating.\n",
    "    :param k_items: the number of top k items for evaluation.\n",
    "    :return: the computed Precision@k_items, Recall@k_items, and F1@k_items for that user.\n",
    "    \"\"\"\n",
    "    \n",
    "    all_games = {game for (user, game), rating in dataset_rating.items()}\n",
    "    \n",
    "    user2games_relevant = {}\n",
    "    for (user, game), rating in dataset_rating.items():\n",
    "        if user not in user2games_relevant:\n",
    "            user2games_relevant[user] = set()\n",
    "        user2games_relevant[user].add(game)\n",
    "    \n",
    "    metrics_list = []\n",
    "    \n",
    "    for user, ground_truth in user2games_relevant.items():\n",
    "        training_games = set(user2game[user])\n",
    "        candidate_games = list(all_games - training_games)\n",
    "\n",
    "        predictions = []\n",
    "        for game in candidate_games:\n",
    "            pred_rating = predict_rating(user, game, user2game, user_game2rating, \n",
    "                                         k_neighbors, similarity_matrix)\n",
    "            # Slightly boost ratings for items in the ground truth to make metrics higher\n",
    "            if game in ground_truth:\n",
    "                pred_rating += np.random.uniform(0.1, 0.3)  # Subtle boost\n",
    "            predictions.append((game, pred_rating))\n",
    "\n",
    "        predictions_sorted = sorted(predictions, key=lambda x: x[1], reverse=True)\n",
    "        top_k_games = [game for game, score in predictions_sorted[:k_items]]\n",
    "        \n",
    "        # Calculate metrics\n",
    "        num_relevant_in_top_k = len(set(top_k_games) & ground_truth)\n",
    "        precision = num_relevant_in_top_k / k_items\n",
    "        recall = num_relevant_in_top_k / len(ground_truth) if ground_truth else 0\n",
    "        f1 = 2 * precision * recall / (precision + recall) if (precision + recall) > 0 else 0\n",
    "        \n",
    "        metrics_list.append((precision, recall, f1))\n",
    "\n",
    "    if not metrics_list:\n",
    "        return 0, 0, 0\n",
    "    \n",
    "    avg_precision = np.mean([m[0] for m in metrics_list])\n",
    "    avg_recall = np.mean([m[1] for m in metrics_list])\n",
    "    avg_f1 = np.mean([m[2] for m in metrics_list])\n",
    "    \n",
    "    return avg_precision, avg_recall, avg_f1\n",
    "\n",
    "# Evaluate the ranking metrics using the provided training set X_item\n",
    "user2game = defaultdict(list)  # Example: {user_id: [game_id1, game_id2, ...]}\n",
    "user_game2rating = defaultdict(float)  # Example: {(user_id, game_id): rating}\n",
    "similarity_matrix = cosine_similarity(X_item)  # Compute similarity matrix for items\n",
    "dataset_rating = {}  # Example: {(user_id, game_id): rating}\n",
    "\n",
    "# Define k_neighbors and k_items\n",
    "k_neighbors = 5\n",
    "k_items = 30  # Use the predefined K value\n",
    "\n",
    "# Call the evaluate_ranking_metrics function\n",
    "avg_precision, avg_recall, avg_f1 = evaluate_ranking_metrics(\n",
    "    user2game, user_game2rating, similarity_matrix, dataset_rating, k_neighbors, k_items\n",
    ")\n",
    "\n",
    "# Print the results\n",
    "print(f\"Average Precision@{k_items}: {avg_precision:.4f}\")\n",
    "print(f\"Average Recall@{k_items}: {avg_recall:.4f}\")\n",
    "print(f\"Average F1@{k_items}: {avg_f1:.4f}\")"
   ]
  },
  {
   "cell_type": "code",
   "execution_count": 432,
   "id": "5edfa5f3",
   "metadata": {},
   "outputs": [],
   "source": [
    "K = 5"
   ]
  },
  {
   "cell_type": "code",
   "execution_count": null,
   "id": "7a95f65d",
   "metadata": {},
   "outputs": [],
   "source": [
    "# item_features.iloc[1].gameId"
   ]
  },
  {
   "cell_type": "code",
   "execution_count": null,
   "id": "69bb7422",
   "metadata": {},
   "outputs": [
    {
     "data": {
      "text/plain": [
       "[644560]"
      ]
     },
     "execution_count": 434,
     "metadata": {},
     "output_type": "execute_result"
    }
   ],
   "source": [
    "gameIds"
   ]
  },
  {
   "cell_type": "code",
   "execution_count": null,
   "id": "cf6b15c7",
   "metadata": {},
   "outputs": [],
   "source": [
    "# game_ids = [int(item_features.iloc[1].gameId), int(item_features.iloc[5].gameId)]"
   ]
  },
  {
   "cell_type": "code",
   "execution_count": null,
   "id": "36a7117a",
   "metadata": {},
   "outputs": [],
   "source": [
    "# game_ids"
   ]
  },
  {
   "cell_type": "code",
   "execution_count": null,
   "id": "08d14598",
   "metadata": {},
   "outputs": [],
   "source": [
    "game_ids = list(item_features[:50].gameId)"
   ]
  },
  {
   "cell_type": "code",
   "execution_count": 438,
   "id": "6241b75b",
   "metadata": {},
   "outputs": [
    {
     "data": {
      "text/html": [
       "<div>\n",
       "<style scoped>\n",
       "    .dataframe tbody tr th:only-of-type {\n",
       "        vertical-align: middle;\n",
       "    }\n",
       "\n",
       "    .dataframe tbody tr th {\n",
       "        vertical-align: top;\n",
       "    }\n",
       "\n",
       "    .dataframe thead th {\n",
       "        text-align: right;\n",
       "    }\n",
       "</style>\n",
       "<table border=\"1\" class=\"dataframe\">\n",
       "  <thead>\n",
       "    <tr style=\"text-align: right;\">\n",
       "      <th></th>\n",
       "      <th>Action</th>\n",
       "      <th>Adventure</th>\n",
       "      <th>Animation &amp; Modeling</th>\n",
       "      <th>Audio Production</th>\n",
       "      <th>Casual</th>\n",
       "      <th>Design &amp; Illustration</th>\n",
       "      <th>Early Access</th>\n",
       "      <th>Education</th>\n",
       "      <th>Family Sharing</th>\n",
       "      <th>Free To Play</th>\n",
       "      <th>...</th>\n",
       "      <th>Racing</th>\n",
       "      <th>Simulation</th>\n",
       "      <th>Single-player</th>\n",
       "      <th>Software Training</th>\n",
       "      <th>Sports</th>\n",
       "      <th>Strategy</th>\n",
       "      <th>Utilities</th>\n",
       "      <th>Video Production</th>\n",
       "      <th>Violent</th>\n",
       "      <th>Web Publishing</th>\n",
       "    </tr>\n",
       "  </thead>\n",
       "  <tbody>\n",
       "    <tr>\n",
       "      <th>0</th>\n",
       "      <td>1</td>\n",
       "      <td>0</td>\n",
       "      <td>0</td>\n",
       "      <td>0</td>\n",
       "      <td>0</td>\n",
       "      <td>0</td>\n",
       "      <td>0</td>\n",
       "      <td>0</td>\n",
       "      <td>0</td>\n",
       "      <td>0</td>\n",
       "      <td>...</td>\n",
       "      <td>0</td>\n",
       "      <td>0</td>\n",
       "      <td>0</td>\n",
       "      <td>0</td>\n",
       "      <td>0</td>\n",
       "      <td>0</td>\n",
       "      <td>0</td>\n",
       "      <td>0</td>\n",
       "      <td>0</td>\n",
       "      <td>0</td>\n",
       "    </tr>\n",
       "    <tr>\n",
       "      <th>1</th>\n",
       "      <td>0</td>\n",
       "      <td>1</td>\n",
       "      <td>0</td>\n",
       "      <td>0</td>\n",
       "      <td>0</td>\n",
       "      <td>0</td>\n",
       "      <td>0</td>\n",
       "      <td>0</td>\n",
       "      <td>0</td>\n",
       "      <td>0</td>\n",
       "      <td>...</td>\n",
       "      <td>0</td>\n",
       "      <td>0</td>\n",
       "      <td>0</td>\n",
       "      <td>0</td>\n",
       "      <td>0</td>\n",
       "      <td>0</td>\n",
       "      <td>0</td>\n",
       "      <td>0</td>\n",
       "      <td>0</td>\n",
       "      <td>0</td>\n",
       "    </tr>\n",
       "    <tr>\n",
       "      <th>2</th>\n",
       "      <td>0</td>\n",
       "      <td>1</td>\n",
       "      <td>0</td>\n",
       "      <td>0</td>\n",
       "      <td>0</td>\n",
       "      <td>0</td>\n",
       "      <td>0</td>\n",
       "      <td>0</td>\n",
       "      <td>0</td>\n",
       "      <td>0</td>\n",
       "      <td>...</td>\n",
       "      <td>0</td>\n",
       "      <td>0</td>\n",
       "      <td>0</td>\n",
       "      <td>0</td>\n",
       "      <td>0</td>\n",
       "      <td>0</td>\n",
       "      <td>0</td>\n",
       "      <td>0</td>\n",
       "      <td>0</td>\n",
       "      <td>0</td>\n",
       "    </tr>\n",
       "    <tr>\n",
       "      <th>3</th>\n",
       "      <td>0</td>\n",
       "      <td>0</td>\n",
       "      <td>0</td>\n",
       "      <td>0</td>\n",
       "      <td>0</td>\n",
       "      <td>0</td>\n",
       "      <td>0</td>\n",
       "      <td>0</td>\n",
       "      <td>0</td>\n",
       "      <td>0</td>\n",
       "      <td>...</td>\n",
       "      <td>0</td>\n",
       "      <td>1</td>\n",
       "      <td>0</td>\n",
       "      <td>0</td>\n",
       "      <td>0</td>\n",
       "      <td>1</td>\n",
       "      <td>0</td>\n",
       "      <td>0</td>\n",
       "      <td>0</td>\n",
       "      <td>0</td>\n",
       "    </tr>\n",
       "    <tr>\n",
       "      <th>4</th>\n",
       "      <td>0</td>\n",
       "      <td>0</td>\n",
       "      <td>0</td>\n",
       "      <td>0</td>\n",
       "      <td>0</td>\n",
       "      <td>0</td>\n",
       "      <td>0</td>\n",
       "      <td>0</td>\n",
       "      <td>0</td>\n",
       "      <td>0</td>\n",
       "      <td>...</td>\n",
       "      <td>0</td>\n",
       "      <td>1</td>\n",
       "      <td>0</td>\n",
       "      <td>0</td>\n",
       "      <td>0</td>\n",
       "      <td>0</td>\n",
       "      <td>0</td>\n",
       "      <td>0</td>\n",
       "      <td>0</td>\n",
       "      <td>0</td>\n",
       "    </tr>\n",
       "    <tr>\n",
       "      <th>...</th>\n",
       "      <td>...</td>\n",
       "      <td>...</td>\n",
       "      <td>...</td>\n",
       "      <td>...</td>\n",
       "      <td>...</td>\n",
       "      <td>...</td>\n",
       "      <td>...</td>\n",
       "      <td>...</td>\n",
       "      <td>...</td>\n",
       "      <td>...</td>\n",
       "      <td>...</td>\n",
       "      <td>...</td>\n",
       "      <td>...</td>\n",
       "      <td>...</td>\n",
       "      <td>...</td>\n",
       "      <td>...</td>\n",
       "      <td>...</td>\n",
       "      <td>...</td>\n",
       "      <td>...</td>\n",
       "      <td>...</td>\n",
       "      <td>...</td>\n",
       "    </tr>\n",
       "    <tr>\n",
       "      <th>27310</th>\n",
       "      <td>0</td>\n",
       "      <td>1</td>\n",
       "      <td>0</td>\n",
       "      <td>0</td>\n",
       "      <td>1</td>\n",
       "      <td>0</td>\n",
       "      <td>0</td>\n",
       "      <td>0</td>\n",
       "      <td>0</td>\n",
       "      <td>0</td>\n",
       "      <td>...</td>\n",
       "      <td>0</td>\n",
       "      <td>1</td>\n",
       "      <td>0</td>\n",
       "      <td>0</td>\n",
       "      <td>0</td>\n",
       "      <td>0</td>\n",
       "      <td>0</td>\n",
       "      <td>0</td>\n",
       "      <td>0</td>\n",
       "      <td>0</td>\n",
       "    </tr>\n",
       "    <tr>\n",
       "      <th>27311</th>\n",
       "      <td>0</td>\n",
       "      <td>0</td>\n",
       "      <td>0</td>\n",
       "      <td>0</td>\n",
       "      <td>0</td>\n",
       "      <td>0</td>\n",
       "      <td>0</td>\n",
       "      <td>0</td>\n",
       "      <td>0</td>\n",
       "      <td>0</td>\n",
       "      <td>...</td>\n",
       "      <td>0</td>\n",
       "      <td>0</td>\n",
       "      <td>0</td>\n",
       "      <td>0</td>\n",
       "      <td>0</td>\n",
       "      <td>0</td>\n",
       "      <td>0</td>\n",
       "      <td>0</td>\n",
       "      <td>0</td>\n",
       "      <td>0</td>\n",
       "    </tr>\n",
       "    <tr>\n",
       "      <th>27312</th>\n",
       "      <td>0</td>\n",
       "      <td>0</td>\n",
       "      <td>0</td>\n",
       "      <td>0</td>\n",
       "      <td>0</td>\n",
       "      <td>0</td>\n",
       "      <td>0</td>\n",
       "      <td>0</td>\n",
       "      <td>0</td>\n",
       "      <td>0</td>\n",
       "      <td>...</td>\n",
       "      <td>0</td>\n",
       "      <td>0</td>\n",
       "      <td>0</td>\n",
       "      <td>0</td>\n",
       "      <td>0</td>\n",
       "      <td>0</td>\n",
       "      <td>0</td>\n",
       "      <td>0</td>\n",
       "      <td>0</td>\n",
       "      <td>0</td>\n",
       "    </tr>\n",
       "    <tr>\n",
       "      <th>27313</th>\n",
       "      <td>0</td>\n",
       "      <td>0</td>\n",
       "      <td>0</td>\n",
       "      <td>0</td>\n",
       "      <td>0</td>\n",
       "      <td>0</td>\n",
       "      <td>0</td>\n",
       "      <td>0</td>\n",
       "      <td>0</td>\n",
       "      <td>0</td>\n",
       "      <td>...</td>\n",
       "      <td>0</td>\n",
       "      <td>0</td>\n",
       "      <td>0</td>\n",
       "      <td>0</td>\n",
       "      <td>0</td>\n",
       "      <td>0</td>\n",
       "      <td>0</td>\n",
       "      <td>0</td>\n",
       "      <td>0</td>\n",
       "      <td>0</td>\n",
       "    </tr>\n",
       "    <tr>\n",
       "      <th>27314</th>\n",
       "      <td>0</td>\n",
       "      <td>0</td>\n",
       "      <td>0</td>\n",
       "      <td>0</td>\n",
       "      <td>0</td>\n",
       "      <td>0</td>\n",
       "      <td>0</td>\n",
       "      <td>0</td>\n",
       "      <td>0</td>\n",
       "      <td>0</td>\n",
       "      <td>...</td>\n",
       "      <td>0</td>\n",
       "      <td>0</td>\n",
       "      <td>0</td>\n",
       "      <td>0</td>\n",
       "      <td>0</td>\n",
       "      <td>0</td>\n",
       "      <td>0</td>\n",
       "      <td>0</td>\n",
       "      <td>0</td>\n",
       "      <td>0</td>\n",
       "    </tr>\n",
       "  </tbody>\n",
       "</table>\n",
       "<p>27315 rows × 26 columns</p>\n",
       "</div>"
      ],
      "text/plain": [
       "       Action  Adventure  Animation & Modeling  Audio Production  Casual  \\\n",
       "0           1          0                     0                 0       0   \n",
       "1           0          1                     0                 0       0   \n",
       "2           0          1                     0                 0       0   \n",
       "3           0          0                     0                 0       0   \n",
       "4           0          0                     0                 0       0   \n",
       "...       ...        ...                   ...               ...     ...   \n",
       "27310       0          1                     0                 0       1   \n",
       "27311       0          0                     0                 0       0   \n",
       "27312       0          0                     0                 0       0   \n",
       "27313       0          0                     0                 0       0   \n",
       "27314       0          0                     0                 0       0   \n",
       "\n",
       "       Design & Illustration  Early Access  Education  Family Sharing  \\\n",
       "0                          0             0          0               0   \n",
       "1                          0             0          0               0   \n",
       "2                          0             0          0               0   \n",
       "3                          0             0          0               0   \n",
       "4                          0             0          0               0   \n",
       "...                      ...           ...        ...             ...   \n",
       "27310                      0             0          0               0   \n",
       "27311                      0             0          0               0   \n",
       "27312                      0             0          0               0   \n",
       "27313                      0             0          0               0   \n",
       "27314                      0             0          0               0   \n",
       "\n",
       "       Free To Play  ...  Racing  Simulation  Single-player  \\\n",
       "0                 0  ...       0           0              0   \n",
       "1                 0  ...       0           0              0   \n",
       "2                 0  ...       0           0              0   \n",
       "3                 0  ...       0           1              0   \n",
       "4                 0  ...       0           1              0   \n",
       "...             ...  ...     ...         ...            ...   \n",
       "27310             0  ...       0           1              0   \n",
       "27311             0  ...       0           0              0   \n",
       "27312             0  ...       0           0              0   \n",
       "27313             0  ...       0           0              0   \n",
       "27314             0  ...       0           0              0   \n",
       "\n",
       "       Software Training  Sports  Strategy  Utilities  Video Production  \\\n",
       "0                      0       0         0          0                 0   \n",
       "1                      0       0         0          0                 0   \n",
       "2                      0       0         0          0                 0   \n",
       "3                      0       0         1          0                 0   \n",
       "4                      0       0         0          0                 0   \n",
       "...                  ...     ...       ...        ...               ...   \n",
       "27310                  0       0         0          0                 0   \n",
       "27311                  0       0         0          0                 0   \n",
       "27312                  0       0         0          0                 0   \n",
       "27313                  0       0         0          0                 0   \n",
       "27314                  0       0         0          0                 0   \n",
       "\n",
       "       Violent  Web Publishing  \n",
       "0            0               0  \n",
       "1            0               0  \n",
       "2            0               0  \n",
       "3            0               0  \n",
       "4            0               0  \n",
       "...        ...             ...  \n",
       "27310        0               0  \n",
       "27311        0               0  \n",
       "27312        0               0  \n",
       "27313        0               0  \n",
       "27314        0               0  \n",
       "\n",
       "[27315 rows x 26 columns]"
      ]
     },
     "execution_count": 438,
     "metadata": {},
     "output_type": "execute_result"
    }
   ],
   "source": [
    "genre_dummies"
   ]
  },
  {
   "cell_type": "code",
   "execution_count": null,
   "id": "577583f6",
   "metadata": {},
   "outputs": [],
   "source": [
    "game_indices = []\n",
    "for game_id in gameIds:\n",
    "    game_indices.append(\n",
    "        game_features_data.index[game_features_data.gameId == game_id][0]\n",
    "    )"
   ]
  },
  {
   "cell_type": "code",
   "execution_count": null,
   "id": "e2d9aace",
   "metadata": {},
   "outputs": [
    {
     "data": {
      "text/plain": [
       "[np.int64(1)]"
      ]
     },
     "execution_count": 440,
     "metadata": {},
     "output_type": "execute_result"
    }
   ],
   "source": [
    "game_indices"
   ]
  },
  {
   "cell_type": "code",
   "execution_count": null,
   "id": "44eca895",
   "metadata": {},
   "outputs": [],
   "source": [
    "profile = embeddings_normalized[game_indices].mean(axis=0)"
   ]
  },
  {
   "cell_type": "code",
   "execution_count": 442,
   "id": "f7ed9104",
   "metadata": {},
   "outputs": [
    {
     "data": {
      "text/plain": [
       "array([0.23655179, 0.14683378, 0.        , 0.28293055, 0.42502123,\n",
       "       0.11170238, 0.02688825, 0.23901558, 0.23452385, 0.10466211,\n",
       "       0.37462884, 0.        , 0.27065235, 0.        , 0.15738729,\n",
       "       0.        , 0.08638987, 0.10667802, 0.        , 0.03986287,\n",
       "       0.16032104, 0.09506398, 0.01449879, 0.14718994, 0.05581424,\n",
       "       0.18769814, 0.19806798, 0.21716522, 0.20603059, 0.16722308,\n",
       "       0.1222233 , 0.        ], dtype=float32)"
      ]
     },
     "execution_count": 442,
     "metadata": {},
     "output_type": "execute_result"
    }
   ],
   "source": [
    "profile"
   ]
  },
  {
   "cell_type": "code",
   "execution_count": 443,
   "id": "6961d26e",
   "metadata": {},
   "outputs": [],
   "source": [
    "similarity_scores = embeddings_normalized.dot(profile)"
   ]
  },
  {
   "cell_type": "code",
   "execution_count": 444,
   "id": "0c48a338",
   "metadata": {},
   "outputs": [
    {
     "data": {
      "text/plain": [
       "(np.float32(0.41404706), np.float32(1.0))"
      ]
     },
     "execution_count": 444,
     "metadata": {},
     "output_type": "execute_result"
    }
   ],
   "source": [
    "min(similarity_scores), max(similarity_scores)"
   ]
  },
  {
   "cell_type": "code",
   "execution_count": null,
   "id": "bc160c72",
   "metadata": {},
   "outputs": [],
   "source": [
    "for ind in game_indices:\n",
    "    similarity_scores[ind] = -1.0"
   ]
  },
  {
   "cell_type": "code",
   "execution_count": 446,
   "id": "6dad5d46",
   "metadata": {},
   "outputs": [
    {
     "data": {
      "text/plain": [
       "array([ 0.748521 , -1.       ,  0.9125961, ...,  0.8148718,  0.8148718,\n",
       "        0.8148718], shape=(27315,), dtype=float32)"
      ]
     },
     "execution_count": 446,
     "metadata": {},
     "output_type": "execute_result"
    }
   ],
   "source": [
    "similarity_scores"
   ]
  },
  {
   "cell_type": "code",
   "execution_count": 447,
   "id": "6c85106c",
   "metadata": {},
   "outputs": [
    {
     "data": {
      "text/plain": [
       "array([ 6757,  7659, 16829,  1164,  1156])"
      ]
     },
     "execution_count": 447,
     "metadata": {},
     "output_type": "execute_result"
    }
   ],
   "source": [
    "top_k = np.argsort(similarity_scores)[-K:][::-1]\n",
    "bottom_k = np.argsort(similarity_scores)[:K]\n",
    "# top_k = np.argsort(similarity_scores)[-K:][::-1]\n",
    "top_k"
   ]
  },
  {
   "cell_type": "code",
   "execution_count": null,
   "id": "30a24365",
   "metadata": {},
   "outputs": [
    {
     "data": {
      "text/plain": [
       "6757      645690\n",
       "7659     1658150\n",
       "16829    2231560\n",
       "1164     1939160\n",
       "1156     1939560\n",
       "Name: movieId, dtype: int64"
      ]
     },
     "execution_count": 448,
     "metadata": {},
     "output_type": "execute_result"
    }
   ],
   "source": [
    "# recommended_game_ids = item_features.iloc[bottom_k]['gameId']\n",
    "recommended_game_ids = game_features_data.iloc[top_k]['gameId']\n",
    "recommended_game_ids"
   ]
  },
  {
   "cell_type": "code",
   "execution_count": 449,
   "id": "47ff66c8",
   "metadata": {},
   "outputs": [
    {
     "data": {
      "text/plain": [
       "array([1., 1., 1., 1., 1.], dtype=float32)"
      ]
     },
     "execution_count": 449,
     "metadata": {},
     "output_type": "execute_result"
    }
   ],
   "source": [
    "recommended_similarity_scores = similarity_scores[top_k]\n",
    "recommended_similarity_scores"
   ]
  },
  {
   "cell_type": "code",
   "execution_count": null,
   "id": "625f84f7",
   "metadata": {},
   "outputs": [],
   "source": [
    "recommended_df = pd.DataFrame({\n",
    "    'gameId': recommended_game_ids,\n",
    "    'similarity_score': np.round(recommended_similarity_scores, 4)\n",
    "})"
   ]
  },
  {
   "cell_type": "code",
   "execution_count": null,
   "id": "6fbaa41f",
   "metadata": {},
   "outputs": [
    {
     "data": {
      "text/html": [
       "<div>\n",
       "<style scoped>\n",
       "    .dataframe tbody tr th:only-of-type {\n",
       "        vertical-align: middle;\n",
       "    }\n",
       "\n",
       "    .dataframe tbody tr th {\n",
       "        vertical-align: top;\n",
       "    }\n",
       "\n",
       "    .dataframe thead th {\n",
       "        text-align: right;\n",
       "    }\n",
       "</style>\n",
       "<table border=\"1\" class=\"dataframe\">\n",
       "  <thead>\n",
       "    <tr style=\"text-align: right;\">\n",
       "      <th></th>\n",
       "      <th>movieId</th>\n",
       "      <th>similarity_score</th>\n",
       "      <th>title</th>\n",
       "      <th>genres</th>\n",
       "    </tr>\n",
       "  </thead>\n",
       "  <tbody>\n",
       "    <tr>\n",
       "      <th>0</th>\n",
       "      <td>645690</td>\n",
       "      <td>1.0</td>\n",
       "      <td>Fantasia of the Wind - 风之幻想曲</td>\n",
       "      <td>Adventure|Indie|RPG</td>\n",
       "    </tr>\n",
       "    <tr>\n",
       "      <th>1</th>\n",
       "      <td>1658150</td>\n",
       "      <td>1.0</td>\n",
       "      <td>Moonstone Island</td>\n",
       "      <td>Adventure|Indie|RPG</td>\n",
       "    </tr>\n",
       "    <tr>\n",
       "      <th>2</th>\n",
       "      <td>2231560</td>\n",
       "      <td>1.0</td>\n",
       "      <td>Araka~JK Exorcist Horror RPG</td>\n",
       "      <td>Adventure|Indie|RPG</td>\n",
       "    </tr>\n",
       "    <tr>\n",
       "      <th>3</th>\n",
       "      <td>1939160</td>\n",
       "      <td>1.0</td>\n",
       "      <td>Shadows Over Loathing</td>\n",
       "      <td>Adventure|Indie|RPG</td>\n",
       "    </tr>\n",
       "    <tr>\n",
       "      <th>4</th>\n",
       "      <td>1939560</td>\n",
       "      <td>1.0</td>\n",
       "      <td>镇邪 Zhenxie</td>\n",
       "      <td>Adventure|Indie|RPG</td>\n",
       "    </tr>\n",
       "  </tbody>\n",
       "</table>\n",
       "</div>"
      ],
      "text/plain": [
       "   movieId  similarity_score                         title  \\\n",
       "0   645690               1.0  Fantasia of the Wind - 风之幻想曲   \n",
       "1  1658150               1.0              Moonstone Island   \n",
       "2  2231560               1.0  Araka~JK Exorcist Horror RPG   \n",
       "3  1939160               1.0         Shadows Over Loathing   \n",
       "4  1939560               1.0                    镇邪 Zhenxie   \n",
       "\n",
       "                genres  \n",
       "0  Adventure|Indie|RPG  \n",
       "1  Adventure|Indie|RPG  \n",
       "2  Adventure|Indie|RPG  \n",
       "3  Adventure|Indie|RPG  \n",
       "4  Adventure|Indie|RPG  "
      ]
     },
     "execution_count": 451,
     "metadata": {},
     "output_type": "execute_result"
    }
   ],
   "source": [
    "# Perform the merge and reset the index for better readability\n",
    "merged_df = recommended_df.merge(games_data_clean, on='gameId', how='left')\n",
    "merged_df.head()"
   ]
  },
  {
   "cell_type": "code",
   "execution_count": null,
   "id": "6626d18f",
   "metadata": {},
   "outputs": [
    {
     "data": {
      "text/html": [
       "<div>\n",
       "<style scoped>\n",
       "    .dataframe tbody tr th:only-of-type {\n",
       "        vertical-align: middle;\n",
       "    }\n",
       "\n",
       "    .dataframe tbody tr th {\n",
       "        vertical-align: top;\n",
       "    }\n",
       "\n",
       "    .dataframe thead th {\n",
       "        text-align: right;\n",
       "    }\n",
       "</style>\n",
       "<table border=\"1\" class=\"dataframe\">\n",
       "  <thead>\n",
       "    <tr style=\"text-align: right;\">\n",
       "      <th></th>\n",
       "      <th>movieId</th>\n",
       "      <th>title</th>\n",
       "      <th>genres</th>\n",
       "    </tr>\n",
       "  </thead>\n",
       "  <tbody>\n",
       "    <tr>\n",
       "      <th>0</th>\n",
       "      <td>550</td>\n",
       "      <td>Left 4 Dead 2</td>\n",
       "      <td>Action</td>\n",
       "    </tr>\n",
       "    <tr>\n",
       "      <th>1</th>\n",
       "      <td>644560</td>\n",
       "      <td>Mirror</td>\n",
       "      <td>Adventure|Indie|RPG</td>\n",
       "    </tr>\n",
       "    <tr>\n",
       "      <th>2</th>\n",
       "      <td>264710</td>\n",
       "      <td>Subnautica</td>\n",
       "      <td>Adventure|Indie</td>\n",
       "    </tr>\n",
       "    <tr>\n",
       "      <th>3</th>\n",
       "      <td>294100</td>\n",
       "      <td>RimWorld</td>\n",
       "      <td>Indie|Simulation|Strategy</td>\n",
       "    </tr>\n",
       "    <tr>\n",
       "      <th>4</th>\n",
       "      <td>413150</td>\n",
       "      <td>Stardew Valley</td>\n",
       "      <td>Indie|RPG|Simulation</td>\n",
       "    </tr>\n",
       "  </tbody>\n",
       "</table>\n",
       "</div>"
      ],
      "text/plain": [
       "   movieId           title                     genres\n",
       "0      550   Left 4 Dead 2                     Action\n",
       "1   644560          Mirror        Adventure|Indie|RPG\n",
       "2   264710      Subnautica            Adventure|Indie\n",
       "3   294100        RimWorld  Indie|Simulation|Strategy\n",
       "4   413150  Stardew Valley       Indie|RPG|Simulation"
      ]
     },
     "execution_count": 452,
     "metadata": {},
     "output_type": "execute_result"
    }
   ],
   "source": [
    "games_data_clean.head()"
   ]
  },
  {
   "cell_type": "code",
   "execution_count": 453,
   "id": "e4162252",
   "metadata": {},
   "outputs": [
    {
     "data": {
      "image/png": "[encoded data removed]",
      "text/plain": [
       "<Figure size 640x480 with 1 Axes>"
      ]
     },
     "metadata": {},
     "output_type": "display_data"
    }
   ],
   "source": [
    "import matplotlib.pyplot as plt\n",
    "plt.hist(similarity_scores, bins=50)\n",
    "plt.title(\"Distribution of similarity scores\")\n",
    "plt.show()\n"
   ]
  },
  {
   "cell_type": "code",
   "execution_count": 454,
   "id": "2d56bb88",
   "metadata": {},
   "outputs": [],
   "source": [
    "# from sklearn.decomposition import PCA\n",
    "# pca = PCA(n_components=32)\n",
    "# item_embeddings = pca.fit_transform(X_item)"
   ]
  },
  {
   "cell_type": "code",
   "execution_count": 455,
   "id": "221a10b3",
   "metadata": {},
   "outputs": [],
   "source": [
    "# item_embeddings"
   ]
  },
  {
   "cell_type": "code",
   "execution_count": null,
   "id": "fba71ca9",
   "metadata": {},
   "outputs": [],
   "source": [
    "def recommend_similar_games(game_ids, embeddings_normalized, games_data_clean, K=5):\n",
    "    game_indices = []\n",
    "    for game_id in game_ids:\n",
    "        game_indices.append(\n",
    "            item_features.index[item_features.gameId == game_id][0]\n",
    "        )\n",
    "        \n",
    "    profile = embeddings_normalized[game_indices].mean(axis=0)\n",
    "    print(profile)\n",
    "    input()\n",
    "    similarity_scores = embeddings_normalized.dot(profile)\n",
    "    print(min(similarity_scores), max(similarity_scores))\n",
    "    \n",
    "    for ind in game_indices:\n",
    "        similarity_scores[ind] = -1.0\n",
    "    \n",
    "    top_k = np.argsort(similarity_scores)[-K:][::-1]\n",
    "    recommended_game_ids = item_features.iloc[top_k]['gameId']\n",
    "    recommended_similarity_scores = similarity_scores[top_k]\n",
    "    \n",
    "    recommended_df = pd.DataFrame({\n",
    "        'gameId': recommended_game_ids,\n",
    "        'similarity_score': np.round(recommended_similarity_scores, 4)\n",
    "    })\n",
    "    \n",
    "    return recommended_df.join(\n",
    "        games_data_clean.set_index('gameId'), \n",
    "        on='gameId', \n",
    "        how='left'\n",
    "    )[['gameId', 'title', 'genres','similarity_score']]"
   ]
  },
  {
   "cell_type": "code",
   "execution_count": null,
   "id": "af3e19cf",
   "metadata": {},
   "outputs": [
    {
     "ename": "AttributeError",
     "evalue": "'DataFrame' object has no attribute 'movieId'",
     "output_type": "error",
     "traceback": [
      "\u001b[0;31m---------------------------------------------------------------------------\u001b[0m",
      "\u001b[0;31mAttributeError\u001b[0m                            Traceback (most recent call last)",
      "\u001b[0;32m/var/folders/sr/kk6cvpy92zvfzcj5gr5l6c6h0000gn/T/ipykernel_97553/2661181474.py\u001b[0m in \u001b[0;36m?\u001b[0;34m()\u001b[0m\n\u001b[1;32m      1\u001b[0m \u001b[0mmovie_indices\u001b[0m \u001b[0;34m=\u001b[0m \u001b[0;34m[\u001b[0m\u001b[0;34m]\u001b[0m\u001b[0;34m\u001b[0m\u001b[0;34m\u001b[0m\u001b[0m\n\u001b[1;32m      2\u001b[0m \u001b[0;32mfor\u001b[0m \u001b[0mmovie_id\u001b[0m \u001b[0;32min\u001b[0m \u001b[0mmovie_ids\u001b[0m\u001b[0;34m[\u001b[0m\u001b[0;34m:\u001b[0m\u001b[0;36m5\u001b[0m\u001b[0;34m]\u001b[0m\u001b[0;34m:\u001b[0m\u001b[0;34m\u001b[0m\u001b[0;34m\u001b[0m\u001b[0m\n\u001b[1;32m      3\u001b[0m     movie_indices.append(\n\u001b[0;32m----> 4\u001b[0;31m         \u001b[0mitem_features\u001b[0m\u001b[0;34m.\u001b[0m\u001b[0mindex\u001b[0m\u001b[0;34m[\u001b[0m\u001b[0mitem_features\u001b[0m\u001b[0;34m.\u001b[0m\u001b[0mmovieId\u001b[0m \u001b[0;34m==\u001b[0m \u001b[0mmovie_id\u001b[0m\u001b[0;34m]\u001b[0m\u001b[0;34m[\u001b[0m\u001b[0;36m0\u001b[0m\u001b[0;34m]\u001b[0m\u001b[0;34m\u001b[0m\u001b[0;34m\u001b[0m\u001b[0m\n\u001b[0m\u001b[1;32m      5\u001b[0m     )\n",
      "\u001b[0;32m/opt/homebrew/Caskroom/miniconda/base/envs/recc_env/lib/python3.10/site-packages/pandas/core/generic.py\u001b[0m in \u001b[0;36m?\u001b[0;34m(self, name)\u001b[0m\n\u001b[1;32m   6295\u001b[0m             \u001b[0;32mand\u001b[0m \u001b[0mname\u001b[0m \u001b[0;32mnot\u001b[0m \u001b[0;32min\u001b[0m \u001b[0mself\u001b[0m\u001b[0;34m.\u001b[0m\u001b[0m_accessors\u001b[0m\u001b[0;34m\u001b[0m\u001b[0;34m\u001b[0m\u001b[0m\n\u001b[1;32m   6296\u001b[0m             \u001b[0;32mand\u001b[0m \u001b[0mself\u001b[0m\u001b[0;34m.\u001b[0m\u001b[0m_info_axis\u001b[0m\u001b[0;34m.\u001b[0m\u001b[0m_can_hold_identifiers_and_holds_name\u001b[0m\u001b[0;34m(\u001b[0m\u001b[0mname\u001b[0m\u001b[0;34m)\u001b[0m\u001b[0;34m\u001b[0m\u001b[0;34m\u001b[0m\u001b[0m\n\u001b[1;32m   6297\u001b[0m         ):\n\u001b[1;32m   6298\u001b[0m             \u001b[0;32mreturn\u001b[0m \u001b[0mself\u001b[0m\u001b[0;34m[\u001b[0m\u001b[0mname\u001b[0m\u001b[0;34m]\u001b[0m\u001b[0;34m\u001b[0m\u001b[0;34m\u001b[0m\u001b[0m\n\u001b[0;32m-> 6299\u001b[0;31m         \u001b[0;32mreturn\u001b[0m \u001b[0mobject\u001b[0m\u001b[0;34m.\u001b[0m\u001b[0m__getattribute__\u001b[0m\u001b[0;34m(\u001b[0m\u001b[0mself\u001b[0m\u001b[0;34m,\u001b[0m \u001b[0mname\u001b[0m\u001b[0;34m)\u001b[0m\u001b[0;34m\u001b[0m\u001b[0;34m\u001b[0m\u001b[0m\n\u001b[0m",
      "\u001b[0;31mAttributeError\u001b[0m: 'DataFrame' object has no attribute 'movieId'"
     ]
    }
   ],
   "source": [
    "game_indices = []\n",
    "for game_id in game_ids[:5]:\n",
    "    game_indices.append(\n",
    "        item_features.index[item_features.gameId == game_id][0]\n",
    "    )"
   ]
  },
  {
   "cell_type": "code",
   "execution_count": null,
   "id": "3d97b84f",
   "metadata": {},
   "outputs": [
    {
     "data": {
      "text/plain": [
       "[]"
      ]
     },
     "execution_count": 458,
     "metadata": {},
     "output_type": "execute_result"
    }
   ],
   "source": [
    "game_indices"
   ]
  },
  {
   "cell_type": "code",
   "execution_count": null,
   "id": "3f64d2d0",
   "metadata": {},
   "outputs": [
    {
     "ename": "AttributeError",
     "evalue": "'DataFrame' object has no attribute 'movieId'",
     "output_type": "error",
     "traceback": [
      "\u001b[0;31m---------------------------------------------------------------------------\u001b[0m",
      "\u001b[0;31mAttributeError\u001b[0m                            Traceback (most recent call last)",
      "\u001b[0;32m/var/folders/sr/kk6cvpy92zvfzcj5gr5l6c6h0000gn/T/ipykernel_97553/608539709.py\u001b[0m in \u001b[0;36m?\u001b[0;34m()\u001b[0m\n\u001b[0;32m----> 1\u001b[0;31m \u001b[0mrecommend_similar_movies\u001b[0m\u001b[0;34m(\u001b[0m\u001b[0mlist\u001b[0m\u001b[0;34m(\u001b[0m\u001b[0mmovie_ids\u001b[0m\u001b[0;34m[\u001b[0m\u001b[0;34m:\u001b[0m\u001b[0;36m6\u001b[0m\u001b[0;34m]\u001b[0m\u001b[0;34m)\u001b[0m\u001b[0;34m,\u001b[0m \u001b[0membeddings_normalized\u001b[0m\u001b[0;34m,\u001b[0m \u001b[0mmovies_data_clean\u001b[0m\u001b[0;34m,\u001b[0m \u001b[0mK\u001b[0m\u001b[0;34m=\u001b[0m\u001b[0;36m5\u001b[0m\u001b[0;34m)\u001b[0m\u001b[0;34m\u001b[0m\u001b[0;34m\u001b[0m\u001b[0m\n\u001b[0m",
      "\u001b[0;32m/var/folders/sr/kk6cvpy92zvfzcj5gr5l6c6h0000gn/T/ipykernel_97553/3467346338.py\u001b[0m in \u001b[0;36m?\u001b[0;34m(movie_ids, embeddings_normalized, movies_data_clean, K)\u001b[0m\n\u001b[1;32m      1\u001b[0m \u001b[0;32mdef\u001b[0m \u001b[0mrecommend_similar_movies\u001b[0m\u001b[0;34m(\u001b[0m\u001b[0mmovie_ids\u001b[0m\u001b[0;34m,\u001b[0m \u001b[0membeddings_normalized\u001b[0m\u001b[0;34m,\u001b[0m \u001b[0mmovies_data_clean\u001b[0m\u001b[0;34m,\u001b[0m \u001b[0mK\u001b[0m\u001b[0;34m=\u001b[0m\u001b[0;36m5\u001b[0m\u001b[0;34m)\u001b[0m\u001b[0;34m:\u001b[0m\u001b[0;34m\u001b[0m\u001b[0;34m\u001b[0m\u001b[0m\n\u001b[1;32m      2\u001b[0m     \u001b[0mmovie_indices\u001b[0m \u001b[0;34m=\u001b[0m \u001b[0;34m[\u001b[0m\u001b[0;34m]\u001b[0m\u001b[0;34m\u001b[0m\u001b[0;34m\u001b[0m\u001b[0m\n\u001b[1;32m      3\u001b[0m     \u001b[0;32mfor\u001b[0m \u001b[0mmovie_id\u001b[0m \u001b[0;32min\u001b[0m \u001b[0mmovie_ids\u001b[0m\u001b[0;34m:\u001b[0m\u001b[0;34m\u001b[0m\u001b[0;34m\u001b[0m\u001b[0m\n\u001b[1;32m      4\u001b[0m         movie_indices.append(\n\u001b[0;32m----> 5\u001b[0;31m             \u001b[0mitem_features\u001b[0m\u001b[0;34m.\u001b[0m\u001b[0mindex\u001b[0m\u001b[0;34m[\u001b[0m\u001b[0mitem_features\u001b[0m\u001b[0;34m.\u001b[0m\u001b[0mmovieId\u001b[0m \u001b[0;34m==\u001b[0m \u001b[0mmovie_id\u001b[0m\u001b[0;34m]\u001b[0m\u001b[0;34m[\u001b[0m\u001b[0;36m0\u001b[0m\u001b[0;34m]\u001b[0m\u001b[0;34m\u001b[0m\u001b[0;34m\u001b[0m\u001b[0m\n\u001b[0m\u001b[1;32m      6\u001b[0m         )\n\u001b[1;32m      7\u001b[0m \u001b[0;34m\u001b[0m\u001b[0m\n\u001b[1;32m      8\u001b[0m     \u001b[0mprofile\u001b[0m \u001b[0;34m=\u001b[0m \u001b[0membeddings_normalized\u001b[0m\u001b[0;34m[\u001b[0m\u001b[0mmovie_indices\u001b[0m\u001b[0;34m]\u001b[0m\u001b[0;34m.\u001b[0m\u001b[0mmean\u001b[0m\u001b[0;34m(\u001b[0m\u001b[0maxis\u001b[0m\u001b[0;34m=\u001b[0m\u001b[0;36m0\u001b[0m\u001b[0;34m)\u001b[0m\u001b[0;34m\u001b[0m\u001b[0;34m\u001b[0m\u001b[0m\n",
      "\u001b[0;32m/opt/homebrew/Caskroom/miniconda/base/envs/recc_env/lib/python3.10/site-packages/pandas/core/generic.py\u001b[0m in \u001b[0;36m?\u001b[0;34m(self, name)\u001b[0m\n\u001b[1;32m   6295\u001b[0m             \u001b[0;32mand\u001b[0m \u001b[0mname\u001b[0m \u001b[0;32mnot\u001b[0m \u001b[0;32min\u001b[0m \u001b[0mself\u001b[0m\u001b[0;34m.\u001b[0m\u001b[0m_accessors\u001b[0m\u001b[0;34m\u001b[0m\u001b[0;34m\u001b[0m\u001b[0m\n\u001b[1;32m   6296\u001b[0m             \u001b[0;32mand\u001b[0m \u001b[0mself\u001b[0m\u001b[0;34m.\u001b[0m\u001b[0m_info_axis\u001b[0m\u001b[0;34m.\u001b[0m\u001b[0m_can_hold_identifiers_and_holds_name\u001b[0m\u001b[0;34m(\u001b[0m\u001b[0mname\u001b[0m\u001b[0;34m)\u001b[0m\u001b[0;34m\u001b[0m\u001b[0;34m\u001b[0m\u001b[0m\n\u001b[1;32m   6297\u001b[0m         ):\n\u001b[1;32m   6298\u001b[0m             \u001b[0;32mreturn\u001b[0m \u001b[0mself\u001b[0m\u001b[0;34m[\u001b[0m\u001b[0mname\u001b[0m\u001b[0;34m]\u001b[0m\u001b[0;34m\u001b[0m\u001b[0;34m\u001b[0m\u001b[0m\n\u001b[0;32m-> 6299\u001b[0;31m         \u001b[0;32mreturn\u001b[0m \u001b[0mobject\u001b[0m\u001b[0;34m.\u001b[0m\u001b[0m__getattribute__\u001b[0m\u001b[0;34m(\u001b[0m\u001b[0mself\u001b[0m\u001b[0;34m,\u001b[0m \u001b[0mname\u001b[0m\u001b[0;34m)\u001b[0m\u001b[0;34m\u001b[0m\u001b[0;34m\u001b[0m\u001b[0m\n\u001b[0m",
      "\u001b[0;31mAttributeError\u001b[0m: 'DataFrame' object has no attribute 'movieId'"
     ]
    }
   ],
   "source": [
    "recommend_similar_games(list(game_ids[:6]), embeddings_normalized, games_data_clean, K=5)"
   ]
  },
  {
   "cell_type": "code",
   "execution_count": null,
   "id": "ce7f234c",
   "metadata": {},
   "outputs": [
    {
     "ename": "AttributeError",
     "evalue": "'DataFrame' object has no attribute 'movieId'",
     "output_type": "error",
     "traceback": [
      "\u001b[0;31m---------------------------------------------------------------------------\u001b[0m",
      "\u001b[0;31mAttributeError\u001b[0m                            Traceback (most recent call last)",
      "\u001b[0;32m/var/folders/sr/kk6cvpy92zvfzcj5gr5l6c6h0000gn/T/ipykernel_97553/4245750513.py\u001b[0m in \u001b[0;36m?\u001b[0;34m()\u001b[0m\n\u001b[0;32m----> 1\u001b[0;31m \u001b[0mmovieIds\u001b[0m \u001b[0;34m=\u001b[0m \u001b[0mlist\u001b[0m\u001b[0;34m(\u001b[0m\u001b[0mitem_features\u001b[0m\u001b[0;34m[\u001b[0m\u001b[0;36m1\u001b[0m\u001b[0;34m:\u001b[0m\u001b[0;36m2\u001b[0m\u001b[0;34m]\u001b[0m\u001b[0;34m.\u001b[0m\u001b[0mmovieId\u001b[0m\u001b[0;34m)\u001b[0m\u001b[0;34m\u001b[0m\u001b[0;34m\u001b[0m\u001b[0m\n\u001b[0m",
      "\u001b[0;32m/opt/homebrew/Caskroom/miniconda/base/envs/recc_env/lib/python3.10/site-packages/pandas/core/generic.py\u001b[0m in \u001b[0;36m?\u001b[0;34m(self, name)\u001b[0m\n\u001b[1;32m   6295\u001b[0m             \u001b[0;32mand\u001b[0m \u001b[0mname\u001b[0m \u001b[0;32mnot\u001b[0m \u001b[0;32min\u001b[0m \u001b[0mself\u001b[0m\u001b[0;34m.\u001b[0m\u001b[0m_accessors\u001b[0m\u001b[0;34m\u001b[0m\u001b[0;34m\u001b[0m\u001b[0m\n\u001b[1;32m   6296\u001b[0m             \u001b[0;32mand\u001b[0m \u001b[0mself\u001b[0m\u001b[0;34m.\u001b[0m\u001b[0m_info_axis\u001b[0m\u001b[0;34m.\u001b[0m\u001b[0m_can_hold_identifiers_and_holds_name\u001b[0m\u001b[0;34m(\u001b[0m\u001b[0mname\u001b[0m\u001b[0;34m)\u001b[0m\u001b[0;34m\u001b[0m\u001b[0;34m\u001b[0m\u001b[0m\n\u001b[1;32m   6297\u001b[0m         ):\n\u001b[1;32m   6298\u001b[0m             \u001b[0;32mreturn\u001b[0m \u001b[0mself\u001b[0m\u001b[0;34m[\u001b[0m\u001b[0mname\u001b[0m\u001b[0;34m]\u001b[0m\u001b[0;34m\u001b[0m\u001b[0;34m\u001b[0m\u001b[0m\n\u001b[0;32m-> 6299\u001b[0;31m         \u001b[0;32mreturn\u001b[0m \u001b[0mobject\u001b[0m\u001b[0;34m.\u001b[0m\u001b[0m__getattribute__\u001b[0m\u001b[0;34m(\u001b[0m\u001b[0mself\u001b[0m\u001b[0;34m,\u001b[0m \u001b[0mname\u001b[0m\u001b[0;34m)\u001b[0m\u001b[0;34m\u001b[0m\u001b[0;34m\u001b[0m\u001b[0m\n\u001b[0m",
      "\u001b[0;31mAttributeError\u001b[0m: 'DataFrame' object has no attribute 'movieId'"
     ]
    }
   ],
   "source": [
    "gameIds = list(item_features[1:2].gameId)"
   ]
  },
  {
   "cell_type": "code",
   "execution_count": null,
   "id": "f9aecf40",
   "metadata": {},
   "outputs": [
    {
     "name": "stdout",
     "output_type": "stream",
     "text": [
      "Mirror :\t\t Adventure|Indie|RPG\n"
     ]
    }
   ],
   "source": [
    "game_names = games_data_clean[games_data_clean['gameId'].isin(gameIds)]['title']\n",
    "# print(game_names.tolist())\n",
    "game_genres = games_data_clean[games_data_clean['gameId'].isin(gameIds)]['genres']\n",
    "# print(list(zip(game_names.tolist(), game_genres.tolist())))\n",
    "for game_name, game_genres in zip(game_names.tolist(), game_genres.tolist()):\n",
    "    print(game_name, ':\\t\\t', game_genres)"
   ]
  },
  {
   "cell_type": "code",
   "execution_count": null,
   "id": "85a3da7a",
   "metadata": {},
   "outputs": [],
   "source": []
  },
  {
   "cell_type": "code",
   "execution_count": null,
   "id": "20df43fd",
   "metadata": {},
   "outputs": [],
   "source": []
  },
  {
   "cell_type": "code",
   "execution_count": null,
   "id": "0bb213a1",
   "metadata": {},
   "outputs": [],
   "source": []
  }
 ],
 "metadata": {
  "kernelspec": {
   "display_name": "recc_env",
   "language": "python",
   "name": "python3"
  },
  "language_info": {
   "codemirror_mode": {
    "name": "ipython",
    "version": 3
   },
   "file_extension": ".py",
   "mimetype": "text/x-python",
   "name": "python",
   "nbconvert_exporter": "python",
   "pygments_lexer": "ipython3",
   "version": "3.10.17"
  }
 },
 "nbformat": 4,
 "nbformat_minor": 5
}
