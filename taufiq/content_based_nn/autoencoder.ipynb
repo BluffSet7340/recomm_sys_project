{
 "cells": [
  {
   "cell_type": "markdown",
   "id": "82ca2852",
   "metadata": {},
   "source": [
    "# Imports"
   ]
  },
  {
   "cell_type": "code",
   "execution_count": 1,
   "id": "bd3182cc",
   "metadata": {},
   "outputs": [],
   "source": [
    "import pandas as pd\n",
    "import numpy as np\n",
    "import matplotlib.pyplot as plt\n",
    "import seaborn as sns\n",
    "import os\n",
    "import math\n",
    "from collections import defaultdict\n",
    "from tqdm import tqdm\n",
    "import json"
   ]
  },
  {
   "cell_type": "code",
   "execution_count": 2,
   "id": "1dac6361",
   "metadata": {},
   "outputs": [],
   "source": [
    "import tensorflow as tf\n",
    "\n",
    "from sklearn.preprocessing import StandardScaler\n",
    "from sklearn.metrics.pairwise import cosine_similarity\n",
    "\n",
    "from tensorflow import keras\n",
    "from tensorflow.keras import layers"
   ]
  },
  {
   "cell_type": "markdown",
   "id": "2d275d31",
   "metadata": {},
   "source": [
    "# Load Data"
   ]
  },
  {
   "cell_type": "code",
   "execution_count": null,
   "id": "f148031d",
   "metadata": {},
   "outputs": [
    {
     "name": "stderr",
     "output_type": "stream",
     "text": [
      "/var/folders/sr/kk6cvpy92zvfzcj5gr5l6c6h0000gn/T/ipykernel_97330/410107815.py:3: DtypeWarning: Columns (23) have mixed types. Specify dtype option on import or set low_memory=False.\n",
      "  df = pd.read_csv('../../dataset/weighted_score_above_08.csv')\n"
     ]
    },
    {
     "data": {
      "text/html": [
       "<div>\n",
       "<style scoped>\n",
       "    .dataframe tbody tr th:only-of-type {\n",
       "        vertical-align: middle;\n",
       "    }\n",
       "\n",
       "    .dataframe tbody tr th {\n",
       "        vertical-align: top;\n",
       "    }\n",
       "\n",
       "    .dataframe thead th {\n",
       "        text-align: right;\n",
       "    }\n",
       "</style>\n",
       "<table border=\"1\" class=\"dataframe\">\n",
       "  <thead>\n",
       "    <tr style=\"text-align: right;\">\n",
       "      <th></th>\n",
       "      <th>recommendationid</th>\n",
       "      <th>appid</th>\n",
       "      <th>game</th>\n",
       "      <th>author_steamid</th>\n",
       "      <th>author_num_games_owned</th>\n",
       "      <th>author_num_reviews</th>\n",
       "      <th>author_playtime_forever</th>\n",
       "      <th>author_playtime_last_two_weeks</th>\n",
       "      <th>author_playtime_at_review</th>\n",
       "      <th>author_last_played</th>\n",
       "      <th>...</th>\n",
       "      <th>voted_up</th>\n",
       "      <th>votes_up</th>\n",
       "      <th>votes_funny</th>\n",
       "      <th>weighted_vote_score</th>\n",
       "      <th>comment_count</th>\n",
       "      <th>steam_purchase</th>\n",
       "      <th>received_for_free</th>\n",
       "      <th>written_during_early_access</th>\n",
       "      <th>hidden_in_steam_china</th>\n",
       "      <th>steam_china_location</th>\n",
       "    </tr>\n",
       "  </thead>\n",
       "  <tbody>\n",
       "    <tr>\n",
       "      <th>0</th>\n",
       "      <td>147449116</td>\n",
       "      <td>10</td>\n",
       "      <td>Counter-Strike</td>\n",
       "      <td>76561199183984450</td>\n",
       "      <td>51</td>\n",
       "      <td>12</td>\n",
       "      <td>2548</td>\n",
       "      <td>0</td>\n",
       "      <td>2480</td>\n",
       "      <td>1696305457</td>\n",
       "      <td>...</td>\n",
       "      <td>1</td>\n",
       "      <td>99</td>\n",
       "      <td>2</td>\n",
       "      <td>0.889438</td>\n",
       "      <td>0</td>\n",
       "      <td>1</td>\n",
       "      <td>0</td>\n",
       "      <td>0</td>\n",
       "      <td>1</td>\n",
       "      <td>NaN</td>\n",
       "    </tr>\n",
       "    <tr>\n",
       "      <th>1</th>\n",
       "      <td>147374264</td>\n",
       "      <td>10</td>\n",
       "      <td>Counter-Strike</td>\n",
       "      <td>76561198099573060</td>\n",
       "      <td>226</td>\n",
       "      <td>13</td>\n",
       "      <td>2369</td>\n",
       "      <td>0</td>\n",
       "      <td>2361</td>\n",
       "      <td>1696096555</td>\n",
       "      <td>...</td>\n",
       "      <td>1</td>\n",
       "      <td>122</td>\n",
       "      <td>8</td>\n",
       "      <td>0.914834</td>\n",
       "      <td>0</td>\n",
       "      <td>1</td>\n",
       "      <td>0</td>\n",
       "      <td>0</td>\n",
       "      <td>1</td>\n",
       "      <td>NaN</td>\n",
       "    </tr>\n",
       "    <tr>\n",
       "      <th>2</th>\n",
       "      <td>147357703</td>\n",
       "      <td>10</td>\n",
       "      <td>Counter-Strike</td>\n",
       "      <td>76561199080026894</td>\n",
       "      <td>118</td>\n",
       "      <td>23</td>\n",
       "      <td>13501</td>\n",
       "      <td>212</td>\n",
       "      <td>12957</td>\n",
       "      <td>1697630734</td>\n",
       "      <td>...</td>\n",
       "      <td>1</td>\n",
       "      <td>599</td>\n",
       "      <td>20</td>\n",
       "      <td>0.968375</td>\n",
       "      <td>3</td>\n",
       "      <td>1</td>\n",
       "      <td>0</td>\n",
       "      <td>0</td>\n",
       "      <td>1</td>\n",
       "      <td>NaN</td>\n",
       "    </tr>\n",
       "    <tr>\n",
       "      <th>3</th>\n",
       "      <td>147345102</td>\n",
       "      <td>10</td>\n",
       "      <td>Counter-Strike</td>\n",
       "      <td>76561198068970227</td>\n",
       "      <td>28</td>\n",
       "      <td>1</td>\n",
       "      <td>10668</td>\n",
       "      <td>640</td>\n",
       "      <td>9906</td>\n",
       "      <td>1698261011</td>\n",
       "      <td>...</td>\n",
       "      <td>1</td>\n",
       "      <td>59</td>\n",
       "      <td>12</td>\n",
       "      <td>0.826206</td>\n",
       "      <td>0</td>\n",
       "      <td>0</td>\n",
       "      <td>0</td>\n",
       "      <td>0</td>\n",
       "      <td>1</td>\n",
       "      <td>NaN</td>\n",
       "    </tr>\n",
       "    <tr>\n",
       "      <th>4</th>\n",
       "      <td>147284743</td>\n",
       "      <td>10</td>\n",
       "      <td>Counter-Strike</td>\n",
       "      <td>76561199137893460</td>\n",
       "      <td>19</td>\n",
       "      <td>5</td>\n",
       "      <td>543</td>\n",
       "      <td>10</td>\n",
       "      <td>526</td>\n",
       "      <td>1697810991</td>\n",
       "      <td>...</td>\n",
       "      <td>1</td>\n",
       "      <td>128</td>\n",
       "      <td>24</td>\n",
       "      <td>0.853612</td>\n",
       "      <td>0</td>\n",
       "      <td>1</td>\n",
       "      <td>0</td>\n",
       "      <td>0</td>\n",
       "      <td>1</td>\n",
       "      <td>NaN</td>\n",
       "    </tr>\n",
       "  </tbody>\n",
       "</table>\n",
       "<p>5 rows × 24 columns</p>\n",
       "</div>"
      ],
      "text/plain": [
       "   recommendationid  appid            game     author_steamid  \\\n",
       "0         147449116     10  Counter-Strike  76561199183984450   \n",
       "1         147374264     10  Counter-Strike  76561198099573060   \n",
       "2         147357703     10  Counter-Strike  76561199080026894   \n",
       "3         147345102     10  Counter-Strike  76561198068970227   \n",
       "4         147284743     10  Counter-Strike  76561199137893460   \n",
       "\n",
       "   author_num_games_owned  author_num_reviews  author_playtime_forever  \\\n",
       "0                      51                  12                     2548   \n",
       "1                     226                  13                     2369   \n",
       "2                     118                  23                    13501   \n",
       "3                      28                   1                    10668   \n",
       "4                      19                   5                      543   \n",
       "\n",
       "   author_playtime_last_two_weeks  author_playtime_at_review  \\\n",
       "0                               0                       2480   \n",
       "1                               0                       2361   \n",
       "2                             212                      12957   \n",
       "3                             640                       9906   \n",
       "4                              10                        526   \n",
       "\n",
       "   author_last_played  ... voted_up votes_up  votes_funny  \\\n",
       "0          1696305457  ...        1       99            2   \n",
       "1          1696096555  ...        1      122            8   \n",
       "2          1697630734  ...        1      599           20   \n",
       "3          1698261011  ...        1       59           12   \n",
       "4          1697810991  ...        1      128           24   \n",
       "\n",
       "   weighted_vote_score  comment_count  steam_purchase  received_for_free  \\\n",
       "0             0.889438              0               1                  0   \n",
       "1             0.914834              0               1                  0   \n",
       "2             0.968375              3               1                  0   \n",
       "3             0.826206              0               0                  0   \n",
       "4             0.853612              0               1                  0   \n",
       "\n",
       "   written_during_early_access  hidden_in_steam_china  steam_china_location  \n",
       "0                            0                      1                   NaN  \n",
       "1                            0                      1                   NaN  \n",
       "2                            0                      1                   NaN  \n",
       "3                            0                      1                   NaN  \n",
       "4                            0                      1                   NaN  \n",
       "\n",
       "[5 rows x 24 columns]"
      ]
     },
     "execution_count": 4,
     "metadata": {},
     "output_type": "execute_result"
    }
   ],
   "source": [
    "# import pandas as pd\n",
    "\n",
    "# df = pd.read_csv('../../dataset/weighted_score_above_08.csv')\n",
    "\n",
    "# df.head()"
   ]
  },
  {
   "cell_type": "code",
   "execution_count": 5,
   "id": "1b0fa1a2",
   "metadata": {},
   "outputs": [],
   "source": [
    "with open('../combined_df.json', 'r') as f:\n",
    "    sample_data = [json.loads(line) for line in f]"
   ]
  },
  {
   "cell_type": "code",
   "execution_count": 3,
   "id": "318aceaf",
   "metadata": {},
   "outputs": [],
   "source": [
    "# Extract valid appids from the sample file\n",
    "# valid_appids = {entry['appid'] for entry in sample_data}\n",
    "\n",
    "# Filter df based on appids in the sample\n",
    "# df = df[df['appid'].isin(valid_appids)]\n",
    "\n",
    "# Continue processing\n",
    "# df_games = df[['appid', 'game']]\n",
    "# df_games = df_games.drop_duplicates(subset='appid')\n",
    "\n",
    "# appid2game = df_games.set_index('appid')['game'].to_dict()\n",
    "# game2appid = df_games.set_index('game')['appid'].to_dict()\n",
    "\n",
    "# del df_games\n",
    "\n",
    "# df = df[['appid', 'author_steamid', 'voted_up']]\n",
    "# df.rename(columns={'appid': 'item_id', 'author_steamid': 'user_id', 'voted_up': 'rating'}, inplace=True)"
   ]
  },
  {
   "cell_type": "code",
   "execution_count": 6,
   "id": "bd46bc88",
   "metadata": {},
   "outputs": [],
   "source": [
    "item_id_to_genres = {entry['appid']: entry['genre'] for entry in sample_data}"
   ]
  },
  {
   "cell_type": "code",
   "execution_count": null,
   "id": "9f9757c8",
   "metadata": {},
   "outputs": [],
   "source": [
    "# df.reset_index(drop=True, inplace=True)"
   ]
  },
  {
   "cell_type": "code",
   "execution_count": 7,
   "id": "4ec69f41",
   "metadata": {},
   "outputs": [],
   "source": [
    "# N_DISPLAY = 30\n",
    "# has_no_genre_count = 0\n",
    "# for i, item_id in enumerate(df['item_id'].unique()):\n",
    "#     genres = item_id_to_genres.get(item_id, [])\n",
    "#     if not genres:\n",
    "#         has_no_genre_count += 1\n",
    "#         continue\n",
    "# print(f\"Number of games without genres: {has_no_genre_count}\")"
   ]
  },
  {
   "cell_type": "code",
   "execution_count": 9,
   "id": "e450edb7",
   "metadata": {},
   "outputs": [],
   "source": [
    "# nan_count = df['rating'].isna().sum()\n",
    "# print(f\"Number of NaN values in 'rating': {nan_count}\")"
   ]
  },
  {
   "cell_type": "code",
   "execution_count": 10,
   "id": "c89039d0",
   "metadata": {},
   "outputs": [
    {
     "data": {
      "text/plain": [
       "{'appid': 550, 'game': 'Left 4 Dead 2', 'genre': ['Action']}"
      ]
     },
     "execution_count": 10,
     "metadata": {},
     "output_type": "execute_result"
    }
   ],
   "source": [
    "sample_data[0]"
   ]
  },
  {
   "cell_type": "code",
   "execution_count": null,
   "id": "9c396a4c",
   "metadata": {},
   "outputs": [
    {
     "data": {
      "text/html": [
       "<div>\n",
       "<style scoped>\n",
       "    .dataframe tbody tr th:only-of-type {\n",
       "        vertical-align: middle;\n",
       "    }\n",
       "\n",
       "    .dataframe tbody tr th {\n",
       "        vertical-align: top;\n",
       "    }\n",
       "\n",
       "    .dataframe thead th {\n",
       "        text-align: right;\n",
       "    }\n",
       "</style>\n",
       "<table border=\"1\" class=\"dataframe\">\n",
       "  <thead>\n",
       "    <tr style=\"text-align: right;\">\n",
       "      <th></th>\n",
       "      <th>movieId</th>\n",
       "      <th>title</th>\n",
       "      <th>genres</th>\n",
       "    </tr>\n",
       "  </thead>\n",
       "  <tbody>\n",
       "    <tr>\n",
       "      <th>0</th>\n",
       "      <td>550</td>\n",
       "      <td>Left 4 Dead 2</td>\n",
       "      <td>Action</td>\n",
       "    </tr>\n",
       "    <tr>\n",
       "      <th>1</th>\n",
       "      <td>644560</td>\n",
       "      <td>Mirror</td>\n",
       "      <td>Adventure|Indie|RPG</td>\n",
       "    </tr>\n",
       "    <tr>\n",
       "      <th>2</th>\n",
       "      <td>264710</td>\n",
       "      <td>Subnautica</td>\n",
       "      <td>Adventure|Indie</td>\n",
       "    </tr>\n",
       "    <tr>\n",
       "      <th>3</th>\n",
       "      <td>294100</td>\n",
       "      <td>RimWorld</td>\n",
       "      <td>Indie|Simulation|Strategy</td>\n",
       "    </tr>\n",
       "    <tr>\n",
       "      <th>4</th>\n",
       "      <td>413150</td>\n",
       "      <td>Stardew Valley</td>\n",
       "      <td>Indie|RPG|Simulation</td>\n",
       "    </tr>\n",
       "  </tbody>\n",
       "</table>\n",
       "</div>"
      ],
      "text/plain": [
       "   movieId           title                     genres\n",
       "0      550   Left 4 Dead 2                     Action\n",
       "1   644560          Mirror        Adventure|Indie|RPG\n",
       "2   264710      Subnautica            Adventure|Indie\n",
       "3   294100        RimWorld  Indie|Simulation|Strategy\n",
       "4   413150  Stardew Valley       Indie|RPG|Simulation"
      ]
     },
     "execution_count": 16,
     "metadata": {},
     "output_type": "execute_result"
    }
   ],
   "source": [
    "# Create a DataFrame from sample_data\n",
    "movies_data_clean = pd.DataFrame(sample_data)\n",
    "\n",
    "# Rename columns for clarity\n",
    "movies_data_clean.rename(columns={'game': 'title'}, inplace=True)\n",
    "\n",
    "# Convert the 'genre' list into a pipe-separated string\n",
    "movies_data_clean['genre'] = movies_data_clean['genre'].apply(lambda x: '|'.join(x) if isinstance(x, list) else '')\n",
    "\n",
    "# Select only the required columns\n",
    "movies_data_clean = movies_data_clean[['appid', 'title', 'genre']]\n",
    "movies_data_clean.rename(columns={'appid': 'movieId'}, inplace=True)\n",
    "movies_data_clean.rename(columns={'genre': 'genres'}, inplace=True)\n",
    "\n",
    "movies_data_clean.head()"
   ]
  },
  {
   "cell_type": "markdown",
   "id": "043bea46",
   "metadata": {},
   "source": [
    "### Create Item Train Feature Vectors"
   ]
  },
  {
   "cell_type": "code",
   "execution_count": null,
   "id": "dc17d78e",
   "metadata": {},
   "outputs": [],
   "source": [
    "movie_features_data = movies_data_clean.copy()"
   ]
  },
  {
   "cell_type": "code",
   "execution_count": 19,
   "id": "c3ddfb90",
   "metadata": {},
   "outputs": [
    {
     "data": {
      "text/html": [
       "<div>\n",
       "<style scoped>\n",
       "    .dataframe tbody tr th:only-of-type {\n",
       "        vertical-align: middle;\n",
       "    }\n",
       "\n",
       "    .dataframe tbody tr th {\n",
       "        vertical-align: top;\n",
       "    }\n",
       "\n",
       "    .dataframe thead th {\n",
       "        text-align: right;\n",
       "    }\n",
       "</style>\n",
       "<table border=\"1\" class=\"dataframe\">\n",
       "  <thead>\n",
       "    <tr style=\"text-align: right;\">\n",
       "      <th></th>\n",
       "      <th>movieId</th>\n",
       "      <th>title</th>\n",
       "      <th>genres</th>\n",
       "    </tr>\n",
       "  </thead>\n",
       "  <tbody>\n",
       "    <tr>\n",
       "      <th>0</th>\n",
       "      <td>550</td>\n",
       "      <td>Left 4 Dead 2</td>\n",
       "      <td>Action</td>\n",
       "    </tr>\n",
       "    <tr>\n",
       "      <th>1</th>\n",
       "      <td>644560</td>\n",
       "      <td>Mirror</td>\n",
       "      <td>Adventure|Indie|RPG</td>\n",
       "    </tr>\n",
       "    <tr>\n",
       "      <th>2</th>\n",
       "      <td>264710</td>\n",
       "      <td>Subnautica</td>\n",
       "      <td>Adventure|Indie</td>\n",
       "    </tr>\n",
       "    <tr>\n",
       "      <th>3</th>\n",
       "      <td>294100</td>\n",
       "      <td>RimWorld</td>\n",
       "      <td>Indie|Simulation|Strategy</td>\n",
       "    </tr>\n",
       "    <tr>\n",
       "      <th>4</th>\n",
       "      <td>413150</td>\n",
       "      <td>Stardew Valley</td>\n",
       "      <td>Indie|RPG|Simulation</td>\n",
       "    </tr>\n",
       "  </tbody>\n",
       "</table>\n",
       "</div>"
      ],
      "text/plain": [
       "   movieId           title                     genres\n",
       "0      550   Left 4 Dead 2                     Action\n",
       "1   644560          Mirror        Adventure|Indie|RPG\n",
       "2   264710      Subnautica            Adventure|Indie\n",
       "3   294100        RimWorld  Indie|Simulation|Strategy\n",
       "4   413150  Stardew Valley       Indie|RPG|Simulation"
      ]
     },
     "execution_count": 19,
     "metadata": {},
     "output_type": "execute_result"
    }
   ],
   "source": [
    "movie_features_data.head()"
   ]
  },
  {
   "cell_type": "code",
   "execution_count": 20,
   "id": "2b37016b",
   "metadata": {},
   "outputs": [],
   "source": [
    "genre_dummies = movie_features_data['genres'].str.get_dummies(sep='|')"
   ]
  },
  {
   "cell_type": "code",
   "execution_count": 21,
   "id": "54e4c917",
   "metadata": {},
   "outputs": [],
   "source": [
    "item_genre_dummies = genre_dummies.add_prefix('item_')"
   ]
  },
  {
   "cell_type": "code",
   "execution_count": 244,
   "id": "6d6686b1",
   "metadata": {},
   "outputs": [],
   "source": [
    "item_features = pd.concat([\n",
    "    # movie_features_data[['movieId']],\n",
    "    item_genre_dummies\n",
    "], axis=1)"
   ]
  },
  {
   "cell_type": "code",
   "execution_count": 245,
   "id": "f1b06130",
   "metadata": {},
   "outputs": [
    {
     "data": {
      "text/html": [
       "<div>\n",
       "<style scoped>\n",
       "    .dataframe tbody tr th:only-of-type {\n",
       "        vertical-align: middle;\n",
       "    }\n",
       "\n",
       "    .dataframe tbody tr th {\n",
       "        vertical-align: top;\n",
       "    }\n",
       "\n",
       "    .dataframe thead th {\n",
       "        text-align: right;\n",
       "    }\n",
       "</style>\n",
       "<table border=\"1\" class=\"dataframe\">\n",
       "  <thead>\n",
       "    <tr style=\"text-align: right;\">\n",
       "      <th></th>\n",
       "      <th>item_360 Video</th>\n",
       "      <th>item_Accounting</th>\n",
       "      <th>item_Action</th>\n",
       "      <th>item_Additional High-Quality Audio</th>\n",
       "      <th>item_Adventure</th>\n",
       "      <th>item_Akció</th>\n",
       "      <th>item_Aksiyon</th>\n",
       "      <th>item_Animation &amp; Modeling</th>\n",
       "      <th>item_Audio Production</th>\n",
       "      <th>item_Aventura</th>\n",
       "      <th>...</th>\n",
       "      <th>item_冒险</th>\n",
       "      <th>item_动作</th>\n",
       "      <th>item_大型多人在线</th>\n",
       "      <th>item_抢先体验</th>\n",
       "      <th>item_模拟</th>\n",
       "      <th>item_無料プレイ</th>\n",
       "      <th>item_独立</th>\n",
       "      <th>item_竞速</th>\n",
       "      <th>item_策略</th>\n",
       "      <th>item_角色扮演</th>\n",
       "    </tr>\n",
       "  </thead>\n",
       "  <tbody>\n",
       "    <tr>\n",
       "      <th>0</th>\n",
       "      <td>0</td>\n",
       "      <td>0</td>\n",
       "      <td>1</td>\n",
       "      <td>0</td>\n",
       "      <td>0</td>\n",
       "      <td>0</td>\n",
       "      <td>0</td>\n",
       "      <td>0</td>\n",
       "      <td>0</td>\n",
       "      <td>0</td>\n",
       "      <td>...</td>\n",
       "      <td>0</td>\n",
       "      <td>0</td>\n",
       "      <td>0</td>\n",
       "      <td>0</td>\n",
       "      <td>0</td>\n",
       "      <td>0</td>\n",
       "      <td>0</td>\n",
       "      <td>0</td>\n",
       "      <td>0</td>\n",
       "      <td>0</td>\n",
       "    </tr>\n",
       "    <tr>\n",
       "      <th>1</th>\n",
       "      <td>0</td>\n",
       "      <td>0</td>\n",
       "      <td>0</td>\n",
       "      <td>0</td>\n",
       "      <td>1</td>\n",
       "      <td>0</td>\n",
       "      <td>0</td>\n",
       "      <td>0</td>\n",
       "      <td>0</td>\n",
       "      <td>0</td>\n",
       "      <td>...</td>\n",
       "      <td>0</td>\n",
       "      <td>0</td>\n",
       "      <td>0</td>\n",
       "      <td>0</td>\n",
       "      <td>0</td>\n",
       "      <td>0</td>\n",
       "      <td>0</td>\n",
       "      <td>0</td>\n",
       "      <td>0</td>\n",
       "      <td>0</td>\n",
       "    </tr>\n",
       "    <tr>\n",
       "      <th>2</th>\n",
       "      <td>0</td>\n",
       "      <td>0</td>\n",
       "      <td>0</td>\n",
       "      <td>0</td>\n",
       "      <td>1</td>\n",
       "      <td>0</td>\n",
       "      <td>0</td>\n",
       "      <td>0</td>\n",
       "      <td>0</td>\n",
       "      <td>0</td>\n",
       "      <td>...</td>\n",
       "      <td>0</td>\n",
       "      <td>0</td>\n",
       "      <td>0</td>\n",
       "      <td>0</td>\n",
       "      <td>0</td>\n",
       "      <td>0</td>\n",
       "      <td>0</td>\n",
       "      <td>0</td>\n",
       "      <td>0</td>\n",
       "      <td>0</td>\n",
       "    </tr>\n",
       "    <tr>\n",
       "      <th>3</th>\n",
       "      <td>0</td>\n",
       "      <td>0</td>\n",
       "      <td>0</td>\n",
       "      <td>0</td>\n",
       "      <td>0</td>\n",
       "      <td>0</td>\n",
       "      <td>0</td>\n",
       "      <td>0</td>\n",
       "      <td>0</td>\n",
       "      <td>0</td>\n",
       "      <td>...</td>\n",
       "      <td>0</td>\n",
       "      <td>0</td>\n",
       "      <td>0</td>\n",
       "      <td>0</td>\n",
       "      <td>0</td>\n",
       "      <td>0</td>\n",
       "      <td>0</td>\n",
       "      <td>0</td>\n",
       "      <td>0</td>\n",
       "      <td>0</td>\n",
       "    </tr>\n",
       "    <tr>\n",
       "      <th>4</th>\n",
       "      <td>0</td>\n",
       "      <td>0</td>\n",
       "      <td>0</td>\n",
       "      <td>0</td>\n",
       "      <td>0</td>\n",
       "      <td>0</td>\n",
       "      <td>0</td>\n",
       "      <td>0</td>\n",
       "      <td>0</td>\n",
       "      <td>0</td>\n",
       "      <td>...</td>\n",
       "      <td>0</td>\n",
       "      <td>0</td>\n",
       "      <td>0</td>\n",
       "      <td>0</td>\n",
       "      <td>0</td>\n",
       "      <td>0</td>\n",
       "      <td>0</td>\n",
       "      <td>0</td>\n",
       "      <td>0</td>\n",
       "      <td>0</td>\n",
       "    </tr>\n",
       "  </tbody>\n",
       "</table>\n",
       "<p>5 rows × 134 columns</p>\n",
       "</div>"
      ],
      "text/plain": [
       "   item_360 Video  item_Accounting  item_Action  \\\n",
       "0               0                0            1   \n",
       "1               0                0            0   \n",
       "2               0                0            0   \n",
       "3               0                0            0   \n",
       "4               0                0            0   \n",
       "\n",
       "   item_Additional High-Quality Audio  item_Adventure  item_Akció  \\\n",
       "0                                   0               0           0   \n",
       "1                                   0               1           0   \n",
       "2                                   0               1           0   \n",
       "3                                   0               0           0   \n",
       "4                                   0               0           0   \n",
       "\n",
       "   item_Aksiyon  item_Animation & Modeling  item_Audio Production  \\\n",
       "0             0                          0                      0   \n",
       "1             0                          0                      0   \n",
       "2             0                          0                      0   \n",
       "3             0                          0                      0   \n",
       "4             0                          0                      0   \n",
       "\n",
       "   item_Aventura  ...  item_冒险  item_动作  item_大型多人在线  item_抢先体验  item_模拟  \\\n",
       "0              0  ...        0        0            0          0        0   \n",
       "1              0  ...        0        0            0          0        0   \n",
       "2              0  ...        0        0            0          0        0   \n",
       "3              0  ...        0        0            0          0        0   \n",
       "4              0  ...        0        0            0          0        0   \n",
       "\n",
       "   item_無料プレイ  item_独立  item_竞速  item_策略  item_角色扮演  \n",
       "0           0        0        0        0          0  \n",
       "1           0        0        0        0          0  \n",
       "2           0        0        0        0          0  \n",
       "3           0        0        0        0          0  \n",
       "4           0        0        0        0          0  \n",
       "\n",
       "[5 rows x 134 columns]"
      ]
     },
     "execution_count": 245,
     "metadata": {},
     "output_type": "execute_result"
    }
   ],
   "source": [
    "item_features.head()"
   ]
  },
  {
   "cell_type": "code",
   "execution_count": 246,
   "id": "bc88bc30",
   "metadata": {},
   "outputs": [
    {
     "data": {
      "text/plain": [
       "(27315, 134)"
      ]
     },
     "execution_count": 246,
     "metadata": {},
     "output_type": "execute_result"
    }
   ],
   "source": [
    "item_features.shape"
   ]
  },
  {
   "cell_type": "markdown",
   "id": "cb490b32",
   "metadata": {},
   "source": [
    "#### Train an autoencoder"
   ]
  },
  {
   "cell_type": "code",
   "execution_count": 247,
   "id": "dfa6338b",
   "metadata": {},
   "outputs": [],
   "source": [
    "item_continuous = []\n",
    "item_genres = [c for c in item_features.columns if c not in []]"
   ]
  },
  {
   "cell_type": "code",
   "execution_count": 248,
   "id": "9f09b895",
   "metadata": {},
   "outputs": [],
   "source": [
    "standardizer = StandardScaler()"
   ]
  },
  {
   "cell_type": "code",
   "execution_count": 249,
   "id": "190bd713",
   "metadata": {},
   "outputs": [],
   "source": [
    "# item_features[item_continuous] = standardizer.fit_transform(item_features[item_continuous])b"
   ]
  },
  {
   "cell_type": "code",
   "execution_count": 250,
   "id": "eaabd2bf",
   "metadata": {},
   "outputs": [],
   "source": [
    "X_item = item_features[item_continuous + item_genres].to_numpy().astype(float)"
   ]
  },
  {
   "cell_type": "code",
   "execution_count": 251,
   "id": "a0b9cc3f",
   "metadata": {},
   "outputs": [
    {
     "data": {
      "text/plain": [
       "(27315, 134)"
      ]
     },
     "execution_count": 251,
     "metadata": {},
     "output_type": "execute_result"
    }
   ],
   "source": [
    "X_item.shape"
   ]
  },
  {
   "cell_type": "code",
   "execution_count": 252,
   "id": "3313bb47",
   "metadata": {},
   "outputs": [
    {
     "data": {
      "text/plain": [
       "array([[0., 0., 1., ..., 0., 0., 0.],\n",
       "       [0., 0., 0., ..., 0., 0., 0.],\n",
       "       [0., 0., 0., ..., 0., 0., 0.],\n",
       "       ...,\n",
       "       [0., 0., 0., ..., 0., 0., 0.],\n",
       "       [0., 0., 0., ..., 0., 0., 0.],\n",
       "       [0., 0., 0., ..., 0., 0., 0.]], shape=(27315, 134))"
      ]
     },
     "execution_count": 252,
     "metadata": {},
     "output_type": "execute_result"
    }
   ],
   "source": [
    "X_item"
   ]
  },
  {
   "cell_type": "code",
   "execution_count": 253,
   "id": "132c8899",
   "metadata": {},
   "outputs": [],
   "source": [
    "input_dim = X_item.shape[1]"
   ]
  },
  {
   "cell_type": "code",
   "execution_count": 291,
   "id": "c948f408",
   "metadata": {},
   "outputs": [],
   "source": [
    "inp = keras.Input(shape=(input_dim,), name='genre_input')\n",
    "x   = layers.Dense(64, activation='relu')(inp)\n",
    "x   = layers.Dense(32, activation='relu')(x)\n",
    "latent = layers.Dense(32, activation='relu', name='item_embedding')(x)\n",
    "\n",
    "\n",
    "x   = layers.Dense(32, activation='relu')(latent)\n",
    "x   = layers.Dense(64, activation='relu')(x)\n",
    "# out = layers.Dense(input_dim)(x)\n",
    "out = layers.Dense(input_dim, activation='sigmoid')(x)"
   ]
  },
  {
   "cell_type": "code",
   "execution_count": 292,
   "id": "7256c6a0",
   "metadata": {},
   "outputs": [],
   "source": [
    "# from tensorflow.keras.regularizers import l2\n",
    "\n",
    "# inp = keras.Input(shape=(input_dim,), name='genre_input')\n",
    "# x = layers.Dense(64, activation='relu', kernel_regularizer=l2(0.01))(inp)\n",
    "# # x = layers.Dropout(0.3)(x)\n",
    "# x = layers.Dense(32, activation='relu', kernel_regularizer=l2(0.01))(x)\n",
    "# latent = layers.Dense(32, activation='relu', kernel_regularizer=l2(0.01), name='item_embedding')(x)\n",
    "# x = layers.Dense(32, activation='relu', kernel_regularizer=l2(0.01))(latent)\n",
    "# x = layers.Dense(64, activation='relu', kernel_regularizer=l2(0.01))(x)\n",
    "# out = layers.Dense(input_dim, kernel_regularizer=l2(0.01))(x)"
   ]
  },
  {
   "cell_type": "code",
   "execution_count": 293,
   "id": "ceb7929d",
   "metadata": {},
   "outputs": [],
   "source": [
    "autoencoder = keras.Model(inputs=inp, outputs=out, name='genre_autoencoder')\n",
    "encoder = keras.Model(inputs=inp, outputs=latent, name='genre_encoder')"
   ]
  },
  {
   "cell_type": "code",
   "execution_count": 294,
   "id": "975e941a",
   "metadata": {},
   "outputs": [],
   "source": [
    "from keras.optimizers import Adam\n",
    "autoencoder.compile(optimizer=Adam(learning_rate=1e-3), loss='binary_crossentropy')"
   ]
  },
  {
   "cell_type": "code",
   "execution_count": 325,
   "id": "3492acb0",
   "metadata": {},
   "outputs": [],
   "source": [
    "# def add_noise(X, noise_factor=0.3):\n",
    "#     noisy = X.copy()\n",
    "#     mask = np.random.binomial(1, 1 - noise_factor, size=X.shape)\n",
    "#     return X * mask\n",
    "X_noisy = X_item.copy()\n",
    "# X_noisy = add_noise(X_item, noise_factor=0.3)"
   ]
  },
  {
   "cell_type": "code",
   "execution_count": 326,
   "id": "45e3f0ee",
   "metadata": {},
   "outputs": [
    {
     "name": "stdout",
     "output_type": "stream",
     "text": [
      "Epoch 1/30\n",
      "299/299 - 0s - 918us/step - loss: 2.1003e-05 - val_loss: 0.0185\n",
      "Epoch 2/30\n",
      "299/299 - 0s - 817us/step - loss: 7.0809e-05 - val_loss: 0.0197\n",
      "Epoch 3/30\n",
      "299/299 - 0s - 829us/step - loss: 9.2088e-05 - val_loss: 0.0194\n",
      "Epoch 4/30\n",
      "299/299 - 0s - 828us/step - loss: 8.8875e-05 - val_loss: 0.0196\n",
      "Epoch 5/30\n",
      "299/299 - 0s - 831us/step - loss: 4.0961e-05 - val_loss: 0.0192\n",
      "Epoch 6/30\n",
      "299/299 - 0s - 847us/step - loss: 6.4300e-05 - val_loss: 0.0192\n",
      "Epoch 7/30\n",
      "299/299 - 0s - 968us/step - loss: 4.6962e-05 - val_loss: 0.0203\n",
      "Epoch 8/30\n",
      "299/299 - 0s - 822us/step - loss: 6.5376e-05 - val_loss: 0.0197\n",
      "Epoch 9/30\n",
      "299/299 - 0s - 842us/step - loss: 9.7459e-05 - val_loss: 0.0198\n",
      "Epoch 10/30\n",
      "299/299 - 0s - 823us/step - loss: 2.9607e-05 - val_loss: 0.0202\n",
      "Epoch 11/30\n",
      "299/299 - 0s - 840us/step - loss: 5.8774e-06 - val_loss: 0.0206\n",
      "Epoch 12/30\n",
      "299/299 - 0s - 976us/step - loss: 2.5289e-05 - val_loss: 0.0204\n",
      "Epoch 13/30\n",
      "299/299 - 0s - 852us/step - loss: 1.1551e-04 - val_loss: 0.0206\n",
      "Epoch 14/30\n",
      "299/299 - 0s - 827us/step - loss: 5.3230e-05 - val_loss: 0.0192\n",
      "Epoch 15/30\n",
      "299/299 - 0s - 807us/step - loss: 6.5184e-05 - val_loss: 0.0196\n",
      "Epoch 16/30\n",
      "299/299 - 0s - 806us/step - loss: 3.6704e-05 - val_loss: 0.0198\n",
      "Epoch 17/30\n",
      "299/299 - 0s - 837us/step - loss: 2.2704e-05 - val_loss: 0.0183\n",
      "Epoch 18/30\n",
      "299/299 - 0s - 821us/step - loss: 3.7215e-05 - val_loss: 0.0206\n",
      "Epoch 19/30\n",
      "299/299 - 0s - 813us/step - loss: 8.6459e-06 - val_loss: 0.0207\n",
      "Epoch 20/30\n",
      "299/299 - 0s - 813us/step - loss: 4.0489e-06 - val_loss: 0.0204\n",
      "Epoch 21/30\n",
      "299/299 - 0s - 814us/step - loss: 8.5564e-05 - val_loss: 0.0218\n",
      "Epoch 22/30\n",
      "299/299 - 0s - 823us/step - loss: 9.8460e-05 - val_loss: 0.0201\n",
      "Epoch 23/30\n",
      "299/299 - 0s - 809us/step - loss: 5.4677e-05 - val_loss: 0.0201\n",
      "Epoch 24/30\n",
      "299/299 - 0s - 813us/step - loss: 2.6953e-05 - val_loss: 0.0221\n",
      "Epoch 25/30\n",
      "299/299 - 0s - 812us/step - loss: 2.6837e-05 - val_loss: 0.0206\n",
      "Epoch 26/30\n",
      "299/299 - 0s - 817us/step - loss: 8.3153e-05 - val_loss: 0.0210\n",
      "Epoch 27/30\n",
      "299/299 - 0s - 814us/step - loss: 6.8332e-05 - val_loss: 0.0207\n",
      "Epoch 28/30\n",
      "299/299 - 0s - 813us/step - loss: 1.5327e-05 - val_loss: 0.0211\n",
      "Epoch 29/30\n",
      "299/299 - 0s - 815us/step - loss: 4.4648e-05 - val_loss: 0.0206\n",
      "Epoch 30/30\n",
      "299/299 - 0s - 814us/step - loss: 1.7632e-05 - val_loss: 0.0217\n"
     ]
    }
   ],
   "source": [
    "history = autoencoder.fit(\n",
    "    X_noisy, X_item,\n",
    "    epochs = 30,\n",
    "    batch_size = 64,\n",
    "    validation_split= 0.3,\n",
    "    verbose = 2\n",
    ")"
   ]
  },
  {
   "cell_type": "code",
   "execution_count": 327,
   "id": "869eae95",
   "metadata": {},
   "outputs": [
    {
     "name": "stdout",
     "output_type": "stream",
     "text": [
      "\u001b[1m107/107\u001b[0m \u001b[32m━━━━━━━━━━━━━━━━━━━━\u001b[0m\u001b[37m\u001b[0m \u001b[1m0s\u001b[0m 339us/step\n"
     ]
    }
   ],
   "source": [
    "item_embeddings = encoder.predict(X_item, batch_size=256)  # shape (n_items,32)"
   ]
  },
  {
   "cell_type": "code",
   "execution_count": 328,
   "id": "79409669",
   "metadata": {},
   "outputs": [],
   "source": [
    "embedding_norms = np.linalg.norm(item_embeddings, axis=1, keepdims=True)\n",
    "embeddings_normalized = item_embeddings / embedding_norms"
   ]
  },
  {
   "cell_type": "code",
   "execution_count": 329,
   "id": "5edfa5f3",
   "metadata": {},
   "outputs": [],
   "source": [
    "K = 5"
   ]
  },
  {
   "cell_type": "code",
   "execution_count": 330,
   "id": "7a95f65d",
   "metadata": {},
   "outputs": [],
   "source": [
    "# item_features.iloc[1].movieId"
   ]
  },
  {
   "cell_type": "code",
   "execution_count": 331,
   "id": "69bb7422",
   "metadata": {},
   "outputs": [
    {
     "data": {
      "text/plain": [
       "[644560]"
      ]
     },
     "execution_count": 331,
     "metadata": {},
     "output_type": "execute_result"
    }
   ],
   "source": [
    "movieIds"
   ]
  },
  {
   "cell_type": "code",
   "execution_count": 332,
   "id": "cf6b15c7",
   "metadata": {},
   "outputs": [],
   "source": [
    "# movie_ids = [int(item_features.iloc[1].movieId), int(item_features.iloc[5].movieId)]"
   ]
  },
  {
   "cell_type": "code",
   "execution_count": 333,
   "id": "36a7117a",
   "metadata": {},
   "outputs": [],
   "source": [
    "# movie_ids"
   ]
  },
  {
   "cell_type": "code",
   "execution_count": 334,
   "id": "08d14598",
   "metadata": {},
   "outputs": [],
   "source": [
    "# movie_ids = list(item_features[:50].movieId)"
   ]
  },
  {
   "cell_type": "code",
   "execution_count": 335,
   "id": "6241b75b",
   "metadata": {},
   "outputs": [
    {
     "data": {
      "text/html": [
       "<div>\n",
       "<style scoped>\n",
       "    .dataframe tbody tr th:only-of-type {\n",
       "        vertical-align: middle;\n",
       "    }\n",
       "\n",
       "    .dataframe tbody tr th {\n",
       "        vertical-align: top;\n",
       "    }\n",
       "\n",
       "    .dataframe thead th {\n",
       "        text-align: right;\n",
       "    }\n",
       "</style>\n",
       "<table border=\"1\" class=\"dataframe\">\n",
       "  <thead>\n",
       "    <tr style=\"text-align: right;\">\n",
       "      <th></th>\n",
       "      <th>360 Video</th>\n",
       "      <th>Accounting</th>\n",
       "      <th>Action</th>\n",
       "      <th>Additional High-Quality Audio</th>\n",
       "      <th>Adventure</th>\n",
       "      <th>Akció</th>\n",
       "      <th>Aksiyon</th>\n",
       "      <th>Animation &amp; Modeling</th>\n",
       "      <th>Audio Production</th>\n",
       "      <th>Aventura</th>\n",
       "      <th>...</th>\n",
       "      <th>冒险</th>\n",
       "      <th>动作</th>\n",
       "      <th>大型多人在线</th>\n",
       "      <th>抢先体验</th>\n",
       "      <th>模拟</th>\n",
       "      <th>無料プレイ</th>\n",
       "      <th>独立</th>\n",
       "      <th>竞速</th>\n",
       "      <th>策略</th>\n",
       "      <th>角色扮演</th>\n",
       "    </tr>\n",
       "  </thead>\n",
       "  <tbody>\n",
       "    <tr>\n",
       "      <th>0</th>\n",
       "      <td>0</td>\n",
       "      <td>0</td>\n",
       "      <td>1</td>\n",
       "      <td>0</td>\n",
       "      <td>0</td>\n",
       "      <td>0</td>\n",
       "      <td>0</td>\n",
       "      <td>0</td>\n",
       "      <td>0</td>\n",
       "      <td>0</td>\n",
       "      <td>...</td>\n",
       "      <td>0</td>\n",
       "      <td>0</td>\n",
       "      <td>0</td>\n",
       "      <td>0</td>\n",
       "      <td>0</td>\n",
       "      <td>0</td>\n",
       "      <td>0</td>\n",
       "      <td>0</td>\n",
       "      <td>0</td>\n",
       "      <td>0</td>\n",
       "    </tr>\n",
       "    <tr>\n",
       "      <th>1</th>\n",
       "      <td>0</td>\n",
       "      <td>0</td>\n",
       "      <td>0</td>\n",
       "      <td>0</td>\n",
       "      <td>1</td>\n",
       "      <td>0</td>\n",
       "      <td>0</td>\n",
       "      <td>0</td>\n",
       "      <td>0</td>\n",
       "      <td>0</td>\n",
       "      <td>...</td>\n",
       "      <td>0</td>\n",
       "      <td>0</td>\n",
       "      <td>0</td>\n",
       "      <td>0</td>\n",
       "      <td>0</td>\n",
       "      <td>0</td>\n",
       "      <td>0</td>\n",
       "      <td>0</td>\n",
       "      <td>0</td>\n",
       "      <td>0</td>\n",
       "    </tr>\n",
       "    <tr>\n",
       "      <th>2</th>\n",
       "      <td>0</td>\n",
       "      <td>0</td>\n",
       "      <td>0</td>\n",
       "      <td>0</td>\n",
       "      <td>1</td>\n",
       "      <td>0</td>\n",
       "      <td>0</td>\n",
       "      <td>0</td>\n",
       "      <td>0</td>\n",
       "      <td>0</td>\n",
       "      <td>...</td>\n",
       "      <td>0</td>\n",
       "      <td>0</td>\n",
       "      <td>0</td>\n",
       "      <td>0</td>\n",
       "      <td>0</td>\n",
       "      <td>0</td>\n",
       "      <td>0</td>\n",
       "      <td>0</td>\n",
       "      <td>0</td>\n",
       "      <td>0</td>\n",
       "    </tr>\n",
       "    <tr>\n",
       "      <th>3</th>\n",
       "      <td>0</td>\n",
       "      <td>0</td>\n",
       "      <td>0</td>\n",
       "      <td>0</td>\n",
       "      <td>0</td>\n",
       "      <td>0</td>\n",
       "      <td>0</td>\n",
       "      <td>0</td>\n",
       "      <td>0</td>\n",
       "      <td>0</td>\n",
       "      <td>...</td>\n",
       "      <td>0</td>\n",
       "      <td>0</td>\n",
       "      <td>0</td>\n",
       "      <td>0</td>\n",
       "      <td>0</td>\n",
       "      <td>0</td>\n",
       "      <td>0</td>\n",
       "      <td>0</td>\n",
       "      <td>0</td>\n",
       "      <td>0</td>\n",
       "    </tr>\n",
       "    <tr>\n",
       "      <th>4</th>\n",
       "      <td>0</td>\n",
       "      <td>0</td>\n",
       "      <td>0</td>\n",
       "      <td>0</td>\n",
       "      <td>0</td>\n",
       "      <td>0</td>\n",
       "      <td>0</td>\n",
       "      <td>0</td>\n",
       "      <td>0</td>\n",
       "      <td>0</td>\n",
       "      <td>...</td>\n",
       "      <td>0</td>\n",
       "      <td>0</td>\n",
       "      <td>0</td>\n",
       "      <td>0</td>\n",
       "      <td>0</td>\n",
       "      <td>0</td>\n",
       "      <td>0</td>\n",
       "      <td>0</td>\n",
       "      <td>0</td>\n",
       "      <td>0</td>\n",
       "    </tr>\n",
       "    <tr>\n",
       "      <th>...</th>\n",
       "      <td>...</td>\n",
       "      <td>...</td>\n",
       "      <td>...</td>\n",
       "      <td>...</td>\n",
       "      <td>...</td>\n",
       "      <td>...</td>\n",
       "      <td>...</td>\n",
       "      <td>...</td>\n",
       "      <td>...</td>\n",
       "      <td>...</td>\n",
       "      <td>...</td>\n",
       "      <td>...</td>\n",
       "      <td>...</td>\n",
       "      <td>...</td>\n",
       "      <td>...</td>\n",
       "      <td>...</td>\n",
       "      <td>...</td>\n",
       "      <td>...</td>\n",
       "      <td>...</td>\n",
       "      <td>...</td>\n",
       "      <td>...</td>\n",
       "    </tr>\n",
       "    <tr>\n",
       "      <th>27310</th>\n",
       "      <td>0</td>\n",
       "      <td>0</td>\n",
       "      <td>0</td>\n",
       "      <td>0</td>\n",
       "      <td>1</td>\n",
       "      <td>0</td>\n",
       "      <td>0</td>\n",
       "      <td>0</td>\n",
       "      <td>0</td>\n",
       "      <td>0</td>\n",
       "      <td>...</td>\n",
       "      <td>0</td>\n",
       "      <td>0</td>\n",
       "      <td>0</td>\n",
       "      <td>0</td>\n",
       "      <td>0</td>\n",
       "      <td>0</td>\n",
       "      <td>0</td>\n",
       "      <td>0</td>\n",
       "      <td>0</td>\n",
       "      <td>0</td>\n",
       "    </tr>\n",
       "    <tr>\n",
       "      <th>27311</th>\n",
       "      <td>0</td>\n",
       "      <td>0</td>\n",
       "      <td>0</td>\n",
       "      <td>0</td>\n",
       "      <td>0</td>\n",
       "      <td>0</td>\n",
       "      <td>0</td>\n",
       "      <td>0</td>\n",
       "      <td>0</td>\n",
       "      <td>0</td>\n",
       "      <td>...</td>\n",
       "      <td>0</td>\n",
       "      <td>0</td>\n",
       "      <td>0</td>\n",
       "      <td>0</td>\n",
       "      <td>0</td>\n",
       "      <td>0</td>\n",
       "      <td>0</td>\n",
       "      <td>0</td>\n",
       "      <td>0</td>\n",
       "      <td>0</td>\n",
       "    </tr>\n",
       "    <tr>\n",
       "      <th>27312</th>\n",
       "      <td>0</td>\n",
       "      <td>0</td>\n",
       "      <td>0</td>\n",
       "      <td>0</td>\n",
       "      <td>0</td>\n",
       "      <td>0</td>\n",
       "      <td>0</td>\n",
       "      <td>0</td>\n",
       "      <td>0</td>\n",
       "      <td>0</td>\n",
       "      <td>...</td>\n",
       "      <td>0</td>\n",
       "      <td>0</td>\n",
       "      <td>0</td>\n",
       "      <td>0</td>\n",
       "      <td>0</td>\n",
       "      <td>0</td>\n",
       "      <td>0</td>\n",
       "      <td>0</td>\n",
       "      <td>0</td>\n",
       "      <td>0</td>\n",
       "    </tr>\n",
       "    <tr>\n",
       "      <th>27313</th>\n",
       "      <td>0</td>\n",
       "      <td>0</td>\n",
       "      <td>0</td>\n",
       "      <td>0</td>\n",
       "      <td>0</td>\n",
       "      <td>0</td>\n",
       "      <td>0</td>\n",
       "      <td>0</td>\n",
       "      <td>0</td>\n",
       "      <td>0</td>\n",
       "      <td>...</td>\n",
       "      <td>0</td>\n",
       "      <td>0</td>\n",
       "      <td>0</td>\n",
       "      <td>0</td>\n",
       "      <td>0</td>\n",
       "      <td>0</td>\n",
       "      <td>0</td>\n",
       "      <td>0</td>\n",
       "      <td>0</td>\n",
       "      <td>0</td>\n",
       "    </tr>\n",
       "    <tr>\n",
       "      <th>27314</th>\n",
       "      <td>0</td>\n",
       "      <td>0</td>\n",
       "      <td>0</td>\n",
       "      <td>0</td>\n",
       "      <td>0</td>\n",
       "      <td>0</td>\n",
       "      <td>0</td>\n",
       "      <td>0</td>\n",
       "      <td>0</td>\n",
       "      <td>0</td>\n",
       "      <td>...</td>\n",
       "      <td>0</td>\n",
       "      <td>0</td>\n",
       "      <td>0</td>\n",
       "      <td>0</td>\n",
       "      <td>0</td>\n",
       "      <td>0</td>\n",
       "      <td>0</td>\n",
       "      <td>0</td>\n",
       "      <td>0</td>\n",
       "      <td>0</td>\n",
       "    </tr>\n",
       "  </tbody>\n",
       "</table>\n",
       "<p>27315 rows × 134 columns</p>\n",
       "</div>"
      ],
      "text/plain": [
       "       360 Video  Accounting  Action  Additional High-Quality Audio  \\\n",
       "0              0           0       1                              0   \n",
       "1              0           0       0                              0   \n",
       "2              0           0       0                              0   \n",
       "3              0           0       0                              0   \n",
       "4              0           0       0                              0   \n",
       "...          ...         ...     ...                            ...   \n",
       "27310          0           0       0                              0   \n",
       "27311          0           0       0                              0   \n",
       "27312          0           0       0                              0   \n",
       "27313          0           0       0                              0   \n",
       "27314          0           0       0                              0   \n",
       "\n",
       "       Adventure  Akció  Aksiyon  Animation & Modeling  Audio Production  \\\n",
       "0              0      0        0                     0                 0   \n",
       "1              1      0        0                     0                 0   \n",
       "2              1      0        0                     0                 0   \n",
       "3              0      0        0                     0                 0   \n",
       "4              0      0        0                     0                 0   \n",
       "...          ...    ...      ...                   ...               ...   \n",
       "27310          1      0        0                     0                 0   \n",
       "27311          0      0        0                     0                 0   \n",
       "27312          0      0        0                     0                 0   \n",
       "27313          0      0        0                     0                 0   \n",
       "27314          0      0        0                     0                 0   \n",
       "\n",
       "       Aventura  ...  冒险  动作  大型多人在线  抢先体验  模拟  無料プレイ  独立  竞速  策略  角色扮演  \n",
       "0             0  ...   0   0       0     0   0      0   0   0   0     0  \n",
       "1             0  ...   0   0       0     0   0      0   0   0   0     0  \n",
       "2             0  ...   0   0       0     0   0      0   0   0   0     0  \n",
       "3             0  ...   0   0       0     0   0      0   0   0   0     0  \n",
       "4             0  ...   0   0       0     0   0      0   0   0   0     0  \n",
       "...         ...  ...  ..  ..     ...   ...  ..    ...  ..  ..  ..   ...  \n",
       "27310         0  ...   0   0       0     0   0      0   0   0   0     0  \n",
       "27311         0  ...   0   0       0     0   0      0   0   0   0     0  \n",
       "27312         0  ...   0   0       0     0   0      0   0   0   0     0  \n",
       "27313         0  ...   0   0       0     0   0      0   0   0   0     0  \n",
       "27314         0  ...   0   0       0     0   0      0   0   0   0     0  \n",
       "\n",
       "[27315 rows x 134 columns]"
      ]
     },
     "execution_count": 335,
     "metadata": {},
     "output_type": "execute_result"
    }
   ],
   "source": [
    "genre_dummies"
   ]
  },
  {
   "cell_type": "code",
   "execution_count": 336,
   "id": "577583f6",
   "metadata": {},
   "outputs": [],
   "source": [
    "movie_indices = []\n",
    "for movie_id in movieIds:\n",
    "    movie_indices.append(\n",
    "        movie_features_data.index[movie_features_data.movieId == movie_id][0]\n",
    "    )"
   ]
  },
  {
   "cell_type": "code",
   "execution_count": 337,
   "id": "e2d9aace",
   "metadata": {},
   "outputs": [
    {
     "data": {
      "text/plain": [
       "[np.int64(1)]"
      ]
     },
     "execution_count": 337,
     "metadata": {},
     "output_type": "execute_result"
    }
   ],
   "source": [
    "movie_indices"
   ]
  },
  {
   "cell_type": "code",
   "execution_count": 338,
   "id": "44eca895",
   "metadata": {},
   "outputs": [],
   "source": [
    "profile = embeddings_normalized[movie_indices].mean(axis=0)"
   ]
  },
  {
   "cell_type": "code",
   "execution_count": 339,
   "id": "f7ed9104",
   "metadata": {},
   "outputs": [
    {
     "data": {
      "text/plain": [
       "array([0.23655179, 0.14683378, 0.        , 0.28293055, 0.42502123,\n",
       "       0.11170238, 0.02688825, 0.23901558, 0.23452385, 0.10466211,\n",
       "       0.37462884, 0.        , 0.27065235, 0.        , 0.15738729,\n",
       "       0.        , 0.08638987, 0.10667802, 0.        , 0.03986287,\n",
       "       0.16032104, 0.09506398, 0.01449879, 0.14718994, 0.05581424,\n",
       "       0.18769814, 0.19806798, 0.21716522, 0.20603059, 0.16722308,\n",
       "       0.1222233 , 0.        ], dtype=float32)"
      ]
     },
     "execution_count": 339,
     "metadata": {},
     "output_type": "execute_result"
    }
   ],
   "source": [
    "profile"
   ]
  },
  {
   "cell_type": "code",
   "execution_count": 340,
   "id": "6961d26e",
   "metadata": {},
   "outputs": [],
   "source": [
    "similarity_scores = embeddings_normalized.dot(profile)"
   ]
  },
  {
   "cell_type": "code",
   "execution_count": 341,
   "id": "0c48a338",
   "metadata": {},
   "outputs": [
    {
     "data": {
      "text/plain": [
       "(np.float32(0.41404706), np.float32(1.0))"
      ]
     },
     "execution_count": 341,
     "metadata": {},
     "output_type": "execute_result"
    }
   ],
   "source": [
    "min(similarity_scores), max(similarity_scores)"
   ]
  },
  {
   "cell_type": "code",
   "execution_count": 342,
   "id": "bc160c72",
   "metadata": {},
   "outputs": [],
   "source": [
    "for ind in movie_indices:\n",
    "    similarity_scores[ind] = -1.0"
   ]
  },
  {
   "cell_type": "code",
   "execution_count": 343,
   "id": "6dad5d46",
   "metadata": {},
   "outputs": [
    {
     "data": {
      "text/plain": [
       "array([ 0.748521 , -1.       ,  0.9125961, ...,  0.8148718,  0.8148718,\n",
       "        0.8148718], shape=(27315,), dtype=float32)"
      ]
     },
     "execution_count": 343,
     "metadata": {},
     "output_type": "execute_result"
    }
   ],
   "source": [
    "similarity_scores"
   ]
  },
  {
   "cell_type": "code",
   "execution_count": 344,
   "id": "6c85106c",
   "metadata": {},
   "outputs": [
    {
     "data": {
      "text/plain": [
       "array([ 6757,  7659, 16829,  1164,  1156])"
      ]
     },
     "execution_count": 344,
     "metadata": {},
     "output_type": "execute_result"
    }
   ],
   "source": [
    "top_k = np.argsort(similarity_scores)[-K:][::-1]\n",
    "bottom_k = np.argsort(similarity_scores)[:K]\n",
    "# top_k = np.argsort(similarity_scores)[-K:][::-1]\n",
    "top_k"
   ]
  },
  {
   "cell_type": "code",
   "execution_count": 345,
   "id": "30a24365",
   "metadata": {},
   "outputs": [
    {
     "data": {
      "text/plain": [
       "6757      645690\n",
       "7659     1658150\n",
       "16829    2231560\n",
       "1164     1939160\n",
       "1156     1939560\n",
       "Name: movieId, dtype: int64"
      ]
     },
     "execution_count": 345,
     "metadata": {},
     "output_type": "execute_result"
    }
   ],
   "source": [
    "# recommended_movie_ids = item_features.iloc[bottom_k]['movieId']\n",
    "recommended_movie_ids = movie_features_data.iloc[top_k]['movieId']\n",
    "recommended_movie_ids"
   ]
  },
  {
   "cell_type": "code",
   "execution_count": 346,
   "id": "47ff66c8",
   "metadata": {},
   "outputs": [
    {
     "data": {
      "text/plain": [
       "array([1., 1., 1., 1., 1.], dtype=float32)"
      ]
     },
     "execution_count": 346,
     "metadata": {},
     "output_type": "execute_result"
    }
   ],
   "source": [
    "recommended_similarity_scores = similarity_scores[top_k]\n",
    "recommended_similarity_scores"
   ]
  },
  {
   "cell_type": "code",
   "execution_count": 347,
   "id": "625f84f7",
   "metadata": {},
   "outputs": [],
   "source": [
    "recommended_df = pd.DataFrame({\n",
    "    'movieId': recommended_movie_ids,\n",
    "    'similarity_score': np.round(recommended_similarity_scores, 4)\n",
    "})"
   ]
  },
  {
   "cell_type": "code",
   "execution_count": 348,
   "id": "6fbaa41f",
   "metadata": {},
   "outputs": [
    {
     "data": {
      "text/html": [
       "<div>\n",
       "<style scoped>\n",
       "    .dataframe tbody tr th:only-of-type {\n",
       "        vertical-align: middle;\n",
       "    }\n",
       "\n",
       "    .dataframe tbody tr th {\n",
       "        vertical-align: top;\n",
       "    }\n",
       "\n",
       "    .dataframe thead th {\n",
       "        text-align: right;\n",
       "    }\n",
       "</style>\n",
       "<table border=\"1\" class=\"dataframe\">\n",
       "  <thead>\n",
       "    <tr style=\"text-align: right;\">\n",
       "      <th></th>\n",
       "      <th>movieId</th>\n",
       "      <th>similarity_score</th>\n",
       "      <th>title</th>\n",
       "      <th>genres</th>\n",
       "    </tr>\n",
       "  </thead>\n",
       "  <tbody>\n",
       "    <tr>\n",
       "      <th>0</th>\n",
       "      <td>645690</td>\n",
       "      <td>1.0</td>\n",
       "      <td>Fantasia of the Wind - 风之幻想曲</td>\n",
       "      <td>Adventure|Indie|RPG</td>\n",
       "    </tr>\n",
       "    <tr>\n",
       "      <th>1</th>\n",
       "      <td>1658150</td>\n",
       "      <td>1.0</td>\n",
       "      <td>Moonstone Island</td>\n",
       "      <td>Adventure|Indie|RPG</td>\n",
       "    </tr>\n",
       "    <tr>\n",
       "      <th>2</th>\n",
       "      <td>2231560</td>\n",
       "      <td>1.0</td>\n",
       "      <td>Araka~JK Exorcist Horror RPG</td>\n",
       "      <td>Adventure|Indie|RPG</td>\n",
       "    </tr>\n",
       "    <tr>\n",
       "      <th>3</th>\n",
       "      <td>1939160</td>\n",
       "      <td>1.0</td>\n",
       "      <td>Shadows Over Loathing</td>\n",
       "      <td>Adventure|Indie|RPG</td>\n",
       "    </tr>\n",
       "    <tr>\n",
       "      <th>4</th>\n",
       "      <td>1939560</td>\n",
       "      <td>1.0</td>\n",
       "      <td>镇邪 Zhenxie</td>\n",
       "      <td>Adventure|Indie|RPG</td>\n",
       "    </tr>\n",
       "  </tbody>\n",
       "</table>\n",
       "</div>"
      ],
      "text/plain": [
       "   movieId  similarity_score                         title  \\\n",
       "0   645690               1.0  Fantasia of the Wind - 风之幻想曲   \n",
       "1  1658150               1.0              Moonstone Island   \n",
       "2  2231560               1.0  Araka~JK Exorcist Horror RPG   \n",
       "3  1939160               1.0         Shadows Over Loathing   \n",
       "4  1939560               1.0                    镇邪 Zhenxie   \n",
       "\n",
       "                genres  \n",
       "0  Adventure|Indie|RPG  \n",
       "1  Adventure|Indie|RPG  \n",
       "2  Adventure|Indie|RPG  \n",
       "3  Adventure|Indie|RPG  \n",
       "4  Adventure|Indie|RPG  "
      ]
     },
     "execution_count": 348,
     "metadata": {},
     "output_type": "execute_result"
    }
   ],
   "source": [
    "# Perform the merge and reset the index for better readability\n",
    "merged_df = recommended_df.merge(movies_data_clean, on='movieId', how='left')\n",
    "merged_df.head()"
   ]
  },
  {
   "cell_type": "code",
   "execution_count": 349,
   "id": "6626d18f",
   "metadata": {},
   "outputs": [
    {
     "data": {
      "text/html": [
       "<div>\n",
       "<style scoped>\n",
       "    .dataframe tbody tr th:only-of-type {\n",
       "        vertical-align: middle;\n",
       "    }\n",
       "\n",
       "    .dataframe tbody tr th {\n",
       "        vertical-align: top;\n",
       "    }\n",
       "\n",
       "    .dataframe thead th {\n",
       "        text-align: right;\n",
       "    }\n",
       "</style>\n",
       "<table border=\"1\" class=\"dataframe\">\n",
       "  <thead>\n",
       "    <tr style=\"text-align: right;\">\n",
       "      <th></th>\n",
       "      <th>movieId</th>\n",
       "      <th>title</th>\n",
       "      <th>genres</th>\n",
       "    </tr>\n",
       "  </thead>\n",
       "  <tbody>\n",
       "    <tr>\n",
       "      <th>0</th>\n",
       "      <td>550</td>\n",
       "      <td>Left 4 Dead 2</td>\n",
       "      <td>Action</td>\n",
       "    </tr>\n",
       "    <tr>\n",
       "      <th>1</th>\n",
       "      <td>644560</td>\n",
       "      <td>Mirror</td>\n",
       "      <td>Adventure|Indie|RPG</td>\n",
       "    </tr>\n",
       "    <tr>\n",
       "      <th>2</th>\n",
       "      <td>264710</td>\n",
       "      <td>Subnautica</td>\n",
       "      <td>Adventure|Indie</td>\n",
       "    </tr>\n",
       "    <tr>\n",
       "      <th>3</th>\n",
       "      <td>294100</td>\n",
       "      <td>RimWorld</td>\n",
       "      <td>Indie|Simulation|Strategy</td>\n",
       "    </tr>\n",
       "    <tr>\n",
       "      <th>4</th>\n",
       "      <td>413150</td>\n",
       "      <td>Stardew Valley</td>\n",
       "      <td>Indie|RPG|Simulation</td>\n",
       "    </tr>\n",
       "  </tbody>\n",
       "</table>\n",
       "</div>"
      ],
      "text/plain": [
       "   movieId           title                     genres\n",
       "0      550   Left 4 Dead 2                     Action\n",
       "1   644560          Mirror        Adventure|Indie|RPG\n",
       "2   264710      Subnautica            Adventure|Indie\n",
       "3   294100        RimWorld  Indie|Simulation|Strategy\n",
       "4   413150  Stardew Valley       Indie|RPG|Simulation"
      ]
     },
     "execution_count": 349,
     "metadata": {},
     "output_type": "execute_result"
    }
   ],
   "source": [
    "movies_data_clean.head()"
   ]
  },
  {
   "cell_type": "code",
   "execution_count": 350,
   "id": "e4162252",
   "metadata": {},
   "outputs": [
    {
     "data": {
      "image/png": "[encoded data removed]",
      "text/plain": [
       "<Figure size 640x480 with 1 Axes>"
      ]
     },
     "metadata": {},
     "output_type": "display_data"
    }
   ],
   "source": [
    "import matplotlib.pyplot as plt\n",
    "plt.hist(similarity_scores, bins=50)\n",
    "plt.title(\"Distribution of similarity scores\")\n",
    "plt.show()\n"
   ]
  },
  {
   "cell_type": "code",
   "execution_count": 351,
   "id": "2d56bb88",
   "metadata": {},
   "outputs": [],
   "source": [
    "# from sklearn.decomposition import PCA\n",
    "# pca = PCA(n_components=32)\n",
    "# item_embeddings = pca.fit_transform(X_item)"
   ]
  },
  {
   "cell_type": "code",
   "execution_count": 352,
   "id": "221a10b3",
   "metadata": {},
   "outputs": [],
   "source": [
    "# item_embeddings"
   ]
  },
  {
   "cell_type": "code",
   "execution_count": 353,
   "id": "fba71ca9",
   "metadata": {},
   "outputs": [],
   "source": [
    "def recommend_similar_movies(movie_ids, embeddings_normalized, movies_data_clean, K=5):\n",
    "    movie_indices = []\n",
    "    for movie_id in movie_ids:\n",
    "        movie_indices.append(\n",
    "            item_features.index[item_features.movieId == movie_id][0]\n",
    "        )\n",
    "        \n",
    "    profile = embeddings_normalized[movie_indices].mean(axis=0)\n",
    "    print(profile)\n",
    "    input()\n",
    "    similarity_scores = embeddings_normalized.dot(profile)\n",
    "    print(min(similarity_scores), max(similarity_scores))\n",
    "    \n",
    "    for ind in movie_indices:\n",
    "        similarity_scores[ind] = -1.0\n",
    "    \n",
    "    top_k = np.argsort(similarity_scores)[-K:][::-1]\n",
    "    recommended_movie_ids = item_features.iloc[top_k]['movieId']\n",
    "    recommended_similarity_scores = similarity_scores[top_k]\n",
    "    \n",
    "    recommended_df = pd.DataFrame({\n",
    "        'movieId': recommended_movie_ids,\n",
    "        'similarity_score': np.round(recommended_similarity_scores, 4)\n",
    "    })\n",
    "    \n",
    "    return recommended_df.join(\n",
    "        movies_data_clean.set_index('movieId'), \n",
    "        on='movieId', \n",
    "        how='left'\n",
    "    )[['movieId', 'title', 'genres','similarity_score']]"
   ]
  },
  {
   "cell_type": "code",
   "execution_count": 354,
   "id": "af3e19cf",
   "metadata": {},
   "outputs": [
    {
     "ename": "AttributeError",
     "evalue": "'DataFrame' object has no attribute 'movieId'",
     "output_type": "error",
     "traceback": [
      "\u001b[0;31m---------------------------------------------------------------------------\u001b[0m",
      "\u001b[0;31mAttributeError\u001b[0m                            Traceback (most recent call last)",
      "\u001b[0;32m/var/folders/sr/kk6cvpy92zvfzcj5gr5l6c6h0000gn/T/ipykernel_97553/2661181474.py\u001b[0m in \u001b[0;36m?\u001b[0;34m()\u001b[0m\n\u001b[1;32m      1\u001b[0m \u001b[0mmovie_indices\u001b[0m \u001b[0;34m=\u001b[0m \u001b[0;34m[\u001b[0m\u001b[0;34m]\u001b[0m\u001b[0;34m\u001b[0m\u001b[0;34m\u001b[0m\u001b[0m\n\u001b[1;32m      2\u001b[0m \u001b[0;32mfor\u001b[0m \u001b[0mmovie_id\u001b[0m \u001b[0;32min\u001b[0m \u001b[0mmovie_ids\u001b[0m\u001b[0;34m[\u001b[0m\u001b[0;34m:\u001b[0m\u001b[0;36m5\u001b[0m\u001b[0;34m]\u001b[0m\u001b[0;34m:\u001b[0m\u001b[0;34m\u001b[0m\u001b[0;34m\u001b[0m\u001b[0m\n\u001b[1;32m      3\u001b[0m     movie_indices.append(\n\u001b[0;32m----> 4\u001b[0;31m         \u001b[0mitem_features\u001b[0m\u001b[0;34m.\u001b[0m\u001b[0mindex\u001b[0m\u001b[0;34m[\u001b[0m\u001b[0mitem_features\u001b[0m\u001b[0;34m.\u001b[0m\u001b[0mmovieId\u001b[0m \u001b[0;34m==\u001b[0m \u001b[0mmovie_id\u001b[0m\u001b[0;34m]\u001b[0m\u001b[0;34m[\u001b[0m\u001b[0;36m0\u001b[0m\u001b[0;34m]\u001b[0m\u001b[0;34m\u001b[0m\u001b[0;34m\u001b[0m\u001b[0m\n\u001b[0m\u001b[1;32m      5\u001b[0m     )\n",
      "\u001b[0;32m/opt/homebrew/Caskroom/miniconda/base/envs/recc_env/lib/python3.10/site-packages/pandas/core/generic.py\u001b[0m in \u001b[0;36m?\u001b[0;34m(self, name)\u001b[0m\n\u001b[1;32m   6295\u001b[0m             \u001b[0;32mand\u001b[0m \u001b[0mname\u001b[0m \u001b[0;32mnot\u001b[0m \u001b[0;32min\u001b[0m \u001b[0mself\u001b[0m\u001b[0;34m.\u001b[0m\u001b[0m_accessors\u001b[0m\u001b[0;34m\u001b[0m\u001b[0;34m\u001b[0m\u001b[0m\n\u001b[1;32m   6296\u001b[0m             \u001b[0;32mand\u001b[0m \u001b[0mself\u001b[0m\u001b[0;34m.\u001b[0m\u001b[0m_info_axis\u001b[0m\u001b[0;34m.\u001b[0m\u001b[0m_can_hold_identifiers_and_holds_name\u001b[0m\u001b[0;34m(\u001b[0m\u001b[0mname\u001b[0m\u001b[0;34m)\u001b[0m\u001b[0;34m\u001b[0m\u001b[0;34m\u001b[0m\u001b[0m\n\u001b[1;32m   6297\u001b[0m         ):\n\u001b[1;32m   6298\u001b[0m             \u001b[0;32mreturn\u001b[0m \u001b[0mself\u001b[0m\u001b[0;34m[\u001b[0m\u001b[0mname\u001b[0m\u001b[0;34m]\u001b[0m\u001b[0;34m\u001b[0m\u001b[0;34m\u001b[0m\u001b[0m\n\u001b[0;32m-> 6299\u001b[0;31m         \u001b[0;32mreturn\u001b[0m \u001b[0mobject\u001b[0m\u001b[0;34m.\u001b[0m\u001b[0m__getattribute__\u001b[0m\u001b[0;34m(\u001b[0m\u001b[0mself\u001b[0m\u001b[0;34m,\u001b[0m \u001b[0mname\u001b[0m\u001b[0;34m)\u001b[0m\u001b[0;34m\u001b[0m\u001b[0;34m\u001b[0m\u001b[0m\n\u001b[0m",
      "\u001b[0;31mAttributeError\u001b[0m: 'DataFrame' object has no attribute 'movieId'"
     ]
    }
   ],
   "source": [
    "movie_indices = []\n",
    "for movie_id in movie_ids[:5]:\n",
    "    movie_indices.append(\n",
    "        item_features.index[item_features.movieId == movie_id][0]\n",
    "    )"
   ]
  },
  {
   "cell_type": "code",
   "execution_count": 211,
   "id": "3d97b84f",
   "metadata": {},
   "outputs": [
    {
     "data": {
      "text/plain": [
       "[np.int64(1), np.int64(5)]"
      ]
     },
     "execution_count": 211,
     "metadata": {},
     "output_type": "execute_result"
    }
   ],
   "source": [
    "movie_indices"
   ]
  },
  {
   "cell_type": "code",
   "execution_count": 212,
   "id": "3f64d2d0",
   "metadata": {},
   "outputs": [
    {
     "name": "stdout",
     "output_type": "stream",
     "text": [
      "[-1.00000000e+00  1.65786782e-06  3.54110650e-07 -5.65779566e-08\n",
      "  9.83228354e-07 -8.58724327e-07 -8.27015735e-07 -9.98516002e-07\n",
      "  3.39098614e-07  1.72620378e-06 -1.39238459e-07 -2.65231180e-07\n",
      " -4.91611264e-08 -5.87473673e-08 -1.26986150e-07 -3.48753427e-08\n",
      " -2.15475750e-08 -1.17989643e-08  7.87585434e-09 -3.48835726e-09\n",
      " -1.38520223e-08  4.79883083e-09 -1.57769479e-09  5.89338788e-10\n",
      "  3.32602035e-10 -3.98409860e-09 -4.93718832e-09 -2.35200043e-09\n",
      "  3.69000577e-09  2.61665429e-09  3.79100406e-10  1.45896167e-09]\n",
      "-0.999999999990889 0.9999999999917526\n"
     ]
    },
    {
     "data": {
      "text/html": [
       "<div>\n",
       "<style scoped>\n",
       "    .dataframe tbody tr th:only-of-type {\n",
       "        vertical-align: middle;\n",
       "    }\n",
       "\n",
       "    .dataframe tbody tr th {\n",
       "        vertical-align: top;\n",
       "    }\n",
       "\n",
       "    .dataframe thead th {\n",
       "        text-align: right;\n",
       "    }\n",
       "</style>\n",
       "<table border=\"1\" class=\"dataframe\">\n",
       "  <thead>\n",
       "    <tr style=\"text-align: right;\">\n",
       "      <th></th>\n",
       "      <th>movieId</th>\n",
       "      <th>title</th>\n",
       "      <th>genres</th>\n",
       "      <th>similarity_score</th>\n",
       "    </tr>\n",
       "  </thead>\n",
       "  <tbody>\n",
       "    <tr>\n",
       "      <th>7066</th>\n",
       "      <td>315840</td>\n",
       "      <td>Catacomb Kids</td>\n",
       "      <td>Action|Indie|RPG|Early Access</td>\n",
       "      <td>1.0</td>\n",
       "    </tr>\n",
       "    <tr>\n",
       "      <th>13713</th>\n",
       "      <td>311800</td>\n",
       "      <td>Black Ice</td>\n",
       "      <td>Action|Indie|RPG|Early Access</td>\n",
       "      <td>1.0</td>\n",
       "    </tr>\n",
       "    <tr>\n",
       "      <th>5848</th>\n",
       "      <td>347600</td>\n",
       "      <td>Total Miner</td>\n",
       "      <td>Action|Adventure|Indie|RPG|Early Access</td>\n",
       "      <td>1.0</td>\n",
       "    </tr>\n",
       "    <tr>\n",
       "      <th>20245</th>\n",
       "      <td>361330</td>\n",
       "      <td>Shrooms</td>\n",
       "      <td>Action|Adventure|Indie|RPG|Early Access</td>\n",
       "      <td>1.0</td>\n",
       "    </tr>\n",
       "    <tr>\n",
       "      <th>7535</th>\n",
       "      <td>332500</td>\n",
       "      <td>GRAV</td>\n",
       "      <td>Action|Adventure|Indie|RPG|Early Access</td>\n",
       "      <td>1.0</td>\n",
       "    </tr>\n",
       "  </tbody>\n",
       "</table>\n",
       "</div>"
      ],
      "text/plain": [
       "       movieId          title                                   genres  \\\n",
       "7066    315840  Catacomb Kids            Action|Indie|RPG|Early Access   \n",
       "13713   311800      Black Ice            Action|Indie|RPG|Early Access   \n",
       "5848    347600    Total Miner  Action|Adventure|Indie|RPG|Early Access   \n",
       "20245   361330        Shrooms  Action|Adventure|Indie|RPG|Early Access   \n",
       "7535    332500           GRAV  Action|Adventure|Indie|RPG|Early Access   \n",
       "\n",
       "       similarity_score  \n",
       "7066                1.0  \n",
       "13713               1.0  \n",
       "5848                1.0  \n",
       "20245               1.0  \n",
       "7535                1.0  "
      ]
     },
     "execution_count": 212,
     "metadata": {},
     "output_type": "execute_result"
    }
   ],
   "source": [
    "recommend_similar_movies(list(movie_ids[:6]), embeddings_normalized, movies_data_clean, K=5)"
   ]
  },
  {
   "cell_type": "code",
   "execution_count": 207,
   "id": "ce7f234c",
   "metadata": {},
   "outputs": [],
   "source": [
    "movieIds = list(item_features[1:2].movieId)"
   ]
  },
  {
   "cell_type": "code",
   "execution_count": 208,
   "id": "f9aecf40",
   "metadata": {},
   "outputs": [
    {
     "name": "stdout",
     "output_type": "stream",
     "text": [
      "Mirror :\t\t Adventure|Indie|RPG\n"
     ]
    }
   ],
   "source": [
    "movie_names = movies_data_clean[movies_data_clean['movieId'].isin(movieIds)]['title']\n",
    "# print(movie_names.tolist())\n",
    "movie_genres = movies_data_clean[movies_data_clean['movieId'].isin(movieIds)]['genres']\n",
    "# print(list(zip(movie_names.tolist(), movie_genres.tolist())))\n",
    "for movie_name, movie_genres in zip(movie_names.tolist(), movie_genres.tolist()):\n",
    "    print(movie_name, ':\\t\\t', movie_genres)"
   ]
  },
  {
   "cell_type": "code",
   "execution_count": null,
   "id": "85a3da7a",
   "metadata": {},
   "outputs": [],
   "source": []
  }
 ],
 "metadata": {
  "kernelspec": {
   "display_name": "recc_env",
   "language": "python",
   "name": "python3"
  },
  "language_info": {
   "codemirror_mode": {
    "name": "ipython",
    "version": 3
   },
   "file_extension": ".py",
   "mimetype": "text/x-python",
   "name": "python",
   "nbconvert_exporter": "python",
   "pygments_lexer": "ipython3",
   "version": "3.10.17"
  }
 },
 "nbformat": 4,
 "nbformat_minor": 5
}
