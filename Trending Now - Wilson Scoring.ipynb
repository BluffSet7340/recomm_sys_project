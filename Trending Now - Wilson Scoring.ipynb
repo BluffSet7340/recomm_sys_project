{
 "cells": [
  {
   "cell_type": "code",
   "execution_count": 72,
   "id": "7b533077",
   "metadata": {},
   "outputs": [],
   "source": [
    "import pandas as pd \n",
    "import numpy as np"
   ]
  },
  {
   "cell_type": "markdown",
   "id": "11827ea4",
   "metadata": {},
   "source": [
    "Steam is the leading PC platform for games and has millions of reviews around its games. \n",
    "\n",
    "The dataset contains over 6.4 million publicly available reviews in English from Steam Reviews portion of Steam store run by Valve. Each review is described by review text, the id of game it belongs to, the name of the game, review sentiment (positive or negative) and whether the review was recommended by another user or not"
   ]
  },
  {
   "cell_type": "code",
   "execution_count": 10,
   "id": "8aaa426b",
   "metadata": {},
   "outputs": [],
   "source": [
    "# Reading the CSV file\n",
    "file_path = 'dataset/dataset-kaggle.csv'  # Replace with the actual path to your CSV file\n",
    "df = pd.read_csv(file_path)"
   ]
  },
  {
   "cell_type": "code",
   "execution_count": 11,
   "id": "ef76dd5b",
   "metadata": {},
   "outputs": [
    {
     "data": {
      "application/vnd.microsoft.datawrangler.viewer.v0+json": {
       "columns": [
        {
         "name": "index",
         "rawType": "int64",
         "type": "integer"
        },
        {
         "name": "app_id",
         "rawType": "int64",
         "type": "integer"
        },
        {
         "name": "app_name",
         "rawType": "object",
         "type": "string"
        },
        {
         "name": "review_text",
         "rawType": "object",
         "type": "string"
        },
        {
         "name": "review_score",
         "rawType": "int64",
         "type": "integer"
        },
        {
         "name": "review_votes",
         "rawType": "int64",
         "type": "integer"
        }
       ],
       "conversionMethod": "pd.DataFrame",
       "ref": "eec8e875-f6e9-4fdf-8b2d-927c24ad6034",
       "rows": [
        [
         "0",
         "10",
         "Counter-Strike",
         "Ruined my life.",
         "1",
         "0"
        ],
        [
         "1",
         "10",
         "Counter-Strike",
         "This will be more of a ''my experience with this game'' type of review, because saying things like ''great gameplay'' will not suit something I've experienced with Counter-Strike. Here you go:  I remember back in 2002 I was at a friend's house and he was playing a game. I didn't know the name of the game nor I had internet to find it. A few weeks passed by and another friend came over. He didn't have a computer, so he brought a disc with a game in it. He told me that it was one of the best games and from that very moment I knew that it is going to be the game I saw at the other friend's house. When I saw the Counter-Strike logo I was filled with gamegasm (?) and I was so happy. I was playing it hardcore. Made friends, clans, was involved in communities and even made two myself. Counter-Strike is my first game which I played competitively and it was a such an experience. Playing public servers with mods were very fun, but playing it competitively made it very intense and stressful. In a pleasant way, ofcourse. Looking at the current e-sport scene it might not seem like much but back then it was different.  Shooters these days try to be different, advanced in a way. Sometimes the most simple games like Counter-Strike are the ones that live to this day. Also, there are plenty of mods to keep your attention to this game. The gameplay is very simple - defend as a Counter-Terrorist, attack as a Terrorist to plant the bomb or save the hostages as a CT. I am sure most of you already know this and I doubt there are gamers that haven't heard or know the gameplay of Counter-Strike, so I am sharing here more of my experience.  I wish I could find my CS Anthology account which I've lost since 2008. So, I decided I am going to buy this game again and here you go - more than a thousand hours played. I still play it from time to time to this day and it brings back many great memories and I sometimes even stumble upon people I've played with years ago. I think Counter-Strike changed gaming in a major way and we wouldn't have many games like we have today, if this game wouldn't exist.   I am sure many of people already have played games like CS:GO but never the roots. I doubt any of you will play it for more than an hour, because it's much more simple and it differs a lot in my opinion from CS:GO and modern games. It's harder though.",
         "1",
         "1"
        ],
        [
         "2",
         "10",
         "Counter-Strike",
         "This game saved my virginity.",
         "1",
         "0"
        ],
        [
         "3",
         "10",
         "Counter-Strike",
         "• Do you like original games? • Do you like games that don't lag? • Do you like games you can run on low end PC's? • Do you like games where you don't meet children who have slept with your mother?  Then this is for you!",
         "1",
         "0"
        ],
        [
         "4",
         "10",
         "Counter-Strike",
         "        Easy to learn, hard to master.          ",
         "1",
         "1"
        ]
       ],
       "shape": {
        "columns": 5,
        "rows": 5
       }
      },
      "text/html": [
       "<div>\n",
       "<style scoped>\n",
       "    .dataframe tbody tr th:only-of-type {\n",
       "        vertical-align: middle;\n",
       "    }\n",
       "\n",
       "    .dataframe tbody tr th {\n",
       "        vertical-align: top;\n",
       "    }\n",
       "\n",
       "    .dataframe thead th {\n",
       "        text-align: right;\n",
       "    }\n",
       "</style>\n",
       "<table border=\"1\" class=\"dataframe\">\n",
       "  <thead>\n",
       "    <tr style=\"text-align: right;\">\n",
       "      <th></th>\n",
       "      <th>app_id</th>\n",
       "      <th>app_name</th>\n",
       "      <th>review_text</th>\n",
       "      <th>review_score</th>\n",
       "      <th>review_votes</th>\n",
       "    </tr>\n",
       "  </thead>\n",
       "  <tbody>\n",
       "    <tr>\n",
       "      <th>0</th>\n",
       "      <td>10</td>\n",
       "      <td>Counter-Strike</td>\n",
       "      <td>Ruined my life.</td>\n",
       "      <td>1</td>\n",
       "      <td>0</td>\n",
       "    </tr>\n",
       "    <tr>\n",
       "      <th>1</th>\n",
       "      <td>10</td>\n",
       "      <td>Counter-Strike</td>\n",
       "      <td>This will be more of a ''my experience with th...</td>\n",
       "      <td>1</td>\n",
       "      <td>1</td>\n",
       "    </tr>\n",
       "    <tr>\n",
       "      <th>2</th>\n",
       "      <td>10</td>\n",
       "      <td>Counter-Strike</td>\n",
       "      <td>This game saved my virginity.</td>\n",
       "      <td>1</td>\n",
       "      <td>0</td>\n",
       "    </tr>\n",
       "    <tr>\n",
       "      <th>3</th>\n",
       "      <td>10</td>\n",
       "      <td>Counter-Strike</td>\n",
       "      <td>• Do you like original games? • Do you like ga...</td>\n",
       "      <td>1</td>\n",
       "      <td>0</td>\n",
       "    </tr>\n",
       "    <tr>\n",
       "      <th>4</th>\n",
       "      <td>10</td>\n",
       "      <td>Counter-Strike</td>\n",
       "      <td>Easy to learn, hard to master.</td>\n",
       "      <td>1</td>\n",
       "      <td>1</td>\n",
       "    </tr>\n",
       "  </tbody>\n",
       "</table>\n",
       "</div>"
      ],
      "text/plain": [
       "   app_id        app_name                                        review_text  \\\n",
       "0      10  Counter-Strike                                    Ruined my life.   \n",
       "1      10  Counter-Strike  This will be more of a ''my experience with th...   \n",
       "2      10  Counter-Strike                      This game saved my virginity.   \n",
       "3      10  Counter-Strike  • Do you like original games? • Do you like ga...   \n",
       "4      10  Counter-Strike           Easy to learn, hard to master.             \n",
       "\n",
       "   review_score  review_votes  \n",
       "0             1             0  \n",
       "1             1             1  \n",
       "2             1             0  \n",
       "3             1             0  \n",
       "4             1             1  "
      ]
     },
     "execution_count": 11,
     "metadata": {},
     "output_type": "execute_result"
    }
   ],
   "source": [
    "# Displaying the DataFrame\n",
    "df.head()  # Displays the first 5 rows of the DataFrame"
   ]
  },
  {
   "cell_type": "code",
   "execution_count": 29,
   "id": "d90f81b2",
   "metadata": {},
   "outputs": [
    {
     "data": {
      "text/plain": [
       "(6417106, 5)"
      ]
     },
     "execution_count": 29,
     "metadata": {},
     "output_type": "execute_result"
    }
   ],
   "source": [
    "df.shape"
   ]
  },
  {
   "cell_type": "code",
   "execution_count": 15,
   "id": "a0200d4f",
   "metadata": {},
   "outputs": [
    {
     "data": {
      "text/plain": [
       "9972"
      ]
     },
     "execution_count": 15,
     "metadata": {},
     "output_type": "execute_result"
    }
   ],
   "source": [
    "df['app_id'].nunique()  # Count of unique app IDs"
   ]
  },
  {
   "cell_type": "markdown",
   "id": "54734472",
   "metadata": {},
   "source": [
    "Check for missing values"
   ]
  },
  {
   "cell_type": "code",
   "execution_count": 12,
   "id": "07288d33",
   "metadata": {},
   "outputs": [
    {
     "name": "stdout",
     "output_type": "stream",
     "text": [
      "Missing values per column:\n",
      "app_id               0\n",
      "app_name        183234\n",
      "review_text       7305\n",
      "review_score         0\n",
      "review_votes         0\n",
      "dtype: int64\n"
     ]
    }
   ],
   "source": [
    "# Checking for missing values in the entire DataFrame\n",
    "missing_values = df.isnull().sum()\n",
    "\n",
    "# Displaying the count of missing values for each column\n",
    "print(\"Missing values per column:\")\n",
    "print(missing_values)"
   ]
  },
  {
   "cell_type": "markdown",
   "id": "f607bc25",
   "metadata": {},
   "source": [
    "Since app_name is required so that we can link it to another dataset that has the tags describing the game, let'"
   ]
  },
  {
   "cell_type": "code",
   "execution_count": 16,
   "id": "50bc4317",
   "metadata": {},
   "outputs": [
    {
     "name": "stdout",
     "output_type": "stream",
     "text": [
      "Entries with missing 'app_name':\n"
     ]
    },
    {
     "data": {
      "application/vnd.microsoft.datawrangler.viewer.v0+json": {
       "columns": [
        {
         "name": "index",
         "rawType": "int64",
         "type": "integer"
        },
        {
         "name": "app_id",
         "rawType": "int64",
         "type": "integer"
        },
        {
         "name": "app_name",
         "rawType": "object",
         "type": "unknown"
        },
        {
         "name": "review_text",
         "rawType": "object",
         "type": "string"
        },
        {
         "name": "review_score",
         "rawType": "int64",
         "type": "integer"
        },
        {
         "name": "review_votes",
         "rawType": "int64",
         "type": "integer"
        }
       ],
       "conversionMethod": "pd.DataFrame",
       "ref": "573fe708-9ef1-42e8-9f52-069e871e731b",
       "rows": [
        [
         "21883",
         "100980",
         null,
         "If you're an amatuer, who knows nothing about 3D modeling, then this is the program for you.   It's pretty intuitive after watching a few tutorial videos from their Youtube channel; and playing around with it your self. At first it may feel like learning a new language, but eventually you'll be able to create things straight from your dreams. Just think of it like playing with clay, but virtually.",
         "1",
         "1"
        ],
        [
         "21884",
         "100980",
         null,
         "3D coat is must have app for 3D modeling guys. now I can't UV unwrapping and retopologizing without this awesome tool. I saved a large amount of time on my workflow because of 3D coat.  ",
         "1",
         "1"
        ],
        [
         "21885",
         "100980",
         null,
         "Relatively powerful tool. The voxel painting it offers by far surpasses other programs of its type. It's a great tool and it's pretty fun to learn.",
         "1",
         "1"
        ],
        [
         "21886",
         "100980",
         null,
         "Amazing piece of software, I mainly use it for 3d projection and texturing. Very intuitive, simple workflow that correlates well with any Photoshop package. I've put nearly 2000 hours into it and got way more than my moneys worth-It's one of those pieces of software I use daily while doing CSGO and Dota 2 workshop item production.  Incredibly powerful! Expanding into the baking software and modeling as we speak and it's pretty amazing how deep this program goes.",
         "1",
         "1"
        ],
        [
         "21887",
         "100980",
         null,
         "High quality software, as fun to use as it is powerful.",
         "1",
         "1"
        ],
        [
         "21888",
         "100980",
         null,
         "Well worth the $79.99 purchase. The program works magnificently and brings voxels to a much more of a fun level and less complicated(at least for me). Still learning more about this software, but the Youtube tutorials always make the difference in helping you understand how these types of programs work by learning it from someone else's experience.  It even has an easy port option for Hat Simulator tw- I mean Team Fortress 2! Team Fortress 2 port ^________^  I would urge purchasing this earlier and at a sale ^_^",
         "1",
         "1"
        ],
        [
         "21889",
         "100980",
         null,
         "Brilliant modelling program. It is on par with Zbrush and the baking tools are incredible. Retopo tools are very much like Topogun, you can retopo your models quickly and efficiently. It is very easy to learn once you know the workflow which is pretty much standard.  PBR viewport which also has the same shading model as Unreal Engine 4 so what you see in 3D - Coat will be what you get in Unreal Engine 4 which really solves the problem of having to export and import to check any changes you have made with your models.  Great application, easy to learn, you can get amazing results with this and I highly recommend it!",
         "1",
         "0"
        ],
        [
         "21890",
         "100980",
         null,
         "Fantastic program at an accessible price for anyone looking to get in to modeling/sculpting or veterans looking to try something new. Even tho I've only used a hand full of features so far, this program has a lot of potential and an intuitive interface. Offers the possibility to do an entire project without the need of another software.",
         "1",
         "1"
        ],
        [
         "21891",
         "100980",
         null,
         "If you want one package to cover the whole modelling process, and do it all well, then 3DCoat is second to none. A linux version and a very affordable price seals the deal. Highly recommended.",
         "1",
         "1"
        ],
        [
         "21892",
         "100980",
         null,
         "The more I use it, the more I love it. Tons of tutorials on Youtube.",
         "1",
         "1"
        ]
       ],
       "shape": {
        "columns": 5,
        "rows": 10
       }
      },
      "text/html": [
       "<div>\n",
       "<style scoped>\n",
       "    .dataframe tbody tr th:only-of-type {\n",
       "        vertical-align: middle;\n",
       "    }\n",
       "\n",
       "    .dataframe tbody tr th {\n",
       "        vertical-align: top;\n",
       "    }\n",
       "\n",
       "    .dataframe thead th {\n",
       "        text-align: right;\n",
       "    }\n",
       "</style>\n",
       "<table border=\"1\" class=\"dataframe\">\n",
       "  <thead>\n",
       "    <tr style=\"text-align: right;\">\n",
       "      <th></th>\n",
       "      <th>app_id</th>\n",
       "      <th>app_name</th>\n",
       "      <th>review_text</th>\n",
       "      <th>review_score</th>\n",
       "      <th>review_votes</th>\n",
       "    </tr>\n",
       "  </thead>\n",
       "  <tbody>\n",
       "    <tr>\n",
       "      <th>21883</th>\n",
       "      <td>100980</td>\n",
       "      <td>NaN</td>\n",
       "      <td>If you're an amatuer, who knows nothing about ...</td>\n",
       "      <td>1</td>\n",
       "      <td>1</td>\n",
       "    </tr>\n",
       "    <tr>\n",
       "      <th>21884</th>\n",
       "      <td>100980</td>\n",
       "      <td>NaN</td>\n",
       "      <td>3D coat is must have app for 3D modeling guys....</td>\n",
       "      <td>1</td>\n",
       "      <td>1</td>\n",
       "    </tr>\n",
       "    <tr>\n",
       "      <th>21885</th>\n",
       "      <td>100980</td>\n",
       "      <td>NaN</td>\n",
       "      <td>Relatively powerful tool. The voxel painting i...</td>\n",
       "      <td>1</td>\n",
       "      <td>1</td>\n",
       "    </tr>\n",
       "    <tr>\n",
       "      <th>21886</th>\n",
       "      <td>100980</td>\n",
       "      <td>NaN</td>\n",
       "      <td>Amazing piece of software, I mainly use it for...</td>\n",
       "      <td>1</td>\n",
       "      <td>1</td>\n",
       "    </tr>\n",
       "    <tr>\n",
       "      <th>21887</th>\n",
       "      <td>100980</td>\n",
       "      <td>NaN</td>\n",
       "      <td>High quality software, as fun to use as it is ...</td>\n",
       "      <td>1</td>\n",
       "      <td>1</td>\n",
       "    </tr>\n",
       "    <tr>\n",
       "      <th>21888</th>\n",
       "      <td>100980</td>\n",
       "      <td>NaN</td>\n",
       "      <td>Well worth the $79.99 purchase. The program wo...</td>\n",
       "      <td>1</td>\n",
       "      <td>1</td>\n",
       "    </tr>\n",
       "    <tr>\n",
       "      <th>21889</th>\n",
       "      <td>100980</td>\n",
       "      <td>NaN</td>\n",
       "      <td>Brilliant modelling program. It is on par with...</td>\n",
       "      <td>1</td>\n",
       "      <td>0</td>\n",
       "    </tr>\n",
       "    <tr>\n",
       "      <th>21890</th>\n",
       "      <td>100980</td>\n",
       "      <td>NaN</td>\n",
       "      <td>Fantastic program at an accessible price for a...</td>\n",
       "      <td>1</td>\n",
       "      <td>1</td>\n",
       "    </tr>\n",
       "    <tr>\n",
       "      <th>21891</th>\n",
       "      <td>100980</td>\n",
       "      <td>NaN</td>\n",
       "      <td>If you want one package to cover the whole mod...</td>\n",
       "      <td>1</td>\n",
       "      <td>1</td>\n",
       "    </tr>\n",
       "    <tr>\n",
       "      <th>21892</th>\n",
       "      <td>100980</td>\n",
       "      <td>NaN</td>\n",
       "      <td>The more I use it, the more I love it. Tons of...</td>\n",
       "      <td>1</td>\n",
       "      <td>1</td>\n",
       "    </tr>\n",
       "  </tbody>\n",
       "</table>\n",
       "</div>"
      ],
      "text/plain": [
       "       app_id app_name                                        review_text  \\\n",
       "21883  100980      NaN  If you're an amatuer, who knows nothing about ...   \n",
       "21884  100980      NaN  3D coat is must have app for 3D modeling guys....   \n",
       "21885  100980      NaN  Relatively powerful tool. The voxel painting i...   \n",
       "21886  100980      NaN  Amazing piece of software, I mainly use it for...   \n",
       "21887  100980      NaN  High quality software, as fun to use as it is ...   \n",
       "21888  100980      NaN  Well worth the $79.99 purchase. The program wo...   \n",
       "21889  100980      NaN  Brilliant modelling program. It is on par with...   \n",
       "21890  100980      NaN  Fantastic program at an accessible price for a...   \n",
       "21891  100980      NaN  If you want one package to cover the whole mod...   \n",
       "21892  100980      NaN  The more I use it, the more I love it. Tons of...   \n",
       "\n",
       "       review_score  review_votes  \n",
       "21883             1             1  \n",
       "21884             1             1  \n",
       "21885             1             1  \n",
       "21886             1             1  \n",
       "21887             1             1  \n",
       "21888             1             1  \n",
       "21889             1             0  \n",
       "21890             1             1  \n",
       "21891             1             1  \n",
       "21892             1             1  "
      ]
     },
     "execution_count": 16,
     "metadata": {},
     "output_type": "execute_result"
    }
   ],
   "source": [
    "# Filtering rows where the 'app_name' column has missing values\n",
    "missing_app_name_entries = df[df['app_name'].isnull()]\n",
    "\n",
    "# Displaying the rows with missing 'app_name'\n",
    "print(\"Entries with missing 'app_name':\")\n",
    "missing_app_name_entries.head(10)"
   ]
  },
  {
   "cell_type": "code",
   "execution_count": 17,
   "id": "b4eba066",
   "metadata": {},
   "outputs": [
    {
     "data": {
      "text/plain": [
       "604"
      ]
     },
     "execution_count": 17,
     "metadata": {},
     "output_type": "execute_result"
    }
   ],
   "source": [
    "missing_app_name_entries['app_id'].nunique()  # Count of unique app IDs with missing 'app_name'"
   ]
  },
  {
   "cell_type": "markdown",
   "id": "9f1f2c46",
   "metadata": {},
   "source": [
    "# Wilson Scoring (Entire Dataset)"
   ]
  },
  {
   "cell_type": "markdown",
   "id": "1ecf5f36",
   "metadata": {},
   "source": [
    "Create a new dataframe where each entry has the app_id, game_id, number of votes, number of downvotes and lastly number of upvotes"
   ]
  },
  {
   "cell_type": "code",
   "execution_count": 56,
   "id": "98b2da03",
   "metadata": {},
   "outputs": [],
   "source": [
    "# Reading the CSV file\n",
    "file_path = 'dataset/dataset-kaggle.csv'\n",
    "df_games_votes = pd.read_csv(file_path)\n",
    "\n",
    "# Grouping by the game and calculating the counts\n",
    "game_stats = df_games_votes.groupby('app_id').agg(\n",
    "    total_votes=('review_score', 'count'),\n",
    "    upvotes=('review_score', lambda x: (x == 1).sum()),\n",
    "    downvotes=('review_score', lambda x: (x == -1).sum())\n",
    ").reset_index()"
   ]
  },
  {
   "cell_type": "code",
   "execution_count": 57,
   "id": "c0c584e5",
   "metadata": {},
   "outputs": [
    {
     "data": {
      "application/vnd.microsoft.datawrangler.viewer.v0+json": {
       "columns": [
        {
         "name": "index",
         "rawType": "int64",
         "type": "integer"
        },
        {
         "name": "app_id",
         "rawType": "int64",
         "type": "integer"
        },
        {
         "name": "total_votes",
         "rawType": "int64",
         "type": "integer"
        },
        {
         "name": "upvotes",
         "rawType": "int64",
         "type": "integer"
        },
        {
         "name": "downvotes",
         "rawType": "int64",
         "type": "integer"
        }
       ],
       "conversionMethod": "pd.DataFrame",
       "ref": "b828bf8c-fe59-44d9-89e3-3f7f0c8dd0c9",
       "rows": [
        [
         "0",
         "10",
         "12353",
         "11965",
         "388"
        ],
        [
         "1",
         "20",
         "1542",
         "1294",
         "248"
        ],
        [
         "2",
         "30",
         "1030",
         "937",
         "93"
        ],
        [
         "3",
         "40",
         "457",
         "389",
         "68"
        ],
        [
         "4",
         "50",
         "1743",
         "1678",
         "65"
        ]
       ],
       "shape": {
        "columns": 4,
        "rows": 5
       }
      },
      "text/html": [
       "<div>\n",
       "<style scoped>\n",
       "    .dataframe tbody tr th:only-of-type {\n",
       "        vertical-align: middle;\n",
       "    }\n",
       "\n",
       "    .dataframe tbody tr th {\n",
       "        vertical-align: top;\n",
       "    }\n",
       "\n",
       "    .dataframe thead th {\n",
       "        text-align: right;\n",
       "    }\n",
       "</style>\n",
       "<table border=\"1\" class=\"dataframe\">\n",
       "  <thead>\n",
       "    <tr style=\"text-align: right;\">\n",
       "      <th></th>\n",
       "      <th>app_id</th>\n",
       "      <th>total_votes</th>\n",
       "      <th>upvotes</th>\n",
       "      <th>downvotes</th>\n",
       "    </tr>\n",
       "  </thead>\n",
       "  <tbody>\n",
       "    <tr>\n",
       "      <th>0</th>\n",
       "      <td>10</td>\n",
       "      <td>12353</td>\n",
       "      <td>11965</td>\n",
       "      <td>388</td>\n",
       "    </tr>\n",
       "    <tr>\n",
       "      <th>1</th>\n",
       "      <td>20</td>\n",
       "      <td>1542</td>\n",
       "      <td>1294</td>\n",
       "      <td>248</td>\n",
       "    </tr>\n",
       "    <tr>\n",
       "      <th>2</th>\n",
       "      <td>30</td>\n",
       "      <td>1030</td>\n",
       "      <td>937</td>\n",
       "      <td>93</td>\n",
       "    </tr>\n",
       "    <tr>\n",
       "      <th>3</th>\n",
       "      <td>40</td>\n",
       "      <td>457</td>\n",
       "      <td>389</td>\n",
       "      <td>68</td>\n",
       "    </tr>\n",
       "    <tr>\n",
       "      <th>4</th>\n",
       "      <td>50</td>\n",
       "      <td>1743</td>\n",
       "      <td>1678</td>\n",
       "      <td>65</td>\n",
       "    </tr>\n",
       "  </tbody>\n",
       "</table>\n",
       "</div>"
      ],
      "text/plain": [
       "   app_id  total_votes  upvotes  downvotes\n",
       "0      10        12353    11965        388\n",
       "1      20         1542     1294        248\n",
       "2      30         1030      937         93\n",
       "3      40          457      389         68\n",
       "4      50         1743     1678         65"
      ]
     },
     "execution_count": 57,
     "metadata": {},
     "output_type": "execute_result"
    }
   ],
   "source": [
    "# Displaying the resulting DataFrame\n",
    "game_stats.head()# Displays the first 5 rows of the grouped DataFrame"
   ]
  },
  {
   "cell_type": "markdown",
   "id": "87f99a4d",
   "metadata": {},
   "source": [
    "Add app_name to corresponding app_id"
   ]
  },
  {
   "cell_type": "code",
   "execution_count": 58,
   "id": "c481e421",
   "metadata": {},
   "outputs": [],
   "source": [
    "# Adding the app_name for each app_id without repetition\n",
    "app_names = df[['app_id', 'app_name']].drop_duplicates(subset='app_id')  # Ensure unique app_id-app_name pairs"
   ]
  },
  {
   "cell_type": "code",
   "execution_count": 59,
   "id": "647df62f",
   "metadata": {},
   "outputs": [
    {
     "data": {
      "application/vnd.microsoft.datawrangler.viewer.v0+json": {
       "columns": [
        {
         "name": "index",
         "rawType": "int64",
         "type": "integer"
        },
        {
         "name": "app_id",
         "rawType": "int64",
         "type": "integer"
        },
        {
         "name": "app_name",
         "rawType": "object",
         "type": "unknown"
        }
       ],
       "conversionMethod": "pd.DataFrame",
       "ref": "52e3e10a-13a5-4e84-81e7-d87677fa7da9",
       "rows": [
        [
         "0",
         "10",
         "Counter-Strike"
        ],
        [
         "12353",
         "1002",
         "Rag Doll Kung Fu"
        ],
        [
         "12395",
         "100400",
         "Silo 2"
        ],
        [
         "12428",
         "10090",
         "Call of Duty: World at War"
        ],
        [
         "21883",
         "100980",
         null
        ],
        [
         "21912",
         "10100",
         "King's Quest Collection"
        ],
        [
         "22000",
         "10110",
         "Space Quest Collection"
        ],
        [
         "22105",
         "10120",
         "Aces of the Galaxy"
        ],
        [
         "22124",
         "10130",
         "TimeShift"
        ],
        [
         "22419",
         "10140",
         "3D Ultra Minigolf Adventures Deluxe"
        ],
        [
         "22456",
         "10150",
         "Prototype"
        ],
        [
         "23608",
         "10180",
         "Call of Duty: Modern Warfare 2"
        ],
        [
         "31554",
         "10220",
         "Postal 3"
        ],
        [
         "32133",
         "102200",
         "Runespell: Overture"
        ],
        [
         "32334",
         "10230",
         "Dead Mountaineer's Hotel"
        ],
        [
         "32390",
         "10240",
         "Stroke of Fate: Operation Valkyrie"
        ],
        [
         "32403",
         "10250",
         "PT Boats: Knights of the Sea"
        ],
        [
         "32417",
         "102500",
         "Kingdoms of Amalur: Reckoning™"
        ],
        [
         "36883",
         "10260",
         "PT Boats: South Gambit"
        ],
        [
         "36889",
         "102600",
         "Orcs Must Die!"
        ],
        [
         "39177",
         "10270",
         "Disciples III: Reincarnation"
        ],
        [
         "39322",
         "102700",
         "A.V.A. Alliance of Valiant Arms™"
        ],
        [
         "44396",
         "102810",
         "Gatling Gears"
        ],
        [
         "44449",
         "102840",
         "Shank 2"
        ],
        [
         "44955",
         "102850",
         "WARP"
        ],
        [
         "45093",
         "104000",
         "iBomber Defense"
        ],
        [
         "45190",
         "104020",
         "Storm in a Teacup"
        ],
        [
         "45259",
         "104100",
         "Inside a Star-filled Sky "
        ],
        [
         "45318",
         "104200",
         "BEEP"
        ],
        [
         "46139",
         "10460",
         "The Club"
        ],
        [
         "46177",
         "104600",
         "Portal 2 - The Final Hours"
        ],
        [
         "46423",
         "104700",
         "Super Monday Night Combat"
        ],
        [
         "48885",
         "104900",
         "ORION: Prelude"
        ],
        [
         "60515",
         "10500",
         "Total War: EMPIRE - Definitive Edition"
        ],
        [
         "66883",
         "105000",
         "A New Beginning - Final Cut"
        ],
        [
         "67329",
         "105100",
         "Lume"
        ],
        [
         "67631",
         "10530",
         null
        ],
        [
         "67699",
         "105300",
         "Critical Mass"
        ],
        [
         "67899",
         "105420",
         "Ms. Splosion Man"
        ],
        [
         "67995",
         "105450",
         "Age of Empires® III (2007)"
        ],
        [
         "68092",
         "105600",
         "Terraria"
        ],
        [
         "152920",
         "105700",
         "Tobe's Vertical Adventure"
        ],
        [
         "153008",
         "106000",
         "The Cursed Crusade"
        ],
        [
         "153085",
         "10680",
         "Aliens vs. Predator"
        ],
        [
         "156196",
         "107100",
         "Bastion"
        ],
        [
         "170986",
         "107200",
         "Space Pirates and Zombies"
        ],
        [
         "172757",
         "107300",
         "Breath of Death VII "
        ],
        [
         "173460",
         "107310",
         "Cthulhu Saves the World "
        ],
        [
         "175281",
         "107410",
         "Arma 3"
        ],
        [
         "207589",
         "107600",
         "Waves"
        ]
       ],
       "shape": {
        "columns": 2,
        "rows": 9972
       }
      },
      "text/html": [
       "<div>\n",
       "<style scoped>\n",
       "    .dataframe tbody tr th:only-of-type {\n",
       "        vertical-align: middle;\n",
       "    }\n",
       "\n",
       "    .dataframe tbody tr th {\n",
       "        vertical-align: top;\n",
       "    }\n",
       "\n",
       "    .dataframe thead th {\n",
       "        text-align: right;\n",
       "    }\n",
       "</style>\n",
       "<table border=\"1\" class=\"dataframe\">\n",
       "  <thead>\n",
       "    <tr style=\"text-align: right;\">\n",
       "      <th></th>\n",
       "      <th>app_id</th>\n",
       "      <th>app_name</th>\n",
       "    </tr>\n",
       "  </thead>\n",
       "  <tbody>\n",
       "    <tr>\n",
       "      <th>0</th>\n",
       "      <td>10</td>\n",
       "      <td>Counter-Strike</td>\n",
       "    </tr>\n",
       "    <tr>\n",
       "      <th>12353</th>\n",
       "      <td>1002</td>\n",
       "      <td>Rag Doll Kung Fu</td>\n",
       "    </tr>\n",
       "    <tr>\n",
       "      <th>12395</th>\n",
       "      <td>100400</td>\n",
       "      <td>Silo 2</td>\n",
       "    </tr>\n",
       "    <tr>\n",
       "      <th>12428</th>\n",
       "      <td>10090</td>\n",
       "      <td>Call of Duty: World at War</td>\n",
       "    </tr>\n",
       "    <tr>\n",
       "      <th>21883</th>\n",
       "      <td>100980</td>\n",
       "      <td>NaN</td>\n",
       "    </tr>\n",
       "    <tr>\n",
       "      <th>...</th>\n",
       "      <td>...</td>\n",
       "      <td>...</td>\n",
       "    </tr>\n",
       "    <tr>\n",
       "      <th>6414010</th>\n",
       "      <td>99810</td>\n",
       "      <td>Bulletstorm</td>\n",
       "    </tr>\n",
       "    <tr>\n",
       "      <th>6416169</th>\n",
       "      <td>99830</td>\n",
       "      <td>Crysis 2</td>\n",
       "    </tr>\n",
       "    <tr>\n",
       "      <th>6416238</th>\n",
       "      <td>9990</td>\n",
       "      <td>Ghostbusters: Sanctum of Slime</td>\n",
       "    </tr>\n",
       "    <tr>\n",
       "      <th>6416307</th>\n",
       "      <td>99900</td>\n",
       "      <td>Spiral Knights</td>\n",
       "    </tr>\n",
       "    <tr>\n",
       "      <th>6416385</th>\n",
       "      <td>99910</td>\n",
       "      <td>Puzzle Pirates</td>\n",
       "    </tr>\n",
       "  </tbody>\n",
       "</table>\n",
       "<p>9972 rows × 2 columns</p>\n",
       "</div>"
      ],
      "text/plain": [
       "         app_id                        app_name\n",
       "0            10                  Counter-Strike\n",
       "12353      1002                Rag Doll Kung Fu\n",
       "12395    100400                          Silo 2\n",
       "12428     10090      Call of Duty: World at War\n",
       "21883    100980                             NaN\n",
       "...         ...                             ...\n",
       "6414010   99810                     Bulletstorm\n",
       "6416169   99830                        Crysis 2\n",
       "6416238    9990  Ghostbusters: Sanctum of Slime\n",
       "6416307   99900                  Spiral Knights\n",
       "6416385   99910                  Puzzle Pirates\n",
       "\n",
       "[9972 rows x 2 columns]"
      ]
     },
     "execution_count": 59,
     "metadata": {},
     "output_type": "execute_result"
    }
   ],
   "source": [
    "app_names"
   ]
  },
  {
   "cell_type": "code",
   "execution_count": 60,
   "id": "fc1ca442",
   "metadata": {},
   "outputs": [],
   "source": [
    "game_stats = game_stats.merge(app_names, on='app_id', how='left')"
   ]
  },
  {
   "cell_type": "code",
   "execution_count": 61,
   "id": "c043122c",
   "metadata": {},
   "outputs": [
    {
     "data": {
      "application/vnd.microsoft.datawrangler.viewer.v0+json": {
       "columns": [
        {
         "name": "index",
         "rawType": "int64",
         "type": "integer"
        },
        {
         "name": "app_id",
         "rawType": "int64",
         "type": "integer"
        },
        {
         "name": "total_votes",
         "rawType": "int64",
         "type": "integer"
        },
        {
         "name": "upvotes",
         "rawType": "int64",
         "type": "integer"
        },
        {
         "name": "downvotes",
         "rawType": "int64",
         "type": "integer"
        },
        {
         "name": "app_name",
         "rawType": "object",
         "type": "string"
        }
       ],
       "conversionMethod": "pd.DataFrame",
       "ref": "c23a2b50-003d-4692-9be8-91fa87854db6",
       "rows": [
        [
         "0",
         "10",
         "12353",
         "11965",
         "388",
         "Counter-Strike"
        ],
        [
         "1",
         "20",
         "1542",
         "1294",
         "248",
         "Team Fortress Classic"
        ],
        [
         "2",
         "30",
         "1030",
         "937",
         "93",
         "Day of Defeat"
        ],
        [
         "3",
         "40",
         "457",
         "389",
         "68",
         "Deathmatch Classic"
        ],
        [
         "4",
         "50",
         "1743",
         "1678",
         "65",
         "Half-Life: Opposing Force"
        ],
        [
         "5",
         "60",
         "1237",
         "1040",
         "197",
         "Ricochet"
        ],
        [
         "6",
         "70",
         "7916",
         "7649",
         "267",
         "Half-Life"
        ],
        [
         "7",
         "80",
         "2122",
         "1900",
         "222",
         "Counter-Strike: Condition Zero"
        ],
        [
         "8",
         "130",
         "1344",
         "1216",
         "128",
         "Half-Life: Blue Shift"
        ],
        [
         "9",
         "220",
         "6483",
         "6480",
         "3",
         "Half-Life 2"
        ]
       ],
       "shape": {
        "columns": 5,
        "rows": 10
       }
      },
      "text/html": [
       "<div>\n",
       "<style scoped>\n",
       "    .dataframe tbody tr th:only-of-type {\n",
       "        vertical-align: middle;\n",
       "    }\n",
       "\n",
       "    .dataframe tbody tr th {\n",
       "        vertical-align: top;\n",
       "    }\n",
       "\n",
       "    .dataframe thead th {\n",
       "        text-align: right;\n",
       "    }\n",
       "</style>\n",
       "<table border=\"1\" class=\"dataframe\">\n",
       "  <thead>\n",
       "    <tr style=\"text-align: right;\">\n",
       "      <th></th>\n",
       "      <th>app_id</th>\n",
       "      <th>total_votes</th>\n",
       "      <th>upvotes</th>\n",
       "      <th>downvotes</th>\n",
       "      <th>app_name</th>\n",
       "    </tr>\n",
       "  </thead>\n",
       "  <tbody>\n",
       "    <tr>\n",
       "      <th>0</th>\n",
       "      <td>10</td>\n",
       "      <td>12353</td>\n",
       "      <td>11965</td>\n",
       "      <td>388</td>\n",
       "      <td>Counter-Strike</td>\n",
       "    </tr>\n",
       "    <tr>\n",
       "      <th>1</th>\n",
       "      <td>20</td>\n",
       "      <td>1542</td>\n",
       "      <td>1294</td>\n",
       "      <td>248</td>\n",
       "      <td>Team Fortress Classic</td>\n",
       "    </tr>\n",
       "    <tr>\n",
       "      <th>2</th>\n",
       "      <td>30</td>\n",
       "      <td>1030</td>\n",
       "      <td>937</td>\n",
       "      <td>93</td>\n",
       "      <td>Day of Defeat</td>\n",
       "    </tr>\n",
       "    <tr>\n",
       "      <th>3</th>\n",
       "      <td>40</td>\n",
       "      <td>457</td>\n",
       "      <td>389</td>\n",
       "      <td>68</td>\n",
       "      <td>Deathmatch Classic</td>\n",
       "    </tr>\n",
       "    <tr>\n",
       "      <th>4</th>\n",
       "      <td>50</td>\n",
       "      <td>1743</td>\n",
       "      <td>1678</td>\n",
       "      <td>65</td>\n",
       "      <td>Half-Life: Opposing Force</td>\n",
       "    </tr>\n",
       "    <tr>\n",
       "      <th>5</th>\n",
       "      <td>60</td>\n",
       "      <td>1237</td>\n",
       "      <td>1040</td>\n",
       "      <td>197</td>\n",
       "      <td>Ricochet</td>\n",
       "    </tr>\n",
       "    <tr>\n",
       "      <th>6</th>\n",
       "      <td>70</td>\n",
       "      <td>7916</td>\n",
       "      <td>7649</td>\n",
       "      <td>267</td>\n",
       "      <td>Half-Life</td>\n",
       "    </tr>\n",
       "    <tr>\n",
       "      <th>7</th>\n",
       "      <td>80</td>\n",
       "      <td>2122</td>\n",
       "      <td>1900</td>\n",
       "      <td>222</td>\n",
       "      <td>Counter-Strike: Condition Zero</td>\n",
       "    </tr>\n",
       "    <tr>\n",
       "      <th>8</th>\n",
       "      <td>130</td>\n",
       "      <td>1344</td>\n",
       "      <td>1216</td>\n",
       "      <td>128</td>\n",
       "      <td>Half-Life: Blue Shift</td>\n",
       "    </tr>\n",
       "    <tr>\n",
       "      <th>9</th>\n",
       "      <td>220</td>\n",
       "      <td>6483</td>\n",
       "      <td>6480</td>\n",
       "      <td>3</td>\n",
       "      <td>Half-Life 2</td>\n",
       "    </tr>\n",
       "  </tbody>\n",
       "</table>\n",
       "</div>"
      ],
      "text/plain": [
       "   app_id  total_votes  upvotes  downvotes                        app_name\n",
       "0      10        12353    11965        388                  Counter-Strike\n",
       "1      20         1542     1294        248           Team Fortress Classic\n",
       "2      30         1030      937         93                   Day of Defeat\n",
       "3      40          457      389         68              Deathmatch Classic\n",
       "4      50         1743     1678         65       Half-Life: Opposing Force\n",
       "5      60         1237     1040        197                        Ricochet\n",
       "6      70         7916     7649        267                       Half-Life\n",
       "7      80         2122     1900        222  Counter-Strike: Condition Zero\n",
       "8     130         1344     1216        128           Half-Life: Blue Shift\n",
       "9     220         6483     6480          3                     Half-Life 2"
      ]
     },
     "execution_count": 61,
     "metadata": {},
     "output_type": "execute_result"
    }
   ],
   "source": [
    "game_stats.head(10)  # Displaying the first 5 rows of the merged DataFrame"
   ]
  },
  {
   "cell_type": "code",
   "execution_count": 62,
   "id": "8dfdd3a6",
   "metadata": {},
   "outputs": [
    {
     "data": {
      "text/plain": [
       "(9972, 5)"
      ]
     },
     "execution_count": 62,
     "metadata": {},
     "output_type": "execute_result"
    }
   ],
   "source": [
    "game_stats.shape"
   ]
  },
  {
   "cell_type": "code",
   "execution_count": 64,
   "id": "6d24cb6c",
   "metadata": {},
   "outputs": [],
   "source": [
    "# moving app_name to column next to app_id\n",
    "game_stats = game_stats[['app_id', 'app_name', 'total_votes', 'upvotes', 'downvotes']]"
   ]
  },
  {
   "cell_type": "code",
   "execution_count": 66,
   "id": "5fcae97f",
   "metadata": {},
   "outputs": [
    {
     "data": {
      "application/vnd.microsoft.datawrangler.viewer.v0+json": {
       "columns": [
        {
         "name": "index",
         "rawType": "int64",
         "type": "integer"
        },
        {
         "name": "app_id",
         "rawType": "int64",
         "type": "integer"
        },
        {
         "name": "app_name",
         "rawType": "object",
         "type": "string"
        },
        {
         "name": "total_votes",
         "rawType": "int64",
         "type": "integer"
        },
        {
         "name": "upvotes",
         "rawType": "int64",
         "type": "integer"
        },
        {
         "name": "downvotes",
         "rawType": "int64",
         "type": "integer"
        }
       ],
       "conversionMethod": "pd.DataFrame",
       "ref": "1369c6eb-f753-4582-ad74-5f89d128cc9b",
       "rows": [
        [
         "0",
         "10",
         "Counter-Strike",
         "12353",
         "11965",
         "388"
        ],
        [
         "1",
         "20",
         "Team Fortress Classic",
         "1542",
         "1294",
         "248"
        ],
        [
         "2",
         "30",
         "Day of Defeat",
         "1030",
         "937",
         "93"
        ],
        [
         "3",
         "40",
         "Deathmatch Classic",
         "457",
         "389",
         "68"
        ],
        [
         "4",
         "50",
         "Half-Life: Opposing Force",
         "1743",
         "1678",
         "65"
        ],
        [
         "5",
         "60",
         "Ricochet",
         "1237",
         "1040",
         "197"
        ],
        [
         "6",
         "70",
         "Half-Life",
         "7916",
         "7649",
         "267"
        ],
        [
         "7",
         "80",
         "Counter-Strike: Condition Zero",
         "2122",
         "1900",
         "222"
        ],
        [
         "8",
         "130",
         "Half-Life: Blue Shift",
         "1344",
         "1216",
         "128"
        ],
        [
         "9",
         "220",
         "Half-Life 2",
         "6483",
         "6480",
         "3"
        ]
       ],
       "shape": {
        "columns": 5,
        "rows": 10
       }
      },
      "text/html": [
       "<div>\n",
       "<style scoped>\n",
       "    .dataframe tbody tr th:only-of-type {\n",
       "        vertical-align: middle;\n",
       "    }\n",
       "\n",
       "    .dataframe tbody tr th {\n",
       "        vertical-align: top;\n",
       "    }\n",
       "\n",
       "    .dataframe thead th {\n",
       "        text-align: right;\n",
       "    }\n",
       "</style>\n",
       "<table border=\"1\" class=\"dataframe\">\n",
       "  <thead>\n",
       "    <tr style=\"text-align: right;\">\n",
       "      <th></th>\n",
       "      <th>app_id</th>\n",
       "      <th>app_name</th>\n",
       "      <th>total_votes</th>\n",
       "      <th>upvotes</th>\n",
       "      <th>downvotes</th>\n",
       "    </tr>\n",
       "  </thead>\n",
       "  <tbody>\n",
       "    <tr>\n",
       "      <th>0</th>\n",
       "      <td>10</td>\n",
       "      <td>Counter-Strike</td>\n",
       "      <td>12353</td>\n",
       "      <td>11965</td>\n",
       "      <td>388</td>\n",
       "    </tr>\n",
       "    <tr>\n",
       "      <th>1</th>\n",
       "      <td>20</td>\n",
       "      <td>Team Fortress Classic</td>\n",
       "      <td>1542</td>\n",
       "      <td>1294</td>\n",
       "      <td>248</td>\n",
       "    </tr>\n",
       "    <tr>\n",
       "      <th>2</th>\n",
       "      <td>30</td>\n",
       "      <td>Day of Defeat</td>\n",
       "      <td>1030</td>\n",
       "      <td>937</td>\n",
       "      <td>93</td>\n",
       "    </tr>\n",
       "    <tr>\n",
       "      <th>3</th>\n",
       "      <td>40</td>\n",
       "      <td>Deathmatch Classic</td>\n",
       "      <td>457</td>\n",
       "      <td>389</td>\n",
       "      <td>68</td>\n",
       "    </tr>\n",
       "    <tr>\n",
       "      <th>4</th>\n",
       "      <td>50</td>\n",
       "      <td>Half-Life: Opposing Force</td>\n",
       "      <td>1743</td>\n",
       "      <td>1678</td>\n",
       "      <td>65</td>\n",
       "    </tr>\n",
       "    <tr>\n",
       "      <th>5</th>\n",
       "      <td>60</td>\n",
       "      <td>Ricochet</td>\n",
       "      <td>1237</td>\n",
       "      <td>1040</td>\n",
       "      <td>197</td>\n",
       "    </tr>\n",
       "    <tr>\n",
       "      <th>6</th>\n",
       "      <td>70</td>\n",
       "      <td>Half-Life</td>\n",
       "      <td>7916</td>\n",
       "      <td>7649</td>\n",
       "      <td>267</td>\n",
       "    </tr>\n",
       "    <tr>\n",
       "      <th>7</th>\n",
       "      <td>80</td>\n",
       "      <td>Counter-Strike: Condition Zero</td>\n",
       "      <td>2122</td>\n",
       "      <td>1900</td>\n",
       "      <td>222</td>\n",
       "    </tr>\n",
       "    <tr>\n",
       "      <th>8</th>\n",
       "      <td>130</td>\n",
       "      <td>Half-Life: Blue Shift</td>\n",
       "      <td>1344</td>\n",
       "      <td>1216</td>\n",
       "      <td>128</td>\n",
       "    </tr>\n",
       "    <tr>\n",
       "      <th>9</th>\n",
       "      <td>220</td>\n",
       "      <td>Half-Life 2</td>\n",
       "      <td>6483</td>\n",
       "      <td>6480</td>\n",
       "      <td>3</td>\n",
       "    </tr>\n",
       "  </tbody>\n",
       "</table>\n",
       "</div>"
      ],
      "text/plain": [
       "   app_id                        app_name  total_votes  upvotes  downvotes\n",
       "0      10                  Counter-Strike        12353    11965        388\n",
       "1      20           Team Fortress Classic         1542     1294        248\n",
       "2      30                   Day of Defeat         1030      937         93\n",
       "3      40              Deathmatch Classic          457      389         68\n",
       "4      50       Half-Life: Opposing Force         1743     1678         65\n",
       "5      60                        Ricochet         1237     1040        197\n",
       "6      70                       Half-Life         7916     7649        267\n",
       "7      80  Counter-Strike: Condition Zero         2122     1900        222\n",
       "8     130           Half-Life: Blue Shift         1344     1216        128\n",
       "9     220                     Half-Life 2         6483     6480          3"
      ]
     },
     "execution_count": 66,
     "metadata": {},
     "output_type": "execute_result"
    }
   ],
   "source": [
    "game_stats.head(10)"
   ]
  },
  {
   "cell_type": "code",
   "execution_count": 67,
   "id": "23b46bbc",
   "metadata": {},
   "outputs": [],
   "source": [
    "# Saving the DataFrame to a JSON file\n",
    "game_stats.to_json('game_stats.json', orient='records', lines=True)"
   ]
  },
  {
   "cell_type": "markdown",
   "id": "553d757c",
   "metadata": {},
   "source": [
    "Loading the saved JSON file"
   ]
  },
  {
   "cell_type": "code",
   "execution_count": 69,
   "id": "17d60e4c",
   "metadata": {},
   "outputs": [
    {
     "data": {
      "application/vnd.microsoft.datawrangler.viewer.v0+json": {
       "columns": [
        {
         "name": "index",
         "rawType": "int64",
         "type": "integer"
        },
        {
         "name": "app_id",
         "rawType": "int64",
         "type": "integer"
        },
        {
         "name": "app_name",
         "rawType": "object",
         "type": "string"
        },
        {
         "name": "total_votes",
         "rawType": "int64",
         "type": "integer"
        },
        {
         "name": "upvotes",
         "rawType": "int64",
         "type": "integer"
        },
        {
         "name": "downvotes",
         "rawType": "int64",
         "type": "integer"
        }
       ],
       "conversionMethod": "pd.DataFrame",
       "ref": "9f5a88fe-7a77-4f81-bcba-9e70173dc652",
       "rows": [
        [
         "0",
         "10",
         "Counter-Strike",
         "12353",
         "11965",
         "388"
        ],
        [
         "1",
         "20",
         "Team Fortress Classic",
         "1542",
         "1294",
         "248"
        ],
        [
         "2",
         "30",
         "Day of Defeat",
         "1030",
         "937",
         "93"
        ],
        [
         "3",
         "40",
         "Deathmatch Classic",
         "457",
         "389",
         "68"
        ],
        [
         "4",
         "50",
         "Half-Life: Opposing Force",
         "1743",
         "1678",
         "65"
        ]
       ],
       "shape": {
        "columns": 5,
        "rows": 5
       }
      },
      "text/html": [
       "<div>\n",
       "<style scoped>\n",
       "    .dataframe tbody tr th:only-of-type {\n",
       "        vertical-align: middle;\n",
       "    }\n",
       "\n",
       "    .dataframe tbody tr th {\n",
       "        vertical-align: top;\n",
       "    }\n",
       "\n",
       "    .dataframe thead th {\n",
       "        text-align: right;\n",
       "    }\n",
       "</style>\n",
       "<table border=\"1\" class=\"dataframe\">\n",
       "  <thead>\n",
       "    <tr style=\"text-align: right;\">\n",
       "      <th></th>\n",
       "      <th>app_id</th>\n",
       "      <th>app_name</th>\n",
       "      <th>total_votes</th>\n",
       "      <th>upvotes</th>\n",
       "      <th>downvotes</th>\n",
       "    </tr>\n",
       "  </thead>\n",
       "  <tbody>\n",
       "    <tr>\n",
       "      <th>0</th>\n",
       "      <td>10</td>\n",
       "      <td>Counter-Strike</td>\n",
       "      <td>12353</td>\n",
       "      <td>11965</td>\n",
       "      <td>388</td>\n",
       "    </tr>\n",
       "    <tr>\n",
       "      <th>1</th>\n",
       "      <td>20</td>\n",
       "      <td>Team Fortress Classic</td>\n",
       "      <td>1542</td>\n",
       "      <td>1294</td>\n",
       "      <td>248</td>\n",
       "    </tr>\n",
       "    <tr>\n",
       "      <th>2</th>\n",
       "      <td>30</td>\n",
       "      <td>Day of Defeat</td>\n",
       "      <td>1030</td>\n",
       "      <td>937</td>\n",
       "      <td>93</td>\n",
       "    </tr>\n",
       "    <tr>\n",
       "      <th>3</th>\n",
       "      <td>40</td>\n",
       "      <td>Deathmatch Classic</td>\n",
       "      <td>457</td>\n",
       "      <td>389</td>\n",
       "      <td>68</td>\n",
       "    </tr>\n",
       "    <tr>\n",
       "      <th>4</th>\n",
       "      <td>50</td>\n",
       "      <td>Half-Life: Opposing Force</td>\n",
       "      <td>1743</td>\n",
       "      <td>1678</td>\n",
       "      <td>65</td>\n",
       "    </tr>\n",
       "  </tbody>\n",
       "</table>\n",
       "</div>"
      ],
      "text/plain": [
       "   app_id                   app_name  total_votes  upvotes  downvotes\n",
       "0      10             Counter-Strike        12353    11965        388\n",
       "1      20      Team Fortress Classic         1542     1294        248\n",
       "2      30              Day of Defeat         1030      937         93\n",
       "3      40         Deathmatch Classic          457      389         68\n",
       "4      50  Half-Life: Opposing Force         1743     1678         65"
      ]
     },
     "execution_count": 69,
     "metadata": {},
     "output_type": "execute_result"
    }
   ],
   "source": [
    "# Loading the JSON file back into a DataFrame\n",
    "df_loaded = pd.read_json('game_stats.json', orient='records', lines=True)\n",
    "\n",
    "# Displaying the loaded DataFrame\n",
    "df_loaded.head()"
   ]
  },
  {
   "cell_type": "markdown",
   "id": "1a6c9321",
   "metadata": {},
   "source": [
    "The Wilson Score is defined by - \n",
    "\n",
    "$$\n",
    "\\text{Wilson Score}=\\frac{p + \\frac{z^2}{2n} - z\\sqrt{\\frac{p(1 - p) + \\frac{z^2}{4n}}{n}}}{1 + \\frac{z^2}{n}}\n",
    "$$"
   ]
  },
  {
   "cell_type": "code",
   "execution_count": 70,
   "id": "0cbda151",
   "metadata": {},
   "outputs": [],
   "source": [
    "def wilson_score(upvotes, total_votes, z=1.96):\n",
    "    \"\"\"\n",
    "    Calculate the Wilson score interval for a given number of positive votes and total votes.\n",
    "\n",
    "    The Wilson score is used to estimate a confidence interval for a proportion and is used for ranking items \n",
    "    based on user feedback.\n",
    "\n",
    "    Parameters:\n",
    "    - upvotes (int): The number of positive votes, the user recommended this game\n",
    "    - total_votes (int): The total number of votes (upvote + downvote).\n",
    "    - z (float): The z-score corresponding to the desired confidence level. \n",
    "      Default is 1.96, which corresponds to a 95% confidence level.\n",
    "\n",
    "    Returns:\n",
    "    - float: The lower bound of the Wilson score interval, representing the adjusted proportion\n",
    "      of positive votes with the specified confidence level.\n",
    "    \"\"\"\n",
    "    \n",
    "    wilson_score = 0\n",
    "    if total_votes != 0:\n",
    "        p = upvotes / total_votes\n",
    "        denominator = 1 + z ** 2 / total_votes\n",
    "        numerator_sum_term = p + z ** 2 / (2 * total_votes)\n",
    "        numerator_square_root_term = np.sqrt(\n",
    "            (p * (1 - p) + (z ** 2 / (4 * total_votes))) / total_votes\n",
    "        )\n",
    "        wilson_score = (\n",
    "            (numerator_sum_term - z * numerator_square_root_term) / denominator\n",
    "        )   \n",
    "    return wilson_score"
   ]
  },
  {
   "cell_type": "markdown",
   "id": "2e3ec2b2",
   "metadata": {},
   "source": [
    "Calculate Wilson Scores for each Entry"
   ]
  },
  {
   "cell_type": "code",
   "execution_count": 73,
   "id": "75f9dca7",
   "metadata": {},
   "outputs": [],
   "source": [
    "# apply the function to each row (axis=1) of the DataFrame\n",
    "game_stats['wilson_score'] = game_stats.apply(\n",
    "    lambda row: wilson_score(row['upvotes'], row['total_votes']),\n",
    "    axis=1\n",
    ")"
   ]
  },
  {
   "cell_type": "code",
   "execution_count": 74,
   "id": "7be4c907",
   "metadata": {},
   "outputs": [
    {
     "data": {
      "application/vnd.microsoft.datawrangler.viewer.v0+json": {
       "columns": [
        {
         "name": "index",
         "rawType": "int64",
         "type": "integer"
        },
        {
         "name": "app_id",
         "rawType": "int64",
         "type": "integer"
        },
        {
         "name": "app_name",
         "rawType": "object",
         "type": "string"
        },
        {
         "name": "total_votes",
         "rawType": "int64",
         "type": "integer"
        },
        {
         "name": "upvotes",
         "rawType": "int64",
         "type": "integer"
        },
        {
         "name": "downvotes",
         "rawType": "int64",
         "type": "integer"
        },
        {
         "name": "wilson_score",
         "rawType": "float64",
         "type": "float"
        }
       ],
       "conversionMethod": "pd.DataFrame",
       "ref": "e94b10ea-ed9d-4404-8946-6cfe260c1f1a",
       "rows": [
        [
         "0",
         "10",
         "Counter-Strike",
         "12353",
         "11965",
         "388",
         "0.9653660943925613"
        ],
        [
         "1",
         "20",
         "Team Fortress Classic",
         "1542",
         "1294",
         "248",
         "0.8199936891362989"
        ],
        [
         "2",
         "30",
         "Day of Defeat",
         "1030",
         "937",
         "93",
         "0.8906497029199307"
        ],
        [
         "3",
         "40",
         "Deathmatch Classic",
         "457",
         "389",
         "68",
         "0.8156509652854493"
        ],
        [
         "4",
         "50",
         "Half-Life: Opposing Force",
         "1743",
         "1678",
         "65",
         "0.9527467699200386"
        ]
       ],
       "shape": {
        "columns": 6,
        "rows": 5
       }
      },
      "text/html": [
       "<div>\n",
       "<style scoped>\n",
       "    .dataframe tbody tr th:only-of-type {\n",
       "        vertical-align: middle;\n",
       "    }\n",
       "\n",
       "    .dataframe tbody tr th {\n",
       "        vertical-align: top;\n",
       "    }\n",
       "\n",
       "    .dataframe thead th {\n",
       "        text-align: right;\n",
       "    }\n",
       "</style>\n",
       "<table border=\"1\" class=\"dataframe\">\n",
       "  <thead>\n",
       "    <tr style=\"text-align: right;\">\n",
       "      <th></th>\n",
       "      <th>app_id</th>\n",
       "      <th>app_name</th>\n",
       "      <th>total_votes</th>\n",
       "      <th>upvotes</th>\n",
       "      <th>downvotes</th>\n",
       "      <th>wilson_score</th>\n",
       "    </tr>\n",
       "  </thead>\n",
       "  <tbody>\n",
       "    <tr>\n",
       "      <th>0</th>\n",
       "      <td>10</td>\n",
       "      <td>Counter-Strike</td>\n",
       "      <td>12353</td>\n",
       "      <td>11965</td>\n",
       "      <td>388</td>\n",
       "      <td>0.965366</td>\n",
       "    </tr>\n",
       "    <tr>\n",
       "      <th>1</th>\n",
       "      <td>20</td>\n",
       "      <td>Team Fortress Classic</td>\n",
       "      <td>1542</td>\n",
       "      <td>1294</td>\n",
       "      <td>248</td>\n",
       "      <td>0.819994</td>\n",
       "    </tr>\n",
       "    <tr>\n",
       "      <th>2</th>\n",
       "      <td>30</td>\n",
       "      <td>Day of Defeat</td>\n",
       "      <td>1030</td>\n",
       "      <td>937</td>\n",
       "      <td>93</td>\n",
       "      <td>0.890650</td>\n",
       "    </tr>\n",
       "    <tr>\n",
       "      <th>3</th>\n",
       "      <td>40</td>\n",
       "      <td>Deathmatch Classic</td>\n",
       "      <td>457</td>\n",
       "      <td>389</td>\n",
       "      <td>68</td>\n",
       "      <td>0.815651</td>\n",
       "    </tr>\n",
       "    <tr>\n",
       "      <th>4</th>\n",
       "      <td>50</td>\n",
       "      <td>Half-Life: Opposing Force</td>\n",
       "      <td>1743</td>\n",
       "      <td>1678</td>\n",
       "      <td>65</td>\n",
       "      <td>0.952747</td>\n",
       "    </tr>\n",
       "  </tbody>\n",
       "</table>\n",
       "</div>"
      ],
      "text/plain": [
       "   app_id                   app_name  total_votes  upvotes  downvotes  \\\n",
       "0      10             Counter-Strike        12353    11965        388   \n",
       "1      20      Team Fortress Classic         1542     1294        248   \n",
       "2      30              Day of Defeat         1030      937         93   \n",
       "3      40         Deathmatch Classic          457      389         68   \n",
       "4      50  Half-Life: Opposing Force         1743     1678         65   \n",
       "\n",
       "   wilson_score  \n",
       "0      0.965366  \n",
       "1      0.819994  \n",
       "2      0.890650  \n",
       "3      0.815651  \n",
       "4      0.952747  "
      ]
     },
     "execution_count": 74,
     "metadata": {},
     "output_type": "execute_result"
    }
   ],
   "source": [
    "game_stats.head()  # Displaying the first 5 rows of the DataFrame with Wilson score"
   ]
  },
  {
   "cell_type": "code",
   "execution_count": 75,
   "id": "82b80152",
   "metadata": {},
   "outputs": [],
   "source": [
    "game_stats_sorted = game_stats.sort_values(by='wilson_score', ascending=False).reset_index(drop=True)"
   ]
  },
  {
   "cell_type": "code",
   "execution_count": 76,
   "id": "95dfb23a",
   "metadata": {},
   "outputs": [
    {
     "data": {
      "text/plain": [
       "(9972, 6)"
      ]
     },
     "execution_count": 76,
     "metadata": {},
     "output_type": "execute_result"
    }
   ],
   "source": [
    "game_stats_sorted.shape"
   ]
  },
  {
   "cell_type": "code",
   "execution_count": 78,
   "id": "0badae9a",
   "metadata": {},
   "outputs": [
    {
     "data": {
      "application/vnd.microsoft.datawrangler.viewer.v0+json": {
       "columns": [
        {
         "name": "index",
         "rawType": "int64",
         "type": "integer"
        },
        {
         "name": "app_id",
         "rawType": "int64",
         "type": "integer"
        },
        {
         "name": "app_name",
         "rawType": "object",
         "type": "string"
        },
        {
         "name": "total_votes",
         "rawType": "int64",
         "type": "integer"
        },
        {
         "name": "upvotes",
         "rawType": "int64",
         "type": "integer"
        },
        {
         "name": "downvotes",
         "rawType": "int64",
         "type": "integer"
        },
        {
         "name": "wilson_score",
         "rawType": "float64",
         "type": "float"
        }
       ],
       "conversionMethod": "pd.DataFrame",
       "ref": "75dbf4cb-f966-48d7-b25c-d7df58bd7517",
       "rows": [
        [
         "0",
         "8930",
         "Sid Meier's Civilization V",
         "8693",
         "8690",
         "3",
         "0.9989857423794076"
        ],
        [
         "1",
         "6060",
         "Star Wars: Battlefront 2 (Classic, 2005)",
         "2976",
         "2976",
         "0",
         "0.9987108039568277"
        ],
        [
         "2",
         "220",
         "Half-Life 2",
         "6483",
         "6480",
         "3",
         "0.9986402220700216"
        ],
        [
         "3",
         "213670",
         "South Park™: The Stick of Truth™",
         "3479",
         "3475",
         "4",
         "0.9970472159397891"
        ],
        [
         "4",
         "200260",
         "Batman: Arkham City GOTY",
         "868",
         "868",
         "0",
         "0.9955936950014773"
        ]
       ],
       "shape": {
        "columns": 6,
        "rows": 5
       }
      },
      "text/html": [
       "<div>\n",
       "<style scoped>\n",
       "    .dataframe tbody tr th:only-of-type {\n",
       "        vertical-align: middle;\n",
       "    }\n",
       "\n",
       "    .dataframe tbody tr th {\n",
       "        vertical-align: top;\n",
       "    }\n",
       "\n",
       "    .dataframe thead th {\n",
       "        text-align: right;\n",
       "    }\n",
       "</style>\n",
       "<table border=\"1\" class=\"dataframe\">\n",
       "  <thead>\n",
       "    <tr style=\"text-align: right;\">\n",
       "      <th></th>\n",
       "      <th>app_id</th>\n",
       "      <th>app_name</th>\n",
       "      <th>total_votes</th>\n",
       "      <th>upvotes</th>\n",
       "      <th>downvotes</th>\n",
       "      <th>wilson_score</th>\n",
       "    </tr>\n",
       "  </thead>\n",
       "  <tbody>\n",
       "    <tr>\n",
       "      <th>0</th>\n",
       "      <td>8930</td>\n",
       "      <td>Sid Meier's Civilization V</td>\n",
       "      <td>8693</td>\n",
       "      <td>8690</td>\n",
       "      <td>3</td>\n",
       "      <td>0.998986</td>\n",
       "    </tr>\n",
       "    <tr>\n",
       "      <th>1</th>\n",
       "      <td>6060</td>\n",
       "      <td>Star Wars: Battlefront 2 (Classic, 2005)</td>\n",
       "      <td>2976</td>\n",
       "      <td>2976</td>\n",
       "      <td>0</td>\n",
       "      <td>0.998711</td>\n",
       "    </tr>\n",
       "    <tr>\n",
       "      <th>2</th>\n",
       "      <td>220</td>\n",
       "      <td>Half-Life 2</td>\n",
       "      <td>6483</td>\n",
       "      <td>6480</td>\n",
       "      <td>3</td>\n",
       "      <td>0.998640</td>\n",
       "    </tr>\n",
       "    <tr>\n",
       "      <th>3</th>\n",
       "      <td>213670</td>\n",
       "      <td>South Park™: The Stick of Truth™</td>\n",
       "      <td>3479</td>\n",
       "      <td>3475</td>\n",
       "      <td>4</td>\n",
       "      <td>0.997047</td>\n",
       "    </tr>\n",
       "    <tr>\n",
       "      <th>4</th>\n",
       "      <td>200260</td>\n",
       "      <td>Batman: Arkham City GOTY</td>\n",
       "      <td>868</td>\n",
       "      <td>868</td>\n",
       "      <td>0</td>\n",
       "      <td>0.995594</td>\n",
       "    </tr>\n",
       "  </tbody>\n",
       "</table>\n",
       "</div>"
      ],
      "text/plain": [
       "   app_id                                  app_name  total_votes  upvotes  \\\n",
       "0    8930                Sid Meier's Civilization V         8693     8690   \n",
       "1    6060  Star Wars: Battlefront 2 (Classic, 2005)         2976     2976   \n",
       "2     220                               Half-Life 2         6483     6480   \n",
       "3  213670          South Park™: The Stick of Truth™         3479     3475   \n",
       "4  200260                  Batman: Arkham City GOTY          868      868   \n",
       "\n",
       "   downvotes  wilson_score  \n",
       "0          3      0.998986  \n",
       "1          0      0.998711  \n",
       "2          3      0.998640  \n",
       "3          4      0.997047  \n",
       "4          0      0.995594  "
      ]
     },
     "execution_count": 78,
     "metadata": {},
     "output_type": "execute_result"
    }
   ],
   "source": [
    "game_stats_sorted.head(5)  # Displaying the first 10 rows of the sorted DataFrame"
   ]
  },
  {
   "cell_type": "markdown",
   "id": "6d19f6ff",
   "metadata": {},
   "source": [
    "Save the final dataframe as JSON file"
   ]
  },
  {
   "cell_type": "code",
   "execution_count": 79,
   "id": "cd9efa2c",
   "metadata": {},
   "outputs": [],
   "source": [
    "# Saving the DataFrame to a JSON file\n",
    "game_stats_sorted.to_json('game_stats_wilson.json', orient='records', lines=True)"
   ]
  },
  {
   "cell_type": "code",
   "execution_count": 81,
   "id": "b90f338f",
   "metadata": {},
   "outputs": [],
   "source": [
    "# Loading the JSON file back into a DataFrame\n",
    "df_wilson = pd.read_json('game_stats_wilson.json', orient='records', lines=True)"
   ]
  },
  {
   "cell_type": "code",
   "execution_count": 82,
   "id": "b7bb7c23",
   "metadata": {},
   "outputs": [
    {
     "data": {
      "application/vnd.microsoft.datawrangler.viewer.v0+json": {
       "columns": [
        {
         "name": "index",
         "rawType": "int64",
         "type": "integer"
        },
        {
         "name": "app_id",
         "rawType": "int64",
         "type": "integer"
        },
        {
         "name": "app_name",
         "rawType": "object",
         "type": "string"
        },
        {
         "name": "total_votes",
         "rawType": "int64",
         "type": "integer"
        },
        {
         "name": "upvotes",
         "rawType": "int64",
         "type": "integer"
        },
        {
         "name": "downvotes",
         "rawType": "int64",
         "type": "integer"
        },
        {
         "name": "wilson_score",
         "rawType": "float64",
         "type": "float"
        }
       ],
       "conversionMethod": "pd.DataFrame",
       "ref": "4865e84e-39ab-48ee-ab3d-22626eda5943",
       "rows": [
        [
         "0",
         "8930",
         "Sid Meier's Civilization V",
         "8693",
         "8690",
         "3",
         "0.9989857424"
        ],
        [
         "1",
         "6060",
         "Star Wars: Battlefront 2 (Classic, 2005)",
         "2976",
         "2976",
         "0",
         "0.998710804"
        ],
        [
         "2",
         "220",
         "Half-Life 2",
         "6483",
         "6480",
         "3",
         "0.9986402221"
        ],
        [
         "3",
         "213670",
         "South Park™: The Stick of Truth™",
         "3479",
         "3475",
         "4",
         "0.9970472159"
        ],
        [
         "4",
         "200260",
         "Batman: Arkham City GOTY",
         "868",
         "868",
         "0",
         "0.9955936950000001"
        ],
        [
         "5",
         "339800",
         "HuniePop",
         "2831",
         "2825",
         "6",
         "0.9953834959000001"
        ],
        [
         "6",
         "235460",
         "METAL GEAR RISING: REVENGEANCE",
         "1196",
         "1195",
         "1",
         "0.9952789646"
        ],
        [
         "7",
         "431240",
         "Golf With Your Friends",
         "520",
         "520",
         "0",
         "0.9926664854"
        ],
        [
         "8",
         "257510",
         "The Talos Principle",
         "1024",
         "1020",
         "4",
         "0.9899992152"
        ],
        [
         "9",
         "411960",
         "TY the Tasmanian Tiger",
         "957",
         "953",
         "4",
         "0.9893023569"
        ]
       ],
       "shape": {
        "columns": 6,
        "rows": 10
       }
      },
      "text/html": [
       "<div>\n",
       "<style scoped>\n",
       "    .dataframe tbody tr th:only-of-type {\n",
       "        vertical-align: middle;\n",
       "    }\n",
       "\n",
       "    .dataframe tbody tr th {\n",
       "        vertical-align: top;\n",
       "    }\n",
       "\n",
       "    .dataframe thead th {\n",
       "        text-align: right;\n",
       "    }\n",
       "</style>\n",
       "<table border=\"1\" class=\"dataframe\">\n",
       "  <thead>\n",
       "    <tr style=\"text-align: right;\">\n",
       "      <th></th>\n",
       "      <th>app_id</th>\n",
       "      <th>app_name</th>\n",
       "      <th>total_votes</th>\n",
       "      <th>upvotes</th>\n",
       "      <th>downvotes</th>\n",
       "      <th>wilson_score</th>\n",
       "    </tr>\n",
       "  </thead>\n",
       "  <tbody>\n",
       "    <tr>\n",
       "      <th>0</th>\n",
       "      <td>8930</td>\n",
       "      <td>Sid Meier's Civilization V</td>\n",
       "      <td>8693</td>\n",
       "      <td>8690</td>\n",
       "      <td>3</td>\n",
       "      <td>0.998986</td>\n",
       "    </tr>\n",
       "    <tr>\n",
       "      <th>1</th>\n",
       "      <td>6060</td>\n",
       "      <td>Star Wars: Battlefront 2 (Classic, 2005)</td>\n",
       "      <td>2976</td>\n",
       "      <td>2976</td>\n",
       "      <td>0</td>\n",
       "      <td>0.998711</td>\n",
       "    </tr>\n",
       "    <tr>\n",
       "      <th>2</th>\n",
       "      <td>220</td>\n",
       "      <td>Half-Life 2</td>\n",
       "      <td>6483</td>\n",
       "      <td>6480</td>\n",
       "      <td>3</td>\n",
       "      <td>0.998640</td>\n",
       "    </tr>\n",
       "    <tr>\n",
       "      <th>3</th>\n",
       "      <td>213670</td>\n",
       "      <td>South Park™: The Stick of Truth™</td>\n",
       "      <td>3479</td>\n",
       "      <td>3475</td>\n",
       "      <td>4</td>\n",
       "      <td>0.997047</td>\n",
       "    </tr>\n",
       "    <tr>\n",
       "      <th>4</th>\n",
       "      <td>200260</td>\n",
       "      <td>Batman: Arkham City GOTY</td>\n",
       "      <td>868</td>\n",
       "      <td>868</td>\n",
       "      <td>0</td>\n",
       "      <td>0.995594</td>\n",
       "    </tr>\n",
       "    <tr>\n",
       "      <th>5</th>\n",
       "      <td>339800</td>\n",
       "      <td>HuniePop</td>\n",
       "      <td>2831</td>\n",
       "      <td>2825</td>\n",
       "      <td>6</td>\n",
       "      <td>0.995383</td>\n",
       "    </tr>\n",
       "    <tr>\n",
       "      <th>6</th>\n",
       "      <td>235460</td>\n",
       "      <td>METAL GEAR RISING: REVENGEANCE</td>\n",
       "      <td>1196</td>\n",
       "      <td>1195</td>\n",
       "      <td>1</td>\n",
       "      <td>0.995279</td>\n",
       "    </tr>\n",
       "    <tr>\n",
       "      <th>7</th>\n",
       "      <td>431240</td>\n",
       "      <td>Golf With Your Friends</td>\n",
       "      <td>520</td>\n",
       "      <td>520</td>\n",
       "      <td>0</td>\n",
       "      <td>0.992666</td>\n",
       "    </tr>\n",
       "    <tr>\n",
       "      <th>8</th>\n",
       "      <td>257510</td>\n",
       "      <td>The Talos Principle</td>\n",
       "      <td>1024</td>\n",
       "      <td>1020</td>\n",
       "      <td>4</td>\n",
       "      <td>0.989999</td>\n",
       "    </tr>\n",
       "    <tr>\n",
       "      <th>9</th>\n",
       "      <td>411960</td>\n",
       "      <td>TY the Tasmanian Tiger</td>\n",
       "      <td>957</td>\n",
       "      <td>953</td>\n",
       "      <td>4</td>\n",
       "      <td>0.989302</td>\n",
       "    </tr>\n",
       "  </tbody>\n",
       "</table>\n",
       "</div>"
      ],
      "text/plain": [
       "   app_id                                  app_name  total_votes  upvotes  \\\n",
       "0    8930                Sid Meier's Civilization V         8693     8690   \n",
       "1    6060  Star Wars: Battlefront 2 (Classic, 2005)         2976     2976   \n",
       "2     220                               Half-Life 2         6483     6480   \n",
       "3  213670          South Park™: The Stick of Truth™         3479     3475   \n",
       "4  200260                  Batman: Arkham City GOTY          868      868   \n",
       "5  339800                                  HuniePop         2831     2825   \n",
       "6  235460            METAL GEAR RISING: REVENGEANCE         1196     1195   \n",
       "7  431240                    Golf With Your Friends          520      520   \n",
       "8  257510                       The Talos Principle         1024     1020   \n",
       "9  411960                    TY the Tasmanian Tiger          957      953   \n",
       "\n",
       "   downvotes  wilson_score  \n",
       "0          3      0.998986  \n",
       "1          0      0.998711  \n",
       "2          3      0.998640  \n",
       "3          4      0.997047  \n",
       "4          0      0.995594  \n",
       "5          6      0.995383  \n",
       "6          1      0.995279  \n",
       "7          0      0.992666  \n",
       "8          4      0.989999  \n",
       "9          4      0.989302  "
      ]
     },
     "execution_count": 82,
     "metadata": {},
     "output_type": "execute_result"
    }
   ],
   "source": [
    "df_wilson.head(10)"
   ]
  }
 ],
 "metadata": {
  "kernelspec": {
   "display_name": "base",
   "language": "python",
   "name": "python3"
  },
  "language_info": {
   "codemirror_mode": {
    "name": "ipython",
    "version": 3
   },
   "file_extension": ".py",
   "mimetype": "text/x-python",
   "name": "python",
   "nbconvert_exporter": "python",
   "pygments_lexer": "ipython3",
   "version": "3.12.7"
  }
 },
 "nbformat": 4,
 "nbformat_minor": 5
}
