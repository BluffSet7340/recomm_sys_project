{
 "cells": [
  {
   "cell_type": "markdown",
   "id": "ccf45c15",
   "metadata": {},
   "source": [
    "# Imports"
   ]
  },
  {
   "cell_type": "code",
   "execution_count": 3,
   "id": "0f8912da",
   "metadata": {},
   "outputs": [
    {
     "name": "stdout",
     "output_type": "stream",
     "text": [
      "Defaulting to user installation because normal site-packages is not writeable\n",
      "Collecting pandas\n",
      "  Using cached pandas-2.2.3-cp313-cp313-win_amd64.whl.metadata (19 kB)\n",
      "Collecting numpy\n",
      "  Using cached numpy-2.2.5-cp313-cp313-win_amd64.whl.metadata (60 kB)\n",
      "Collecting matplotlib\n",
      "  Using cached matplotlib-3.10.1-cp313-cp313-win_amd64.whl.metadata (11 kB)\n",
      "Collecting seaborn\n",
      "  Using cached seaborn-0.13.2-py3-none-any.whl.metadata (5.4 kB)\n",
      "Collecting tqdm\n",
      "  Using cached tqdm-4.67.1-py3-none-any.whl.metadata (57 kB)\n",
      "Requirement already satisfied: python-dateutil>=2.8.2 in c:\\users\\admin\\appdata\\local\\packages\\pythonsoftwarefoundation.python.3.13_qbz5n2kfra8p0\\localcache\\local-packages\\python313\\site-packages (from pandas) (2.9.0.post0)\n",
      "Collecting pytz>=2020.1 (from pandas)\n",
      "  Using cached pytz-2025.2-py2.py3-none-any.whl.metadata (22 kB)\n",
      "Collecting tzdata>=2022.7 (from pandas)\n",
      "  Using cached tzdata-2025.2-py2.py3-none-any.whl.metadata (1.4 kB)\n",
      "Collecting contourpy>=1.0.1 (from matplotlib)\n",
      "  Using cached contourpy-1.3.2-cp313-cp313-win_amd64.whl.metadata (5.5 kB)\n",
      "Collecting cycler>=0.10 (from matplotlib)\n",
      "  Using cached cycler-0.12.1-py3-none-any.whl.metadata (3.8 kB)\n",
      "Collecting fonttools>=4.22.0 (from matplotlib)\n",
      "  Using cached fonttools-4.57.0-cp313-cp313-win_amd64.whl.metadata (104 kB)\n",
      "Collecting kiwisolver>=1.3.1 (from matplotlib)\n",
      "  Using cached kiwisolver-1.4.8-cp313-cp313-win_amd64.whl.metadata (6.3 kB)\n",
      "Requirement already satisfied: packaging>=20.0 in c:\\users\\admin\\appdata\\local\\packages\\pythonsoftwarefoundation.python.3.13_qbz5n2kfra8p0\\localcache\\local-packages\\python313\\site-packages (from matplotlib) (25.0)\n",
      "Collecting pillow>=8 (from matplotlib)\n",
      "  Using cached pillow-11.2.1-cp313-cp313-win_amd64.whl.metadata (9.1 kB)\n",
      "Collecting pyparsing>=2.3.1 (from matplotlib)\n",
      "  Using cached pyparsing-3.2.3-py3-none-any.whl.metadata (5.0 kB)\n",
      "Requirement already satisfied: colorama in c:\\users\\admin\\appdata\\local\\packages\\pythonsoftwarefoundation.python.3.13_qbz5n2kfra8p0\\localcache\\local-packages\\python313\\site-packages (from tqdm) (0.4.6)\n",
      "Requirement already satisfied: six>=1.5 in c:\\users\\admin\\appdata\\local\\packages\\pythonsoftwarefoundation.python.3.13_qbz5n2kfra8p0\\localcache\\local-packages\\python313\\site-packages (from python-dateutil>=2.8.2->pandas) (1.17.0)\n",
      "Downloading pandas-2.2.3-cp313-cp313-win_amd64.whl (11.5 MB)\n",
      "   ---------------------------------------- 0.0/11.5 MB ? eta -:--:--\n",
      "    --------------------------------------- 0.3/11.5 MB ? eta -:--:--\n",
      "   -- ------------------------------------- 0.8/11.5 MB 2.7 MB/s eta 0:00:04\n",
      "   ----- ---------------------------------- 1.6/11.5 MB 2.9 MB/s eta 0:00:04\n",
      "   ------- -------------------------------- 2.1/11.5 MB 3.3 MB/s eta 0:00:03\n",
      "   ---------- ----------------------------- 2.9/11.5 MB 3.2 MB/s eta 0:00:03\n",
      "   ----------- ---------------------------- 3.4/11.5 MB 3.1 MB/s eta 0:00:03\n",
      "   --------------- ------------------------ 4.5/11.5 MB 3.4 MB/s eta 0:00:03\n",
      "   -------------------- ------------------- 5.8/11.5 MB 3.7 MB/s eta 0:00:02\n",
      "   ------------------------ --------------- 7.1/11.5 MB 4.1 MB/s eta 0:00:02\n",
      "   ------------------------------ --------- 8.7/11.5 MB 4.4 MB/s eta 0:00:01\n",
      "   ----------------------------------- ---- 10.2/11.5 MB 4.7 MB/s eta 0:00:01\n",
      "   ---------------------------------------  11.3/11.5 MB 4.8 MB/s eta 0:00:01\n",
      "   ---------------------------------------  11.3/11.5 MB 4.8 MB/s eta 0:00:01\n",
      "   ---------------------------------------- 11.5/11.5 MB 4.2 MB/s eta 0:00:00\n",
      "Using cached numpy-2.2.5-cp313-cp313-win_amd64.whl (12.6 MB)\n",
      "Using cached matplotlib-3.10.1-cp313-cp313-win_amd64.whl (8.1 MB)\n",
      "Using cached seaborn-0.13.2-py3-none-any.whl (294 kB)\n",
      "Using cached tqdm-4.67.1-py3-none-any.whl (78 kB)\n",
      "Using cached contourpy-1.3.2-cp313-cp313-win_amd64.whl (223 kB)\n",
      "Using cached cycler-0.12.1-py3-none-any.whl (8.3 kB)\n",
      "Using cached fonttools-4.57.0-cp313-cp313-win_amd64.whl (2.2 MB)\n",
      "Using cached kiwisolver-1.4.8-cp313-cp313-win_amd64.whl (71 kB)\n",
      "Using cached pillow-11.2.1-cp313-cp313-win_amd64.whl (2.7 MB)\n",
      "Downloading pyparsing-3.2.3-py3-none-any.whl (111 kB)\n",
      "Downloading pytz-2025.2-py2.py3-none-any.whl (509 kB)\n",
      "Downloading tzdata-2025.2-py2.py3-none-any.whl (347 kB)\n",
      "Installing collected packages: pytz, tzdata, tqdm, pyparsing, pillow, numpy, kiwisolver, fonttools, cycler, pandas, contourpy, matplotlib, seaborn\n",
      "Note: you may need to restart the kernel to use updated packages.\n"
     ]
    },
    {
     "name": "stderr",
     "output_type": "stream",
     "text": [
      "ERROR: Could not install packages due to an OSError: [WinError 32] The process cannot access the file because it is being used by another process: 'C:\\\\Users\\\\Admin\\\\AppData\\\\Local\\\\Packages\\\\PythonSoftwareFoundation.Python.3.13_qbz5n2kfra8p0\\\\LocalCache\\\\local-packages\\\\Python313\\\\site-packages\\\\pytz\\\\zoneinfo\\\\America\\\\North_Dakota\\\\Beulah'\n",
      "Check the permissions.\n",
      "\n"
     ]
    }
   ],
   "source": [
    "%pip install pandas numpy matplotlib seaborn tqdm"
   ]
  },
  {
   "cell_type": "code",
   "execution_count": 4,
   "id": "1c7588ce",
   "metadata": {},
   "outputs": [],
   "source": [
    "import pandas as pd\n",
    "import numpy as np\n",
    "import matplotlib.pyplot as plt\n",
    "import seaborn as sns\n",
    "import os\n",
    "import math\n",
    "from collections import defaultdict\n",
    "from tqdm import tqdm\n",
    "import json"
   ]
  },
  {
   "cell_type": "markdown",
   "id": "8fb81d30",
   "metadata": {},
   "source": [
    "# Load Data"
   ]
  },
  {
   "cell_type": "code",
   "execution_count": 5,
   "id": "33c1cc3d",
   "metadata": {},
   "outputs": [
    {
     "name": "stderr",
     "output_type": "stream",
     "text": [
      "C:\\Users\\Admin\\AppData\\Local\\Temp\\ipykernel_15232\\972847953.py:3: DtypeWarning: Columns (23) have mixed types. Specify dtype option on import or set low_memory=False.\n",
      "  df = pd.read_csv('../dataset/weighted_score_above_08.csv')\n"
     ]
    },
    {
     "data": {
      "text/html": [
       "<div>\n",
       "<style scoped>\n",
       "    .dataframe tbody tr th:only-of-type {\n",
       "        vertical-align: middle;\n",
       "    }\n",
       "\n",
       "    .dataframe tbody tr th {\n",
       "        vertical-align: top;\n",
       "    }\n",
       "\n",
       "    .dataframe thead th {\n",
       "        text-align: right;\n",
       "    }\n",
       "</style>\n",
       "<table border=\"1\" class=\"dataframe\">\n",
       "  <thead>\n",
       "    <tr style=\"text-align: right;\">\n",
       "      <th></th>\n",
       "      <th>recommendationid</th>\n",
       "      <th>appid</th>\n",
       "      <th>game</th>\n",
       "      <th>author_steamid</th>\n",
       "      <th>author_num_games_owned</th>\n",
       "      <th>author_num_reviews</th>\n",
       "      <th>author_playtime_forever</th>\n",
       "      <th>author_playtime_last_two_weeks</th>\n",
       "      <th>author_playtime_at_review</th>\n",
       "      <th>author_last_played</th>\n",
       "      <th>...</th>\n",
       "      <th>voted_up</th>\n",
       "      <th>votes_up</th>\n",
       "      <th>votes_funny</th>\n",
       "      <th>weighted_vote_score</th>\n",
       "      <th>comment_count</th>\n",
       "      <th>steam_purchase</th>\n",
       "      <th>received_for_free</th>\n",
       "      <th>written_during_early_access</th>\n",
       "      <th>hidden_in_steam_china</th>\n",
       "      <th>steam_china_location</th>\n",
       "    </tr>\n",
       "  </thead>\n",
       "  <tbody>\n",
       "    <tr>\n",
       "      <th>0</th>\n",
       "      <td>147449116</td>\n",
       "      <td>10</td>\n",
       "      <td>Counter-Strike</td>\n",
       "      <td>76561199183984450</td>\n",
       "      <td>51</td>\n",
       "      <td>12</td>\n",
       "      <td>2548</td>\n",
       "      <td>0</td>\n",
       "      <td>2480</td>\n",
       "      <td>1696305457</td>\n",
       "      <td>...</td>\n",
       "      <td>1</td>\n",
       "      <td>99</td>\n",
       "      <td>2</td>\n",
       "      <td>0.889438</td>\n",
       "      <td>0</td>\n",
       "      <td>1</td>\n",
       "      <td>0</td>\n",
       "      <td>0</td>\n",
       "      <td>1</td>\n",
       "      <td>NaN</td>\n",
       "    </tr>\n",
       "    <tr>\n",
       "      <th>1</th>\n",
       "      <td>147374264</td>\n",
       "      <td>10</td>\n",
       "      <td>Counter-Strike</td>\n",
       "      <td>76561198099573060</td>\n",
       "      <td>226</td>\n",
       "      <td>13</td>\n",
       "      <td>2369</td>\n",
       "      <td>0</td>\n",
       "      <td>2361</td>\n",
       "      <td>1696096555</td>\n",
       "      <td>...</td>\n",
       "      <td>1</td>\n",
       "      <td>122</td>\n",
       "      <td>8</td>\n",
       "      <td>0.914834</td>\n",
       "      <td>0</td>\n",
       "      <td>1</td>\n",
       "      <td>0</td>\n",
       "      <td>0</td>\n",
       "      <td>1</td>\n",
       "      <td>NaN</td>\n",
       "    </tr>\n",
       "    <tr>\n",
       "      <th>2</th>\n",
       "      <td>147357703</td>\n",
       "      <td>10</td>\n",
       "      <td>Counter-Strike</td>\n",
       "      <td>76561199080026894</td>\n",
       "      <td>118</td>\n",
       "      <td>23</td>\n",
       "      <td>13501</td>\n",
       "      <td>212</td>\n",
       "      <td>12957</td>\n",
       "      <td>1697630734</td>\n",
       "      <td>...</td>\n",
       "      <td>1</td>\n",
       "      <td>599</td>\n",
       "      <td>20</td>\n",
       "      <td>0.968375</td>\n",
       "      <td>3</td>\n",
       "      <td>1</td>\n",
       "      <td>0</td>\n",
       "      <td>0</td>\n",
       "      <td>1</td>\n",
       "      <td>NaN</td>\n",
       "    </tr>\n",
       "    <tr>\n",
       "      <th>3</th>\n",
       "      <td>147345102</td>\n",
       "      <td>10</td>\n",
       "      <td>Counter-Strike</td>\n",
       "      <td>76561198068970227</td>\n",
       "      <td>28</td>\n",
       "      <td>1</td>\n",
       "      <td>10668</td>\n",
       "      <td>640</td>\n",
       "      <td>9906</td>\n",
       "      <td>1698261011</td>\n",
       "      <td>...</td>\n",
       "      <td>1</td>\n",
       "      <td>59</td>\n",
       "      <td>12</td>\n",
       "      <td>0.826206</td>\n",
       "      <td>0</td>\n",
       "      <td>0</td>\n",
       "      <td>0</td>\n",
       "      <td>0</td>\n",
       "      <td>1</td>\n",
       "      <td>NaN</td>\n",
       "    </tr>\n",
       "    <tr>\n",
       "      <th>4</th>\n",
       "      <td>147284743</td>\n",
       "      <td>10</td>\n",
       "      <td>Counter-Strike</td>\n",
       "      <td>76561199137893460</td>\n",
       "      <td>19</td>\n",
       "      <td>5</td>\n",
       "      <td>543</td>\n",
       "      <td>10</td>\n",
       "      <td>526</td>\n",
       "      <td>1697810991</td>\n",
       "      <td>...</td>\n",
       "      <td>1</td>\n",
       "      <td>128</td>\n",
       "      <td>24</td>\n",
       "      <td>0.853612</td>\n",
       "      <td>0</td>\n",
       "      <td>1</td>\n",
       "      <td>0</td>\n",
       "      <td>0</td>\n",
       "      <td>1</td>\n",
       "      <td>NaN</td>\n",
       "    </tr>\n",
       "  </tbody>\n",
       "</table>\n",
       "<p>5 rows × 24 columns</p>\n",
       "</div>"
      ],
      "text/plain": [
       "   recommendationid  appid            game     author_steamid  \\\n",
       "0         147449116     10  Counter-Strike  76561199183984450   \n",
       "1         147374264     10  Counter-Strike  76561198099573060   \n",
       "2         147357703     10  Counter-Strike  76561199080026894   \n",
       "3         147345102     10  Counter-Strike  76561198068970227   \n",
       "4         147284743     10  Counter-Strike  76561199137893460   \n",
       "\n",
       "   author_num_games_owned  author_num_reviews  author_playtime_forever  \\\n",
       "0                      51                  12                     2548   \n",
       "1                     226                  13                     2369   \n",
       "2                     118                  23                    13501   \n",
       "3                      28                   1                    10668   \n",
       "4                      19                   5                      543   \n",
       "\n",
       "   author_playtime_last_two_weeks  author_playtime_at_review  \\\n",
       "0                               0                       2480   \n",
       "1                               0                       2361   \n",
       "2                             212                      12957   \n",
       "3                             640                       9906   \n",
       "4                              10                        526   \n",
       "\n",
       "   author_last_played  ... voted_up votes_up  votes_funny  \\\n",
       "0          1696305457  ...        1       99            2   \n",
       "1          1696096555  ...        1      122            8   \n",
       "2          1697630734  ...        1      599           20   \n",
       "3          1698261011  ...        1       59           12   \n",
       "4          1697810991  ...        1      128           24   \n",
       "\n",
       "   weighted_vote_score  comment_count  steam_purchase  received_for_free  \\\n",
       "0             0.889438              0               1                  0   \n",
       "1             0.914834              0               1                  0   \n",
       "2             0.968375              3               1                  0   \n",
       "3             0.826206              0               0                  0   \n",
       "4             0.853612              0               1                  0   \n",
       "\n",
       "   written_during_early_access  hidden_in_steam_china  steam_china_location  \n",
       "0                            0                      1                   NaN  \n",
       "1                            0                      1                   NaN  \n",
       "2                            0                      1                   NaN  \n",
       "3                            0                      1                   NaN  \n",
       "4                            0                      1                   NaN  \n",
       "\n",
       "[5 rows x 24 columns]"
      ]
     },
     "execution_count": 5,
     "metadata": {},
     "output_type": "execute_result"
    }
   ],
   "source": [
    "import pandas as pd\n",
    "\n",
    "df = pd.read_csv('../dataset/weighted_score_above_08.csv')\n",
    "\n",
    "df.head()"
   ]
  },
  {
   "cell_type": "code",
   "execution_count": 7,
   "id": "4ff0f23e",
   "metadata": {},
   "outputs": [],
   "source": [
    "with open('../saeed/combined_df.json', 'r') as f:\n",
    "    sample_data = [json.loads(line) for line in f]"
   ]
  },
  {
   "cell_type": "code",
   "execution_count": 8,
   "id": "115c93f8",
   "metadata": {},
   "outputs": [],
   "source": [
    "# Extract valid appids from the sample file\n",
    "valid_appids = {entry['appid'] for entry in sample_data}\n",
    "\n",
    "# Filter df based on appids in the sample\n",
    "df = df[df['appid'].isin(valid_appids)]\n",
    "\n",
    "# Continue processing\n",
    "df_games = df[['appid', 'game']]\n",
    "df_games = df_games.drop_duplicates(subset='appid')\n",
    "\n",
    "appid2game = df_games.set_index('appid')['game'].to_dict()\n",
    "game2appid = df_games.set_index('game')['appid'].to_dict()\n",
    "\n",
    "del df_games\n",
    "\n",
    "df = df[['appid', 'author_steamid', 'voted_up']]"
   ]
  },
  {
   "cell_type": "code",
   "execution_count": 9,
   "id": "6caff5a8",
   "metadata": {},
   "outputs": [],
   "source": [
    "appid_to_genres = {entry['appid']: entry['genre'] for entry in sample_data}"
   ]
  },
  {
   "cell_type": "markdown",
   "id": "1b62100b",
   "metadata": {},
   "source": [
    "# Model Experiments"
   ]
  },
  {
   "cell_type": "code",
   "execution_count": 10,
   "id": "2023667e",
   "metadata": {},
   "outputs": [
    {
     "data": {
      "text/plain": [
       "Index(['appid', 'author_steamid', 'voted_up'], dtype='object')"
      ]
     },
     "execution_count": 10,
     "metadata": {},
     "output_type": "execute_result"
    }
   ],
   "source": [
    "df.columns"
   ]
  },
  {
   "cell_type": "markdown",
   "id": "636537da",
   "metadata": {},
   "source": [
    "## Non-Personalized Recommendations\n",
    "This section implements methods for non-personalized recommendations, including weighted scoring, average rating, and Bayesian scoring."
   ]
  },
  {
   "cell_type": "code",
   "execution_count": 11,
   "id": "112daa58",
   "metadata": {},
   "outputs": [
    {
     "data": {
      "text/plain": [
       "appid\n",
       "2608590    1.0\n",
       "10         1.0\n",
       "2607350    1.0\n",
       "30         1.0\n",
       "2599300    1.0\n",
       "Name: voted_up, dtype: float64"
      ]
     },
     "execution_count": 11,
     "metadata": {},
     "output_type": "execute_result"
    }
   ],
   "source": [
    "# Calculate average rating for each appid\n",
    "average_ratings = df.groupby('appid')['voted_up'].mean()\n",
    "average_ratings = average_ratings.sort_values(ascending=False)\n",
    "\n",
    "average_ratings.head()"
   ]
  },
  {
   "cell_type": "code",
   "execution_count": 12,
   "id": "6c489966",
   "metadata": {},
   "outputs": [
    {
     "data": {
      "text/plain": [
       "appid\n",
       "413150    0.993778\n",
       "550       0.992418\n",
       "264710    0.991809\n",
       "294100    0.991564\n",
       "4000      0.990450\n",
       "Name: voted_up, dtype: float64"
      ]
     },
     "execution_count": 12,
     "metadata": {},
     "output_type": "execute_result"
    }
   ],
   "source": [
    "# Weighted scoring: consider both average rating and number of votes\n",
    "vote_counts = df.groupby('appid')['voted_up'].count()\n",
    "weighted_scores = (average_ratings * vote_counts) / (vote_counts + 10)\n",
    "weighted_scores = weighted_scores.sort_values(ascending=False)\n",
    "\n",
    "weighted_scores.head()"
   ]
  },
  {
   "cell_type": "code",
   "execution_count": 13,
   "id": "d077bbb4",
   "metadata": {},
   "outputs": [
    {
     "data": {
      "text/plain": [
       "appid\n",
       "550       0.998820\n",
       "644560    0.998336\n",
       "264710    0.998097\n",
       "294100    0.998040\n",
       "48700     0.997774\n",
       "Name: voted_up, dtype: float64"
      ]
     },
     "execution_count": 13,
     "metadata": {},
     "output_type": "execute_result"
    }
   ],
   "source": [
    "# Bayesian scoring: incorporate prior knowledge\n",
    "C = df['voted_up'].mean()  # Global average\n",
    "m = 10  # Minimum votes required to consider\n",
    "\n",
    "bayesian_scores = (vote_counts * average_ratings + m * C) / (vote_counts + m)\n",
    "bayesian_scores = bayesian_scores.sort_values(ascending=False)\n",
    "\n",
    "bayesian_scores.head()"
   ]
  },
  {
   "cell_type": "markdown",
   "id": "7274b289",
   "metadata": {},
   "source": []
  },
  {
   "cell_type": "code",
   "execution_count": 14,
   "id": "68291308",
   "metadata": {},
   "outputs": [
    {
     "name": "stdout",
     "output_type": "stream",
     "text": [
      "Top 5 games by average rating: ['Astrea Official Artbook', 'Counter-Strike', 'VPet - PCat', 'Day of Defeat', 'Dead Signal']\n"
     ]
    }
   ],
   "source": [
    "# Recommend top 5 games based on average rating\n",
    "top_average_rating = average_ratings.head(5).index\n",
    "recommended_games_avg = [appid2game[appid] for appid in top_average_rating]\n",
    "\n",
    "print('Top 5 games by average rating:', recommended_games_avg)"
   ]
  },
  {
   "cell_type": "code",
   "execution_count": 15,
   "id": "a653af64",
   "metadata": {},
   "outputs": [
    {
     "name": "stdout",
     "output_type": "stream",
     "text": [
      "Top 5 games by weighted scoring: ['Stardew Valley', 'Left 4 Dead 2', 'Subnautica', 'RimWorld', \"Garry's Mod\"]\n"
     ]
    }
   ],
   "source": [
    "# Recommend top 5 games based on weighted scoring\n",
    "top_weighted_scores = weighted_scores.head(5).index\n",
    "recommended_games_weighted = [appid2game[appid] for appid in top_weighted_scores]\n",
    "\n",
    "print('Top 5 games by weighted scoring:', recommended_games_weighted)"
   ]
  },
  {
   "cell_type": "code",
   "execution_count": 16,
   "id": "ca55773d",
   "metadata": {},
   "outputs": [
    {
     "name": "stdout",
     "output_type": "stream",
     "text": [
      "Top 5 games by Bayesian scoring: ['Left 4 Dead 2', 'Mirror', 'Subnautica', 'RimWorld', 'Mount & Blade: Warband']\n"
     ]
    }
   ],
   "source": [
    "# Recommend top 5 games based on Bayesian scoring\n",
    "top_bayesian_scores = bayesian_scores.head(5).index\n",
    "recommended_games_bayesian = [appid2game[appid] for appid in top_bayesian_scores]\n",
    "\n",
    "print('Top 5 games by Bayesian scoring:', recommended_games_bayesian)"
   ]
  },
  {
   "cell_type": "markdown",
   "id": "b107c56f",
   "metadata": {},
   "source": [
    "## Evaluating Recommendation Performance\n",
    "This section evaluates the performance of the recommendations using precision, recall, and F1-score."
   ]
  },
  {
   "cell_type": "code",
   "execution_count": 17,
   "id": "262e2876",
   "metadata": {},
   "outputs": [
    {
     "name": "stdout",
     "output_type": "stream",
     "text": [
      "Average Rating - Precision: 0.00, Recall: 0.00, F1-Score: 0.00\n",
      "Weighted Scoring - Precision: 0.40, Recall: 0.20, F1-Score: 0.27\n",
      "Bayesian Scoring - Precision: 0.00, Recall: 0.00, F1-Score: 0.00\n"
     ]
    }
   ],
   "source": [
    "# Define a ground truth for evaluation (e.g., top-rated games by users)\n",
    "ground_truth = set(df[df['voted_up'] == 1]['appid'].value_counts().head(10).index)\n",
    "\n",
    "# Helper function to calculate precision, recall, and F1-score\n",
    "def evaluate_recommendations(recommended, ground_truth):\n",
    "    recommended_set = set(recommended)\n",
    "    true_positives = len(recommended_set & ground_truth)\n",
    "    precision = true_positives / len(recommended_set) if recommended_set else 0\n",
    "    recall = true_positives / len(ground_truth) if ground_truth else 0\n",
    "    f1_score = (2 * precision * recall) / (precision + recall) if (precision + recall) > 0 else 0\n",
    "    return precision, recall, f1_score\n",
    "\n",
    "# Evaluate average rating recommendations\n",
    "precision_avg, recall_avg, f1_avg = evaluate_recommendations(top_average_rating, ground_truth)\n",
    "print(f'Average Rating - Precision: {precision_avg:.2f}, Recall: {recall_avg:.2f}, F1-Score: {f1_avg:.2f}')\n",
    "\n",
    "# Evaluate weighted scoring recommendations\n",
    "precision_weighted, recall_weighted, f1_weighted = evaluate_recommendations(top_weighted_scores, ground_truth)\n",
    "print(f'Weighted Scoring - Precision: {precision_weighted:.2f}, Recall: {recall_weighted:.2f}, F1-Score: {f1_weighted:.2f}')\n",
    "\n",
    "# Evaluate Bayesian scoring recommendations\n",
    "precision_bayesian, recall_bayesian, f1_bayesian = evaluate_recommendations(top_bayesian_scores, ground_truth)\n",
    "print(f'Bayesian Scoring - Precision: {precision_bayesian:.2f}, Recall: {recall_bayesian:.2f}, F1-Score: {f1_bayesian:.2f}')"
   ]
  }
 ],
 "metadata": {
  "kernelspec": {
   "display_name": "Python 3",
   "language": "python",
   "name": "python3"
  },
  "language_info": {
   "codemirror_mode": {
    "name": "ipython",
    "version": 3
   },
   "file_extension": ".py",
   "mimetype": "text/x-python",
   "name": "python",
   "nbconvert_exporter": "python",
   "pygments_lexer": "ipython3",
   "version": "3.13.3"
  }
 },
 "nbformat": 4,
 "nbformat_minor": 5
}
